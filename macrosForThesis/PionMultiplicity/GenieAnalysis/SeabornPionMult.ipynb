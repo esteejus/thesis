{
 "cells": [
  {
   "cell_type": "code",
   "execution_count": 46,
   "metadata": {},
   "outputs": [],
   "source": [
    "import seaborn as sns; sns.set()\n",
    "import matplotlib.pyplot as plt\n",
    "import pandas as pd\n",
    "import numpy as np"
   ]
  },
  {
   "cell_type": "code",
   "execution_count": 92,
   "metadata": {},
   "outputs": [
    {
     "name": "stdout",
     "output_type": "stream",
     "text": [
      "        code             code_name     ratio     error   n_z\n",
      "0    AMD+JAM               AMD+JAM  3.310208  0.156050  1.56\n",
      "1     chiBUU  r'$\\chi \\text{BUU}$'  4.398965  0.270760  1.56\n",
      "2      UrQMD                 UrQMD  3.544559  0.168619  1.56\n",
      "3   IQMD-BNU              IQMD-BNU  3.311132  0.360278  1.56\n",
      "4      SMASH                 SMASH  2.861874  0.070249  1.56\n",
      "5      TuQMD                 TuQMD  5.579310  0.206897  1.56\n",
      "6       pBUU                  pBUU  3.685243  0.172102  1.56\n",
      "7       data                  data  4.844380  0.119900  1.56\n",
      "8    AMD+JAM               AMD+JAM  1.689655  0.034483  1.20\n",
      "9     chiBUU           r'$\\chiBUU$  1.971588  0.035874  1.20\n",
      "10     UrQMD                 UrQMD  1.945862  0.081916  1.20\n",
      "11  IQMD-BNU              IQMD-BNU  1.744140  0.078722  1.20\n",
      "12     SMASH                 SMASH  1.530720  0.019032  1.20\n",
      "13     TuQMD                 TuQMD  2.565074  0.053710  1.20\n",
      "14      pBUU                  pBUU  1.854395  0.023986  1.20\n",
      "15      data                  data  1.999300  0.049480  1.20\n",
      "16     UrQMD                 UrQMD  2.494188  0.017789  1.36\n",
      "17     TuQMD                 TuQMD  3.697500  0.126523  1.36\n",
      "18      pBUU                  pBUU  2.565698  0.080665  1.36\n",
      "19      data                  data  3.105700  0.240400  1.36\n",
      "20      data                  data  3.092100  0.070800  1.36\n"
     ]
    }
   ],
   "source": [
    "df = pd.read_csv('Pion_Multiplicity_Theory - pionmult_lineplot.csv')\n",
    "#df = pd.read_csv('Pion_Multiplicity_Theory - Test.csv')\n",
    "print(df)\n",
    "\n"
   ]
  },
  {
   "cell_type": "code",
   "execution_count": null,
   "metadata": {},
   "outputs": [],
   "source": []
  }
 ],
 "metadata": {
  "kernelspec": {
   "display_name": "Python 3",
   "language": "python",
   "name": "python3"
  },
  "language_info": {
   "codemirror_mode": {
    "name": "ipython",
    "version": 3
   },
   "file_extension": ".py",
   "mimetype": "text/x-python",
   "name": "python",
   "nbconvert_exporter": "python",
   "pygments_lexer": "ipython3",
   "version": "3.6.2"
  }
 },
 "nbformat": 4,
 "nbformat_minor": 4
}
