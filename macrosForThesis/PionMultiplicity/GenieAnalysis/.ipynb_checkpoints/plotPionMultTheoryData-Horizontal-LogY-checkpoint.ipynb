{
 "cells": [
  {
   "cell_type": "code",
   "execution_count": 177,
   "metadata": {},
   "outputs": [],
   "source": [
    "import plotly.graph_objects as go\n",
    "from plotly.subplots import make_subplots\n",
    "import pandas as pd\n",
    "import numpy as np\n",
    "from plotly.offline import iplot, init_notebook_mode\n",
    "import matplotlib.pyplot as plt"
   ]
  },
  {
   "cell_type": "code",
   "execution_count": 178,
   "metadata": {},
   "outputs": [],
   "source": [
    "#codes with all L values\n",
    "sn132_theory = pd.read_csv('Pion_Multiplicity_Theory - 132.csv', sep=',')\n",
    "sn108_theory = pd.read_csv('Pion_Multiplicity_Theory - 108.csv', sep=',')\n",
    "sn124_theory = pd.read_csv('Pion_Multiplicity_Theory - 124.csv', sep=',')\n",
    "\n",
    "#codes with only min max L values\n",
    "#sn132_theory = pd.read_csv('Pion_Multiplicity_Theory - Copy of 132.csv', sep=',')\n",
    "#sn108_theory = pd.read_csv('Pion_Multiplicity_Theory - Copy of 108.csv', sep=',')\n",
    "#sn124_theory = pd.read_csv('Pion_Multiplicity_Theory - Copy of 124.csv', sep=',')\n",
    "\n",
    "\n",
    "sn132_theory['ratio'] = sn132_theory['pim']/sn132_theory['pip']\n",
    "sn124_theory['ratio'] = sn124_theory['pim']/sn124_theory['pip']\n",
    "sn108_theory['ratio'] = sn108_theory['pim']/sn108_theory['pip']"
   ]
  },
  {
   "cell_type": "code",
   "execution_count": 179,
   "metadata": {},
   "outputs": [],
   "source": [
    "\n",
    "sn132_theory_min = sn132_theory.reset_index()\n",
    "sn132_theory_min = sn132_theory_min.loc[sn132_theory.groupby('name')['L'].idxmin()]\n",
    "\n",
    "sn132_theory_max = sn132_theory.reset_index()\n",
    "sn132_theory_max = sn132_theory_max.loc[sn132_theory.groupby('name')['L'].idxmax()]\n",
    "\n",
    "\n",
    "sn124_theory_min = sn124_theory.reset_index()\n",
    "sn124_theory_min = sn124_theory_min.loc[sn124_theory.groupby('name')['L'].idxmin()]\n",
    "\n",
    "sn124_theory_max = sn124_theory.reset_index()\n",
    "sn124_theory_max = sn124_theory_max.loc[sn124_theory.groupby('name')['L'].idxmax()]\n",
    "\n",
    "sn108_theory_min = sn108_theory.reset_index()\n",
    "sn108_theory_min = sn108_theory_min.loc[sn108_theory.groupby('name')['L'].idxmin()]\n",
    "\n",
    "sn108_theory_max = sn108_theory.reset_index()\n",
    "sn108_theory_max = sn108_theory_max.loc[sn108_theory.groupby('name')['L'].idxmax()]"
   ]
  },
  {
   "cell_type": "code",
   "execution_count": null,
   "metadata": {},
   "outputs": [],
   "source": []
  },
  {
   "cell_type": "code",
   "execution_count": 180,
   "metadata": {},
   "outputs": [
    {
     "data": {
      "application/vnd.plotly.v1+json": {
       "config": {
        "plotlyServerURL": "https://plot.ly"
       },
       "data": [
        {
         "marker": {
          "color": "lightblue",
          "line": {
           "color": "lightgray"
          }
         },
         "name": "Soft",
         "type": "scatter",
         "x": [
          "AMD+JAM",
          "IQMD-BNU",
          "SMASH",
          "TuQMD",
          "UrQMD",
          "pBUU",
          "r'$\\chi \\text{BUU}$'"
         ],
         "xaxis": "x",
         "y": [
          0.33899999999999997,
          0.541845,
          0.46810799999999997,
          0.779,
          0.479,
          0.697894,
          0.509
         ],
         "yaxis": "y"
        },
        {
         "marker": {
          "color": "lightblue",
          "line": {
           "color": "lightgray"
          }
         },
         "name": "Soft",
         "showlegend": false,
         "type": "scatter",
         "x": [
          "AMD+JAM",
          "IQMD-BNU",
          "SMASH",
          "TuQMD",
          "UrQMD",
          "pBUU",
          "r'$\\chi \\text{BUU}$'"
         ],
         "xaxis": "x2",
         "y": [
          0,
          0,
          0,
          0.579516,
          0.3513,
          0.521315,
          0
         ],
         "yaxis": "y2"
        },
        {
         "marker": {
          "color": "lightblue",
          "line": {
           "color": "lightgray"
          }
         },
         "name": "Soft",
         "showlegend": false,
         "type": "scatter",
         "x": [
          "AMD+JAM",
          "IQMD-BNU",
          "SMASH",
          "TuQMD",
          "UrQMD",
          "pBUU",
          "r'$\\chi \\text{BUU}$'"
         ],
         "xaxis": "x3",
         "y": [
          0.2,
          0.3187,
          0.287452,
          0.442,
          0.292,
          0.40074699999999996,
          0.26899999999999996
         ],
         "yaxis": "y3"
        },
        {
         "marker": {
          "color": "lightpink",
          "line": {
           "color": "lightgray"
          }
         },
         "name": "Stiff",
         "type": "scatter",
         "x": [
          "AMD+JAM",
          "IQMD-BNU",
          "SMASH",
          "TuQMD",
          "UrQMD",
          "pBUU",
          "r'$\\chi \\text{BUU}$'"
         ],
         "xaxis": "x",
         "y": [
          0.311,
          0.45182,
          0.479238,
          0.8390000000000001,
          0.449,
          0.648582,
          0.483
         ],
         "yaxis": "y"
        },
        {
         "marker": {
          "color": "lightpink",
          "line": {
           "color": "lightgray"
          }
         },
         "name": "Stiff",
         "showlegend": false,
         "type": "scatter",
         "x": [
          "AMD+JAM",
          "IQMD-BNU",
          "SMASH",
          "TuQMD",
          "UrQMD",
          "pBUU",
          "r'$\\chi \\text{BUU}$'"
         ],
         "xaxis": "x2",
         "y": [
          0,
          0,
          0,
          0.626352,
          0.34521,
          0.497541,
          0
         ],
         "yaxis": "y2"
        },
        {
         "marker": {
          "color": "lightpink",
          "line": {
           "color": "lightgray"
          }
         },
         "name": "Stiff",
         "showlegend": false,
         "type": "scatter",
         "x": [
          "AMD+JAM",
          "IQMD-BNU",
          "SMASH",
          "TuQMD",
          "UrQMD",
          "pBUU",
          "r'$\\chi \\text{BUU}$'"
         ],
         "xaxis": "x3",
         "y": [
          0.192,
          0.2779,
          0.291527,
          0.474,
          0.27399999999999997,
          0.392341,
          0.271
         ],
         "yaxis": "y3"
        },
        {
         "marker": {
          "color": "lightblue",
          "line": {
           "color": "lightgray"
          }
         },
         "name": "Soft",
         "showlegend": false,
         "type": "scatter",
         "x": [
          "AMD+JAM",
          "IQMD-BNU",
          "SMASH",
          "TuQMD",
          "UrQMD",
          "pBUU",
          "r'$\\chi \\text{BUU}$'"
         ],
         "xaxis": "x4",
         "y": [
          0.0978,
          0.147585,
          0.167683,
          0.145,
          0.129,
          0.180926,
          0.109
         ],
         "yaxis": "y4"
        },
        {
         "marker": {
          "color": "lightblue",
          "line": {
           "color": "lightgray"
          }
         },
         "name": "Soft",
         "showlegend": false,
         "type": "scatter",
         "x": [
          "AMD+JAM",
          "IQMD-BNU",
          "SMASH",
          "TuQMD",
          "UrQMD",
          "pBUU",
          "r'$\\chi \\text{BUU}$'"
         ],
         "xaxis": "x5",
         "y": [
          0,
          0,
          0,
          0.16228499999999998,
          0.13985,
          0.196993,
          0
         ],
         "yaxis": "y5"
        },
        {
         "marker": {
          "color": "lightblue",
          "line": {
           "color": "lightgray"
          }
         },
         "name": "Soft",
         "showlegend": false,
         "type": "scatter",
         "x": [
          "AMD+JAM",
          "IQMD-BNU",
          "SMASH",
          "TuQMD",
          "UrQMD",
          "pBUU",
          "r'$\\chi \\text{BUU}$'"
         ],
         "xaxis": "x6",
         "y": [
          0.11599999999999999,
          0.174835,
          0.190153,
          0.17600000000000002,
          0.14400000000000002,
          0.21334699999999998,
          0.134
         ],
         "yaxis": "y6"
        },
        {
         "marker": {
          "color": "lightpink",
          "line": {
           "color": "lightgray"
          }
         },
         "name": "Stiff",
         "showlegend": false,
         "type": "scatter",
         "x": [
          "AMD+JAM",
          "IQMD-BNU",
          "SMASH",
          "TuQMD",
          "UrQMD",
          "pBUU",
          "r'$\\chi \\text{BUU}$'"
         ],
         "xaxis": "x4",
         "y": [
          0.0986,
          0.153115,
          0.163444,
          0.145,
          0.133,
          0.184616,
          0.11699999999999999
         ],
         "yaxis": "y4"
        },
        {
         "marker": {
          "color": "lightpink",
          "line": {
           "color": "lightgray"
          }
         },
         "name": "Stiff",
         "showlegend": false,
         "type": "scatter",
         "x": [
          "AMD+JAM",
          "IQMD-BNU",
          "SMASH",
          "TuQMD",
          "UrQMD",
          "pBUU",
          "r'$\\chi \\text{BUU}$'"
         ],
         "xaxis": "x5",
         "y": [
          0,
          0,
          0,
          0.163794,
          0.1394,
          0.200215,
          0
         ],
         "yaxis": "y5"
        },
        {
         "marker": {
          "color": "lightpink",
          "line": {
           "color": "lightgray"
          }
         },
         "name": "Stiff",
         "showlegend": false,
         "type": "scatter",
         "x": [
          "AMD+JAM",
          "IQMD-BNU",
          "SMASH",
          "TuQMD",
          "UrQMD",
          "pBUU",
          "r'$\\chi \\text{BUU}$'"
         ],
         "xaxis": "x6",
         "y": [
          0.11599999999999999,
          0.166865,
          0.188112,
          0.18100000000000002,
          0.147,
          0.214346,
          0.14
         ],
         "yaxis": "y6"
        },
        {
         "marker": {
          "color": "lightblue",
          "line": {
           "color": "lightgray"
          }
         },
         "name": "Soft",
         "showlegend": false,
         "type": "scatter",
         "x": [
          "AMD+JAM",
          "IQMD-BNU",
          "SMASH",
          "TuQMD",
          "UrQMD",
          "pBUU",
          "r'$\\chi \\text{BUU}$'"
         ],
         "xaxis": "x7",
         "y": [
          3.466257668711656,
          3.6714096961073284,
          2.791624672745597,
          5.372413793103449,
          3.7131782945736433,
          3.8573449918751312,
          4.669724770642202
         ],
         "yaxis": "y7"
        },
        {
         "marker": {
          "color": "lightblue",
          "line": {
           "color": "lightgray"
          }
         },
         "name": "Soft",
         "showlegend": false,
         "type": "scatter",
         "x": [
          "AMD+JAM",
          "IQMD-BNU",
          "SMASH",
          "TuQMD",
          "UrQMD",
          "pBUU",
          "r'$\\chi \\text{BUU}$'"
         ],
         "xaxis": "x8",
         "y": [
          null,
          null,
          null,
          3.570976984933913,
          2.5119771183410795,
          2.646363068738483,
          null
         ],
         "yaxis": "y8"
        },
        {
         "marker": {
          "color": "lightblue",
          "line": {
           "color": "lightgray"
          }
         },
         "name": "Soft",
         "showlegend": false,
         "type": "scatter",
         "x": [
          "AMD+JAM",
          "IQMD-BNU",
          "SMASH",
          "TuQMD",
          "UrQMD",
          "pBUU",
          "r'$\\chi \\text{BUU}$'"
         ],
         "xaxis": "x9",
         "y": [
          1.7241379310344829,
          1.822861555180599,
          1.5116879565402597,
          2.5113636363636362,
          2.0277777777777772,
          1.8783812287025363,
          2.007462686567164
         ],
         "yaxis": "y9"
        },
        {
         "marker": {
          "color": "lightpink",
          "line": {
           "color": "lightgray"
          }
         },
         "name": "Stiff",
         "showlegend": false,
         "type": "scatter",
         "x": [
          "AMD+JAM",
          "IQMD-BNU",
          "SMASH",
          "TuQMD",
          "UrQMD",
          "pBUU",
          "r'$\\chi \\text{BUU}$'"
         ],
         "xaxis": "x7",
         "y": [
          3.1541582150101424,
          2.9508539333180943,
          2.932123540784611,
          5.786206896551725,
          3.3759398496240602,
          3.5131407895307016,
          4.128205128205129
         ],
         "yaxis": "y7"
        },
        {
         "marker": {
          "color": "lightpink",
          "line": {
           "color": "lightgray"
          }
         },
         "name": "Stiff",
         "showlegend": false,
         "type": "scatter",
         "x": [
          "AMD+JAM",
          "IQMD-BNU",
          "SMASH",
          "TuQMD",
          "UrQMD",
          "pBUU",
          "r'$\\chi \\text{BUU}$'"
         ],
         "xaxis": "x8",
         "y": [
          null,
          null,
          null,
          3.824022857980146,
          2.4763988522238165,
          2.485033588891941,
          null
         ],
         "yaxis": "y8"
        },
        {
         "marker": {
          "color": "lightpink",
          "line": {
           "color": "lightgray"
          }
         },
         "name": "Stiff",
         "showlegend": false,
         "type": "scatter",
         "x": [
          "AMD+JAM",
          "IQMD-BNU",
          "SMASH",
          "TuQMD",
          "UrQMD",
          "pBUU",
          "r'$\\chi \\text{BUU}$'"
         ],
         "xaxis": "x9",
         "y": [
          1.6551724137931036,
          1.6654181523986453,
          1.5497522752402824,
          2.61878453038674,
          1.8639455782312924,
          1.8304097114011924,
          1.9357142857142857
         ],
         "yaxis": "y9"
        }
       ],
       "layout": {
        "template": {
         "data": {
          "bar": [
           {
            "error_x": {
             "color": "#2a3f5f"
            },
            "error_y": {
             "color": "#2a3f5f"
            },
            "marker": {
             "line": {
              "color": "#E5ECF6",
              "width": 0.5
             }
            },
            "type": "bar"
           }
          ],
          "barpolar": [
           {
            "marker": {
             "line": {
              "color": "#E5ECF6",
              "width": 0.5
             }
            },
            "type": "barpolar"
           }
          ],
          "carpet": [
           {
            "aaxis": {
             "endlinecolor": "#2a3f5f",
             "gridcolor": "white",
             "linecolor": "white",
             "minorgridcolor": "white",
             "startlinecolor": "#2a3f5f"
            },
            "baxis": {
             "endlinecolor": "#2a3f5f",
             "gridcolor": "white",
             "linecolor": "white",
             "minorgridcolor": "white",
             "startlinecolor": "#2a3f5f"
            },
            "type": "carpet"
           }
          ],
          "choropleth": [
           {
            "colorbar": {
             "outlinewidth": 0,
             "ticks": ""
            },
            "type": "choropleth"
           }
          ],
          "contour": [
           {
            "colorbar": {
             "outlinewidth": 0,
             "ticks": ""
            },
            "colorscale": [
             [
              0,
              "#0d0887"
             ],
             [
              0.1111111111111111,
              "#46039f"
             ],
             [
              0.2222222222222222,
              "#7201a8"
             ],
             [
              0.3333333333333333,
              "#9c179e"
             ],
             [
              0.4444444444444444,
              "#bd3786"
             ],
             [
              0.5555555555555556,
              "#d8576b"
             ],
             [
              0.6666666666666666,
              "#ed7953"
             ],
             [
              0.7777777777777778,
              "#fb9f3a"
             ],
             [
              0.8888888888888888,
              "#fdca26"
             ],
             [
              1,
              "#f0f921"
             ]
            ],
            "type": "contour"
           }
          ],
          "contourcarpet": [
           {
            "colorbar": {
             "outlinewidth": 0,
             "ticks": ""
            },
            "type": "contourcarpet"
           }
          ],
          "heatmap": [
           {
            "colorbar": {
             "outlinewidth": 0,
             "ticks": ""
            },
            "colorscale": [
             [
              0,
              "#0d0887"
             ],
             [
              0.1111111111111111,
              "#46039f"
             ],
             [
              0.2222222222222222,
              "#7201a8"
             ],
             [
              0.3333333333333333,
              "#9c179e"
             ],
             [
              0.4444444444444444,
              "#bd3786"
             ],
             [
              0.5555555555555556,
              "#d8576b"
             ],
             [
              0.6666666666666666,
              "#ed7953"
             ],
             [
              0.7777777777777778,
              "#fb9f3a"
             ],
             [
              0.8888888888888888,
              "#fdca26"
             ],
             [
              1,
              "#f0f921"
             ]
            ],
            "type": "heatmap"
           }
          ],
          "heatmapgl": [
           {
            "colorbar": {
             "outlinewidth": 0,
             "ticks": ""
            },
            "colorscale": [
             [
              0,
              "#0d0887"
             ],
             [
              0.1111111111111111,
              "#46039f"
             ],
             [
              0.2222222222222222,
              "#7201a8"
             ],
             [
              0.3333333333333333,
              "#9c179e"
             ],
             [
              0.4444444444444444,
              "#bd3786"
             ],
             [
              0.5555555555555556,
              "#d8576b"
             ],
             [
              0.6666666666666666,
              "#ed7953"
             ],
             [
              0.7777777777777778,
              "#fb9f3a"
             ],
             [
              0.8888888888888888,
              "#fdca26"
             ],
             [
              1,
              "#f0f921"
             ]
            ],
            "type": "heatmapgl"
           }
          ],
          "histogram": [
           {
            "marker": {
             "colorbar": {
              "outlinewidth": 0,
              "ticks": ""
             }
            },
            "type": "histogram"
           }
          ],
          "histogram2d": [
           {
            "colorbar": {
             "outlinewidth": 0,
             "ticks": ""
            },
            "colorscale": [
             [
              0,
              "#0d0887"
             ],
             [
              0.1111111111111111,
              "#46039f"
             ],
             [
              0.2222222222222222,
              "#7201a8"
             ],
             [
              0.3333333333333333,
              "#9c179e"
             ],
             [
              0.4444444444444444,
              "#bd3786"
             ],
             [
              0.5555555555555556,
              "#d8576b"
             ],
             [
              0.6666666666666666,
              "#ed7953"
             ],
             [
              0.7777777777777778,
              "#fb9f3a"
             ],
             [
              0.8888888888888888,
              "#fdca26"
             ],
             [
              1,
              "#f0f921"
             ]
            ],
            "type": "histogram2d"
           }
          ],
          "histogram2dcontour": [
           {
            "colorbar": {
             "outlinewidth": 0,
             "ticks": ""
            },
            "colorscale": [
             [
              0,
              "#0d0887"
             ],
             [
              0.1111111111111111,
              "#46039f"
             ],
             [
              0.2222222222222222,
              "#7201a8"
             ],
             [
              0.3333333333333333,
              "#9c179e"
             ],
             [
              0.4444444444444444,
              "#bd3786"
             ],
             [
              0.5555555555555556,
              "#d8576b"
             ],
             [
              0.6666666666666666,
              "#ed7953"
             ],
             [
              0.7777777777777778,
              "#fb9f3a"
             ],
             [
              0.8888888888888888,
              "#fdca26"
             ],
             [
              1,
              "#f0f921"
             ]
            ],
            "type": "histogram2dcontour"
           }
          ],
          "mesh3d": [
           {
            "colorbar": {
             "outlinewidth": 0,
             "ticks": ""
            },
            "type": "mesh3d"
           }
          ],
          "parcoords": [
           {
            "line": {
             "colorbar": {
              "outlinewidth": 0,
              "ticks": ""
             }
            },
            "type": "parcoords"
           }
          ],
          "pie": [
           {
            "automargin": true,
            "type": "pie"
           }
          ],
          "scatter": [
           {
            "marker": {
             "colorbar": {
              "outlinewidth": 0,
              "ticks": ""
             }
            },
            "type": "scatter"
           }
          ],
          "scatter3d": [
           {
            "line": {
             "colorbar": {
              "outlinewidth": 0,
              "ticks": ""
             }
            },
            "marker": {
             "colorbar": {
              "outlinewidth": 0,
              "ticks": ""
             }
            },
            "type": "scatter3d"
           }
          ],
          "scattercarpet": [
           {
            "marker": {
             "colorbar": {
              "outlinewidth": 0,
              "ticks": ""
             }
            },
            "type": "scattercarpet"
           }
          ],
          "scattergeo": [
           {
            "marker": {
             "colorbar": {
              "outlinewidth": 0,
              "ticks": ""
             }
            },
            "type": "scattergeo"
           }
          ],
          "scattergl": [
           {
            "marker": {
             "colorbar": {
              "outlinewidth": 0,
              "ticks": ""
             }
            },
            "type": "scattergl"
           }
          ],
          "scattermapbox": [
           {
            "marker": {
             "colorbar": {
              "outlinewidth": 0,
              "ticks": ""
             }
            },
            "type": "scattermapbox"
           }
          ],
          "scatterpolar": [
           {
            "marker": {
             "colorbar": {
              "outlinewidth": 0,
              "ticks": ""
             }
            },
            "type": "scatterpolar"
           }
          ],
          "scatterpolargl": [
           {
            "marker": {
             "colorbar": {
              "outlinewidth": 0,
              "ticks": ""
             }
            },
            "type": "scatterpolargl"
           }
          ],
          "scatterternary": [
           {
            "marker": {
             "colorbar": {
              "outlinewidth": 0,
              "ticks": ""
             }
            },
            "type": "scatterternary"
           }
          ],
          "surface": [
           {
            "colorbar": {
             "outlinewidth": 0,
             "ticks": ""
            },
            "colorscale": [
             [
              0,
              "#0d0887"
             ],
             [
              0.1111111111111111,
              "#46039f"
             ],
             [
              0.2222222222222222,
              "#7201a8"
             ],
             [
              0.3333333333333333,
              "#9c179e"
             ],
             [
              0.4444444444444444,
              "#bd3786"
             ],
             [
              0.5555555555555556,
              "#d8576b"
             ],
             [
              0.6666666666666666,
              "#ed7953"
             ],
             [
              0.7777777777777778,
              "#fb9f3a"
             ],
             [
              0.8888888888888888,
              "#fdca26"
             ],
             [
              1,
              "#f0f921"
             ]
            ],
            "type": "surface"
           }
          ],
          "table": [
           {
            "cells": {
             "fill": {
              "color": "#EBF0F8"
             },
             "line": {
              "color": "white"
             }
            },
            "header": {
             "fill": {
              "color": "#C8D4E3"
             },
             "line": {
              "color": "white"
             }
            },
            "type": "table"
           }
          ]
         },
         "layout": {
          "annotationdefaults": {
           "arrowcolor": "#2a3f5f",
           "arrowhead": 0,
           "arrowwidth": 1
          },
          "coloraxis": {
           "colorbar": {
            "outlinewidth": 0,
            "ticks": ""
           }
          },
          "colorscale": {
           "diverging": [
            [
             0,
             "#8e0152"
            ],
            [
             0.1,
             "#c51b7d"
            ],
            [
             0.2,
             "#de77ae"
            ],
            [
             0.3,
             "#f1b6da"
            ],
            [
             0.4,
             "#fde0ef"
            ],
            [
             0.5,
             "#f7f7f7"
            ],
            [
             0.6,
             "#e6f5d0"
            ],
            [
             0.7,
             "#b8e186"
            ],
            [
             0.8,
             "#7fbc41"
            ],
            [
             0.9,
             "#4d9221"
            ],
            [
             1,
             "#276419"
            ]
           ],
           "sequential": [
            [
             0,
             "#0d0887"
            ],
            [
             0.1111111111111111,
             "#46039f"
            ],
            [
             0.2222222222222222,
             "#7201a8"
            ],
            [
             0.3333333333333333,
             "#9c179e"
            ],
            [
             0.4444444444444444,
             "#bd3786"
            ],
            [
             0.5555555555555556,
             "#d8576b"
            ],
            [
             0.6666666666666666,
             "#ed7953"
            ],
            [
             0.7777777777777778,
             "#fb9f3a"
            ],
            [
             0.8888888888888888,
             "#fdca26"
            ],
            [
             1,
             "#f0f921"
            ]
           ],
           "sequentialminus": [
            [
             0,
             "#0d0887"
            ],
            [
             0.1111111111111111,
             "#46039f"
            ],
            [
             0.2222222222222222,
             "#7201a8"
            ],
            [
             0.3333333333333333,
             "#9c179e"
            ],
            [
             0.4444444444444444,
             "#bd3786"
            ],
            [
             0.5555555555555556,
             "#d8576b"
            ],
            [
             0.6666666666666666,
             "#ed7953"
            ],
            [
             0.7777777777777778,
             "#fb9f3a"
            ],
            [
             0.8888888888888888,
             "#fdca26"
            ],
            [
             1,
             "#f0f921"
            ]
           ]
          },
          "colorway": [
           "#636efa",
           "#EF553B",
           "#00cc96",
           "#ab63fa",
           "#FFA15A",
           "#19d3f3",
           "#FF6692",
           "#B6E880",
           "#FF97FF",
           "#FECB52"
          ],
          "font": {
           "color": "#2a3f5f"
          },
          "geo": {
           "bgcolor": "white",
           "lakecolor": "white",
           "landcolor": "#E5ECF6",
           "showlakes": true,
           "showland": true,
           "subunitcolor": "white"
          },
          "hoverlabel": {
           "align": "left"
          },
          "hovermode": "closest",
          "mapbox": {
           "style": "light"
          },
          "paper_bgcolor": "white",
          "plot_bgcolor": "#E5ECF6",
          "polar": {
           "angularaxis": {
            "gridcolor": "white",
            "linecolor": "white",
            "ticks": ""
           },
           "bgcolor": "#E5ECF6",
           "radialaxis": {
            "gridcolor": "white",
            "linecolor": "white",
            "ticks": ""
           }
          },
          "scene": {
           "xaxis": {
            "backgroundcolor": "#E5ECF6",
            "gridcolor": "white",
            "gridwidth": 2,
            "linecolor": "white",
            "showbackground": true,
            "ticks": "",
            "zerolinecolor": "white"
           },
           "yaxis": {
            "backgroundcolor": "#E5ECF6",
            "gridcolor": "white",
            "gridwidth": 2,
            "linecolor": "white",
            "showbackground": true,
            "ticks": "",
            "zerolinecolor": "white"
           },
           "zaxis": {
            "backgroundcolor": "#E5ECF6",
            "gridcolor": "white",
            "gridwidth": 2,
            "linecolor": "white",
            "showbackground": true,
            "ticks": "",
            "zerolinecolor": "white"
           }
          },
          "shapedefaults": {
           "line": {
            "color": "#2a3f5f"
           }
          },
          "ternary": {
           "aaxis": {
            "gridcolor": "white",
            "linecolor": "white",
            "ticks": ""
           },
           "baxis": {
            "gridcolor": "white",
            "linecolor": "white",
            "ticks": ""
           },
           "bgcolor": "#E5ECF6",
           "caxis": {
            "gridcolor": "white",
            "linecolor": "white",
            "ticks": ""
           }
          },
          "title": {
           "x": 0.05
          },
          "xaxis": {
           "automargin": true,
           "gridcolor": "white",
           "linecolor": "white",
           "ticks": "",
           "title": {
            "standoff": 15
           },
           "zerolinecolor": "white",
           "zerolinewidth": 2
          },
          "yaxis": {
           "automargin": true,
           "gridcolor": "white",
           "linecolor": "white",
           "ticks": "",
           "title": {
            "standoff": 15
           },
           "zerolinecolor": "white",
           "zerolinewidth": 2
          }
         }
        },
        "xaxis": {
         "anchor": "y",
         "domain": [
          0,
          0.3066666666666667
         ],
         "matches": "x7",
         "showticklabels": false
        },
        "xaxis2": {
         "anchor": "y2",
         "domain": [
          0.3466666666666667,
          0.6533333333333333
         ],
         "matches": "x8",
         "showticklabels": false
        },
        "xaxis3": {
         "anchor": "y3",
         "domain": [
          0.6933333333333334,
          1
         ],
         "matches": "x9",
         "showticklabels": false
        },
        "xaxis4": {
         "anchor": "y4",
         "domain": [
          0,
          0.3066666666666667
         ],
         "matches": "x7",
         "showticklabels": false
        },
        "xaxis5": {
         "anchor": "y5",
         "domain": [
          0.3466666666666667,
          0.6533333333333333
         ],
         "matches": "x8",
         "showticklabels": false
        },
        "xaxis6": {
         "anchor": "y6",
         "domain": [
          0.6933333333333334,
          1
         ],
         "matches": "x9",
         "showticklabels": false
        },
        "xaxis7": {
         "anchor": "y7",
         "domain": [
          0,
          0.3066666666666667
         ]
        },
        "xaxis8": {
         "anchor": "y8",
         "domain": [
          0.3466666666666667,
          0.6533333333333333
         ]
        },
        "xaxis9": {
         "anchor": "y9",
         "domain": [
          0.6933333333333334,
          1
         ]
        },
        "yaxis": {
         "anchor": "x",
         "domain": [
          0.6733333333333333,
          1
         ]
        },
        "yaxis2": {
         "anchor": "x2",
         "domain": [
          0.6733333333333333,
          1
         ],
         "matches": "y",
         "showticklabels": false
        },
        "yaxis3": {
         "anchor": "x3",
         "domain": [
          0.6733333333333333,
          1
         ],
         "matches": "y",
         "showticklabels": false
        },
        "yaxis4": {
         "anchor": "x4",
         "domain": [
          0.33666666666666667,
          0.6633333333333333
         ]
        },
        "yaxis5": {
         "anchor": "x5",
         "domain": [
          0.33666666666666667,
          0.6633333333333333
         ],
         "matches": "y4",
         "showticklabels": false
        },
        "yaxis6": {
         "anchor": "x6",
         "domain": [
          0.33666666666666667,
          0.6633333333333333
         ],
         "matches": "y4",
         "showticklabels": false
        },
        "yaxis7": {
         "anchor": "x7",
         "domain": [
          0,
          0.32666666666666666
         ]
        },
        "yaxis8": {
         "anchor": "x8",
         "domain": [
          0,
          0.32666666666666666
         ],
         "matches": "y7",
         "showticklabels": false
        },
        "yaxis9": {
         "anchor": "x9",
         "domain": [
          0,
          0.32666666666666666
         ],
         "matches": "y7",
         "showticklabels": false
        }
       }
      },
      "text/html": [
       "<div>\n",
       "        \n",
       "        \n",
       "            <div id=\"7654c8a6-a3a4-4710-89ce-8f1a41ec2b52\" class=\"plotly-graph-div\" style=\"height:525px; width:100%;\"></div>\n",
       "            <script type=\"text/javascript\">\n",
       "                require([\"plotly\"], function(Plotly) {\n",
       "                    window.PLOTLYENV=window.PLOTLYENV || {};\n",
       "                    \n",
       "                if (document.getElementById(\"7654c8a6-a3a4-4710-89ce-8f1a41ec2b52\")) {\n",
       "                    Plotly.newPlot(\n",
       "                        '7654c8a6-a3a4-4710-89ce-8f1a41ec2b52',\n",
       "                        [{\"marker\": {\"color\": \"lightblue\", \"line\": {\"color\": \"lightgray\"}}, \"name\": \"Soft\", \"type\": \"scatter\", \"x\": [\"AMD+JAM\", \"IQMD-BNU\", \"SMASH\", \"TuQMD\", \"UrQMD\", \"pBUU\", \"r'$\\\\chi \\\\text{BUU}$'\"], \"xaxis\": \"x\", \"y\": [0.33899999999999997, 0.541845, 0.46810799999999997, 0.779, 0.479, 0.697894, 0.509], \"yaxis\": \"y\"}, {\"marker\": {\"color\": \"lightblue\", \"line\": {\"color\": \"lightgray\"}}, \"name\": \"Soft\", \"showlegend\": false, \"type\": \"scatter\", \"x\": [\"AMD+JAM\", \"IQMD-BNU\", \"SMASH\", \"TuQMD\", \"UrQMD\", \"pBUU\", \"r'$\\\\chi \\\\text{BUU}$'\"], \"xaxis\": \"x2\", \"y\": [0.0, 0.0, 0.0, 0.579516, 0.3513, 0.521315, 0.0], \"yaxis\": \"y2\"}, {\"marker\": {\"color\": \"lightblue\", \"line\": {\"color\": \"lightgray\"}}, \"name\": \"Soft\", \"showlegend\": false, \"type\": \"scatter\", \"x\": [\"AMD+JAM\", \"IQMD-BNU\", \"SMASH\", \"TuQMD\", \"UrQMD\", \"pBUU\", \"r'$\\\\chi \\\\text{BUU}$'\"], \"xaxis\": \"x3\", \"y\": [0.2, 0.3187, 0.287452, 0.442, 0.292, 0.40074699999999996, 0.26899999999999996], \"yaxis\": \"y3\"}, {\"marker\": {\"color\": \"lightpink\", \"line\": {\"color\": \"lightgray\"}}, \"name\": \"Stiff\", \"type\": \"scatter\", \"x\": [\"AMD+JAM\", \"IQMD-BNU\", \"SMASH\", \"TuQMD\", \"UrQMD\", \"pBUU\", \"r'$\\\\chi \\\\text{BUU}$'\"], \"xaxis\": \"x\", \"y\": [0.311, 0.45182, 0.479238, 0.8390000000000001, 0.449, 0.648582, 0.483], \"yaxis\": \"y\"}, {\"marker\": {\"color\": \"lightpink\", \"line\": {\"color\": \"lightgray\"}}, \"name\": \"Stiff\", \"showlegend\": false, \"type\": \"scatter\", \"x\": [\"AMD+JAM\", \"IQMD-BNU\", \"SMASH\", \"TuQMD\", \"UrQMD\", \"pBUU\", \"r'$\\\\chi \\\\text{BUU}$'\"], \"xaxis\": \"x2\", \"y\": [0.0, 0.0, 0.0, 0.626352, 0.34521, 0.497541, 0.0], \"yaxis\": \"y2\"}, {\"marker\": {\"color\": \"lightpink\", \"line\": {\"color\": \"lightgray\"}}, \"name\": \"Stiff\", \"showlegend\": false, \"type\": \"scatter\", \"x\": [\"AMD+JAM\", \"IQMD-BNU\", \"SMASH\", \"TuQMD\", \"UrQMD\", \"pBUU\", \"r'$\\\\chi \\\\text{BUU}$'\"], \"xaxis\": \"x3\", \"y\": [0.192, 0.2779, 0.291527, 0.474, 0.27399999999999997, 0.392341, 0.271], \"yaxis\": \"y3\"}, {\"marker\": {\"color\": \"lightblue\", \"line\": {\"color\": \"lightgray\"}}, \"name\": \"Soft\", \"showlegend\": false, \"type\": \"scatter\", \"x\": [\"AMD+JAM\", \"IQMD-BNU\", \"SMASH\", \"TuQMD\", \"UrQMD\", \"pBUU\", \"r'$\\\\chi \\\\text{BUU}$'\"], \"xaxis\": \"x4\", \"y\": [0.0978, 0.147585, 0.167683, 0.145, 0.129, 0.180926, 0.109], \"yaxis\": \"y4\"}, {\"marker\": {\"color\": \"lightblue\", \"line\": {\"color\": \"lightgray\"}}, \"name\": \"Soft\", \"showlegend\": false, \"type\": \"scatter\", \"x\": [\"AMD+JAM\", \"IQMD-BNU\", \"SMASH\", \"TuQMD\", \"UrQMD\", \"pBUU\", \"r'$\\\\chi \\\\text{BUU}$'\"], \"xaxis\": \"x5\", \"y\": [0.0, 0.0, 0.0, 0.16228499999999998, 0.13985, 0.196993, 0.0], \"yaxis\": \"y5\"}, {\"marker\": {\"color\": \"lightblue\", \"line\": {\"color\": \"lightgray\"}}, \"name\": \"Soft\", \"showlegend\": false, \"type\": \"scatter\", \"x\": [\"AMD+JAM\", \"IQMD-BNU\", \"SMASH\", \"TuQMD\", \"UrQMD\", \"pBUU\", \"r'$\\\\chi \\\\text{BUU}$'\"], \"xaxis\": \"x6\", \"y\": [0.11599999999999999, 0.174835, 0.190153, 0.17600000000000002, 0.14400000000000002, 0.21334699999999998, 0.134], \"yaxis\": \"y6\"}, {\"marker\": {\"color\": \"lightpink\", \"line\": {\"color\": \"lightgray\"}}, \"name\": \"Stiff\", \"showlegend\": false, \"type\": \"scatter\", \"x\": [\"AMD+JAM\", \"IQMD-BNU\", \"SMASH\", \"TuQMD\", \"UrQMD\", \"pBUU\", \"r'$\\\\chi \\\\text{BUU}$'\"], \"xaxis\": \"x4\", \"y\": [0.0986, 0.153115, 0.163444, 0.145, 0.133, 0.184616, 0.11699999999999999], \"yaxis\": \"y4\"}, {\"marker\": {\"color\": \"lightpink\", \"line\": {\"color\": \"lightgray\"}}, \"name\": \"Stiff\", \"showlegend\": false, \"type\": \"scatter\", \"x\": [\"AMD+JAM\", \"IQMD-BNU\", \"SMASH\", \"TuQMD\", \"UrQMD\", \"pBUU\", \"r'$\\\\chi \\\\text{BUU}$'\"], \"xaxis\": \"x5\", \"y\": [0.0, 0.0, 0.0, 0.163794, 0.1394, 0.200215, 0.0], \"yaxis\": \"y5\"}, {\"marker\": {\"color\": \"lightpink\", \"line\": {\"color\": \"lightgray\"}}, \"name\": \"Stiff\", \"showlegend\": false, \"type\": \"scatter\", \"x\": [\"AMD+JAM\", \"IQMD-BNU\", \"SMASH\", \"TuQMD\", \"UrQMD\", \"pBUU\", \"r'$\\\\chi \\\\text{BUU}$'\"], \"xaxis\": \"x6\", \"y\": [0.11599999999999999, 0.166865, 0.188112, 0.18100000000000002, 0.147, 0.214346, 0.14], \"yaxis\": \"y6\"}, {\"marker\": {\"color\": \"lightblue\", \"line\": {\"color\": \"lightgray\"}}, \"name\": \"Soft\", \"showlegend\": false, \"type\": \"scatter\", \"x\": [\"AMD+JAM\", \"IQMD-BNU\", \"SMASH\", \"TuQMD\", \"UrQMD\", \"pBUU\", \"r'$\\\\chi \\\\text{BUU}$'\"], \"xaxis\": \"x7\", \"y\": [3.466257668711656, 3.6714096961073284, 2.791624672745597, 5.372413793103449, 3.7131782945736433, 3.8573449918751312, 4.669724770642202], \"yaxis\": \"y7\"}, {\"marker\": {\"color\": \"lightblue\", \"line\": {\"color\": \"lightgray\"}}, \"name\": \"Soft\", \"showlegend\": false, \"type\": \"scatter\", \"x\": [\"AMD+JAM\", \"IQMD-BNU\", \"SMASH\", \"TuQMD\", \"UrQMD\", \"pBUU\", \"r'$\\\\chi \\\\text{BUU}$'\"], \"xaxis\": \"x8\", \"y\": [null, null, null, 3.570976984933913, 2.5119771183410795, 2.646363068738483, null], \"yaxis\": \"y8\"}, {\"marker\": {\"color\": \"lightblue\", \"line\": {\"color\": \"lightgray\"}}, \"name\": \"Soft\", \"showlegend\": false, \"type\": \"scatter\", \"x\": [\"AMD+JAM\", \"IQMD-BNU\", \"SMASH\", \"TuQMD\", \"UrQMD\", \"pBUU\", \"r'$\\\\chi \\\\text{BUU}$'\"], \"xaxis\": \"x9\", \"y\": [1.7241379310344829, 1.822861555180599, 1.5116879565402597, 2.5113636363636362, 2.0277777777777772, 1.8783812287025363, 2.007462686567164], \"yaxis\": \"y9\"}, {\"marker\": {\"color\": \"lightpink\", \"line\": {\"color\": \"lightgray\"}}, \"name\": \"Stiff\", \"showlegend\": false, \"type\": \"scatter\", \"x\": [\"AMD+JAM\", \"IQMD-BNU\", \"SMASH\", \"TuQMD\", \"UrQMD\", \"pBUU\", \"r'$\\\\chi \\\\text{BUU}$'\"], \"xaxis\": \"x7\", \"y\": [3.1541582150101424, 2.9508539333180943, 2.932123540784611, 5.786206896551725, 3.3759398496240602, 3.5131407895307016, 4.128205128205129], \"yaxis\": \"y7\"}, {\"marker\": {\"color\": \"lightpink\", \"line\": {\"color\": \"lightgray\"}}, \"name\": \"Stiff\", \"showlegend\": false, \"type\": \"scatter\", \"x\": [\"AMD+JAM\", \"IQMD-BNU\", \"SMASH\", \"TuQMD\", \"UrQMD\", \"pBUU\", \"r'$\\\\chi \\\\text{BUU}$'\"], \"xaxis\": \"x8\", \"y\": [null, null, null, 3.824022857980146, 2.4763988522238165, 2.485033588891941, null], \"yaxis\": \"y8\"}, {\"marker\": {\"color\": \"lightpink\", \"line\": {\"color\": \"lightgray\"}}, \"name\": \"Stiff\", \"showlegend\": false, \"type\": \"scatter\", \"x\": [\"AMD+JAM\", \"IQMD-BNU\", \"SMASH\", \"TuQMD\", \"UrQMD\", \"pBUU\", \"r'$\\\\chi \\\\text{BUU}$'\"], \"xaxis\": \"x9\", \"y\": [1.6551724137931036, 1.6654181523986453, 1.5497522752402824, 2.61878453038674, 1.8639455782312924, 1.8304097114011924, 1.9357142857142857], \"yaxis\": \"y9\"}],\n",
       "                        {\"template\": {\"data\": {\"bar\": [{\"error_x\": {\"color\": \"#2a3f5f\"}, \"error_y\": {\"color\": \"#2a3f5f\"}, \"marker\": {\"line\": {\"color\": \"#E5ECF6\", \"width\": 0.5}}, \"type\": \"bar\"}], \"barpolar\": [{\"marker\": {\"line\": {\"color\": \"#E5ECF6\", \"width\": 0.5}}, \"type\": \"barpolar\"}], \"carpet\": [{\"aaxis\": {\"endlinecolor\": \"#2a3f5f\", \"gridcolor\": \"white\", \"linecolor\": \"white\", \"minorgridcolor\": \"white\", \"startlinecolor\": \"#2a3f5f\"}, \"baxis\": {\"endlinecolor\": \"#2a3f5f\", \"gridcolor\": \"white\", \"linecolor\": \"white\", \"minorgridcolor\": \"white\", \"startlinecolor\": \"#2a3f5f\"}, \"type\": \"carpet\"}], \"choropleth\": [{\"colorbar\": {\"outlinewidth\": 0, \"ticks\": \"\"}, \"type\": \"choropleth\"}], \"contour\": [{\"colorbar\": {\"outlinewidth\": 0, \"ticks\": \"\"}, \"colorscale\": [[0.0, \"#0d0887\"], [0.1111111111111111, \"#46039f\"], [0.2222222222222222, \"#7201a8\"], [0.3333333333333333, \"#9c179e\"], [0.4444444444444444, \"#bd3786\"], [0.5555555555555556, \"#d8576b\"], [0.6666666666666666, \"#ed7953\"], [0.7777777777777778, \"#fb9f3a\"], [0.8888888888888888, \"#fdca26\"], [1.0, \"#f0f921\"]], \"type\": \"contour\"}], \"contourcarpet\": [{\"colorbar\": {\"outlinewidth\": 0, \"ticks\": \"\"}, \"type\": \"contourcarpet\"}], \"heatmap\": [{\"colorbar\": {\"outlinewidth\": 0, \"ticks\": \"\"}, \"colorscale\": [[0.0, \"#0d0887\"], [0.1111111111111111, \"#46039f\"], [0.2222222222222222, \"#7201a8\"], [0.3333333333333333, \"#9c179e\"], [0.4444444444444444, \"#bd3786\"], [0.5555555555555556, \"#d8576b\"], [0.6666666666666666, \"#ed7953\"], [0.7777777777777778, \"#fb9f3a\"], [0.8888888888888888, \"#fdca26\"], [1.0, \"#f0f921\"]], \"type\": \"heatmap\"}], \"heatmapgl\": [{\"colorbar\": {\"outlinewidth\": 0, \"ticks\": \"\"}, \"colorscale\": [[0.0, \"#0d0887\"], [0.1111111111111111, \"#46039f\"], [0.2222222222222222, \"#7201a8\"], [0.3333333333333333, \"#9c179e\"], [0.4444444444444444, \"#bd3786\"], [0.5555555555555556, \"#d8576b\"], [0.6666666666666666, \"#ed7953\"], [0.7777777777777778, \"#fb9f3a\"], [0.8888888888888888, \"#fdca26\"], [1.0, \"#f0f921\"]], \"type\": \"heatmapgl\"}], \"histogram\": [{\"marker\": {\"colorbar\": {\"outlinewidth\": 0, \"ticks\": \"\"}}, \"type\": \"histogram\"}], \"histogram2d\": [{\"colorbar\": {\"outlinewidth\": 0, \"ticks\": \"\"}, \"colorscale\": [[0.0, \"#0d0887\"], [0.1111111111111111, \"#46039f\"], [0.2222222222222222, \"#7201a8\"], [0.3333333333333333, \"#9c179e\"], [0.4444444444444444, \"#bd3786\"], [0.5555555555555556, \"#d8576b\"], [0.6666666666666666, \"#ed7953\"], [0.7777777777777778, \"#fb9f3a\"], [0.8888888888888888, \"#fdca26\"], [1.0, \"#f0f921\"]], \"type\": \"histogram2d\"}], \"histogram2dcontour\": [{\"colorbar\": {\"outlinewidth\": 0, \"ticks\": \"\"}, \"colorscale\": [[0.0, \"#0d0887\"], [0.1111111111111111, \"#46039f\"], [0.2222222222222222, \"#7201a8\"], [0.3333333333333333, \"#9c179e\"], [0.4444444444444444, \"#bd3786\"], [0.5555555555555556, \"#d8576b\"], [0.6666666666666666, \"#ed7953\"], [0.7777777777777778, \"#fb9f3a\"], [0.8888888888888888, \"#fdca26\"], [1.0, \"#f0f921\"]], \"type\": \"histogram2dcontour\"}], \"mesh3d\": [{\"colorbar\": {\"outlinewidth\": 0, \"ticks\": \"\"}, \"type\": \"mesh3d\"}], \"parcoords\": [{\"line\": {\"colorbar\": {\"outlinewidth\": 0, \"ticks\": \"\"}}, \"type\": \"parcoords\"}], \"pie\": [{\"automargin\": true, \"type\": \"pie\"}], \"scatter\": [{\"marker\": {\"colorbar\": {\"outlinewidth\": 0, \"ticks\": \"\"}}, \"type\": \"scatter\"}], \"scatter3d\": [{\"line\": {\"colorbar\": {\"outlinewidth\": 0, \"ticks\": \"\"}}, \"marker\": {\"colorbar\": {\"outlinewidth\": 0, \"ticks\": \"\"}}, \"type\": \"scatter3d\"}], \"scattercarpet\": [{\"marker\": {\"colorbar\": {\"outlinewidth\": 0, \"ticks\": \"\"}}, \"type\": \"scattercarpet\"}], \"scattergeo\": [{\"marker\": {\"colorbar\": {\"outlinewidth\": 0, \"ticks\": \"\"}}, \"type\": \"scattergeo\"}], \"scattergl\": [{\"marker\": {\"colorbar\": {\"outlinewidth\": 0, \"ticks\": \"\"}}, \"type\": \"scattergl\"}], \"scattermapbox\": [{\"marker\": {\"colorbar\": {\"outlinewidth\": 0, \"ticks\": \"\"}}, \"type\": \"scattermapbox\"}], \"scatterpolar\": [{\"marker\": {\"colorbar\": {\"outlinewidth\": 0, \"ticks\": \"\"}}, \"type\": \"scatterpolar\"}], \"scatterpolargl\": [{\"marker\": {\"colorbar\": {\"outlinewidth\": 0, \"ticks\": \"\"}}, \"type\": \"scatterpolargl\"}], \"scatterternary\": [{\"marker\": {\"colorbar\": {\"outlinewidth\": 0, \"ticks\": \"\"}}, \"type\": \"scatterternary\"}], \"surface\": [{\"colorbar\": {\"outlinewidth\": 0, \"ticks\": \"\"}, \"colorscale\": [[0.0, \"#0d0887\"], [0.1111111111111111, \"#46039f\"], [0.2222222222222222, \"#7201a8\"], [0.3333333333333333, \"#9c179e\"], [0.4444444444444444, \"#bd3786\"], [0.5555555555555556, \"#d8576b\"], [0.6666666666666666, \"#ed7953\"], [0.7777777777777778, \"#fb9f3a\"], [0.8888888888888888, \"#fdca26\"], [1.0, \"#f0f921\"]], \"type\": \"surface\"}], \"table\": [{\"cells\": {\"fill\": {\"color\": \"#EBF0F8\"}, \"line\": {\"color\": \"white\"}}, \"header\": {\"fill\": {\"color\": \"#C8D4E3\"}, \"line\": {\"color\": \"white\"}}, \"type\": \"table\"}]}, \"layout\": {\"annotationdefaults\": {\"arrowcolor\": \"#2a3f5f\", \"arrowhead\": 0, \"arrowwidth\": 1}, \"coloraxis\": {\"colorbar\": {\"outlinewidth\": 0, \"ticks\": \"\"}}, \"colorscale\": {\"diverging\": [[0, \"#8e0152\"], [0.1, \"#c51b7d\"], [0.2, \"#de77ae\"], [0.3, \"#f1b6da\"], [0.4, \"#fde0ef\"], [0.5, \"#f7f7f7\"], [0.6, \"#e6f5d0\"], [0.7, \"#b8e186\"], [0.8, \"#7fbc41\"], [0.9, \"#4d9221\"], [1, \"#276419\"]], \"sequential\": [[0.0, \"#0d0887\"], [0.1111111111111111, \"#46039f\"], [0.2222222222222222, \"#7201a8\"], [0.3333333333333333, \"#9c179e\"], [0.4444444444444444, \"#bd3786\"], [0.5555555555555556, \"#d8576b\"], [0.6666666666666666, \"#ed7953\"], [0.7777777777777778, \"#fb9f3a\"], [0.8888888888888888, \"#fdca26\"], [1.0, \"#f0f921\"]], \"sequentialminus\": [[0.0, \"#0d0887\"], [0.1111111111111111, \"#46039f\"], [0.2222222222222222, \"#7201a8\"], [0.3333333333333333, \"#9c179e\"], [0.4444444444444444, \"#bd3786\"], [0.5555555555555556, \"#d8576b\"], [0.6666666666666666, \"#ed7953\"], [0.7777777777777778, \"#fb9f3a\"], [0.8888888888888888, \"#fdca26\"], [1.0, \"#f0f921\"]]}, \"colorway\": [\"#636efa\", \"#EF553B\", \"#00cc96\", \"#ab63fa\", \"#FFA15A\", \"#19d3f3\", \"#FF6692\", \"#B6E880\", \"#FF97FF\", \"#FECB52\"], \"font\": {\"color\": \"#2a3f5f\"}, \"geo\": {\"bgcolor\": \"white\", \"lakecolor\": \"white\", \"landcolor\": \"#E5ECF6\", \"showlakes\": true, \"showland\": true, \"subunitcolor\": \"white\"}, \"hoverlabel\": {\"align\": \"left\"}, \"hovermode\": \"closest\", \"mapbox\": {\"style\": \"light\"}, \"paper_bgcolor\": \"white\", \"plot_bgcolor\": \"#E5ECF6\", \"polar\": {\"angularaxis\": {\"gridcolor\": \"white\", \"linecolor\": \"white\", \"ticks\": \"\"}, \"bgcolor\": \"#E5ECF6\", \"radialaxis\": {\"gridcolor\": \"white\", \"linecolor\": \"white\", \"ticks\": \"\"}}, \"scene\": {\"xaxis\": {\"backgroundcolor\": \"#E5ECF6\", \"gridcolor\": \"white\", \"gridwidth\": 2, \"linecolor\": \"white\", \"showbackground\": true, \"ticks\": \"\", \"zerolinecolor\": \"white\"}, \"yaxis\": {\"backgroundcolor\": \"#E5ECF6\", \"gridcolor\": \"white\", \"gridwidth\": 2, \"linecolor\": \"white\", \"showbackground\": true, \"ticks\": \"\", \"zerolinecolor\": \"white\"}, \"zaxis\": {\"backgroundcolor\": \"#E5ECF6\", \"gridcolor\": \"white\", \"gridwidth\": 2, \"linecolor\": \"white\", \"showbackground\": true, \"ticks\": \"\", \"zerolinecolor\": \"white\"}}, \"shapedefaults\": {\"line\": {\"color\": \"#2a3f5f\"}}, \"ternary\": {\"aaxis\": {\"gridcolor\": \"white\", \"linecolor\": \"white\", \"ticks\": \"\"}, \"baxis\": {\"gridcolor\": \"white\", \"linecolor\": \"white\", \"ticks\": \"\"}, \"bgcolor\": \"#E5ECF6\", \"caxis\": {\"gridcolor\": \"white\", \"linecolor\": \"white\", \"ticks\": \"\"}}, \"title\": {\"x\": 0.05}, \"xaxis\": {\"automargin\": true, \"gridcolor\": \"white\", \"linecolor\": \"white\", \"ticks\": \"\", \"title\": {\"standoff\": 15}, \"zerolinecolor\": \"white\", \"zerolinewidth\": 2}, \"yaxis\": {\"automargin\": true, \"gridcolor\": \"white\", \"linecolor\": \"white\", \"ticks\": \"\", \"title\": {\"standoff\": 15}, \"zerolinecolor\": \"white\", \"zerolinewidth\": 2}}}, \"xaxis\": {\"anchor\": \"y\", \"domain\": [0.0, 0.3066666666666667], \"matches\": \"x7\", \"showticklabels\": false}, \"xaxis2\": {\"anchor\": \"y2\", \"domain\": [0.3466666666666667, 0.6533333333333333], \"matches\": \"x8\", \"showticklabels\": false}, \"xaxis3\": {\"anchor\": \"y3\", \"domain\": [0.6933333333333334, 1.0], \"matches\": \"x9\", \"showticklabels\": false}, \"xaxis4\": {\"anchor\": \"y4\", \"domain\": [0.0, 0.3066666666666667], \"matches\": \"x7\", \"showticklabels\": false}, \"xaxis5\": {\"anchor\": \"y5\", \"domain\": [0.3466666666666667, 0.6533333333333333], \"matches\": \"x8\", \"showticklabels\": false}, \"xaxis6\": {\"anchor\": \"y6\", \"domain\": [0.6933333333333334, 1.0], \"matches\": \"x9\", \"showticklabels\": false}, \"xaxis7\": {\"anchor\": \"y7\", \"domain\": [0.0, 0.3066666666666667]}, \"xaxis8\": {\"anchor\": \"y8\", \"domain\": [0.3466666666666667, 0.6533333333333333]}, \"xaxis9\": {\"anchor\": \"y9\", \"domain\": [0.6933333333333334, 1.0]}, \"yaxis\": {\"anchor\": \"x\", \"domain\": [0.6733333333333333, 1.0]}, \"yaxis2\": {\"anchor\": \"x2\", \"domain\": [0.6733333333333333, 1.0], \"matches\": \"y\", \"showticklabels\": false}, \"yaxis3\": {\"anchor\": \"x3\", \"domain\": [0.6733333333333333, 1.0], \"matches\": \"y\", \"showticklabels\": false}, \"yaxis4\": {\"anchor\": \"x4\", \"domain\": [0.33666666666666667, 0.6633333333333333]}, \"yaxis5\": {\"anchor\": \"x5\", \"domain\": [0.33666666666666667, 0.6633333333333333], \"matches\": \"y4\", \"showticklabels\": false}, \"yaxis6\": {\"anchor\": \"x6\", \"domain\": [0.33666666666666667, 0.6633333333333333], \"matches\": \"y4\", \"showticklabels\": false}, \"yaxis7\": {\"anchor\": \"x7\", \"domain\": [0.0, 0.32666666666666666]}, \"yaxis8\": {\"anchor\": \"x8\", \"domain\": [0.0, 0.32666666666666666], \"matches\": \"y7\", \"showticklabels\": false}, \"yaxis9\": {\"anchor\": \"x9\", \"domain\": [0.0, 0.32666666666666666], \"matches\": \"y7\", \"showticklabels\": false}},\n",
       "                        {\"responsive\": true}\n",
       "                    ).then(function(){\n",
       "                            \n",
       "var gd = document.getElementById('7654c8a6-a3a4-4710-89ce-8f1a41ec2b52');\n",
       "var x = new MutationObserver(function (mutations, observer) {{\n",
       "        var display = window.getComputedStyle(gd).display;\n",
       "        if (!display || display === 'none') {{\n",
       "            console.log([gd, 'removed!']);\n",
       "            Plotly.purge(gd);\n",
       "            observer.disconnect();\n",
       "        }}\n",
       "}});\n",
       "\n",
       "// Listen for the removal of the full notebook cells\n",
       "var notebookContainer = gd.closest('#notebook-container');\n",
       "if (notebookContainer) {{\n",
       "    x.observe(notebookContainer, {childList: true});\n",
       "}}\n",
       "\n",
       "// Listen for the clearing of the current output cell\n",
       "var outputEl = gd.closest('.output');\n",
       "if (outputEl) {{\n",
       "    x.observe(outputEl, {childList: true});\n",
       "}}\n",
       "\n",
       "                        })\n",
       "                };\n",
       "                });\n",
       "            </script>\n",
       "        </div>"
      ]
     },
     "metadata": {},
     "output_type": "display_data"
    }
   ],
   "source": [
    "#fig = go.Figure()\n",
    "fig = make_subplots(rows=3, cols=3,\n",
    "                    shared_xaxes=True, shared_yaxes=True, vertical_spacing = 0.01, horizontal_spacing = 0.04)\n",
    "\n",
    "#plot the soft pi-\n",
    "fig.add_trace(go.Scatter(\n",
    "        x = sn132_theory_min.name,\n",
    "        y = sn132_theory_min.pim,\n",
    "        name = 'Soft',\n",
    "        marker=dict(\n",
    "        #color='rgba(156, 165, 196, 0.95)',\n",
    "        color='lightblue',\n",
    "        line_color='lightgray',\n",
    "        )),row = 1, col = 1\n",
    ")\n",
    "\n",
    "fig.add_trace(go.Scatter(\n",
    "        x = sn124_theory_min.name,\n",
    "        y = sn124_theory_min.pim,\n",
    "        name = 'Soft',\n",
    "        showlegend=False,\n",
    "        marker=dict(\n",
    "        color='lightblue',\n",
    "        line_color='lightgray',\n",
    "        )), row = 1, col = 2\n",
    ")\n",
    "\n",
    "fig.add_trace(go.Scatter(\n",
    "        x = sn108_theory_min.name,\n",
    "        y = sn108_theory_min.pim,\n",
    "        name = 'Soft',\n",
    "        showlegend=False,\n",
    "        marker=dict(\n",
    "        color='lightblue',\n",
    "        line_color='lightgray',\n",
    "        )), row = 1, col = 3\n",
    ")\n",
    "\n",
    "#plot the stiff pi-\n",
    "fig.add_trace(go.Scatter(\n",
    "        x = sn132_theory_max.name,\n",
    "        y = sn132_theory_max.pim,\n",
    "        name = 'Stiff',\n",
    "        marker=dict(\n",
    "        color='lightpink',\n",
    "        line_color='lightgray',\n",
    "        )),row = 1, col = 1\n",
    ")\n",
    "\n",
    "fig.add_trace(go.Scatter(\n",
    "        x = sn124_theory_max.name,\n",
    "        y = sn124_theory_max.pim,\n",
    "        name = 'Stiff',\n",
    "        showlegend=False,\n",
    "        marker=dict(\n",
    "        color='lightpink',\n",
    "        line_color='lightgray',\n",
    "        )), row = 1, col = 2\n",
    ")\n",
    "\n",
    "fig.add_trace(go.Scatter(\n",
    "        x = sn108_theory_max.name,\n",
    "        y = sn108_theory_max.pim,\n",
    "        name = 'Stiff',\n",
    "        showlegend=False,\n",
    "        marker=dict(\n",
    "        color='lightpink',\n",
    "        line_color='lightgray',\n",
    "        )), row = 1, col = 3\n",
    ")\n",
    "\n",
    "\n",
    "#plot the soft pi+\n",
    "fig.add_trace(go.Scatter(\n",
    "        x = sn132_theory_min.name,\n",
    "        y = sn132_theory_min.pip,\n",
    "        name = 'Soft',\n",
    "        showlegend=False,\n",
    "        marker=dict(\n",
    "        color='lightblue',\n",
    "        line_color='lightgray'\n",
    "        )),row = 2, col = 1\n",
    ")\n",
    "\n",
    "fig.add_trace(go.Scatter(\n",
    "        x = sn124_theory_min.name,\n",
    "        y = sn124_theory_min.pip,\n",
    "        showlegend=False,\n",
    "        name = 'Soft',\n",
    "        marker=dict(\n",
    "        color='lightblue',\n",
    "        line_color='lightgray',\n",
    "        )), row = 2, col = 2\n",
    ")\n",
    "\n",
    "fig.add_trace(go.Scatter(\n",
    "        x = sn108_theory_min.name,\n",
    "        y = sn108_theory_min.pip,\n",
    "        showlegend=False,\n",
    "        name = 'Soft',\n",
    "        marker=dict(\n",
    "        color='lightblue',\n",
    "        line_color='lightgray',\n",
    "        )), row = 2, col = 3\n",
    ")\n",
    "\n",
    "\n",
    "#plot the stiff pi+\n",
    "fig.add_trace(go.Scatter(\n",
    "        x = sn132_theory_max.name,\n",
    "        y = sn132_theory_max.pip,\n",
    "        name = 'Stiff',\n",
    "        showlegend=False,\n",
    "        marker=dict(\n",
    "        color='lightpink',\n",
    "        line_color='lightgray',\n",
    "        )),row = 2, col = 1\n",
    ")\n",
    "\n",
    "fig.add_trace(go.Scatter(\n",
    "        x = sn124_theory_max.name,\n",
    "        y = sn124_theory_max.pip,\n",
    "        showlegend=False,\n",
    "        name = 'Stiff',\n",
    "        marker=dict(\n",
    "        color='lightpink',\n",
    "        line_color='lightgray',\n",
    "        )), row = 2, col = 2\n",
    ")\n",
    "\n",
    "fig.add_trace(go.Scatter(\n",
    "        x = sn108_theory_max.name,\n",
    "        y = sn108_theory_max.pip,\n",
    "        showlegend=False,\n",
    "        name = 'Stiff',\n",
    "        marker=dict(\n",
    "        color='lightpink',\n",
    "        line_color='lightgray',\n",
    "        )), row = 2, col = 3\n",
    ")\n",
    "\n",
    "#plot the soft pi-/pi+\n",
    "fig.add_trace(go.Scatter(\n",
    "        x = sn132_theory_min.name,\n",
    "        y = sn132_theory_min.ratio,\n",
    "        name = 'Soft',\n",
    "        showlegend=False,\n",
    "        marker=dict(\n",
    "        color='lightblue',\n",
    "        line_color='lightgray',\n",
    "        )),row = 3, col = 1\n",
    ")\n",
    "\n",
    "fig.add_trace(go.Scatter(\n",
    "        x = sn124_theory_min.name,\n",
    "        y = sn124_theory_min.ratio,\n",
    "        name = 'Soft',\n",
    "        showlegend=False,\n",
    "        marker=dict(\n",
    "        color='lightblue',\n",
    "        line_color='lightgray',\n",
    "        )), row = 3, col = 2\n",
    ")\n",
    "\n",
    "fig.add_trace(go.Scatter(\n",
    "        x = sn108_theory_min.name,\n",
    "        y = sn108_theory_min.ratio,\n",
    "        name = 'Soft',\n",
    "        showlegend=False,\n",
    "        marker=dict(\n",
    "        color='lightblue',\n",
    "        line_color='lightgray',\n",
    "        )), row = 3, col = 3\n",
    ")\n",
    "\n",
    "\n",
    "#plot the stiff pi-/pi+\n",
    "fig.add_trace(go.Scatter(\n",
    "        x = sn132_theory_max.name,\n",
    "        y = sn132_theory_max.ratio,\n",
    "        name = 'Stiff',\n",
    "        showlegend=False,\n",
    "        marker=dict(\n",
    "        color='lightpink',\n",
    "        line_color='lightgray',\n",
    "        )),row = 3, col = 1\n",
    ")\n",
    "\n",
    "fig.add_trace(go.Scatter(\n",
    "        x = sn124_theory_max.name,\n",
    "        y = sn124_theory_max.ratio,\n",
    "        showlegend=False,\n",
    "        name = 'Stiff',\n",
    "        marker=dict(\n",
    "        color='lightpink',\n",
    "        line_color='lightgray',\n",
    "        )), row = 3, col = 2\n",
    ")\n",
    "\n",
    "fig.add_trace(go.Scatter(\n",
    "        x = sn108_theory_max.name,\n",
    "        y = sn108_theory_max.ratio,\n",
    "        showlegend=False,\n",
    "        name = 'Stiff',\n",
    "        marker=dict(\n",
    "        color='lightpink',\n",
    "        line_color='lightgray',\n",
    "        )), row = 3, col = 3\n",
    ")\n"
   ]
  },
  {
   "cell_type": "code",
   "execution_count": 181,
   "metadata": {},
   "outputs": [
    {
     "data": {
      "application/vnd.plotly.v1+json": {
       "config": {
        "plotlyServerURL": "https://plot.ly"
       },
       "data": [
        {
         "marker": {
          "color": "lightblue",
          "line": {
           "color": "lightgray"
          }
         },
         "name": "Soft",
         "type": "scatter",
         "x": [
          "AMD+JAM",
          "IQMD-BNU",
          "SMASH",
          "TuQMD",
          "UrQMD",
          "pBUU",
          "r'$\\chi \\text{BUU}$'"
         ],
         "xaxis": "x",
         "y": [
          0.33899999999999997,
          0.541845,
          0.46810799999999997,
          0.779,
          0.479,
          0.697894,
          0.509
         ],
         "yaxis": "y"
        },
        {
         "marker": {
          "color": "lightblue",
          "line": {
           "color": "lightgray"
          }
         },
         "name": "Soft",
         "showlegend": false,
         "type": "scatter",
         "x": [
          "AMD+JAM",
          "IQMD-BNU",
          "SMASH",
          "TuQMD",
          "UrQMD",
          "pBUU",
          "r'$\\chi \\text{BUU}$'"
         ],
         "xaxis": "x2",
         "y": [
          0,
          0,
          0,
          0.579516,
          0.3513,
          0.521315,
          0
         ],
         "yaxis": "y2"
        },
        {
         "marker": {
          "color": "lightblue",
          "line": {
           "color": "lightgray"
          }
         },
         "name": "Soft",
         "showlegend": false,
         "type": "scatter",
         "x": [
          "AMD+JAM",
          "IQMD-BNU",
          "SMASH",
          "TuQMD",
          "UrQMD",
          "pBUU",
          "r'$\\chi \\text{BUU}$'"
         ],
         "xaxis": "x3",
         "y": [
          0.2,
          0.3187,
          0.287452,
          0.442,
          0.292,
          0.40074699999999996,
          0.26899999999999996
         ],
         "yaxis": "y3"
        },
        {
         "marker": {
          "color": "lightpink",
          "line": {
           "color": "lightgray"
          }
         },
         "name": "Stiff",
         "type": "scatter",
         "x": [
          "AMD+JAM",
          "IQMD-BNU",
          "SMASH",
          "TuQMD",
          "UrQMD",
          "pBUU",
          "r'$\\chi \\text{BUU}$'"
         ],
         "xaxis": "x",
         "y": [
          0.311,
          0.45182,
          0.479238,
          0.8390000000000001,
          0.449,
          0.648582,
          0.483
         ],
         "yaxis": "y"
        },
        {
         "marker": {
          "color": "lightpink",
          "line": {
           "color": "lightgray"
          }
         },
         "name": "Stiff",
         "showlegend": false,
         "type": "scatter",
         "x": [
          "AMD+JAM",
          "IQMD-BNU",
          "SMASH",
          "TuQMD",
          "UrQMD",
          "pBUU",
          "r'$\\chi \\text{BUU}$'"
         ],
         "xaxis": "x2",
         "y": [
          0,
          0,
          0,
          0.626352,
          0.34521,
          0.497541,
          0
         ],
         "yaxis": "y2"
        },
        {
         "marker": {
          "color": "lightpink",
          "line": {
           "color": "lightgray"
          }
         },
         "name": "Stiff",
         "showlegend": false,
         "type": "scatter",
         "x": [
          "AMD+JAM",
          "IQMD-BNU",
          "SMASH",
          "TuQMD",
          "UrQMD",
          "pBUU",
          "r'$\\chi \\text{BUU}$'"
         ],
         "xaxis": "x3",
         "y": [
          0.192,
          0.2779,
          0.291527,
          0.474,
          0.27399999999999997,
          0.392341,
          0.271
         ],
         "yaxis": "y3"
        },
        {
         "marker": {
          "color": "lightblue",
          "line": {
           "color": "lightgray"
          }
         },
         "name": "Soft",
         "showlegend": false,
         "type": "scatter",
         "x": [
          "AMD+JAM",
          "IQMD-BNU",
          "SMASH",
          "TuQMD",
          "UrQMD",
          "pBUU",
          "r'$\\chi \\text{BUU}$'"
         ],
         "xaxis": "x4",
         "y": [
          0.0978,
          0.147585,
          0.167683,
          0.145,
          0.129,
          0.180926,
          0.109
         ],
         "yaxis": "y4"
        },
        {
         "marker": {
          "color": "lightblue",
          "line": {
           "color": "lightgray"
          }
         },
         "name": "Soft",
         "showlegend": false,
         "type": "scatter",
         "x": [
          "AMD+JAM",
          "IQMD-BNU",
          "SMASH",
          "TuQMD",
          "UrQMD",
          "pBUU",
          "r'$\\chi \\text{BUU}$'"
         ],
         "xaxis": "x5",
         "y": [
          0,
          0,
          0,
          0.16228499999999998,
          0.13985,
          0.196993,
          0
         ],
         "yaxis": "y5"
        },
        {
         "marker": {
          "color": "lightblue",
          "line": {
           "color": "lightgray"
          }
         },
         "name": "Soft",
         "showlegend": false,
         "type": "scatter",
         "x": [
          "AMD+JAM",
          "IQMD-BNU",
          "SMASH",
          "TuQMD",
          "UrQMD",
          "pBUU",
          "r'$\\chi \\text{BUU}$'"
         ],
         "xaxis": "x6",
         "y": [
          0.11599999999999999,
          0.174835,
          0.190153,
          0.17600000000000002,
          0.14400000000000002,
          0.21334699999999998,
          0.134
         ],
         "yaxis": "y6"
        },
        {
         "marker": {
          "color": "lightpink",
          "line": {
           "color": "lightgray"
          }
         },
         "name": "Stiff",
         "showlegend": false,
         "type": "scatter",
         "x": [
          "AMD+JAM",
          "IQMD-BNU",
          "SMASH",
          "TuQMD",
          "UrQMD",
          "pBUU",
          "r'$\\chi \\text{BUU}$'"
         ],
         "xaxis": "x4",
         "y": [
          0.0986,
          0.153115,
          0.163444,
          0.145,
          0.133,
          0.184616,
          0.11699999999999999
         ],
         "yaxis": "y4"
        },
        {
         "marker": {
          "color": "lightpink",
          "line": {
           "color": "lightgray"
          }
         },
         "name": "Stiff",
         "showlegend": false,
         "type": "scatter",
         "x": [
          "AMD+JAM",
          "IQMD-BNU",
          "SMASH",
          "TuQMD",
          "UrQMD",
          "pBUU",
          "r'$\\chi \\text{BUU}$'"
         ],
         "xaxis": "x5",
         "y": [
          0,
          0,
          0,
          0.163794,
          0.1394,
          0.200215,
          0
         ],
         "yaxis": "y5"
        },
        {
         "marker": {
          "color": "lightpink",
          "line": {
           "color": "lightgray"
          }
         },
         "name": "Stiff",
         "showlegend": false,
         "type": "scatter",
         "x": [
          "AMD+JAM",
          "IQMD-BNU",
          "SMASH",
          "TuQMD",
          "UrQMD",
          "pBUU",
          "r'$\\chi \\text{BUU}$'"
         ],
         "xaxis": "x6",
         "y": [
          0.11599999999999999,
          0.166865,
          0.188112,
          0.18100000000000002,
          0.147,
          0.214346,
          0.14
         ],
         "yaxis": "y6"
        },
        {
         "marker": {
          "color": "lightblue",
          "line": {
           "color": "lightgray"
          }
         },
         "name": "Soft",
         "showlegend": false,
         "type": "scatter",
         "x": [
          "AMD+JAM",
          "IQMD-BNU",
          "SMASH",
          "TuQMD",
          "UrQMD",
          "pBUU",
          "r'$\\chi \\text{BUU}$'"
         ],
         "xaxis": "x7",
         "y": [
          3.466257668711656,
          3.6714096961073284,
          2.791624672745597,
          5.372413793103449,
          3.7131782945736433,
          3.8573449918751312,
          4.669724770642202
         ],
         "yaxis": "y7"
        },
        {
         "marker": {
          "color": "lightblue",
          "line": {
           "color": "lightgray"
          }
         },
         "name": "Soft",
         "showlegend": false,
         "type": "scatter",
         "x": [
          "AMD+JAM",
          "IQMD-BNU",
          "SMASH",
          "TuQMD",
          "UrQMD",
          "pBUU",
          "r'$\\chi \\text{BUU}$'"
         ],
         "xaxis": "x8",
         "y": [
          null,
          null,
          null,
          3.570976984933913,
          2.5119771183410795,
          2.646363068738483,
          null
         ],
         "yaxis": "y8"
        },
        {
         "marker": {
          "color": "lightblue",
          "line": {
           "color": "lightgray"
          }
         },
         "name": "Soft",
         "showlegend": false,
         "type": "scatter",
         "x": [
          "AMD+JAM",
          "IQMD-BNU",
          "SMASH",
          "TuQMD",
          "UrQMD",
          "pBUU",
          "r'$\\chi \\text{BUU}$'"
         ],
         "xaxis": "x9",
         "y": [
          1.7241379310344829,
          1.822861555180599,
          1.5116879565402597,
          2.5113636363636362,
          2.0277777777777772,
          1.8783812287025363,
          2.007462686567164
         ],
         "yaxis": "y9"
        },
        {
         "marker": {
          "color": "lightpink",
          "line": {
           "color": "lightgray"
          }
         },
         "name": "Stiff",
         "showlegend": false,
         "type": "scatter",
         "x": [
          "AMD+JAM",
          "IQMD-BNU",
          "SMASH",
          "TuQMD",
          "UrQMD",
          "pBUU",
          "r'$\\chi \\text{BUU}$'"
         ],
         "xaxis": "x7",
         "y": [
          3.1541582150101424,
          2.9508539333180943,
          2.932123540784611,
          5.786206896551725,
          3.3759398496240602,
          3.5131407895307016,
          4.128205128205129
         ],
         "yaxis": "y7"
        },
        {
         "marker": {
          "color": "lightpink",
          "line": {
           "color": "lightgray"
          }
         },
         "name": "Stiff",
         "showlegend": false,
         "type": "scatter",
         "x": [
          "AMD+JAM",
          "IQMD-BNU",
          "SMASH",
          "TuQMD",
          "UrQMD",
          "pBUU",
          "r'$\\chi \\text{BUU}$'"
         ],
         "xaxis": "x8",
         "y": [
          null,
          null,
          null,
          3.824022857980146,
          2.4763988522238165,
          2.485033588891941,
          null
         ],
         "yaxis": "y8"
        },
        {
         "marker": {
          "color": "lightpink",
          "line": {
           "color": "lightgray"
          }
         },
         "name": "Stiff",
         "showlegend": false,
         "type": "scatter",
         "x": [
          "AMD+JAM",
          "IQMD-BNU",
          "SMASH",
          "TuQMD",
          "UrQMD",
          "pBUU",
          "r'$\\chi \\text{BUU}$'"
         ],
         "xaxis": "x9",
         "y": [
          1.6551724137931036,
          1.6654181523986453,
          1.5497522752402824,
          2.61878453038674,
          1.8639455782312924,
          1.8304097114011924,
          1.9357142857142857
         ],
         "yaxis": "y9"
        }
       ],
       "layout": {
        "shapes": [
         {
          "fillcolor": "blue",
          "opacity": 0.3,
          "type": "rect",
          "x0": -0.5,
          "x1": 6.5,
          "xref": "x",
          "y0": 0.6928,
          "y1": 0.7412,
          "yref": "y"
         },
         {
          "fillcolor": "blue",
          "opacity": 0.3,
          "type": "rect",
          "x0": -0.5,
          "x1": 6.5,
          "xref": "x2",
          "y0": 0.4917,
          "y1": 0.5523,
          "yref": "y2"
         },
         {
          "fillcolor": "blue",
          "opacity": 0.3,
          "type": "rect",
          "x0": -0.5,
          "x1": 6.5,
          "xref": "x3",
          "y0": 0.38480000000000003,
          "y1": 0.4132,
          "yref": "y3"
         },
         {
          "fillcolor": "blue",
          "opacity": 0.3,
          "type": "rect",
          "x0": -0.5,
          "x1": 6.5,
          "xref": "x4",
          "y0": 0.14246999999999999,
          "y1": 0.15353,
          "yref": "y4"
         },
         {
          "fillcolor": "blue",
          "opacity": 0.3,
          "type": "rect",
          "x0": -0.5,
          "x1": 6.5,
          "xref": "x5",
          "y0": 0.1572,
          "y1": 0.18280000000000002,
          "yref": "y5"
         },
         {
          "fillcolor": "blue",
          "opacity": 0.3,
          "type": "rect",
          "x0": -0.5,
          "x1": 6.5,
          "xref": "x6",
          "y0": 0.19140000000000001,
          "y1": 0.2086,
          "yref": "y6"
         },
         {
          "fillcolor": "blue",
          "opacity": 0.3,
          "type": "rect",
          "x0": -0.5,
          "x1": 6.5,
          "xref": "x7",
          "y0": 4.724594594594595,
          "y1": 4.964594594594595,
          "yref": "y7"
         },
         {
          "fillcolor": "blue",
          "opacity": 0.3,
          "type": "rect",
          "x0": -0.5,
          "x1": 6.5,
          "xref": "x8",
          "y0": 2.830588235294117,
          "y1": 3.3105882352941176,
          "yref": "y8"
         },
         {
          "fillcolor": "blue",
          "opacity": 0.3,
          "type": "rect",
          "x0": -0.5,
          "x1": 6.5,
          "xref": "x9",
          "y0": 1.9455,
          "y1": 2.0445,
          "yref": "y9"
         },
         {
          "line": {
           "width": 3
          },
          "type": "line",
          "x0": -0.5,
          "x1": 6.5,
          "xref": "x",
          "y0": 0.717,
          "y1": 0.717,
          "yref": "y"
         },
         {
          "line": {
           "width": 3
          },
          "type": "line",
          "x0": -0.5,
          "x1": 6.5,
          "xref": "x2",
          "y0": 0.522,
          "y1": 0.522,
          "yref": "y2"
         },
         {
          "line": {
           "width": 3
          },
          "type": "line",
          "x0": -0.5,
          "x1": 6.5,
          "xref": "x3",
          "y0": 0.399,
          "y1": 0.399,
          "yref": "y3"
         },
         {
          "line": {
           "width": 3
          },
          "type": "line",
          "x0": -0.5,
          "x1": 6.5,
          "xref": "x4",
          "y0": 0.148,
          "y1": 0.148,
          "yref": "y4"
         },
         {
          "line": {
           "width": 3
          },
          "type": "line",
          "x0": -0.5,
          "x1": 6.5,
          "xref": "x5",
          "y0": 0.17,
          "y1": 0.17,
          "yref": "y5"
         },
         {
          "line": {
           "width": 3
          },
          "type": "line",
          "x0": -0.5,
          "x1": 6.5,
          "xref": "x6",
          "y0": 0.2,
          "y1": 0.2,
          "yref": "y6"
         },
         {
          "line": {
           "width": 3
          },
          "type": "line",
          "x0": -0.5,
          "x1": 6.5,
          "xref": "x7",
          "y0": 4.844594594594595,
          "y1": 4.844594594594595,
          "yref": "y7"
         },
         {
          "line": {
           "width": 3
          },
          "type": "line",
          "x0": -0.5,
          "x1": 6.5,
          "xref": "x8",
          "y0": 3.0705882352941174,
          "y1": 3.0705882352941174,
          "yref": "y8"
         },
         {
          "line": {
           "width": 3
          },
          "type": "line",
          "x0": -0.5,
          "x1": 6.5,
          "xref": "x9",
          "y0": 1.995,
          "y1": 1.995,
          "yref": "y9"
         }
        ],
        "template": {
         "data": {
          "bar": [
           {
            "error_x": {
             "color": "#2a3f5f"
            },
            "error_y": {
             "color": "#2a3f5f"
            },
            "marker": {
             "line": {
              "color": "#E5ECF6",
              "width": 0.5
             }
            },
            "type": "bar"
           }
          ],
          "barpolar": [
           {
            "marker": {
             "line": {
              "color": "#E5ECF6",
              "width": 0.5
             }
            },
            "type": "barpolar"
           }
          ],
          "carpet": [
           {
            "aaxis": {
             "endlinecolor": "#2a3f5f",
             "gridcolor": "white",
             "linecolor": "white",
             "minorgridcolor": "white",
             "startlinecolor": "#2a3f5f"
            },
            "baxis": {
             "endlinecolor": "#2a3f5f",
             "gridcolor": "white",
             "linecolor": "white",
             "minorgridcolor": "white",
             "startlinecolor": "#2a3f5f"
            },
            "type": "carpet"
           }
          ],
          "choropleth": [
           {
            "colorbar": {
             "outlinewidth": 0,
             "ticks": ""
            },
            "type": "choropleth"
           }
          ],
          "contour": [
           {
            "colorbar": {
             "outlinewidth": 0,
             "ticks": ""
            },
            "colorscale": [
             [
              0,
              "#0d0887"
             ],
             [
              0.1111111111111111,
              "#46039f"
             ],
             [
              0.2222222222222222,
              "#7201a8"
             ],
             [
              0.3333333333333333,
              "#9c179e"
             ],
             [
              0.4444444444444444,
              "#bd3786"
             ],
             [
              0.5555555555555556,
              "#d8576b"
             ],
             [
              0.6666666666666666,
              "#ed7953"
             ],
             [
              0.7777777777777778,
              "#fb9f3a"
             ],
             [
              0.8888888888888888,
              "#fdca26"
             ],
             [
              1,
              "#f0f921"
             ]
            ],
            "type": "contour"
           }
          ],
          "contourcarpet": [
           {
            "colorbar": {
             "outlinewidth": 0,
             "ticks": ""
            },
            "type": "contourcarpet"
           }
          ],
          "heatmap": [
           {
            "colorbar": {
             "outlinewidth": 0,
             "ticks": ""
            },
            "colorscale": [
             [
              0,
              "#0d0887"
             ],
             [
              0.1111111111111111,
              "#46039f"
             ],
             [
              0.2222222222222222,
              "#7201a8"
             ],
             [
              0.3333333333333333,
              "#9c179e"
             ],
             [
              0.4444444444444444,
              "#bd3786"
             ],
             [
              0.5555555555555556,
              "#d8576b"
             ],
             [
              0.6666666666666666,
              "#ed7953"
             ],
             [
              0.7777777777777778,
              "#fb9f3a"
             ],
             [
              0.8888888888888888,
              "#fdca26"
             ],
             [
              1,
              "#f0f921"
             ]
            ],
            "type": "heatmap"
           }
          ],
          "heatmapgl": [
           {
            "colorbar": {
             "outlinewidth": 0,
             "ticks": ""
            },
            "colorscale": [
             [
              0,
              "#0d0887"
             ],
             [
              0.1111111111111111,
              "#46039f"
             ],
             [
              0.2222222222222222,
              "#7201a8"
             ],
             [
              0.3333333333333333,
              "#9c179e"
             ],
             [
              0.4444444444444444,
              "#bd3786"
             ],
             [
              0.5555555555555556,
              "#d8576b"
             ],
             [
              0.6666666666666666,
              "#ed7953"
             ],
             [
              0.7777777777777778,
              "#fb9f3a"
             ],
             [
              0.8888888888888888,
              "#fdca26"
             ],
             [
              1,
              "#f0f921"
             ]
            ],
            "type": "heatmapgl"
           }
          ],
          "histogram": [
           {
            "marker": {
             "colorbar": {
              "outlinewidth": 0,
              "ticks": ""
             }
            },
            "type": "histogram"
           }
          ],
          "histogram2d": [
           {
            "colorbar": {
             "outlinewidth": 0,
             "ticks": ""
            },
            "colorscale": [
             [
              0,
              "#0d0887"
             ],
             [
              0.1111111111111111,
              "#46039f"
             ],
             [
              0.2222222222222222,
              "#7201a8"
             ],
             [
              0.3333333333333333,
              "#9c179e"
             ],
             [
              0.4444444444444444,
              "#bd3786"
             ],
             [
              0.5555555555555556,
              "#d8576b"
             ],
             [
              0.6666666666666666,
              "#ed7953"
             ],
             [
              0.7777777777777778,
              "#fb9f3a"
             ],
             [
              0.8888888888888888,
              "#fdca26"
             ],
             [
              1,
              "#f0f921"
             ]
            ],
            "type": "histogram2d"
           }
          ],
          "histogram2dcontour": [
           {
            "colorbar": {
             "outlinewidth": 0,
             "ticks": ""
            },
            "colorscale": [
             [
              0,
              "#0d0887"
             ],
             [
              0.1111111111111111,
              "#46039f"
             ],
             [
              0.2222222222222222,
              "#7201a8"
             ],
             [
              0.3333333333333333,
              "#9c179e"
             ],
             [
              0.4444444444444444,
              "#bd3786"
             ],
             [
              0.5555555555555556,
              "#d8576b"
             ],
             [
              0.6666666666666666,
              "#ed7953"
             ],
             [
              0.7777777777777778,
              "#fb9f3a"
             ],
             [
              0.8888888888888888,
              "#fdca26"
             ],
             [
              1,
              "#f0f921"
             ]
            ],
            "type": "histogram2dcontour"
           }
          ],
          "mesh3d": [
           {
            "colorbar": {
             "outlinewidth": 0,
             "ticks": ""
            },
            "type": "mesh3d"
           }
          ],
          "parcoords": [
           {
            "line": {
             "colorbar": {
              "outlinewidth": 0,
              "ticks": ""
             }
            },
            "type": "parcoords"
           }
          ],
          "pie": [
           {
            "automargin": true,
            "type": "pie"
           }
          ],
          "scatter": [
           {
            "marker": {
             "colorbar": {
              "outlinewidth": 0,
              "ticks": ""
             }
            },
            "type": "scatter"
           }
          ],
          "scatter3d": [
           {
            "line": {
             "colorbar": {
              "outlinewidth": 0,
              "ticks": ""
             }
            },
            "marker": {
             "colorbar": {
              "outlinewidth": 0,
              "ticks": ""
             }
            },
            "type": "scatter3d"
           }
          ],
          "scattercarpet": [
           {
            "marker": {
             "colorbar": {
              "outlinewidth": 0,
              "ticks": ""
             }
            },
            "type": "scattercarpet"
           }
          ],
          "scattergeo": [
           {
            "marker": {
             "colorbar": {
              "outlinewidth": 0,
              "ticks": ""
             }
            },
            "type": "scattergeo"
           }
          ],
          "scattergl": [
           {
            "marker": {
             "colorbar": {
              "outlinewidth": 0,
              "ticks": ""
             }
            },
            "type": "scattergl"
           }
          ],
          "scattermapbox": [
           {
            "marker": {
             "colorbar": {
              "outlinewidth": 0,
              "ticks": ""
             }
            },
            "type": "scattermapbox"
           }
          ],
          "scatterpolar": [
           {
            "marker": {
             "colorbar": {
              "outlinewidth": 0,
              "ticks": ""
             }
            },
            "type": "scatterpolar"
           }
          ],
          "scatterpolargl": [
           {
            "marker": {
             "colorbar": {
              "outlinewidth": 0,
              "ticks": ""
             }
            },
            "type": "scatterpolargl"
           }
          ],
          "scatterternary": [
           {
            "marker": {
             "colorbar": {
              "outlinewidth": 0,
              "ticks": ""
             }
            },
            "type": "scatterternary"
           }
          ],
          "surface": [
           {
            "colorbar": {
             "outlinewidth": 0,
             "ticks": ""
            },
            "colorscale": [
             [
              0,
              "#0d0887"
             ],
             [
              0.1111111111111111,
              "#46039f"
             ],
             [
              0.2222222222222222,
              "#7201a8"
             ],
             [
              0.3333333333333333,
              "#9c179e"
             ],
             [
              0.4444444444444444,
              "#bd3786"
             ],
             [
              0.5555555555555556,
              "#d8576b"
             ],
             [
              0.6666666666666666,
              "#ed7953"
             ],
             [
              0.7777777777777778,
              "#fb9f3a"
             ],
             [
              0.8888888888888888,
              "#fdca26"
             ],
             [
              1,
              "#f0f921"
             ]
            ],
            "type": "surface"
           }
          ],
          "table": [
           {
            "cells": {
             "fill": {
              "color": "#EBF0F8"
             },
             "line": {
              "color": "white"
             }
            },
            "header": {
             "fill": {
              "color": "#C8D4E3"
             },
             "line": {
              "color": "white"
             }
            },
            "type": "table"
           }
          ]
         },
         "layout": {
          "annotationdefaults": {
           "arrowcolor": "#2a3f5f",
           "arrowhead": 0,
           "arrowwidth": 1
          },
          "coloraxis": {
           "colorbar": {
            "outlinewidth": 0,
            "ticks": ""
           }
          },
          "colorscale": {
           "diverging": [
            [
             0,
             "#8e0152"
            ],
            [
             0.1,
             "#c51b7d"
            ],
            [
             0.2,
             "#de77ae"
            ],
            [
             0.3,
             "#f1b6da"
            ],
            [
             0.4,
             "#fde0ef"
            ],
            [
             0.5,
             "#f7f7f7"
            ],
            [
             0.6,
             "#e6f5d0"
            ],
            [
             0.7,
             "#b8e186"
            ],
            [
             0.8,
             "#7fbc41"
            ],
            [
             0.9,
             "#4d9221"
            ],
            [
             1,
             "#276419"
            ]
           ],
           "sequential": [
            [
             0,
             "#0d0887"
            ],
            [
             0.1111111111111111,
             "#46039f"
            ],
            [
             0.2222222222222222,
             "#7201a8"
            ],
            [
             0.3333333333333333,
             "#9c179e"
            ],
            [
             0.4444444444444444,
             "#bd3786"
            ],
            [
             0.5555555555555556,
             "#d8576b"
            ],
            [
             0.6666666666666666,
             "#ed7953"
            ],
            [
             0.7777777777777778,
             "#fb9f3a"
            ],
            [
             0.8888888888888888,
             "#fdca26"
            ],
            [
             1,
             "#f0f921"
            ]
           ],
           "sequentialminus": [
            [
             0,
             "#0d0887"
            ],
            [
             0.1111111111111111,
             "#46039f"
            ],
            [
             0.2222222222222222,
             "#7201a8"
            ],
            [
             0.3333333333333333,
             "#9c179e"
            ],
            [
             0.4444444444444444,
             "#bd3786"
            ],
            [
             0.5555555555555556,
             "#d8576b"
            ],
            [
             0.6666666666666666,
             "#ed7953"
            ],
            [
             0.7777777777777778,
             "#fb9f3a"
            ],
            [
             0.8888888888888888,
             "#fdca26"
            ],
            [
             1,
             "#f0f921"
            ]
           ]
          },
          "colorway": [
           "#636efa",
           "#EF553B",
           "#00cc96",
           "#ab63fa",
           "#FFA15A",
           "#19d3f3",
           "#FF6692",
           "#B6E880",
           "#FF97FF",
           "#FECB52"
          ],
          "font": {
           "color": "#2a3f5f"
          },
          "geo": {
           "bgcolor": "white",
           "lakecolor": "white",
           "landcolor": "#E5ECF6",
           "showlakes": true,
           "showland": true,
           "subunitcolor": "white"
          },
          "hoverlabel": {
           "align": "left"
          },
          "hovermode": "closest",
          "mapbox": {
           "style": "light"
          },
          "paper_bgcolor": "white",
          "plot_bgcolor": "#E5ECF6",
          "polar": {
           "angularaxis": {
            "gridcolor": "white",
            "linecolor": "white",
            "ticks": ""
           },
           "bgcolor": "#E5ECF6",
           "radialaxis": {
            "gridcolor": "white",
            "linecolor": "white",
            "ticks": ""
           }
          },
          "scene": {
           "xaxis": {
            "backgroundcolor": "#E5ECF6",
            "gridcolor": "white",
            "gridwidth": 2,
            "linecolor": "white",
            "showbackground": true,
            "ticks": "",
            "zerolinecolor": "white"
           },
           "yaxis": {
            "backgroundcolor": "#E5ECF6",
            "gridcolor": "white",
            "gridwidth": 2,
            "linecolor": "white",
            "showbackground": true,
            "ticks": "",
            "zerolinecolor": "white"
           },
           "zaxis": {
            "backgroundcolor": "#E5ECF6",
            "gridcolor": "white",
            "gridwidth": 2,
            "linecolor": "white",
            "showbackground": true,
            "ticks": "",
            "zerolinecolor": "white"
           }
          },
          "shapedefaults": {
           "line": {
            "color": "#2a3f5f"
           }
          },
          "ternary": {
           "aaxis": {
            "gridcolor": "white",
            "linecolor": "white",
            "ticks": ""
           },
           "baxis": {
            "gridcolor": "white",
            "linecolor": "white",
            "ticks": ""
           },
           "bgcolor": "#E5ECF6",
           "caxis": {
            "gridcolor": "white",
            "linecolor": "white",
            "ticks": ""
           }
          },
          "title": {
           "x": 0.05
          },
          "xaxis": {
           "automargin": true,
           "gridcolor": "white",
           "linecolor": "white",
           "ticks": "",
           "title": {
            "standoff": 15
           },
           "zerolinecolor": "white",
           "zerolinewidth": 2
          },
          "yaxis": {
           "automargin": true,
           "gridcolor": "white",
           "linecolor": "white",
           "ticks": "",
           "title": {
            "standoff": 15
           },
           "zerolinecolor": "white",
           "zerolinewidth": 2
          }
         }
        },
        "xaxis": {
         "anchor": "y",
         "domain": [
          0,
          0.3066666666666667
         ],
         "matches": "x7",
         "showticklabels": false
        },
        "xaxis2": {
         "anchor": "y2",
         "domain": [
          0.3466666666666667,
          0.6533333333333333
         ],
         "matches": "x8",
         "showticklabels": false
        },
        "xaxis3": {
         "anchor": "y3",
         "domain": [
          0.6933333333333334,
          1
         ],
         "matches": "x9",
         "showticklabels": false
        },
        "xaxis4": {
         "anchor": "y4",
         "domain": [
          0,
          0.3066666666666667
         ],
         "matches": "x7",
         "showticklabels": false
        },
        "xaxis5": {
         "anchor": "y5",
         "domain": [
          0.3466666666666667,
          0.6533333333333333
         ],
         "matches": "x8",
         "showticklabels": false
        },
        "xaxis6": {
         "anchor": "y6",
         "domain": [
          0.6933333333333334,
          1
         ],
         "matches": "x9",
         "showticklabels": false
        },
        "xaxis7": {
         "anchor": "y7",
         "domain": [
          0,
          0.3066666666666667
         ]
        },
        "xaxis8": {
         "anchor": "y8",
         "domain": [
          0.3466666666666667,
          0.6533333333333333
         ]
        },
        "xaxis9": {
         "anchor": "y9",
         "domain": [
          0.6933333333333334,
          1
         ]
        },
        "yaxis": {
         "anchor": "x",
         "domain": [
          0.6733333333333333,
          1
         ]
        },
        "yaxis2": {
         "anchor": "x2",
         "domain": [
          0.6733333333333333,
          1
         ],
         "matches": "y",
         "showticklabels": false
        },
        "yaxis3": {
         "anchor": "x3",
         "domain": [
          0.6733333333333333,
          1
         ],
         "matches": "y",
         "showticklabels": false
        },
        "yaxis4": {
         "anchor": "x4",
         "domain": [
          0.33666666666666667,
          0.6633333333333333
         ]
        },
        "yaxis5": {
         "anchor": "x5",
         "domain": [
          0.33666666666666667,
          0.6633333333333333
         ],
         "matches": "y4",
         "showticklabels": false
        },
        "yaxis6": {
         "anchor": "x6",
         "domain": [
          0.33666666666666667,
          0.6633333333333333
         ],
         "matches": "y4",
         "showticklabels": false
        },
        "yaxis7": {
         "anchor": "x7",
         "domain": [
          0,
          0.32666666666666666
         ]
        },
        "yaxis8": {
         "anchor": "x8",
         "domain": [
          0,
          0.32666666666666666
         ],
         "matches": "y7",
         "showticklabels": false
        },
        "yaxis9": {
         "anchor": "x9",
         "domain": [
          0,
          0.32666666666666666
         ],
         "matches": "y7",
         "showticklabels": false
        }
       }
      },
      "text/html": [
       "<div>\n",
       "        \n",
       "        \n",
       "            <div id=\"f85dc178-4817-464a-95d6-787f3ae24bc8\" class=\"plotly-graph-div\" style=\"height:525px; width:100%;\"></div>\n",
       "            <script type=\"text/javascript\">\n",
       "                require([\"plotly\"], function(Plotly) {\n",
       "                    window.PLOTLYENV=window.PLOTLYENV || {};\n",
       "                    \n",
       "                if (document.getElementById(\"f85dc178-4817-464a-95d6-787f3ae24bc8\")) {\n",
       "                    Plotly.newPlot(\n",
       "                        'f85dc178-4817-464a-95d6-787f3ae24bc8',\n",
       "                        [{\"marker\": {\"color\": \"lightblue\", \"line\": {\"color\": \"lightgray\"}}, \"name\": \"Soft\", \"type\": \"scatter\", \"x\": [\"AMD+JAM\", \"IQMD-BNU\", \"SMASH\", \"TuQMD\", \"UrQMD\", \"pBUU\", \"r'$\\\\chi \\\\text{BUU}$'\"], \"xaxis\": \"x\", \"y\": [0.33899999999999997, 0.541845, 0.46810799999999997, 0.779, 0.479, 0.697894, 0.509], \"yaxis\": \"y\"}, {\"marker\": {\"color\": \"lightblue\", \"line\": {\"color\": \"lightgray\"}}, \"name\": \"Soft\", \"showlegend\": false, \"type\": \"scatter\", \"x\": [\"AMD+JAM\", \"IQMD-BNU\", \"SMASH\", \"TuQMD\", \"UrQMD\", \"pBUU\", \"r'$\\\\chi \\\\text{BUU}$'\"], \"xaxis\": \"x2\", \"y\": [0.0, 0.0, 0.0, 0.579516, 0.3513, 0.521315, 0.0], \"yaxis\": \"y2\"}, {\"marker\": {\"color\": \"lightblue\", \"line\": {\"color\": \"lightgray\"}}, \"name\": \"Soft\", \"showlegend\": false, \"type\": \"scatter\", \"x\": [\"AMD+JAM\", \"IQMD-BNU\", \"SMASH\", \"TuQMD\", \"UrQMD\", \"pBUU\", \"r'$\\\\chi \\\\text{BUU}$'\"], \"xaxis\": \"x3\", \"y\": [0.2, 0.3187, 0.287452, 0.442, 0.292, 0.40074699999999996, 0.26899999999999996], \"yaxis\": \"y3\"}, {\"marker\": {\"color\": \"lightpink\", \"line\": {\"color\": \"lightgray\"}}, \"name\": \"Stiff\", \"type\": \"scatter\", \"x\": [\"AMD+JAM\", \"IQMD-BNU\", \"SMASH\", \"TuQMD\", \"UrQMD\", \"pBUU\", \"r'$\\\\chi \\\\text{BUU}$'\"], \"xaxis\": \"x\", \"y\": [0.311, 0.45182, 0.479238, 0.8390000000000001, 0.449, 0.648582, 0.483], \"yaxis\": \"y\"}, {\"marker\": {\"color\": \"lightpink\", \"line\": {\"color\": \"lightgray\"}}, \"name\": \"Stiff\", \"showlegend\": false, \"type\": \"scatter\", \"x\": [\"AMD+JAM\", \"IQMD-BNU\", \"SMASH\", \"TuQMD\", \"UrQMD\", \"pBUU\", \"r'$\\\\chi \\\\text{BUU}$'\"], \"xaxis\": \"x2\", \"y\": [0.0, 0.0, 0.0, 0.626352, 0.34521, 0.497541, 0.0], \"yaxis\": \"y2\"}, {\"marker\": {\"color\": \"lightpink\", \"line\": {\"color\": \"lightgray\"}}, \"name\": \"Stiff\", \"showlegend\": false, \"type\": \"scatter\", \"x\": [\"AMD+JAM\", \"IQMD-BNU\", \"SMASH\", \"TuQMD\", \"UrQMD\", \"pBUU\", \"r'$\\\\chi \\\\text{BUU}$'\"], \"xaxis\": \"x3\", \"y\": [0.192, 0.2779, 0.291527, 0.474, 0.27399999999999997, 0.392341, 0.271], \"yaxis\": \"y3\"}, {\"marker\": {\"color\": \"lightblue\", \"line\": {\"color\": \"lightgray\"}}, \"name\": \"Soft\", \"showlegend\": false, \"type\": \"scatter\", \"x\": [\"AMD+JAM\", \"IQMD-BNU\", \"SMASH\", \"TuQMD\", \"UrQMD\", \"pBUU\", \"r'$\\\\chi \\\\text{BUU}$'\"], \"xaxis\": \"x4\", \"y\": [0.0978, 0.147585, 0.167683, 0.145, 0.129, 0.180926, 0.109], \"yaxis\": \"y4\"}, {\"marker\": {\"color\": \"lightblue\", \"line\": {\"color\": \"lightgray\"}}, \"name\": \"Soft\", \"showlegend\": false, \"type\": \"scatter\", \"x\": [\"AMD+JAM\", \"IQMD-BNU\", \"SMASH\", \"TuQMD\", \"UrQMD\", \"pBUU\", \"r'$\\\\chi \\\\text{BUU}$'\"], \"xaxis\": \"x5\", \"y\": [0.0, 0.0, 0.0, 0.16228499999999998, 0.13985, 0.196993, 0.0], \"yaxis\": \"y5\"}, {\"marker\": {\"color\": \"lightblue\", \"line\": {\"color\": \"lightgray\"}}, \"name\": \"Soft\", \"showlegend\": false, \"type\": \"scatter\", \"x\": [\"AMD+JAM\", \"IQMD-BNU\", \"SMASH\", \"TuQMD\", \"UrQMD\", \"pBUU\", \"r'$\\\\chi \\\\text{BUU}$'\"], \"xaxis\": \"x6\", \"y\": [0.11599999999999999, 0.174835, 0.190153, 0.17600000000000002, 0.14400000000000002, 0.21334699999999998, 0.134], \"yaxis\": \"y6\"}, {\"marker\": {\"color\": \"lightpink\", \"line\": {\"color\": \"lightgray\"}}, \"name\": \"Stiff\", \"showlegend\": false, \"type\": \"scatter\", \"x\": [\"AMD+JAM\", \"IQMD-BNU\", \"SMASH\", \"TuQMD\", \"UrQMD\", \"pBUU\", \"r'$\\\\chi \\\\text{BUU}$'\"], \"xaxis\": \"x4\", \"y\": [0.0986, 0.153115, 0.163444, 0.145, 0.133, 0.184616, 0.11699999999999999], \"yaxis\": \"y4\"}, {\"marker\": {\"color\": \"lightpink\", \"line\": {\"color\": \"lightgray\"}}, \"name\": \"Stiff\", \"showlegend\": false, \"type\": \"scatter\", \"x\": [\"AMD+JAM\", \"IQMD-BNU\", \"SMASH\", \"TuQMD\", \"UrQMD\", \"pBUU\", \"r'$\\\\chi \\\\text{BUU}$'\"], \"xaxis\": \"x5\", \"y\": [0.0, 0.0, 0.0, 0.163794, 0.1394, 0.200215, 0.0], \"yaxis\": \"y5\"}, {\"marker\": {\"color\": \"lightpink\", \"line\": {\"color\": \"lightgray\"}}, \"name\": \"Stiff\", \"showlegend\": false, \"type\": \"scatter\", \"x\": [\"AMD+JAM\", \"IQMD-BNU\", \"SMASH\", \"TuQMD\", \"UrQMD\", \"pBUU\", \"r'$\\\\chi \\\\text{BUU}$'\"], \"xaxis\": \"x6\", \"y\": [0.11599999999999999, 0.166865, 0.188112, 0.18100000000000002, 0.147, 0.214346, 0.14], \"yaxis\": \"y6\"}, {\"marker\": {\"color\": \"lightblue\", \"line\": {\"color\": \"lightgray\"}}, \"name\": \"Soft\", \"showlegend\": false, \"type\": \"scatter\", \"x\": [\"AMD+JAM\", \"IQMD-BNU\", \"SMASH\", \"TuQMD\", \"UrQMD\", \"pBUU\", \"r'$\\\\chi \\\\text{BUU}$'\"], \"xaxis\": \"x7\", \"y\": [3.466257668711656, 3.6714096961073284, 2.791624672745597, 5.372413793103449, 3.7131782945736433, 3.8573449918751312, 4.669724770642202], \"yaxis\": \"y7\"}, {\"marker\": {\"color\": \"lightblue\", \"line\": {\"color\": \"lightgray\"}}, \"name\": \"Soft\", \"showlegend\": false, \"type\": \"scatter\", \"x\": [\"AMD+JAM\", \"IQMD-BNU\", \"SMASH\", \"TuQMD\", \"UrQMD\", \"pBUU\", \"r'$\\\\chi \\\\text{BUU}$'\"], \"xaxis\": \"x8\", \"y\": [null, null, null, 3.570976984933913, 2.5119771183410795, 2.646363068738483, null], \"yaxis\": \"y8\"}, {\"marker\": {\"color\": \"lightblue\", \"line\": {\"color\": \"lightgray\"}}, \"name\": \"Soft\", \"showlegend\": false, \"type\": \"scatter\", \"x\": [\"AMD+JAM\", \"IQMD-BNU\", \"SMASH\", \"TuQMD\", \"UrQMD\", \"pBUU\", \"r'$\\\\chi \\\\text{BUU}$'\"], \"xaxis\": \"x9\", \"y\": [1.7241379310344829, 1.822861555180599, 1.5116879565402597, 2.5113636363636362, 2.0277777777777772, 1.8783812287025363, 2.007462686567164], \"yaxis\": \"y9\"}, {\"marker\": {\"color\": \"lightpink\", \"line\": {\"color\": \"lightgray\"}}, \"name\": \"Stiff\", \"showlegend\": false, \"type\": \"scatter\", \"x\": [\"AMD+JAM\", \"IQMD-BNU\", \"SMASH\", \"TuQMD\", \"UrQMD\", \"pBUU\", \"r'$\\\\chi \\\\text{BUU}$'\"], \"xaxis\": \"x7\", \"y\": [3.1541582150101424, 2.9508539333180943, 2.932123540784611, 5.786206896551725, 3.3759398496240602, 3.5131407895307016, 4.128205128205129], \"yaxis\": \"y7\"}, {\"marker\": {\"color\": \"lightpink\", \"line\": {\"color\": \"lightgray\"}}, \"name\": \"Stiff\", \"showlegend\": false, \"type\": \"scatter\", \"x\": [\"AMD+JAM\", \"IQMD-BNU\", \"SMASH\", \"TuQMD\", \"UrQMD\", \"pBUU\", \"r'$\\\\chi \\\\text{BUU}$'\"], \"xaxis\": \"x8\", \"y\": [null, null, null, 3.824022857980146, 2.4763988522238165, 2.485033588891941, null], \"yaxis\": \"y8\"}, {\"marker\": {\"color\": \"lightpink\", \"line\": {\"color\": \"lightgray\"}}, \"name\": \"Stiff\", \"showlegend\": false, \"type\": \"scatter\", \"x\": [\"AMD+JAM\", \"IQMD-BNU\", \"SMASH\", \"TuQMD\", \"UrQMD\", \"pBUU\", \"r'$\\\\chi \\\\text{BUU}$'\"], \"xaxis\": \"x9\", \"y\": [1.6551724137931036, 1.6654181523986453, 1.5497522752402824, 2.61878453038674, 1.8639455782312924, 1.8304097114011924, 1.9357142857142857], \"yaxis\": \"y9\"}],\n",
       "                        {\"shapes\": [{\"fillcolor\": \"blue\", \"opacity\": 0.3, \"type\": \"rect\", \"x0\": -0.5, \"x1\": 6.5, \"xref\": \"x\", \"y0\": 0.6928, \"y1\": 0.7412, \"yref\": \"y\"}, {\"fillcolor\": \"blue\", \"opacity\": 0.3, \"type\": \"rect\", \"x0\": -0.5, \"x1\": 6.5, \"xref\": \"x2\", \"y0\": 0.4917, \"y1\": 0.5523, \"yref\": \"y2\"}, {\"fillcolor\": \"blue\", \"opacity\": 0.3, \"type\": \"rect\", \"x0\": -0.5, \"x1\": 6.5, \"xref\": \"x3\", \"y0\": 0.38480000000000003, \"y1\": 0.4132, \"yref\": \"y3\"}, {\"fillcolor\": \"blue\", \"opacity\": 0.3, \"type\": \"rect\", \"x0\": -0.5, \"x1\": 6.5, \"xref\": \"x4\", \"y0\": 0.14246999999999999, \"y1\": 0.15353, \"yref\": \"y4\"}, {\"fillcolor\": \"blue\", \"opacity\": 0.3, \"type\": \"rect\", \"x0\": -0.5, \"x1\": 6.5, \"xref\": \"x5\", \"y0\": 0.1572, \"y1\": 0.18280000000000002, \"yref\": \"y5\"}, {\"fillcolor\": \"blue\", \"opacity\": 0.3, \"type\": \"rect\", \"x0\": -0.5, \"x1\": 6.5, \"xref\": \"x6\", \"y0\": 0.19140000000000001, \"y1\": 0.2086, \"yref\": \"y6\"}, {\"fillcolor\": \"blue\", \"opacity\": 0.3, \"type\": \"rect\", \"x0\": -0.5, \"x1\": 6.5, \"xref\": \"x7\", \"y0\": 4.724594594594595, \"y1\": 4.964594594594595, \"yref\": \"y7\"}, {\"fillcolor\": \"blue\", \"opacity\": 0.3, \"type\": \"rect\", \"x0\": -0.5, \"x1\": 6.5, \"xref\": \"x8\", \"y0\": 2.830588235294117, \"y1\": 3.3105882352941176, \"yref\": \"y8\"}, {\"fillcolor\": \"blue\", \"opacity\": 0.3, \"type\": \"rect\", \"x0\": -0.5, \"x1\": 6.5, \"xref\": \"x9\", \"y0\": 1.9455, \"y1\": 2.0445, \"yref\": \"y9\"}, {\"line\": {\"width\": 3}, \"type\": \"line\", \"x0\": -0.5, \"x1\": 6.5, \"xref\": \"x\", \"y0\": 0.717, \"y1\": 0.717, \"yref\": \"y\"}, {\"line\": {\"width\": 3}, \"type\": \"line\", \"x0\": -0.5, \"x1\": 6.5, \"xref\": \"x2\", \"y0\": 0.522, \"y1\": 0.522, \"yref\": \"y2\"}, {\"line\": {\"width\": 3}, \"type\": \"line\", \"x0\": -0.5, \"x1\": 6.5, \"xref\": \"x3\", \"y0\": 0.399, \"y1\": 0.399, \"yref\": \"y3\"}, {\"line\": {\"width\": 3}, \"type\": \"line\", \"x0\": -0.5, \"x1\": 6.5, \"xref\": \"x4\", \"y0\": 0.148, \"y1\": 0.148, \"yref\": \"y4\"}, {\"line\": {\"width\": 3}, \"type\": \"line\", \"x0\": -0.5, \"x1\": 6.5, \"xref\": \"x5\", \"y0\": 0.17, \"y1\": 0.17, \"yref\": \"y5\"}, {\"line\": {\"width\": 3}, \"type\": \"line\", \"x0\": -0.5, \"x1\": 6.5, \"xref\": \"x6\", \"y0\": 0.2, \"y1\": 0.2, \"yref\": \"y6\"}, {\"line\": {\"width\": 3}, \"type\": \"line\", \"x0\": -0.5, \"x1\": 6.5, \"xref\": \"x7\", \"y0\": 4.844594594594595, \"y1\": 4.844594594594595, \"yref\": \"y7\"}, {\"line\": {\"width\": 3}, \"type\": \"line\", \"x0\": -0.5, \"x1\": 6.5, \"xref\": \"x8\", \"y0\": 3.0705882352941174, \"y1\": 3.0705882352941174, \"yref\": \"y8\"}, {\"line\": {\"width\": 3}, \"type\": \"line\", \"x0\": -0.5, \"x1\": 6.5, \"xref\": \"x9\", \"y0\": 1.995, \"y1\": 1.995, \"yref\": \"y9\"}], \"template\": {\"data\": {\"bar\": [{\"error_x\": {\"color\": \"#2a3f5f\"}, \"error_y\": {\"color\": \"#2a3f5f\"}, \"marker\": {\"line\": {\"color\": \"#E5ECF6\", \"width\": 0.5}}, \"type\": \"bar\"}], \"barpolar\": [{\"marker\": {\"line\": {\"color\": \"#E5ECF6\", \"width\": 0.5}}, \"type\": \"barpolar\"}], \"carpet\": [{\"aaxis\": {\"endlinecolor\": \"#2a3f5f\", \"gridcolor\": \"white\", \"linecolor\": \"white\", \"minorgridcolor\": \"white\", \"startlinecolor\": \"#2a3f5f\"}, \"baxis\": {\"endlinecolor\": \"#2a3f5f\", \"gridcolor\": \"white\", \"linecolor\": \"white\", \"minorgridcolor\": \"white\", \"startlinecolor\": \"#2a3f5f\"}, \"type\": \"carpet\"}], \"choropleth\": [{\"colorbar\": {\"outlinewidth\": 0, \"ticks\": \"\"}, \"type\": \"choropleth\"}], \"contour\": [{\"colorbar\": {\"outlinewidth\": 0, \"ticks\": \"\"}, \"colorscale\": [[0.0, \"#0d0887\"], [0.1111111111111111, \"#46039f\"], [0.2222222222222222, \"#7201a8\"], [0.3333333333333333, \"#9c179e\"], [0.4444444444444444, \"#bd3786\"], [0.5555555555555556, \"#d8576b\"], [0.6666666666666666, \"#ed7953\"], [0.7777777777777778, \"#fb9f3a\"], [0.8888888888888888, \"#fdca26\"], [1.0, \"#f0f921\"]], \"type\": \"contour\"}], \"contourcarpet\": [{\"colorbar\": {\"outlinewidth\": 0, \"ticks\": \"\"}, \"type\": \"contourcarpet\"}], \"heatmap\": [{\"colorbar\": {\"outlinewidth\": 0, \"ticks\": \"\"}, \"colorscale\": [[0.0, \"#0d0887\"], [0.1111111111111111, \"#46039f\"], [0.2222222222222222, \"#7201a8\"], [0.3333333333333333, \"#9c179e\"], [0.4444444444444444, \"#bd3786\"], [0.5555555555555556, \"#d8576b\"], [0.6666666666666666, \"#ed7953\"], [0.7777777777777778, \"#fb9f3a\"], [0.8888888888888888, \"#fdca26\"], [1.0, \"#f0f921\"]], \"type\": \"heatmap\"}], \"heatmapgl\": [{\"colorbar\": {\"outlinewidth\": 0, \"ticks\": \"\"}, \"colorscale\": [[0.0, \"#0d0887\"], [0.1111111111111111, \"#46039f\"], [0.2222222222222222, \"#7201a8\"], [0.3333333333333333, \"#9c179e\"], [0.4444444444444444, \"#bd3786\"], [0.5555555555555556, \"#d8576b\"], [0.6666666666666666, \"#ed7953\"], [0.7777777777777778, \"#fb9f3a\"], [0.8888888888888888, \"#fdca26\"], [1.0, \"#f0f921\"]], \"type\": \"heatmapgl\"}], \"histogram\": [{\"marker\": {\"colorbar\": {\"outlinewidth\": 0, \"ticks\": \"\"}}, \"type\": \"histogram\"}], \"histogram2d\": [{\"colorbar\": {\"outlinewidth\": 0, \"ticks\": \"\"}, \"colorscale\": [[0.0, \"#0d0887\"], [0.1111111111111111, \"#46039f\"], [0.2222222222222222, \"#7201a8\"], [0.3333333333333333, \"#9c179e\"], [0.4444444444444444, \"#bd3786\"], [0.5555555555555556, \"#d8576b\"], [0.6666666666666666, \"#ed7953\"], [0.7777777777777778, \"#fb9f3a\"], [0.8888888888888888, \"#fdca26\"], [1.0, \"#f0f921\"]], \"type\": \"histogram2d\"}], \"histogram2dcontour\": [{\"colorbar\": {\"outlinewidth\": 0, \"ticks\": \"\"}, \"colorscale\": [[0.0, \"#0d0887\"], [0.1111111111111111, \"#46039f\"], [0.2222222222222222, \"#7201a8\"], [0.3333333333333333, \"#9c179e\"], [0.4444444444444444, \"#bd3786\"], [0.5555555555555556, \"#d8576b\"], [0.6666666666666666, \"#ed7953\"], [0.7777777777777778, \"#fb9f3a\"], [0.8888888888888888, \"#fdca26\"], [1.0, \"#f0f921\"]], \"type\": \"histogram2dcontour\"}], \"mesh3d\": [{\"colorbar\": {\"outlinewidth\": 0, \"ticks\": \"\"}, \"type\": \"mesh3d\"}], \"parcoords\": [{\"line\": {\"colorbar\": {\"outlinewidth\": 0, \"ticks\": \"\"}}, \"type\": \"parcoords\"}], \"pie\": [{\"automargin\": true, \"type\": \"pie\"}], \"scatter\": [{\"marker\": {\"colorbar\": {\"outlinewidth\": 0, \"ticks\": \"\"}}, \"type\": \"scatter\"}], \"scatter3d\": [{\"line\": {\"colorbar\": {\"outlinewidth\": 0, \"ticks\": \"\"}}, \"marker\": {\"colorbar\": {\"outlinewidth\": 0, \"ticks\": \"\"}}, \"type\": \"scatter3d\"}], \"scattercarpet\": [{\"marker\": {\"colorbar\": {\"outlinewidth\": 0, \"ticks\": \"\"}}, \"type\": \"scattercarpet\"}], \"scattergeo\": [{\"marker\": {\"colorbar\": {\"outlinewidth\": 0, \"ticks\": \"\"}}, \"type\": \"scattergeo\"}], \"scattergl\": [{\"marker\": {\"colorbar\": {\"outlinewidth\": 0, \"ticks\": \"\"}}, \"type\": \"scattergl\"}], \"scattermapbox\": [{\"marker\": {\"colorbar\": {\"outlinewidth\": 0, \"ticks\": \"\"}}, \"type\": \"scattermapbox\"}], \"scatterpolar\": [{\"marker\": {\"colorbar\": {\"outlinewidth\": 0, \"ticks\": \"\"}}, \"type\": \"scatterpolar\"}], \"scatterpolargl\": [{\"marker\": {\"colorbar\": {\"outlinewidth\": 0, \"ticks\": \"\"}}, \"type\": \"scatterpolargl\"}], \"scatterternary\": [{\"marker\": {\"colorbar\": {\"outlinewidth\": 0, \"ticks\": \"\"}}, \"type\": \"scatterternary\"}], \"surface\": [{\"colorbar\": {\"outlinewidth\": 0, \"ticks\": \"\"}, \"colorscale\": [[0.0, \"#0d0887\"], [0.1111111111111111, \"#46039f\"], [0.2222222222222222, \"#7201a8\"], [0.3333333333333333, \"#9c179e\"], [0.4444444444444444, \"#bd3786\"], [0.5555555555555556, \"#d8576b\"], [0.6666666666666666, \"#ed7953\"], [0.7777777777777778, \"#fb9f3a\"], [0.8888888888888888, \"#fdca26\"], [1.0, \"#f0f921\"]], \"type\": \"surface\"}], \"table\": [{\"cells\": {\"fill\": {\"color\": \"#EBF0F8\"}, \"line\": {\"color\": \"white\"}}, \"header\": {\"fill\": {\"color\": \"#C8D4E3\"}, \"line\": {\"color\": \"white\"}}, \"type\": \"table\"}]}, \"layout\": {\"annotationdefaults\": {\"arrowcolor\": \"#2a3f5f\", \"arrowhead\": 0, \"arrowwidth\": 1}, \"coloraxis\": {\"colorbar\": {\"outlinewidth\": 0, \"ticks\": \"\"}}, \"colorscale\": {\"diverging\": [[0, \"#8e0152\"], [0.1, \"#c51b7d\"], [0.2, \"#de77ae\"], [0.3, \"#f1b6da\"], [0.4, \"#fde0ef\"], [0.5, \"#f7f7f7\"], [0.6, \"#e6f5d0\"], [0.7, \"#b8e186\"], [0.8, \"#7fbc41\"], [0.9, \"#4d9221\"], [1, \"#276419\"]], \"sequential\": [[0.0, \"#0d0887\"], [0.1111111111111111, \"#46039f\"], [0.2222222222222222, \"#7201a8\"], [0.3333333333333333, \"#9c179e\"], [0.4444444444444444, \"#bd3786\"], [0.5555555555555556, \"#d8576b\"], [0.6666666666666666, \"#ed7953\"], [0.7777777777777778, \"#fb9f3a\"], [0.8888888888888888, \"#fdca26\"], [1.0, \"#f0f921\"]], \"sequentialminus\": [[0.0, \"#0d0887\"], [0.1111111111111111, \"#46039f\"], [0.2222222222222222, \"#7201a8\"], [0.3333333333333333, \"#9c179e\"], [0.4444444444444444, \"#bd3786\"], [0.5555555555555556, \"#d8576b\"], [0.6666666666666666, \"#ed7953\"], [0.7777777777777778, \"#fb9f3a\"], [0.8888888888888888, \"#fdca26\"], [1.0, \"#f0f921\"]]}, \"colorway\": [\"#636efa\", \"#EF553B\", \"#00cc96\", \"#ab63fa\", \"#FFA15A\", \"#19d3f3\", \"#FF6692\", \"#B6E880\", \"#FF97FF\", \"#FECB52\"], \"font\": {\"color\": \"#2a3f5f\"}, \"geo\": {\"bgcolor\": \"white\", \"lakecolor\": \"white\", \"landcolor\": \"#E5ECF6\", \"showlakes\": true, \"showland\": true, \"subunitcolor\": \"white\"}, \"hoverlabel\": {\"align\": \"left\"}, \"hovermode\": \"closest\", \"mapbox\": {\"style\": \"light\"}, \"paper_bgcolor\": \"white\", \"plot_bgcolor\": \"#E5ECF6\", \"polar\": {\"angularaxis\": {\"gridcolor\": \"white\", \"linecolor\": \"white\", \"ticks\": \"\"}, \"bgcolor\": \"#E5ECF6\", \"radialaxis\": {\"gridcolor\": \"white\", \"linecolor\": \"white\", \"ticks\": \"\"}}, \"scene\": {\"xaxis\": {\"backgroundcolor\": \"#E5ECF6\", \"gridcolor\": \"white\", \"gridwidth\": 2, \"linecolor\": \"white\", \"showbackground\": true, \"ticks\": \"\", \"zerolinecolor\": \"white\"}, \"yaxis\": {\"backgroundcolor\": \"#E5ECF6\", \"gridcolor\": \"white\", \"gridwidth\": 2, \"linecolor\": \"white\", \"showbackground\": true, \"ticks\": \"\", \"zerolinecolor\": \"white\"}, \"zaxis\": {\"backgroundcolor\": \"#E5ECF6\", \"gridcolor\": \"white\", \"gridwidth\": 2, \"linecolor\": \"white\", \"showbackground\": true, \"ticks\": \"\", \"zerolinecolor\": \"white\"}}, \"shapedefaults\": {\"line\": {\"color\": \"#2a3f5f\"}}, \"ternary\": {\"aaxis\": {\"gridcolor\": \"white\", \"linecolor\": \"white\", \"ticks\": \"\"}, \"baxis\": {\"gridcolor\": \"white\", \"linecolor\": \"white\", \"ticks\": \"\"}, \"bgcolor\": \"#E5ECF6\", \"caxis\": {\"gridcolor\": \"white\", \"linecolor\": \"white\", \"ticks\": \"\"}}, \"title\": {\"x\": 0.05}, \"xaxis\": {\"automargin\": true, \"gridcolor\": \"white\", \"linecolor\": \"white\", \"ticks\": \"\", \"title\": {\"standoff\": 15}, \"zerolinecolor\": \"white\", \"zerolinewidth\": 2}, \"yaxis\": {\"automargin\": true, \"gridcolor\": \"white\", \"linecolor\": \"white\", \"ticks\": \"\", \"title\": {\"standoff\": 15}, \"zerolinecolor\": \"white\", \"zerolinewidth\": 2}}}, \"xaxis\": {\"anchor\": \"y\", \"domain\": [0.0, 0.3066666666666667], \"matches\": \"x7\", \"showticklabels\": false}, \"xaxis2\": {\"anchor\": \"y2\", \"domain\": [0.3466666666666667, 0.6533333333333333], \"matches\": \"x8\", \"showticklabels\": false}, \"xaxis3\": {\"anchor\": \"y3\", \"domain\": [0.6933333333333334, 1.0], \"matches\": \"x9\", \"showticklabels\": false}, \"xaxis4\": {\"anchor\": \"y4\", \"domain\": [0.0, 0.3066666666666667], \"matches\": \"x7\", \"showticklabels\": false}, \"xaxis5\": {\"anchor\": \"y5\", \"domain\": [0.3466666666666667, 0.6533333333333333], \"matches\": \"x8\", \"showticklabels\": false}, \"xaxis6\": {\"anchor\": \"y6\", \"domain\": [0.6933333333333334, 1.0], \"matches\": \"x9\", \"showticklabels\": false}, \"xaxis7\": {\"anchor\": \"y7\", \"domain\": [0.0, 0.3066666666666667]}, \"xaxis8\": {\"anchor\": \"y8\", \"domain\": [0.3466666666666667, 0.6533333333333333]}, \"xaxis9\": {\"anchor\": \"y9\", \"domain\": [0.6933333333333334, 1.0]}, \"yaxis\": {\"anchor\": \"x\", \"domain\": [0.6733333333333333, 1.0]}, \"yaxis2\": {\"anchor\": \"x2\", \"domain\": [0.6733333333333333, 1.0], \"matches\": \"y\", \"showticklabels\": false}, \"yaxis3\": {\"anchor\": \"x3\", \"domain\": [0.6733333333333333, 1.0], \"matches\": \"y\", \"showticklabels\": false}, \"yaxis4\": {\"anchor\": \"x4\", \"domain\": [0.33666666666666667, 0.6633333333333333]}, \"yaxis5\": {\"anchor\": \"x5\", \"domain\": [0.33666666666666667, 0.6633333333333333], \"matches\": \"y4\", \"showticklabels\": false}, \"yaxis6\": {\"anchor\": \"x6\", \"domain\": [0.33666666666666667, 0.6633333333333333], \"matches\": \"y4\", \"showticklabels\": false}, \"yaxis7\": {\"anchor\": \"x7\", \"domain\": [0.0, 0.32666666666666666]}, \"yaxis8\": {\"anchor\": \"x8\", \"domain\": [0.0, 0.32666666666666666], \"matches\": \"y7\", \"showticklabels\": false}, \"yaxis9\": {\"anchor\": \"x9\", \"domain\": [0.0, 0.32666666666666666], \"matches\": \"y7\", \"showticklabels\": false}},\n",
       "                        {\"responsive\": true}\n",
       "                    ).then(function(){\n",
       "                            \n",
       "var gd = document.getElementById('f85dc178-4817-464a-95d6-787f3ae24bc8');\n",
       "var x = new MutationObserver(function (mutations, observer) {{\n",
       "        var display = window.getComputedStyle(gd).display;\n",
       "        if (!display || display === 'none') {{\n",
       "            console.log([gd, 'removed!']);\n",
       "            Plotly.purge(gd);\n",
       "            observer.disconnect();\n",
       "        }}\n",
       "}});\n",
       "\n",
       "// Listen for the removal of the full notebook cells\n",
       "var notebookContainer = gd.closest('#notebook-container');\n",
       "if (notebookContainer) {{\n",
       "    x.observe(notebookContainer, {childList: true});\n",
       "}}\n",
       "\n",
       "// Listen for the clearing of the current output cell\n",
       "var outputEl = gd.closest('.output');\n",
       "if (outputEl) {{\n",
       "    x.observe(outputEl, {childList: true});\n",
       "}}\n",
       "\n",
       "                        })\n",
       "                };\n",
       "                });\n",
       "            </script>\n",
       "        </div>"
      ]
     },
     "metadata": {},
     "output_type": "display_data"
    }
   ],
   "source": [
    "\n",
    "\n",
    "# Add mean line for data measurment\n",
    "\n",
    "pim_132 = .717\n",
    "pip_132 = .148\n",
    "ratio_132 = pim_132/pip_132\n",
    "\n",
    "pim_124 = .522\n",
    "pip_124 = .17\n",
    "ratio_124 = pim_124/pip_124\n",
    "\n",
    "pim_108 = .399\n",
    "pip_108 = .2\n",
    "ratio_108 = pim_108/pip_108\n",
    "\n",
    "#error bars\n",
    "pim_err_132 = .0242\n",
    "pip_err_132 = .00553\n",
    "ratio_err_132 = .12\n",
    "\n",
    "pim_err_124 = .0303\n",
    "pip_err_124 = .0128\n",
    "ratio_err_124 = .24\n",
    "\n",
    "pim_err_108 = .0142\n",
    "pip_err_108 = .0086\n",
    "ratio_err_108 = .0495\n",
    "\n",
    "y0 = -.5\n",
    "y1 = 6.5\n",
    "\n",
    "\n",
    "#rectangle represents error bar\n",
    "fig.add_shape(type=\"rect\", fillcolor='blue', opacity=.3, xref=\"x1\", yref=\"y1\",\n",
    "            y0=pim_132-pim_err_132, x0=y0, y1=pim_132+pim_err_132, x1=y1)\n",
    "\n",
    "fig.add_shape(type=\"rect\", fillcolor='blue', opacity=.3, xref=\"x2\", yref='y2',\n",
    "            y0=pim_124-pim_err_124, x0=y0, y1=pim_124+pim_err_124, x1=y1)\n",
    "\n",
    "fig.add_shape(type=\"rect\", fillcolor='blue', opacity=.3, xref=\"x3\", yref=\"y3\",\n",
    "             y0=pim_108-pim_err_108, x0=y0, y1=pim_108+pim_err_108, x1=y1)\n",
    "        \n",
    "fig.add_shape(type=\"rect\", fillcolor='blue', opacity=.3, xref=\"x4\", yref=\"y4\",\n",
    "            y0=pip_132-pip_err_132, x0=y0, y1=pip_132+pip_err_132, x1=y1)\n",
    "\n",
    "fig.add_shape(type=\"rect\", fillcolor='blue', opacity=.3, xref=\"x5\", yref='y5',\n",
    "             y0=pip_124-pip_err_124, x0=y0, y1=pip_124+pip_err_124, x1=y1)\n",
    "\n",
    "fig.add_shape(type=\"rect\", fillcolor='blue', opacity=.3, xref=\"x6\", yref=\"y6\",\n",
    "             y0=pip_108-pip_err_108, x0=y0, y1=pip_108+pip_err_108, x1=y1)\n",
    "\n",
    "fig.add_shape(type=\"rect\", fillcolor='blue', opacity=.3, xref=\"x7\", yref=\"y7\",\n",
    "            y0=ratio_132-ratio_err_132, x0=y0, y1=ratio_132+ratio_err_132, x1=y1)\n",
    "\n",
    "fig.add_shape(type=\"rect\", fillcolor='blue', opacity=.3, xref=\"x8\", yref='y8',\n",
    "             y0=ratio_124-ratio_err_124, x0=y0, y1=ratio_124+ratio_err_124, x1=y1)\n",
    "\n",
    "fig.add_shape(type=\"rect\", fillcolor='blue', opacity=.3, xref=\"x9\", yref=\"y9\",\n",
    "             y0=ratio_108-ratio_err_108, x0=y0, y1=ratio_108+ratio_err_108, x1=y1)\n",
    "\n",
    "        \n",
    "        #lines represent mean value of measurment\n",
    "fig.add_shape(type=\"line\", xref=\"x1\", yref=\"y1\",\n",
    "            y0=pim_132, x0=y0, y1=pim_132, x1=y1, line_width=3)\n",
    "\n",
    "fig.add_shape(type=\"line\", xref=\"x2\", yref='y2',\n",
    "             y0=pim_124, x0=y0, y1=pim_124, x1=y1, line_width=3)\n",
    "\n",
    "fig.add_shape(type=\"line\", xref=\"x3\", yref=\"y3\",\n",
    "             y0=pim_108, x0=y0, y1=pim_108, x1=y1, line_width=3)\n",
    "\n",
    "fig.add_shape(type=\"line\", xref=\"x4\", yref=\"y4\",\n",
    "            y0=pip_132, x0=y0, y1=pip_132, x1=y1, line_width=3)\n",
    "    \n",
    "fig.add_shape(type=\"line\", xref=\"x5\", yref='y5',\n",
    "             y0=pip_124, x0=y0, y1=pip_124, x1=y1, line_width=3)\n",
    "\n",
    "fig.add_shape(type=\"line\", xref=\"x6\", yref=\"y6\",\n",
    "             y0=pip_108, x0=y0, y1=pip_108, x1=y1, line_width=3)\n",
    "        \n",
    "fig.add_shape(type=\"line\", xref=\"x7\", yref=\"y7\",\n",
    "            y0=ratio_132, x0=y0, y1=ratio_132, x1=y1, line_width=3)\n",
    "\n",
    "fig.add_shape(type=\"line\", xref=\"x8\", yref='y8',\n",
    "             y0=ratio_124, x0=y0, y1=ratio_124, x1=y1, line_width=3)\n",
    "\n",
    "fig.add_shape(type=\"line\", xref=\"x9\", yref=\"y9\",\n",
    "             y0=ratio_108, x0=y0, y1=ratio_108, x1=y1, line_width=3)"
   ]
  },
  {
   "cell_type": "code",
   "execution_count": 186,
   "metadata": {},
   "outputs": [
    {
     "data": {
      "application/vnd.plotly.v1+json": {
       "config": {
        "plotlyServerURL": "https://plot.ly"
       },
       "data": [
        {
         "marker": {
          "color": "lightblue",
          "line": {
           "color": "lightgray",
           "width": 1
          },
          "size": 16,
          "symbol": "circle"
         },
         "mode": "markers",
         "name": "Soft",
         "type": "scatter",
         "x": [
          "AMD+JAM",
          "IQMD-BNU",
          "SMASH",
          "TuQMD",
          "UrQMD",
          "pBUU",
          "r'$\\chi \\text{BUU}$'"
         ],
         "xaxis": "x",
         "y": [
          0.33899999999999997,
          0.541845,
          0.46810799999999997,
          0.779,
          0.479,
          0.697894,
          0.509
         ],
         "yaxis": "y"
        },
        {
         "marker": {
          "color": "lightblue",
          "line": {
           "color": "lightgray",
           "width": 1
          },
          "size": 16,
          "symbol": "circle"
         },
         "mode": "markers",
         "name": "Soft",
         "showlegend": false,
         "type": "scatter",
         "x": [
          "AMD+JAM",
          "IQMD-BNU",
          "SMASH",
          "TuQMD",
          "UrQMD",
          "pBUU",
          "r'$\\chi \\text{BUU}$'"
         ],
         "xaxis": "x2",
         "y": [
          0,
          0,
          0,
          0.579516,
          0.3513,
          0.521315,
          0
         ],
         "yaxis": "y2"
        },
        {
         "marker": {
          "color": "lightblue",
          "line": {
           "color": "lightgray",
           "width": 1
          },
          "size": 16,
          "symbol": "circle"
         },
         "mode": "markers",
         "name": "Soft",
         "showlegend": false,
         "type": "scatter",
         "x": [
          "AMD+JAM",
          "IQMD-BNU",
          "SMASH",
          "TuQMD",
          "UrQMD",
          "pBUU",
          "r'$\\chi \\text{BUU}$'"
         ],
         "xaxis": "x3",
         "y": [
          0.2,
          0.3187,
          0.287452,
          0.442,
          0.292,
          0.40074699999999996,
          0.26899999999999996
         ],
         "yaxis": "y3"
        },
        {
         "marker": {
          "color": "lightpink",
          "line": {
           "color": "lightgray",
           "width": 1
          },
          "size": 16,
          "symbol": "circle"
         },
         "mode": "markers",
         "name": "Stiff",
         "type": "scatter",
         "x": [
          "AMD+JAM",
          "IQMD-BNU",
          "SMASH",
          "TuQMD",
          "UrQMD",
          "pBUU",
          "r'$\\chi \\text{BUU}$'"
         ],
         "xaxis": "x",
         "y": [
          0.311,
          0.45182,
          0.479238,
          0.8390000000000001,
          0.449,
          0.648582,
          0.483
         ],
         "yaxis": "y"
        },
        {
         "marker": {
          "color": "lightpink",
          "line": {
           "color": "lightgray",
           "width": 1
          },
          "size": 16,
          "symbol": "circle"
         },
         "mode": "markers",
         "name": "Stiff",
         "showlegend": false,
         "type": "scatter",
         "x": [
          "AMD+JAM",
          "IQMD-BNU",
          "SMASH",
          "TuQMD",
          "UrQMD",
          "pBUU",
          "r'$\\chi \\text{BUU}$'"
         ],
         "xaxis": "x2",
         "y": [
          0,
          0,
          0,
          0.626352,
          0.34521,
          0.497541,
          0
         ],
         "yaxis": "y2"
        },
        {
         "marker": {
          "color": "lightpink",
          "line": {
           "color": "lightgray",
           "width": 1
          },
          "size": 16,
          "symbol": "circle"
         },
         "mode": "markers",
         "name": "Stiff",
         "showlegend": false,
         "type": "scatter",
         "x": [
          "AMD+JAM",
          "IQMD-BNU",
          "SMASH",
          "TuQMD",
          "UrQMD",
          "pBUU",
          "r'$\\chi \\text{BUU}$'"
         ],
         "xaxis": "x3",
         "y": [
          0.192,
          0.2779,
          0.291527,
          0.474,
          0.27399999999999997,
          0.392341,
          0.271
         ],
         "yaxis": "y3"
        },
        {
         "marker": {
          "color": "lightblue",
          "line": {
           "color": "lightgray",
           "width": 1
          },
          "size": 16,
          "symbol": "circle"
         },
         "mode": "markers",
         "name": "Soft",
         "showlegend": false,
         "type": "scatter",
         "x": [
          "AMD+JAM",
          "IQMD-BNU",
          "SMASH",
          "TuQMD",
          "UrQMD",
          "pBUU",
          "r'$\\chi \\text{BUU}$'"
         ],
         "xaxis": "x4",
         "y": [
          0.0978,
          0.147585,
          0.167683,
          0.145,
          0.129,
          0.180926,
          0.109
         ],
         "yaxis": "y4"
        },
        {
         "marker": {
          "color": "lightblue",
          "line": {
           "color": "lightgray",
           "width": 1
          },
          "size": 16,
          "symbol": "circle"
         },
         "mode": "markers",
         "name": "Soft",
         "showlegend": false,
         "type": "scatter",
         "x": [
          "AMD+JAM",
          "IQMD-BNU",
          "SMASH",
          "TuQMD",
          "UrQMD",
          "pBUU",
          "r'$\\chi \\text{BUU}$'"
         ],
         "xaxis": "x5",
         "y": [
          0,
          0,
          0,
          0.16228499999999998,
          0.13985,
          0.196993,
          0
         ],
         "yaxis": "y5"
        },
        {
         "marker": {
          "color": "lightblue",
          "line": {
           "color": "lightgray",
           "width": 1
          },
          "size": 16,
          "symbol": "circle"
         },
         "mode": "markers",
         "name": "Soft",
         "showlegend": false,
         "type": "scatter",
         "x": [
          "AMD+JAM",
          "IQMD-BNU",
          "SMASH",
          "TuQMD",
          "UrQMD",
          "pBUU",
          "r'$\\chi \\text{BUU}$'"
         ],
         "xaxis": "x6",
         "y": [
          0.11599999999999999,
          0.174835,
          0.190153,
          0.17600000000000002,
          0.14400000000000002,
          0.21334699999999998,
          0.134
         ],
         "yaxis": "y6"
        },
        {
         "marker": {
          "color": "lightpink",
          "line": {
           "color": "lightgray",
           "width": 1
          },
          "size": 16,
          "symbol": "circle"
         },
         "mode": "markers",
         "name": "Stiff",
         "showlegend": false,
         "type": "scatter",
         "x": [
          "AMD+JAM",
          "IQMD-BNU",
          "SMASH",
          "TuQMD",
          "UrQMD",
          "pBUU",
          "r'$\\chi \\text{BUU}$'"
         ],
         "xaxis": "x4",
         "y": [
          0.0986,
          0.153115,
          0.163444,
          0.145,
          0.133,
          0.184616,
          0.11699999999999999
         ],
         "yaxis": "y4"
        },
        {
         "marker": {
          "color": "lightpink",
          "line": {
           "color": "lightgray",
           "width": 1
          },
          "size": 16,
          "symbol": "circle"
         },
         "mode": "markers",
         "name": "Stiff",
         "showlegend": false,
         "type": "scatter",
         "x": [
          "AMD+JAM",
          "IQMD-BNU",
          "SMASH",
          "TuQMD",
          "UrQMD",
          "pBUU",
          "r'$\\chi \\text{BUU}$'"
         ],
         "xaxis": "x5",
         "y": [
          0,
          0,
          0,
          0.163794,
          0.1394,
          0.200215,
          0
         ],
         "yaxis": "y5"
        },
        {
         "marker": {
          "color": "lightpink",
          "line": {
           "color": "lightgray",
           "width": 1
          },
          "size": 16,
          "symbol": "circle"
         },
         "mode": "markers",
         "name": "Stiff",
         "showlegend": false,
         "type": "scatter",
         "x": [
          "AMD+JAM",
          "IQMD-BNU",
          "SMASH",
          "TuQMD",
          "UrQMD",
          "pBUU",
          "r'$\\chi \\text{BUU}$'"
         ],
         "xaxis": "x6",
         "y": [
          0.11599999999999999,
          0.166865,
          0.188112,
          0.18100000000000002,
          0.147,
          0.214346,
          0.14
         ],
         "yaxis": "y6"
        },
        {
         "marker": {
          "color": "lightblue",
          "line": {
           "color": "lightgray",
           "width": 1
          },
          "size": 16,
          "symbol": "circle"
         },
         "mode": "markers",
         "name": "Soft",
         "showlegend": false,
         "type": "scatter",
         "x": [
          "AMD+JAM",
          "IQMD-BNU",
          "SMASH",
          "TuQMD",
          "UrQMD",
          "pBUU",
          "r'$\\chi \\text{BUU}$'"
         ],
         "xaxis": "x7",
         "y": [
          3.466257668711656,
          3.6714096961073284,
          2.791624672745597,
          5.372413793103449,
          3.7131782945736433,
          3.8573449918751312,
          4.669724770642202
         ],
         "yaxis": "y7"
        },
        {
         "marker": {
          "color": "lightblue",
          "line": {
           "color": "lightgray",
           "width": 1
          },
          "size": 16,
          "symbol": "circle"
         },
         "mode": "markers",
         "name": "Soft",
         "showlegend": false,
         "type": "scatter",
         "x": [
          "AMD+JAM",
          "IQMD-BNU",
          "SMASH",
          "TuQMD",
          "UrQMD",
          "pBUU",
          "r'$\\chi \\text{BUU}$'"
         ],
         "xaxis": "x8",
         "y": [
          null,
          null,
          null,
          3.570976984933913,
          2.5119771183410795,
          2.646363068738483,
          null
         ],
         "yaxis": "y8"
        },
        {
         "marker": {
          "color": "lightblue",
          "line": {
           "color": "lightgray",
           "width": 1
          },
          "size": 16,
          "symbol": "circle"
         },
         "mode": "markers",
         "name": "Soft",
         "showlegend": false,
         "type": "scatter",
         "x": [
          "AMD+JAM",
          "IQMD-BNU",
          "SMASH",
          "TuQMD",
          "UrQMD",
          "pBUU",
          "r'$\\chi \\text{BUU}$'"
         ],
         "xaxis": "x9",
         "y": [
          1.7241379310344829,
          1.822861555180599,
          1.5116879565402597,
          2.5113636363636362,
          2.0277777777777772,
          1.8783812287025363,
          2.007462686567164
         ],
         "yaxis": "y9"
        },
        {
         "marker": {
          "color": "lightpink",
          "line": {
           "color": "lightgray",
           "width": 1
          },
          "size": 16,
          "symbol": "circle"
         },
         "mode": "markers",
         "name": "Stiff",
         "showlegend": false,
         "type": "scatter",
         "x": [
          "AMD+JAM",
          "IQMD-BNU",
          "SMASH",
          "TuQMD",
          "UrQMD",
          "pBUU",
          "r'$\\chi \\text{BUU}$'"
         ],
         "xaxis": "x7",
         "y": [
          3.1541582150101424,
          2.9508539333180943,
          2.932123540784611,
          5.786206896551725,
          3.3759398496240602,
          3.5131407895307016,
          4.128205128205129
         ],
         "yaxis": "y7"
        },
        {
         "marker": {
          "color": "lightpink",
          "line": {
           "color": "lightgray",
           "width": 1
          },
          "size": 16,
          "symbol": "circle"
         },
         "mode": "markers",
         "name": "Stiff",
         "showlegend": false,
         "type": "scatter",
         "x": [
          "AMD+JAM",
          "IQMD-BNU",
          "SMASH",
          "TuQMD",
          "UrQMD",
          "pBUU",
          "r'$\\chi \\text{BUU}$'"
         ],
         "xaxis": "x8",
         "y": [
          null,
          null,
          null,
          3.824022857980146,
          2.4763988522238165,
          2.485033588891941,
          null
         ],
         "yaxis": "y8"
        },
        {
         "marker": {
          "color": "lightpink",
          "line": {
           "color": "lightgray",
           "width": 1
          },
          "size": 16,
          "symbol": "circle"
         },
         "mode": "markers",
         "name": "Stiff",
         "showlegend": false,
         "type": "scatter",
         "x": [
          "AMD+JAM",
          "IQMD-BNU",
          "SMASH",
          "TuQMD",
          "UrQMD",
          "pBUU",
          "r'$\\chi \\text{BUU}$'"
         ],
         "xaxis": "x9",
         "y": [
          1.6551724137931036,
          1.6654181523986453,
          1.5497522752402824,
          2.61878453038674,
          1.8639455782312924,
          1.8304097114011924,
          1.9357142857142857
         ],
         "yaxis": "y9"
        }
       ],
       "layout": {
        "autosize": true,
        "font": {
         "size": 16
        },
        "height": 800,
        "hovermode": "closest",
        "legend": {
         "font": {
          "size": 20
         },
         "xanchor": "right",
         "yanchor": "middle"
        },
        "margin": {
         "b": 50,
         "l": 50,
         "r": 80,
         "t": 80
        },
        "paper_bgcolor": "white",
        "plot_bgcolor": "white",
        "shapes": [
         {
          "fillcolor": "blue",
          "opacity": 0.3,
          "type": "rect",
          "x0": -0.5,
          "x1": 6.5,
          "xref": "x",
          "y0": 0.6928,
          "y1": 0.7412,
          "yref": "y"
         },
         {
          "fillcolor": "blue",
          "opacity": 0.3,
          "type": "rect",
          "x0": -0.5,
          "x1": 6.5,
          "xref": "x2",
          "y0": 0.4917,
          "y1": 0.5523,
          "yref": "y2"
         },
         {
          "fillcolor": "blue",
          "opacity": 0.3,
          "type": "rect",
          "x0": -0.5,
          "x1": 6.5,
          "xref": "x3",
          "y0": 0.38480000000000003,
          "y1": 0.4132,
          "yref": "y3"
         },
         {
          "fillcolor": "blue",
          "opacity": 0.3,
          "type": "rect",
          "x0": -0.5,
          "x1": 6.5,
          "xref": "x4",
          "y0": 0.14246999999999999,
          "y1": 0.15353,
          "yref": "y4"
         },
         {
          "fillcolor": "blue",
          "opacity": 0.3,
          "type": "rect",
          "x0": -0.5,
          "x1": 6.5,
          "xref": "x5",
          "y0": 0.1572,
          "y1": 0.18280000000000002,
          "yref": "y5"
         },
         {
          "fillcolor": "blue",
          "opacity": 0.3,
          "type": "rect",
          "x0": -0.5,
          "x1": 6.5,
          "xref": "x6",
          "y0": 0.19140000000000001,
          "y1": 0.2086,
          "yref": "y6"
         },
         {
          "fillcolor": "blue",
          "opacity": 0.3,
          "type": "rect",
          "x0": -0.5,
          "x1": 6.5,
          "xref": "x7",
          "y0": 4.724594594594595,
          "y1": 4.964594594594595,
          "yref": "y7"
         },
         {
          "fillcolor": "blue",
          "opacity": 0.3,
          "type": "rect",
          "x0": -0.5,
          "x1": 6.5,
          "xref": "x8",
          "y0": 2.830588235294117,
          "y1": 3.3105882352941176,
          "yref": "y8"
         },
         {
          "fillcolor": "blue",
          "opacity": 0.3,
          "type": "rect",
          "x0": -0.5,
          "x1": 6.5,
          "xref": "x9",
          "y0": 1.9455,
          "y1": 2.0445,
          "yref": "y9"
         },
         {
          "line": {
           "width": 3
          },
          "type": "line",
          "x0": -0.5,
          "x1": 6.5,
          "xref": "x",
          "y0": 0.717,
          "y1": 0.717,
          "yref": "y"
         },
         {
          "line": {
           "width": 3
          },
          "type": "line",
          "x0": -0.5,
          "x1": 6.5,
          "xref": "x2",
          "y0": 0.522,
          "y1": 0.522,
          "yref": "y2"
         },
         {
          "line": {
           "width": 3
          },
          "type": "line",
          "x0": -0.5,
          "x1": 6.5,
          "xref": "x3",
          "y0": 0.399,
          "y1": 0.399,
          "yref": "y3"
         },
         {
          "line": {
           "width": 3
          },
          "type": "line",
          "x0": -0.5,
          "x1": 6.5,
          "xref": "x4",
          "y0": 0.148,
          "y1": 0.148,
          "yref": "y4"
         },
         {
          "line": {
           "width": 3
          },
          "type": "line",
          "x0": -0.5,
          "x1": 6.5,
          "xref": "x5",
          "y0": 0.17,
          "y1": 0.17,
          "yref": "y5"
         },
         {
          "line": {
           "width": 3
          },
          "type": "line",
          "x0": -0.5,
          "x1": 6.5,
          "xref": "x6",
          "y0": 0.2,
          "y1": 0.2,
          "yref": "y6"
         },
         {
          "line": {
           "width": 3
          },
          "type": "line",
          "x0": -0.5,
          "x1": 6.5,
          "xref": "x7",
          "y0": 4.844594594594595,
          "y1": 4.844594594594595,
          "yref": "y7"
         },
         {
          "line": {
           "width": 3
          },
          "type": "line",
          "x0": -0.5,
          "x1": 6.5,
          "xref": "x8",
          "y0": 3.0705882352941174,
          "y1": 3.0705882352941174,
          "yref": "y8"
         },
         {
          "line": {
           "width": 3
          },
          "type": "line",
          "x0": -0.5,
          "x1": 6.5,
          "xref": "x9",
          "y0": 1.995,
          "y1": 1.995,
          "yref": "y9"
         }
        ],
        "template": {
         "data": {
          "bar": [
           {
            "error_x": {
             "color": "#2a3f5f"
            },
            "error_y": {
             "color": "#2a3f5f"
            },
            "marker": {
             "line": {
              "color": "#E5ECF6",
              "width": 0.5
             }
            },
            "type": "bar"
           }
          ],
          "barpolar": [
           {
            "marker": {
             "line": {
              "color": "#E5ECF6",
              "width": 0.5
             }
            },
            "type": "barpolar"
           }
          ],
          "carpet": [
           {
            "aaxis": {
             "endlinecolor": "#2a3f5f",
             "gridcolor": "white",
             "linecolor": "white",
             "minorgridcolor": "white",
             "startlinecolor": "#2a3f5f"
            },
            "baxis": {
             "endlinecolor": "#2a3f5f",
             "gridcolor": "white",
             "linecolor": "white",
             "minorgridcolor": "white",
             "startlinecolor": "#2a3f5f"
            },
            "type": "carpet"
           }
          ],
          "choropleth": [
           {
            "colorbar": {
             "outlinewidth": 0,
             "ticks": ""
            },
            "type": "choropleth"
           }
          ],
          "contour": [
           {
            "colorbar": {
             "outlinewidth": 0,
             "ticks": ""
            },
            "colorscale": [
             [
              0,
              "#0d0887"
             ],
             [
              0.1111111111111111,
              "#46039f"
             ],
             [
              0.2222222222222222,
              "#7201a8"
             ],
             [
              0.3333333333333333,
              "#9c179e"
             ],
             [
              0.4444444444444444,
              "#bd3786"
             ],
             [
              0.5555555555555556,
              "#d8576b"
             ],
             [
              0.6666666666666666,
              "#ed7953"
             ],
             [
              0.7777777777777778,
              "#fb9f3a"
             ],
             [
              0.8888888888888888,
              "#fdca26"
             ],
             [
              1,
              "#f0f921"
             ]
            ],
            "type": "contour"
           }
          ],
          "contourcarpet": [
           {
            "colorbar": {
             "outlinewidth": 0,
             "ticks": ""
            },
            "type": "contourcarpet"
           }
          ],
          "heatmap": [
           {
            "colorbar": {
             "outlinewidth": 0,
             "ticks": ""
            },
            "colorscale": [
             [
              0,
              "#0d0887"
             ],
             [
              0.1111111111111111,
              "#46039f"
             ],
             [
              0.2222222222222222,
              "#7201a8"
             ],
             [
              0.3333333333333333,
              "#9c179e"
             ],
             [
              0.4444444444444444,
              "#bd3786"
             ],
             [
              0.5555555555555556,
              "#d8576b"
             ],
             [
              0.6666666666666666,
              "#ed7953"
             ],
             [
              0.7777777777777778,
              "#fb9f3a"
             ],
             [
              0.8888888888888888,
              "#fdca26"
             ],
             [
              1,
              "#f0f921"
             ]
            ],
            "type": "heatmap"
           }
          ],
          "heatmapgl": [
           {
            "colorbar": {
             "outlinewidth": 0,
             "ticks": ""
            },
            "colorscale": [
             [
              0,
              "#0d0887"
             ],
             [
              0.1111111111111111,
              "#46039f"
             ],
             [
              0.2222222222222222,
              "#7201a8"
             ],
             [
              0.3333333333333333,
              "#9c179e"
             ],
             [
              0.4444444444444444,
              "#bd3786"
             ],
             [
              0.5555555555555556,
              "#d8576b"
             ],
             [
              0.6666666666666666,
              "#ed7953"
             ],
             [
              0.7777777777777778,
              "#fb9f3a"
             ],
             [
              0.8888888888888888,
              "#fdca26"
             ],
             [
              1,
              "#f0f921"
             ]
            ],
            "type": "heatmapgl"
           }
          ],
          "histogram": [
           {
            "marker": {
             "colorbar": {
              "outlinewidth": 0,
              "ticks": ""
             }
            },
            "type": "histogram"
           }
          ],
          "histogram2d": [
           {
            "colorbar": {
             "outlinewidth": 0,
             "ticks": ""
            },
            "colorscale": [
             [
              0,
              "#0d0887"
             ],
             [
              0.1111111111111111,
              "#46039f"
             ],
             [
              0.2222222222222222,
              "#7201a8"
             ],
             [
              0.3333333333333333,
              "#9c179e"
             ],
             [
              0.4444444444444444,
              "#bd3786"
             ],
             [
              0.5555555555555556,
              "#d8576b"
             ],
             [
              0.6666666666666666,
              "#ed7953"
             ],
             [
              0.7777777777777778,
              "#fb9f3a"
             ],
             [
              0.8888888888888888,
              "#fdca26"
             ],
             [
              1,
              "#f0f921"
             ]
            ],
            "type": "histogram2d"
           }
          ],
          "histogram2dcontour": [
           {
            "colorbar": {
             "outlinewidth": 0,
             "ticks": ""
            },
            "colorscale": [
             [
              0,
              "#0d0887"
             ],
             [
              0.1111111111111111,
              "#46039f"
             ],
             [
              0.2222222222222222,
              "#7201a8"
             ],
             [
              0.3333333333333333,
              "#9c179e"
             ],
             [
              0.4444444444444444,
              "#bd3786"
             ],
             [
              0.5555555555555556,
              "#d8576b"
             ],
             [
              0.6666666666666666,
              "#ed7953"
             ],
             [
              0.7777777777777778,
              "#fb9f3a"
             ],
             [
              0.8888888888888888,
              "#fdca26"
             ],
             [
              1,
              "#f0f921"
             ]
            ],
            "type": "histogram2dcontour"
           }
          ],
          "mesh3d": [
           {
            "colorbar": {
             "outlinewidth": 0,
             "ticks": ""
            },
            "type": "mesh3d"
           }
          ],
          "parcoords": [
           {
            "line": {
             "colorbar": {
              "outlinewidth": 0,
              "ticks": ""
             }
            },
            "type": "parcoords"
           }
          ],
          "pie": [
           {
            "automargin": true,
            "type": "pie"
           }
          ],
          "scatter": [
           {
            "marker": {
             "colorbar": {
              "outlinewidth": 0,
              "ticks": ""
             }
            },
            "type": "scatter"
           }
          ],
          "scatter3d": [
           {
            "line": {
             "colorbar": {
              "outlinewidth": 0,
              "ticks": ""
             }
            },
            "marker": {
             "colorbar": {
              "outlinewidth": 0,
              "ticks": ""
             }
            },
            "type": "scatter3d"
           }
          ],
          "scattercarpet": [
           {
            "marker": {
             "colorbar": {
              "outlinewidth": 0,
              "ticks": ""
             }
            },
            "type": "scattercarpet"
           }
          ],
          "scattergeo": [
           {
            "marker": {
             "colorbar": {
              "outlinewidth": 0,
              "ticks": ""
             }
            },
            "type": "scattergeo"
           }
          ],
          "scattergl": [
           {
            "marker": {
             "colorbar": {
              "outlinewidth": 0,
              "ticks": ""
             }
            },
            "type": "scattergl"
           }
          ],
          "scattermapbox": [
           {
            "marker": {
             "colorbar": {
              "outlinewidth": 0,
              "ticks": ""
             }
            },
            "type": "scattermapbox"
           }
          ],
          "scatterpolar": [
           {
            "marker": {
             "colorbar": {
              "outlinewidth": 0,
              "ticks": ""
             }
            },
            "type": "scatterpolar"
           }
          ],
          "scatterpolargl": [
           {
            "marker": {
             "colorbar": {
              "outlinewidth": 0,
              "ticks": ""
             }
            },
            "type": "scatterpolargl"
           }
          ],
          "scatterternary": [
           {
            "marker": {
             "colorbar": {
              "outlinewidth": 0,
              "ticks": ""
             }
            },
            "type": "scatterternary"
           }
          ],
          "surface": [
           {
            "colorbar": {
             "outlinewidth": 0,
             "ticks": ""
            },
            "colorscale": [
             [
              0,
              "#0d0887"
             ],
             [
              0.1111111111111111,
              "#46039f"
             ],
             [
              0.2222222222222222,
              "#7201a8"
             ],
             [
              0.3333333333333333,
              "#9c179e"
             ],
             [
              0.4444444444444444,
              "#bd3786"
             ],
             [
              0.5555555555555556,
              "#d8576b"
             ],
             [
              0.6666666666666666,
              "#ed7953"
             ],
             [
              0.7777777777777778,
              "#fb9f3a"
             ],
             [
              0.8888888888888888,
              "#fdca26"
             ],
             [
              1,
              "#f0f921"
             ]
            ],
            "type": "surface"
           }
          ],
          "table": [
           {
            "cells": {
             "fill": {
              "color": "#EBF0F8"
             },
             "line": {
              "color": "white"
             }
            },
            "header": {
             "fill": {
              "color": "#C8D4E3"
             },
             "line": {
              "color": "white"
             }
            },
            "type": "table"
           }
          ]
         },
         "layout": {
          "annotationdefaults": {
           "arrowcolor": "#2a3f5f",
           "arrowhead": 0,
           "arrowwidth": 1
          },
          "coloraxis": {
           "colorbar": {
            "outlinewidth": 0,
            "ticks": ""
           }
          },
          "colorscale": {
           "diverging": [
            [
             0,
             "#8e0152"
            ],
            [
             0.1,
             "#c51b7d"
            ],
            [
             0.2,
             "#de77ae"
            ],
            [
             0.3,
             "#f1b6da"
            ],
            [
             0.4,
             "#fde0ef"
            ],
            [
             0.5,
             "#f7f7f7"
            ],
            [
             0.6,
             "#e6f5d0"
            ],
            [
             0.7,
             "#b8e186"
            ],
            [
             0.8,
             "#7fbc41"
            ],
            [
             0.9,
             "#4d9221"
            ],
            [
             1,
             "#276419"
            ]
           ],
           "sequential": [
            [
             0,
             "#0d0887"
            ],
            [
             0.1111111111111111,
             "#46039f"
            ],
            [
             0.2222222222222222,
             "#7201a8"
            ],
            [
             0.3333333333333333,
             "#9c179e"
            ],
            [
             0.4444444444444444,
             "#bd3786"
            ],
            [
             0.5555555555555556,
             "#d8576b"
            ],
            [
             0.6666666666666666,
             "#ed7953"
            ],
            [
             0.7777777777777778,
             "#fb9f3a"
            ],
            [
             0.8888888888888888,
             "#fdca26"
            ],
            [
             1,
             "#f0f921"
            ]
           ],
           "sequentialminus": [
            [
             0,
             "#0d0887"
            ],
            [
             0.1111111111111111,
             "#46039f"
            ],
            [
             0.2222222222222222,
             "#7201a8"
            ],
            [
             0.3333333333333333,
             "#9c179e"
            ],
            [
             0.4444444444444444,
             "#bd3786"
            ],
            [
             0.5555555555555556,
             "#d8576b"
            ],
            [
             0.6666666666666666,
             "#ed7953"
            ],
            [
             0.7777777777777778,
             "#fb9f3a"
            ],
            [
             0.8888888888888888,
             "#fdca26"
            ],
            [
             1,
             "#f0f921"
            ]
           ]
          },
          "colorway": [
           "#636efa",
           "#EF553B",
           "#00cc96",
           "#ab63fa",
           "#FFA15A",
           "#19d3f3",
           "#FF6692",
           "#B6E880",
           "#FF97FF",
           "#FECB52"
          ],
          "font": {
           "color": "#2a3f5f"
          },
          "geo": {
           "bgcolor": "white",
           "lakecolor": "white",
           "landcolor": "#E5ECF6",
           "showlakes": true,
           "showland": true,
           "subunitcolor": "white"
          },
          "hoverlabel": {
           "align": "left"
          },
          "hovermode": "closest",
          "mapbox": {
           "style": "light"
          },
          "paper_bgcolor": "white",
          "plot_bgcolor": "#E5ECF6",
          "polar": {
           "angularaxis": {
            "gridcolor": "white",
            "linecolor": "white",
            "ticks": ""
           },
           "bgcolor": "#E5ECF6",
           "radialaxis": {
            "gridcolor": "white",
            "linecolor": "white",
            "ticks": ""
           }
          },
          "scene": {
           "xaxis": {
            "backgroundcolor": "#E5ECF6",
            "gridcolor": "white",
            "gridwidth": 2,
            "linecolor": "white",
            "showbackground": true,
            "ticks": "",
            "zerolinecolor": "white"
           },
           "yaxis": {
            "backgroundcolor": "#E5ECF6",
            "gridcolor": "white",
            "gridwidth": 2,
            "linecolor": "white",
            "showbackground": true,
            "ticks": "",
            "zerolinecolor": "white"
           },
           "zaxis": {
            "backgroundcolor": "#E5ECF6",
            "gridcolor": "white",
            "gridwidth": 2,
            "linecolor": "white",
            "showbackground": true,
            "ticks": "",
            "zerolinecolor": "white"
           }
          },
          "shapedefaults": {
           "line": {
            "color": "#2a3f5f"
           }
          },
          "ternary": {
           "aaxis": {
            "gridcolor": "white",
            "linecolor": "white",
            "ticks": ""
           },
           "baxis": {
            "gridcolor": "white",
            "linecolor": "white",
            "ticks": ""
           },
           "bgcolor": "#E5ECF6",
           "caxis": {
            "gridcolor": "white",
            "linecolor": "white",
            "ticks": ""
           }
          },
          "title": {
           "x": 0.05
          },
          "xaxis": {
           "automargin": true,
           "gridcolor": "white",
           "linecolor": "white",
           "ticks": "",
           "title": {
            "standoff": 15
           },
           "zerolinecolor": "white",
           "zerolinewidth": 2
          },
          "yaxis": {
           "automargin": true,
           "gridcolor": "white",
           "linecolor": "white",
           "ticks": "",
           "title": {
            "standoff": 15
           },
           "zerolinecolor": "white",
           "zerolinewidth": 2
          }
         }
        },
        "title": {
         "text": ""
        },
        "width": 1000,
        "xaxis": {
         "anchor": "y",
         "domain": [
          0,
          0.3066666666666667
         ],
         "gridcolor": "lightgray",
         "gridwidth": 1,
         "linecolor": "rgb(102, 102, 102)",
         "matches": "x7",
         "showgrid": true,
         "showticklabels": false
        },
        "xaxis2": {
         "anchor": "y2",
         "domain": [
          0.3466666666666667,
          0.6533333333333333
         ],
         "gridcolor": "lightgray",
         "gridwidth": 1,
         "linecolor": "rgb(102, 102, 102)",
         "matches": "x8",
         "showgrid": true,
         "showticklabels": false
        },
        "xaxis3": {
         "anchor": "y3",
         "domain": [
          0.6933333333333334,
          1
         ],
         "gridcolor": "lightgray",
         "gridwidth": 1,
         "linecolor": "rgb(102, 102, 102)",
         "matches": "x9",
         "showgrid": true,
         "showticklabels": false
        },
        "xaxis4": {
         "anchor": "y4",
         "domain": [
          0,
          0.3066666666666667
         ],
         "gridcolor": "lightgray",
         "gridwidth": 1,
         "linecolor": "rgb(102, 102, 102)",
         "matches": "x7",
         "showgrid": true,
         "showticklabels": false
        },
        "xaxis5": {
         "anchor": "y5",
         "domain": [
          0.3466666666666667,
          0.6533333333333333
         ],
         "gridcolor": "lightgray",
         "gridwidth": 1,
         "linecolor": "rgb(102, 102, 102)",
         "matches": "x8",
         "showgrid": true,
         "showticklabels": false
        },
        "xaxis6": {
         "anchor": "y6",
         "domain": [
          0.6933333333333334,
          1
         ],
         "gridcolor": "lightgray",
         "gridwidth": 1,
         "linecolor": "rgb(102, 102, 102)",
         "matches": "x9",
         "showgrid": true,
         "showticklabels": false
        },
        "xaxis7": {
         "anchor": "y7",
         "domain": [
          0,
          0.3066666666666667
         ],
         "gridcolor": "lightgray",
         "gridwidth": 1,
         "linecolor": "rgb(102, 102, 102)",
         "showgrid": true,
         "showticklabels": true,
         "tickcolor": "rgb(102, 102, 102)",
         "tickfont": {
          "color": "rgb(102, 102, 102)"
         },
         "ticks": "outside",
         "title": {
          "text": "132Sn + 124Sn"
         }
        },
        "xaxis8": {
         "anchor": "y8",
         "domain": [
          0.3466666666666667,
          0.6533333333333333
         ],
         "gridcolor": "lightgray",
         "gridwidth": 1,
         "linecolor": "rgb(102, 102, 102)",
         "showgrid": true,
         "showticklabels": true,
         "tickcolor": "rgb(102, 102, 102)",
         "tickfont": {
          "color": "rgb(102, 102, 102)"
         },
         "ticks": "outside",
         "title": {
          "text": "124Sn + 112Sn"
         }
        },
        "xaxis9": {
         "anchor": "y9",
         "domain": [
          0.6933333333333334,
          1
         ],
         "gridcolor": "lightgray",
         "gridwidth": 1,
         "linecolor": "rgb(102, 102, 102)",
         "showgrid": true,
         "showticklabels": true,
         "tickcolor": "rgb(102, 102, 102)",
         "tickfont": {
          "color": "rgb(102, 102, 102)"
         },
         "ticks": "outside",
         "title": {
          "text": "108Sn + 112Sn"
         }
        },
        "yaxis": {
         "anchor": "x",
         "domain": [
          0.6733333333333333,
          1
         ],
         "dtick": 0.2,
         "linecolor": "rgb(102, 102, 102)",
         "range": [
          0.2,
          1
         ],
         "showticklabels": true,
         "tickcolor": "rgb(102, 102, 102)",
         "tickfont": {
          "color": "rgb(102, 102, 102)"
         },
         "ticks": "outside",
         "title": {
          "text": "r'$\\pi^{-}$"
         }
        },
        "yaxis2": {
         "anchor": "x2",
         "domain": [
          0.6733333333333333,
          1
         ],
         "dtick": 0.2,
         "linecolor": "rgb(102, 102, 102)",
         "matches": "y",
         "range": [
          0.2,
          0.8
         ],
         "showticklabels": true,
         "tickcolor": "rgb(102, 102, 102)",
         "tickfont": {
          "color": "rgb(102, 102, 102)"
         },
         "ticks": "outside"
        },
        "yaxis3": {
         "anchor": "x3",
         "domain": [
          0.6733333333333333,
          1
         ],
         "dtick": 0.2,
         "linecolor": "rgb(102, 102, 102)",
         "matches": "y",
         "range": [
          0.1,
          0.55
         ],
         "showticklabels": true,
         "tickcolor": "rgb(102, 102, 102)",
         "tickfont": {
          "color": "rgb(102, 102, 102)"
         },
         "ticks": "outside"
        },
        "yaxis4": {
         "anchor": "x4",
         "domain": [
          0.33666666666666667,
          0.6633333333333333
         ],
         "dtick": 0.1,
         "linecolor": "rgb(102, 102, 102)",
         "range": [
          0.05,
          0.25
         ],
         "showticklabels": true,
         "tickcolor": "rgb(102, 102, 102)",
         "tickfont": {
          "color": "rgb(102, 102, 102)"
         },
         "ticks": "outside",
         "title": {
          "text": "r'$\\pi^{+}$"
         }
        },
        "yaxis5": {
         "anchor": "x5",
         "domain": [
          0.33666666666666667,
          0.6633333333333333
         ],
         "dtick": 0.1,
         "linecolor": "rgb(102, 102, 102)",
         "matches": "y4",
         "range": [
          0.05,
          0.3
         ],
         "showticklabels": true,
         "tickcolor": "rgb(102, 102, 102)",
         "tickfont": {
          "color": "rgb(102, 102, 102)"
         },
         "ticks": "outside"
        },
        "yaxis6": {
         "anchor": "x6",
         "domain": [
          0.33666666666666667,
          0.6633333333333333
         ],
         "dtick": 0.1,
         "linecolor": "rgb(102, 102, 102)",
         "matches": "y4",
         "range": [
          0.05,
          0.3
         ],
         "showticklabels": true,
         "tickcolor": "rgb(102, 102, 102)",
         "tickfont": {
          "color": "rgb(102, 102, 102)"
         },
         "ticks": "outside"
        },
        "yaxis7": {
         "anchor": "x7",
         "domain": [
          0,
          0.32666666666666666
         ],
         "linecolor": "rgb(102, 102, 102)",
         "range": [
          2,
          6.5
         ],
         "showticklabels": true,
         "tickcolor": "rgb(102, 102, 102)",
         "tickfont": {
          "color": "rgb(102, 102, 102)"
         },
         "ticks": "outside",
         "title": {
          "text": "r'$\\pi^{-}/\\pi^{+}$"
         },
         "type": "log"
        },
        "yaxis8": {
         "anchor": "x8",
         "domain": [
          0,
          0.32666666666666666
         ],
         "dtick": 1,
         "linecolor": "rgb(102, 102, 102)",
         "matches": "y7",
         "range": [
          1.5,
          4.5
         ],
         "showticklabels": true,
         "tickcolor": "rgb(102, 102, 102)",
         "tickfont": {
          "color": "rgb(102, 102, 102)"
         },
         "ticks": "outside",
         "type": "log"
        },
        "yaxis9": {
         "anchor": "x9",
         "domain": [
          0,
          0.32666666666666666
         ],
         "dtick": 1,
         "linecolor": "rgb(102, 102, 102)",
         "matches": "y7",
         "range": [
          0.5,
          3.5
         ],
         "showticklabels": true,
         "tickcolor": "rgb(102, 102, 102)",
         "tickfont": {
          "color": "rgb(102, 102, 102)"
         },
         "ticks": "outside",
         "type": "log"
        }
       }
      },
      "text/html": [
       "<div>\n",
       "        \n",
       "        \n",
       "            <div id=\"192ad084-d6c3-45ba-a8c9-2a1439440c8a\" class=\"plotly-graph-div\" style=\"height:800px; width:1000px;\"></div>\n",
       "            <script type=\"text/javascript\">\n",
       "                require([\"plotly\"], function(Plotly) {\n",
       "                    window.PLOTLYENV=window.PLOTLYENV || {};\n",
       "                    \n",
       "                if (document.getElementById(\"192ad084-d6c3-45ba-a8c9-2a1439440c8a\")) {\n",
       "                    Plotly.newPlot(\n",
       "                        '192ad084-d6c3-45ba-a8c9-2a1439440c8a',\n",
       "                        [{\"marker\": {\"color\": \"lightblue\", \"line\": {\"color\": \"lightgray\", \"width\": 1}, \"size\": 16, \"symbol\": \"circle\"}, \"mode\": \"markers\", \"name\": \"Soft\", \"type\": \"scatter\", \"x\": [\"AMD+JAM\", \"IQMD-BNU\", \"SMASH\", \"TuQMD\", \"UrQMD\", \"pBUU\", \"r'$\\\\chi \\\\text{BUU}$'\"], \"xaxis\": \"x\", \"y\": [0.33899999999999997, 0.541845, 0.46810799999999997, 0.779, 0.479, 0.697894, 0.509], \"yaxis\": \"y\"}, {\"marker\": {\"color\": \"lightblue\", \"line\": {\"color\": \"lightgray\", \"width\": 1}, \"size\": 16, \"symbol\": \"circle\"}, \"mode\": \"markers\", \"name\": \"Soft\", \"showlegend\": false, \"type\": \"scatter\", \"x\": [\"AMD+JAM\", \"IQMD-BNU\", \"SMASH\", \"TuQMD\", \"UrQMD\", \"pBUU\", \"r'$\\\\chi \\\\text{BUU}$'\"], \"xaxis\": \"x2\", \"y\": [0.0, 0.0, 0.0, 0.579516, 0.3513, 0.521315, 0.0], \"yaxis\": \"y2\"}, {\"marker\": {\"color\": \"lightblue\", \"line\": {\"color\": \"lightgray\", \"width\": 1}, \"size\": 16, \"symbol\": \"circle\"}, \"mode\": \"markers\", \"name\": \"Soft\", \"showlegend\": false, \"type\": \"scatter\", \"x\": [\"AMD+JAM\", \"IQMD-BNU\", \"SMASH\", \"TuQMD\", \"UrQMD\", \"pBUU\", \"r'$\\\\chi \\\\text{BUU}$'\"], \"xaxis\": \"x3\", \"y\": [0.2, 0.3187, 0.287452, 0.442, 0.292, 0.40074699999999996, 0.26899999999999996], \"yaxis\": \"y3\"}, {\"marker\": {\"color\": \"lightpink\", \"line\": {\"color\": \"lightgray\", \"width\": 1}, \"size\": 16, \"symbol\": \"circle\"}, \"mode\": \"markers\", \"name\": \"Stiff\", \"type\": \"scatter\", \"x\": [\"AMD+JAM\", \"IQMD-BNU\", \"SMASH\", \"TuQMD\", \"UrQMD\", \"pBUU\", \"r'$\\\\chi \\\\text{BUU}$'\"], \"xaxis\": \"x\", \"y\": [0.311, 0.45182, 0.479238, 0.8390000000000001, 0.449, 0.648582, 0.483], \"yaxis\": \"y\"}, {\"marker\": {\"color\": \"lightpink\", \"line\": {\"color\": \"lightgray\", \"width\": 1}, \"size\": 16, \"symbol\": \"circle\"}, \"mode\": \"markers\", \"name\": \"Stiff\", \"showlegend\": false, \"type\": \"scatter\", \"x\": [\"AMD+JAM\", \"IQMD-BNU\", \"SMASH\", \"TuQMD\", \"UrQMD\", \"pBUU\", \"r'$\\\\chi \\\\text{BUU}$'\"], \"xaxis\": \"x2\", \"y\": [0.0, 0.0, 0.0, 0.626352, 0.34521, 0.497541, 0.0], \"yaxis\": \"y2\"}, {\"marker\": {\"color\": \"lightpink\", \"line\": {\"color\": \"lightgray\", \"width\": 1}, \"size\": 16, \"symbol\": \"circle\"}, \"mode\": \"markers\", \"name\": \"Stiff\", \"showlegend\": false, \"type\": \"scatter\", \"x\": [\"AMD+JAM\", \"IQMD-BNU\", \"SMASH\", \"TuQMD\", \"UrQMD\", \"pBUU\", \"r'$\\\\chi \\\\text{BUU}$'\"], \"xaxis\": \"x3\", \"y\": [0.192, 0.2779, 0.291527, 0.474, 0.27399999999999997, 0.392341, 0.271], \"yaxis\": \"y3\"}, {\"marker\": {\"color\": \"lightblue\", \"line\": {\"color\": \"lightgray\", \"width\": 1}, \"size\": 16, \"symbol\": \"circle\"}, \"mode\": \"markers\", \"name\": \"Soft\", \"showlegend\": false, \"type\": \"scatter\", \"x\": [\"AMD+JAM\", \"IQMD-BNU\", \"SMASH\", \"TuQMD\", \"UrQMD\", \"pBUU\", \"r'$\\\\chi \\\\text{BUU}$'\"], \"xaxis\": \"x4\", \"y\": [0.0978, 0.147585, 0.167683, 0.145, 0.129, 0.180926, 0.109], \"yaxis\": \"y4\"}, {\"marker\": {\"color\": \"lightblue\", \"line\": {\"color\": \"lightgray\", \"width\": 1}, \"size\": 16, \"symbol\": \"circle\"}, \"mode\": \"markers\", \"name\": \"Soft\", \"showlegend\": false, \"type\": \"scatter\", \"x\": [\"AMD+JAM\", \"IQMD-BNU\", \"SMASH\", \"TuQMD\", \"UrQMD\", \"pBUU\", \"r'$\\\\chi \\\\text{BUU}$'\"], \"xaxis\": \"x5\", \"y\": [0.0, 0.0, 0.0, 0.16228499999999998, 0.13985, 0.196993, 0.0], \"yaxis\": \"y5\"}, {\"marker\": {\"color\": \"lightblue\", \"line\": {\"color\": \"lightgray\", \"width\": 1}, \"size\": 16, \"symbol\": \"circle\"}, \"mode\": \"markers\", \"name\": \"Soft\", \"showlegend\": false, \"type\": \"scatter\", \"x\": [\"AMD+JAM\", \"IQMD-BNU\", \"SMASH\", \"TuQMD\", \"UrQMD\", \"pBUU\", \"r'$\\\\chi \\\\text{BUU}$'\"], \"xaxis\": \"x6\", \"y\": [0.11599999999999999, 0.174835, 0.190153, 0.17600000000000002, 0.14400000000000002, 0.21334699999999998, 0.134], \"yaxis\": \"y6\"}, {\"marker\": {\"color\": \"lightpink\", \"line\": {\"color\": \"lightgray\", \"width\": 1}, \"size\": 16, \"symbol\": \"circle\"}, \"mode\": \"markers\", \"name\": \"Stiff\", \"showlegend\": false, \"type\": \"scatter\", \"x\": [\"AMD+JAM\", \"IQMD-BNU\", \"SMASH\", \"TuQMD\", \"UrQMD\", \"pBUU\", \"r'$\\\\chi \\\\text{BUU}$'\"], \"xaxis\": \"x4\", \"y\": [0.0986, 0.153115, 0.163444, 0.145, 0.133, 0.184616, 0.11699999999999999], \"yaxis\": \"y4\"}, {\"marker\": {\"color\": \"lightpink\", \"line\": {\"color\": \"lightgray\", \"width\": 1}, \"size\": 16, \"symbol\": \"circle\"}, \"mode\": \"markers\", \"name\": \"Stiff\", \"showlegend\": false, \"type\": \"scatter\", \"x\": [\"AMD+JAM\", \"IQMD-BNU\", \"SMASH\", \"TuQMD\", \"UrQMD\", \"pBUU\", \"r'$\\\\chi \\\\text{BUU}$'\"], \"xaxis\": \"x5\", \"y\": [0.0, 0.0, 0.0, 0.163794, 0.1394, 0.200215, 0.0], \"yaxis\": \"y5\"}, {\"marker\": {\"color\": \"lightpink\", \"line\": {\"color\": \"lightgray\", \"width\": 1}, \"size\": 16, \"symbol\": \"circle\"}, \"mode\": \"markers\", \"name\": \"Stiff\", \"showlegend\": false, \"type\": \"scatter\", \"x\": [\"AMD+JAM\", \"IQMD-BNU\", \"SMASH\", \"TuQMD\", \"UrQMD\", \"pBUU\", \"r'$\\\\chi \\\\text{BUU}$'\"], \"xaxis\": \"x6\", \"y\": [0.11599999999999999, 0.166865, 0.188112, 0.18100000000000002, 0.147, 0.214346, 0.14], \"yaxis\": \"y6\"}, {\"marker\": {\"color\": \"lightblue\", \"line\": {\"color\": \"lightgray\", \"width\": 1}, \"size\": 16, \"symbol\": \"circle\"}, \"mode\": \"markers\", \"name\": \"Soft\", \"showlegend\": false, \"type\": \"scatter\", \"x\": [\"AMD+JAM\", \"IQMD-BNU\", \"SMASH\", \"TuQMD\", \"UrQMD\", \"pBUU\", \"r'$\\\\chi \\\\text{BUU}$'\"], \"xaxis\": \"x7\", \"y\": [3.466257668711656, 3.6714096961073284, 2.791624672745597, 5.372413793103449, 3.7131782945736433, 3.8573449918751312, 4.669724770642202], \"yaxis\": \"y7\"}, {\"marker\": {\"color\": \"lightblue\", \"line\": {\"color\": \"lightgray\", \"width\": 1}, \"size\": 16, \"symbol\": \"circle\"}, \"mode\": \"markers\", \"name\": \"Soft\", \"showlegend\": false, \"type\": \"scatter\", \"x\": [\"AMD+JAM\", \"IQMD-BNU\", \"SMASH\", \"TuQMD\", \"UrQMD\", \"pBUU\", \"r'$\\\\chi \\\\text{BUU}$'\"], \"xaxis\": \"x8\", \"y\": [null, null, null, 3.570976984933913, 2.5119771183410795, 2.646363068738483, null], \"yaxis\": \"y8\"}, {\"marker\": {\"color\": \"lightblue\", \"line\": {\"color\": \"lightgray\", \"width\": 1}, \"size\": 16, \"symbol\": \"circle\"}, \"mode\": \"markers\", \"name\": \"Soft\", \"showlegend\": false, \"type\": \"scatter\", \"x\": [\"AMD+JAM\", \"IQMD-BNU\", \"SMASH\", \"TuQMD\", \"UrQMD\", \"pBUU\", \"r'$\\\\chi \\\\text{BUU}$'\"], \"xaxis\": \"x9\", \"y\": [1.7241379310344829, 1.822861555180599, 1.5116879565402597, 2.5113636363636362, 2.0277777777777772, 1.8783812287025363, 2.007462686567164], \"yaxis\": \"y9\"}, {\"marker\": {\"color\": \"lightpink\", \"line\": {\"color\": \"lightgray\", \"width\": 1}, \"size\": 16, \"symbol\": \"circle\"}, \"mode\": \"markers\", \"name\": \"Stiff\", \"showlegend\": false, \"type\": \"scatter\", \"x\": [\"AMD+JAM\", \"IQMD-BNU\", \"SMASH\", \"TuQMD\", \"UrQMD\", \"pBUU\", \"r'$\\\\chi \\\\text{BUU}$'\"], \"xaxis\": \"x7\", \"y\": [3.1541582150101424, 2.9508539333180943, 2.932123540784611, 5.786206896551725, 3.3759398496240602, 3.5131407895307016, 4.128205128205129], \"yaxis\": \"y7\"}, {\"marker\": {\"color\": \"lightpink\", \"line\": {\"color\": \"lightgray\", \"width\": 1}, \"size\": 16, \"symbol\": \"circle\"}, \"mode\": \"markers\", \"name\": \"Stiff\", \"showlegend\": false, \"type\": \"scatter\", \"x\": [\"AMD+JAM\", \"IQMD-BNU\", \"SMASH\", \"TuQMD\", \"UrQMD\", \"pBUU\", \"r'$\\\\chi \\\\text{BUU}$'\"], \"xaxis\": \"x8\", \"y\": [null, null, null, 3.824022857980146, 2.4763988522238165, 2.485033588891941, null], \"yaxis\": \"y8\"}, {\"marker\": {\"color\": \"lightpink\", \"line\": {\"color\": \"lightgray\", \"width\": 1}, \"size\": 16, \"symbol\": \"circle\"}, \"mode\": \"markers\", \"name\": \"Stiff\", \"showlegend\": false, \"type\": \"scatter\", \"x\": [\"AMD+JAM\", \"IQMD-BNU\", \"SMASH\", \"TuQMD\", \"UrQMD\", \"pBUU\", \"r'$\\\\chi \\\\text{BUU}$'\"], \"xaxis\": \"x9\", \"y\": [1.6551724137931036, 1.6654181523986453, 1.5497522752402824, 2.61878453038674, 1.8639455782312924, 1.8304097114011924, 1.9357142857142857], \"yaxis\": \"y9\"}],\n",
       "                        {\"autosize\": true, \"font\": {\"size\": 16}, \"height\": 800, \"hovermode\": \"closest\", \"legend\": {\"font\": {\"size\": 20}, \"xanchor\": \"right\", \"yanchor\": \"middle\"}, \"margin\": {\"b\": 50, \"l\": 50, \"r\": 80, \"t\": 80}, \"paper_bgcolor\": \"white\", \"plot_bgcolor\": \"white\", \"shapes\": [{\"fillcolor\": \"blue\", \"opacity\": 0.3, \"type\": \"rect\", \"x0\": -0.5, \"x1\": 6.5, \"xref\": \"x\", \"y0\": 0.6928, \"y1\": 0.7412, \"yref\": \"y\"}, {\"fillcolor\": \"blue\", \"opacity\": 0.3, \"type\": \"rect\", \"x0\": -0.5, \"x1\": 6.5, \"xref\": \"x2\", \"y0\": 0.4917, \"y1\": 0.5523, \"yref\": \"y2\"}, {\"fillcolor\": \"blue\", \"opacity\": 0.3, \"type\": \"rect\", \"x0\": -0.5, \"x1\": 6.5, \"xref\": \"x3\", \"y0\": 0.38480000000000003, \"y1\": 0.4132, \"yref\": \"y3\"}, {\"fillcolor\": \"blue\", \"opacity\": 0.3, \"type\": \"rect\", \"x0\": -0.5, \"x1\": 6.5, \"xref\": \"x4\", \"y0\": 0.14246999999999999, \"y1\": 0.15353, \"yref\": \"y4\"}, {\"fillcolor\": \"blue\", \"opacity\": 0.3, \"type\": \"rect\", \"x0\": -0.5, \"x1\": 6.5, \"xref\": \"x5\", \"y0\": 0.1572, \"y1\": 0.18280000000000002, \"yref\": \"y5\"}, {\"fillcolor\": \"blue\", \"opacity\": 0.3, \"type\": \"rect\", \"x0\": -0.5, \"x1\": 6.5, \"xref\": \"x6\", \"y0\": 0.19140000000000001, \"y1\": 0.2086, \"yref\": \"y6\"}, {\"fillcolor\": \"blue\", \"opacity\": 0.3, \"type\": \"rect\", \"x0\": -0.5, \"x1\": 6.5, \"xref\": \"x7\", \"y0\": 4.724594594594595, \"y1\": 4.964594594594595, \"yref\": \"y7\"}, {\"fillcolor\": \"blue\", \"opacity\": 0.3, \"type\": \"rect\", \"x0\": -0.5, \"x1\": 6.5, \"xref\": \"x8\", \"y0\": 2.830588235294117, \"y1\": 3.3105882352941176, \"yref\": \"y8\"}, {\"fillcolor\": \"blue\", \"opacity\": 0.3, \"type\": \"rect\", \"x0\": -0.5, \"x1\": 6.5, \"xref\": \"x9\", \"y0\": 1.9455, \"y1\": 2.0445, \"yref\": \"y9\"}, {\"line\": {\"width\": 3}, \"type\": \"line\", \"x0\": -0.5, \"x1\": 6.5, \"xref\": \"x\", \"y0\": 0.717, \"y1\": 0.717, \"yref\": \"y\"}, {\"line\": {\"width\": 3}, \"type\": \"line\", \"x0\": -0.5, \"x1\": 6.5, \"xref\": \"x2\", \"y0\": 0.522, \"y1\": 0.522, \"yref\": \"y2\"}, {\"line\": {\"width\": 3}, \"type\": \"line\", \"x0\": -0.5, \"x1\": 6.5, \"xref\": \"x3\", \"y0\": 0.399, \"y1\": 0.399, \"yref\": \"y3\"}, {\"line\": {\"width\": 3}, \"type\": \"line\", \"x0\": -0.5, \"x1\": 6.5, \"xref\": \"x4\", \"y0\": 0.148, \"y1\": 0.148, \"yref\": \"y4\"}, {\"line\": {\"width\": 3}, \"type\": \"line\", \"x0\": -0.5, \"x1\": 6.5, \"xref\": \"x5\", \"y0\": 0.17, \"y1\": 0.17, \"yref\": \"y5\"}, {\"line\": {\"width\": 3}, \"type\": \"line\", \"x0\": -0.5, \"x1\": 6.5, \"xref\": \"x6\", \"y0\": 0.2, \"y1\": 0.2, \"yref\": \"y6\"}, {\"line\": {\"width\": 3}, \"type\": \"line\", \"x0\": -0.5, \"x1\": 6.5, \"xref\": \"x7\", \"y0\": 4.844594594594595, \"y1\": 4.844594594594595, \"yref\": \"y7\"}, {\"line\": {\"width\": 3}, \"type\": \"line\", \"x0\": -0.5, \"x1\": 6.5, \"xref\": \"x8\", \"y0\": 3.0705882352941174, \"y1\": 3.0705882352941174, \"yref\": \"y8\"}, {\"line\": {\"width\": 3}, \"type\": \"line\", \"x0\": -0.5, \"x1\": 6.5, \"xref\": \"x9\", \"y0\": 1.995, \"y1\": 1.995, \"yref\": \"y9\"}], \"template\": {\"data\": {\"bar\": [{\"error_x\": {\"color\": \"#2a3f5f\"}, \"error_y\": {\"color\": \"#2a3f5f\"}, \"marker\": {\"line\": {\"color\": \"#E5ECF6\", \"width\": 0.5}}, \"type\": \"bar\"}], \"barpolar\": [{\"marker\": {\"line\": {\"color\": \"#E5ECF6\", \"width\": 0.5}}, \"type\": \"barpolar\"}], \"carpet\": [{\"aaxis\": {\"endlinecolor\": \"#2a3f5f\", \"gridcolor\": \"white\", \"linecolor\": \"white\", \"minorgridcolor\": \"white\", \"startlinecolor\": \"#2a3f5f\"}, \"baxis\": {\"endlinecolor\": \"#2a3f5f\", \"gridcolor\": \"white\", \"linecolor\": \"white\", \"minorgridcolor\": \"white\", \"startlinecolor\": \"#2a3f5f\"}, \"type\": \"carpet\"}], \"choropleth\": [{\"colorbar\": {\"outlinewidth\": 0, \"ticks\": \"\"}, \"type\": \"choropleth\"}], \"contour\": [{\"colorbar\": {\"outlinewidth\": 0, \"ticks\": \"\"}, \"colorscale\": [[0.0, \"#0d0887\"], [0.1111111111111111, \"#46039f\"], [0.2222222222222222, \"#7201a8\"], [0.3333333333333333, \"#9c179e\"], [0.4444444444444444, \"#bd3786\"], [0.5555555555555556, \"#d8576b\"], [0.6666666666666666, \"#ed7953\"], [0.7777777777777778, \"#fb9f3a\"], [0.8888888888888888, \"#fdca26\"], [1.0, \"#f0f921\"]], \"type\": \"contour\"}], \"contourcarpet\": [{\"colorbar\": {\"outlinewidth\": 0, \"ticks\": \"\"}, \"type\": \"contourcarpet\"}], \"heatmap\": [{\"colorbar\": {\"outlinewidth\": 0, \"ticks\": \"\"}, \"colorscale\": [[0.0, \"#0d0887\"], [0.1111111111111111, \"#46039f\"], [0.2222222222222222, \"#7201a8\"], [0.3333333333333333, \"#9c179e\"], [0.4444444444444444, \"#bd3786\"], [0.5555555555555556, \"#d8576b\"], [0.6666666666666666, \"#ed7953\"], [0.7777777777777778, \"#fb9f3a\"], [0.8888888888888888, \"#fdca26\"], [1.0, \"#f0f921\"]], \"type\": \"heatmap\"}], \"heatmapgl\": [{\"colorbar\": {\"outlinewidth\": 0, \"ticks\": \"\"}, \"colorscale\": [[0.0, \"#0d0887\"], [0.1111111111111111, \"#46039f\"], [0.2222222222222222, \"#7201a8\"], [0.3333333333333333, \"#9c179e\"], [0.4444444444444444, \"#bd3786\"], [0.5555555555555556, \"#d8576b\"], [0.6666666666666666, \"#ed7953\"], [0.7777777777777778, \"#fb9f3a\"], [0.8888888888888888, \"#fdca26\"], [1.0, \"#f0f921\"]], \"type\": \"heatmapgl\"}], \"histogram\": [{\"marker\": {\"colorbar\": {\"outlinewidth\": 0, \"ticks\": \"\"}}, \"type\": \"histogram\"}], \"histogram2d\": [{\"colorbar\": {\"outlinewidth\": 0, \"ticks\": \"\"}, \"colorscale\": [[0.0, \"#0d0887\"], [0.1111111111111111, \"#46039f\"], [0.2222222222222222, \"#7201a8\"], [0.3333333333333333, \"#9c179e\"], [0.4444444444444444, \"#bd3786\"], [0.5555555555555556, \"#d8576b\"], [0.6666666666666666, \"#ed7953\"], [0.7777777777777778, \"#fb9f3a\"], [0.8888888888888888, \"#fdca26\"], [1.0, \"#f0f921\"]], \"type\": \"histogram2d\"}], \"histogram2dcontour\": [{\"colorbar\": {\"outlinewidth\": 0, \"ticks\": \"\"}, \"colorscale\": [[0.0, \"#0d0887\"], [0.1111111111111111, \"#46039f\"], [0.2222222222222222, \"#7201a8\"], [0.3333333333333333, \"#9c179e\"], [0.4444444444444444, \"#bd3786\"], [0.5555555555555556, \"#d8576b\"], [0.6666666666666666, \"#ed7953\"], [0.7777777777777778, \"#fb9f3a\"], [0.8888888888888888, \"#fdca26\"], [1.0, \"#f0f921\"]], \"type\": \"histogram2dcontour\"}], \"mesh3d\": [{\"colorbar\": {\"outlinewidth\": 0, \"ticks\": \"\"}, \"type\": \"mesh3d\"}], \"parcoords\": [{\"line\": {\"colorbar\": {\"outlinewidth\": 0, \"ticks\": \"\"}}, \"type\": \"parcoords\"}], \"pie\": [{\"automargin\": true, \"type\": \"pie\"}], \"scatter\": [{\"marker\": {\"colorbar\": {\"outlinewidth\": 0, \"ticks\": \"\"}}, \"type\": \"scatter\"}], \"scatter3d\": [{\"line\": {\"colorbar\": {\"outlinewidth\": 0, \"ticks\": \"\"}}, \"marker\": {\"colorbar\": {\"outlinewidth\": 0, \"ticks\": \"\"}}, \"type\": \"scatter3d\"}], \"scattercarpet\": [{\"marker\": {\"colorbar\": {\"outlinewidth\": 0, \"ticks\": \"\"}}, \"type\": \"scattercarpet\"}], \"scattergeo\": [{\"marker\": {\"colorbar\": {\"outlinewidth\": 0, \"ticks\": \"\"}}, \"type\": \"scattergeo\"}], \"scattergl\": [{\"marker\": {\"colorbar\": {\"outlinewidth\": 0, \"ticks\": \"\"}}, \"type\": \"scattergl\"}], \"scattermapbox\": [{\"marker\": {\"colorbar\": {\"outlinewidth\": 0, \"ticks\": \"\"}}, \"type\": \"scattermapbox\"}], \"scatterpolar\": [{\"marker\": {\"colorbar\": {\"outlinewidth\": 0, \"ticks\": \"\"}}, \"type\": \"scatterpolar\"}], \"scatterpolargl\": [{\"marker\": {\"colorbar\": {\"outlinewidth\": 0, \"ticks\": \"\"}}, \"type\": \"scatterpolargl\"}], \"scatterternary\": [{\"marker\": {\"colorbar\": {\"outlinewidth\": 0, \"ticks\": \"\"}}, \"type\": \"scatterternary\"}], \"surface\": [{\"colorbar\": {\"outlinewidth\": 0, \"ticks\": \"\"}, \"colorscale\": [[0.0, \"#0d0887\"], [0.1111111111111111, \"#46039f\"], [0.2222222222222222, \"#7201a8\"], [0.3333333333333333, \"#9c179e\"], [0.4444444444444444, \"#bd3786\"], [0.5555555555555556, \"#d8576b\"], [0.6666666666666666, \"#ed7953\"], [0.7777777777777778, \"#fb9f3a\"], [0.8888888888888888, \"#fdca26\"], [1.0, \"#f0f921\"]], \"type\": \"surface\"}], \"table\": [{\"cells\": {\"fill\": {\"color\": \"#EBF0F8\"}, \"line\": {\"color\": \"white\"}}, \"header\": {\"fill\": {\"color\": \"#C8D4E3\"}, \"line\": {\"color\": \"white\"}}, \"type\": \"table\"}]}, \"layout\": {\"annotationdefaults\": {\"arrowcolor\": \"#2a3f5f\", \"arrowhead\": 0, \"arrowwidth\": 1}, \"coloraxis\": {\"colorbar\": {\"outlinewidth\": 0, \"ticks\": \"\"}}, \"colorscale\": {\"diverging\": [[0, \"#8e0152\"], [0.1, \"#c51b7d\"], [0.2, \"#de77ae\"], [0.3, \"#f1b6da\"], [0.4, \"#fde0ef\"], [0.5, \"#f7f7f7\"], [0.6, \"#e6f5d0\"], [0.7, \"#b8e186\"], [0.8, \"#7fbc41\"], [0.9, \"#4d9221\"], [1, \"#276419\"]], \"sequential\": [[0.0, \"#0d0887\"], [0.1111111111111111, \"#46039f\"], [0.2222222222222222, \"#7201a8\"], [0.3333333333333333, \"#9c179e\"], [0.4444444444444444, \"#bd3786\"], [0.5555555555555556, \"#d8576b\"], [0.6666666666666666, \"#ed7953\"], [0.7777777777777778, \"#fb9f3a\"], [0.8888888888888888, \"#fdca26\"], [1.0, \"#f0f921\"]], \"sequentialminus\": [[0.0, \"#0d0887\"], [0.1111111111111111, \"#46039f\"], [0.2222222222222222, \"#7201a8\"], [0.3333333333333333, \"#9c179e\"], [0.4444444444444444, \"#bd3786\"], [0.5555555555555556, \"#d8576b\"], [0.6666666666666666, \"#ed7953\"], [0.7777777777777778, \"#fb9f3a\"], [0.8888888888888888, \"#fdca26\"], [1.0, \"#f0f921\"]]}, \"colorway\": [\"#636efa\", \"#EF553B\", \"#00cc96\", \"#ab63fa\", \"#FFA15A\", \"#19d3f3\", \"#FF6692\", \"#B6E880\", \"#FF97FF\", \"#FECB52\"], \"font\": {\"color\": \"#2a3f5f\"}, \"geo\": {\"bgcolor\": \"white\", \"lakecolor\": \"white\", \"landcolor\": \"#E5ECF6\", \"showlakes\": true, \"showland\": true, \"subunitcolor\": \"white\"}, \"hoverlabel\": {\"align\": \"left\"}, \"hovermode\": \"closest\", \"mapbox\": {\"style\": \"light\"}, \"paper_bgcolor\": \"white\", \"plot_bgcolor\": \"#E5ECF6\", \"polar\": {\"angularaxis\": {\"gridcolor\": \"white\", \"linecolor\": \"white\", \"ticks\": \"\"}, \"bgcolor\": \"#E5ECF6\", \"radialaxis\": {\"gridcolor\": \"white\", \"linecolor\": \"white\", \"ticks\": \"\"}}, \"scene\": {\"xaxis\": {\"backgroundcolor\": \"#E5ECF6\", \"gridcolor\": \"white\", \"gridwidth\": 2, \"linecolor\": \"white\", \"showbackground\": true, \"ticks\": \"\", \"zerolinecolor\": \"white\"}, \"yaxis\": {\"backgroundcolor\": \"#E5ECF6\", \"gridcolor\": \"white\", \"gridwidth\": 2, \"linecolor\": \"white\", \"showbackground\": true, \"ticks\": \"\", \"zerolinecolor\": \"white\"}, \"zaxis\": {\"backgroundcolor\": \"#E5ECF6\", \"gridcolor\": \"white\", \"gridwidth\": 2, \"linecolor\": \"white\", \"showbackground\": true, \"ticks\": \"\", \"zerolinecolor\": \"white\"}}, \"shapedefaults\": {\"line\": {\"color\": \"#2a3f5f\"}}, \"ternary\": {\"aaxis\": {\"gridcolor\": \"white\", \"linecolor\": \"white\", \"ticks\": \"\"}, \"baxis\": {\"gridcolor\": \"white\", \"linecolor\": \"white\", \"ticks\": \"\"}, \"bgcolor\": \"#E5ECF6\", \"caxis\": {\"gridcolor\": \"white\", \"linecolor\": \"white\", \"ticks\": \"\"}}, \"title\": {\"x\": 0.05}, \"xaxis\": {\"automargin\": true, \"gridcolor\": \"white\", \"linecolor\": \"white\", \"ticks\": \"\", \"title\": {\"standoff\": 15}, \"zerolinecolor\": \"white\", \"zerolinewidth\": 2}, \"yaxis\": {\"automargin\": true, \"gridcolor\": \"white\", \"linecolor\": \"white\", \"ticks\": \"\", \"title\": {\"standoff\": 15}, \"zerolinecolor\": \"white\", \"zerolinewidth\": 2}}}, \"title\": {\"text\": \"\"}, \"width\": 1000, \"xaxis\": {\"anchor\": \"y\", \"domain\": [0.0, 0.3066666666666667], \"gridcolor\": \"lightgray\", \"gridwidth\": 1, \"linecolor\": \"rgb(102, 102, 102)\", \"matches\": \"x7\", \"showgrid\": true, \"showticklabels\": false}, \"xaxis2\": {\"anchor\": \"y2\", \"domain\": [0.3466666666666667, 0.6533333333333333], \"gridcolor\": \"lightgray\", \"gridwidth\": 1, \"linecolor\": \"rgb(102, 102, 102)\", \"matches\": \"x8\", \"showgrid\": true, \"showticklabels\": false}, \"xaxis3\": {\"anchor\": \"y3\", \"domain\": [0.6933333333333334, 1.0], \"gridcolor\": \"lightgray\", \"gridwidth\": 1, \"linecolor\": \"rgb(102, 102, 102)\", \"matches\": \"x9\", \"showgrid\": true, \"showticklabels\": false}, \"xaxis4\": {\"anchor\": \"y4\", \"domain\": [0.0, 0.3066666666666667], \"gridcolor\": \"lightgray\", \"gridwidth\": 1, \"linecolor\": \"rgb(102, 102, 102)\", \"matches\": \"x7\", \"showgrid\": true, \"showticklabels\": false}, \"xaxis5\": {\"anchor\": \"y5\", \"domain\": [0.3466666666666667, 0.6533333333333333], \"gridcolor\": \"lightgray\", \"gridwidth\": 1, \"linecolor\": \"rgb(102, 102, 102)\", \"matches\": \"x8\", \"showgrid\": true, \"showticklabels\": false}, \"xaxis6\": {\"anchor\": \"y6\", \"domain\": [0.6933333333333334, 1.0], \"gridcolor\": \"lightgray\", \"gridwidth\": 1, \"linecolor\": \"rgb(102, 102, 102)\", \"matches\": \"x9\", \"showgrid\": true, \"showticklabels\": false}, \"xaxis7\": {\"anchor\": \"y7\", \"domain\": [0.0, 0.3066666666666667], \"gridcolor\": \"lightgray\", \"gridwidth\": 1, \"linecolor\": \"rgb(102, 102, 102)\", \"showgrid\": true, \"showticklabels\": true, \"tickcolor\": \"rgb(102, 102, 102)\", \"tickfont\": {\"color\": \"rgb(102, 102, 102)\"}, \"ticks\": \"outside\", \"title\": {\"text\": \"132Sn + 124Sn\"}}, \"xaxis8\": {\"anchor\": \"y8\", \"domain\": [0.3466666666666667, 0.6533333333333333], \"gridcolor\": \"lightgray\", \"gridwidth\": 1, \"linecolor\": \"rgb(102, 102, 102)\", \"showgrid\": true, \"showticklabels\": true, \"tickcolor\": \"rgb(102, 102, 102)\", \"tickfont\": {\"color\": \"rgb(102, 102, 102)\"}, \"ticks\": \"outside\", \"title\": {\"text\": \"124Sn + 112Sn\"}}, \"xaxis9\": {\"anchor\": \"y9\", \"domain\": [0.6933333333333334, 1.0], \"gridcolor\": \"lightgray\", \"gridwidth\": 1, \"linecolor\": \"rgb(102, 102, 102)\", \"showgrid\": true, \"showticklabels\": true, \"tickcolor\": \"rgb(102, 102, 102)\", \"tickfont\": {\"color\": \"rgb(102, 102, 102)\"}, \"ticks\": \"outside\", \"title\": {\"text\": \"108Sn + 112Sn\"}}, \"yaxis\": {\"anchor\": \"x\", \"domain\": [0.6733333333333333, 1.0], \"dtick\": 0.2, \"linecolor\": \"rgb(102, 102, 102)\", \"range\": [0.2, 1], \"showticklabels\": true, \"tickcolor\": \"rgb(102, 102, 102)\", \"tickfont\": {\"color\": \"rgb(102, 102, 102)\"}, \"ticks\": \"outside\", \"title\": {\"text\": \"r'$\\\\pi^{-}$\"}}, \"yaxis2\": {\"anchor\": \"x2\", \"domain\": [0.6733333333333333, 1.0], \"dtick\": 0.2, \"linecolor\": \"rgb(102, 102, 102)\", \"matches\": \"y\", \"range\": [0.2, 0.8], \"showticklabels\": true, \"tickcolor\": \"rgb(102, 102, 102)\", \"tickfont\": {\"color\": \"rgb(102, 102, 102)\"}, \"ticks\": \"outside\"}, \"yaxis3\": {\"anchor\": \"x3\", \"domain\": [0.6733333333333333, 1.0], \"dtick\": 0.2, \"linecolor\": \"rgb(102, 102, 102)\", \"matches\": \"y\", \"range\": [0.1, 0.55], \"showticklabels\": true, \"tickcolor\": \"rgb(102, 102, 102)\", \"tickfont\": {\"color\": \"rgb(102, 102, 102)\"}, \"ticks\": \"outside\"}, \"yaxis4\": {\"anchor\": \"x4\", \"domain\": [0.33666666666666667, 0.6633333333333333], \"dtick\": 0.1, \"linecolor\": \"rgb(102, 102, 102)\", \"range\": [0.05, 0.25], \"showticklabels\": true, \"tickcolor\": \"rgb(102, 102, 102)\", \"tickfont\": {\"color\": \"rgb(102, 102, 102)\"}, \"ticks\": \"outside\", \"title\": {\"text\": \"r'$\\\\pi^{+}$\"}}, \"yaxis5\": {\"anchor\": \"x5\", \"domain\": [0.33666666666666667, 0.6633333333333333], \"dtick\": 0.1, \"linecolor\": \"rgb(102, 102, 102)\", \"matches\": \"y4\", \"range\": [0.05, 0.3], \"showticklabels\": true, \"tickcolor\": \"rgb(102, 102, 102)\", \"tickfont\": {\"color\": \"rgb(102, 102, 102)\"}, \"ticks\": \"outside\"}, \"yaxis6\": {\"anchor\": \"x6\", \"domain\": [0.33666666666666667, 0.6633333333333333], \"dtick\": 0.1, \"linecolor\": \"rgb(102, 102, 102)\", \"matches\": \"y4\", \"range\": [0.05, 0.3], \"showticklabels\": true, \"tickcolor\": \"rgb(102, 102, 102)\", \"tickfont\": {\"color\": \"rgb(102, 102, 102)\"}, \"ticks\": \"outside\"}, \"yaxis7\": {\"anchor\": \"x7\", \"domain\": [0.0, 0.32666666666666666], \"linecolor\": \"rgb(102, 102, 102)\", \"range\": [2.0, 6.5], \"showticklabels\": true, \"tickcolor\": \"rgb(102, 102, 102)\", \"tickfont\": {\"color\": \"rgb(102, 102, 102)\"}, \"ticks\": \"outside\", \"title\": {\"text\": \"r'$\\\\pi^{-}/\\\\pi^{+}$\"}, \"type\": \"log\"}, \"yaxis8\": {\"anchor\": \"x8\", \"domain\": [0.0, 0.32666666666666666], \"dtick\": 1, \"linecolor\": \"rgb(102, 102, 102)\", \"matches\": \"y7\", \"range\": [1.5, 4.5], \"showticklabels\": true, \"tickcolor\": \"rgb(102, 102, 102)\", \"tickfont\": {\"color\": \"rgb(102, 102, 102)\"}, \"ticks\": \"outside\", \"type\": \"log\"}, \"yaxis9\": {\"anchor\": \"x9\", \"domain\": [0.0, 0.32666666666666666], \"dtick\": 1, \"linecolor\": \"rgb(102, 102, 102)\", \"matches\": \"y7\", \"range\": [0.5, 3.5], \"showticklabels\": true, \"tickcolor\": \"rgb(102, 102, 102)\", \"tickfont\": {\"color\": \"rgb(102, 102, 102)\"}, \"ticks\": \"outside\", \"type\": \"log\"}},\n",
       "                        {\"responsive\": true}\n",
       "                    ).then(function(){\n",
       "                            \n",
       "var gd = document.getElementById('192ad084-d6c3-45ba-a8c9-2a1439440c8a');\n",
       "var x = new MutationObserver(function (mutations, observer) {{\n",
       "        var display = window.getComputedStyle(gd).display;\n",
       "        if (!display || display === 'none') {{\n",
       "            console.log([gd, 'removed!']);\n",
       "            Plotly.purge(gd);\n",
       "            observer.disconnect();\n",
       "        }}\n",
       "}});\n",
       "\n",
       "// Listen for the removal of the full notebook cells\n",
       "var notebookContainer = gd.closest('#notebook-container');\n",
       "if (notebookContainer) {{\n",
       "    x.observe(notebookContainer, {childList: true});\n",
       "}}\n",
       "\n",
       "// Listen for the clearing of the current output cell\n",
       "var outputEl = gd.closest('.output');\n",
       "if (outputEl) {{\n",
       "    x.observe(outputEl, {childList: true});\n",
       "}}\n",
       "\n",
       "                        })\n",
       "                };\n",
       "                });\n",
       "            </script>\n",
       "        </div>"
      ]
     },
     "metadata": {},
     "output_type": "display_data"
    }
   ],
   "source": [
    "fig.update_yaxes(range=[.2,1], dtick = .2, row = 1, col = 1,  linecolor='rgb(102, 102, 102)',\n",
    "        title_text=\"r'$\\pi^{-}$\",\n",
    "        tickfont_color='rgb(102, 102, 102)',\n",
    "        showticklabels=True,\n",
    "        ticks='outside',\n",
    "        tickcolor='rgb(102, 102, 102)')\n",
    "fig.update_yaxes(range=[.2,.8], dtick = .2, row = 1, col = 2,  linecolor='rgb(102, 102, 102)',\n",
    "        tickfont_color='rgb(102, 102, 102)',\n",
    "        showticklabels=True,\n",
    "        ticks='outside',\n",
    "        tickcolor='rgb(102, 102, 102)')\n",
    "\n",
    "fig.update_yaxes(range=[.1,.55], dtick = .2, row = 1, col = 3,  linecolor='rgb(102, 102, 102)',\n",
    "        tickfont_color='rgb(102, 102, 102)',\n",
    "        showticklabels=True,\n",
    "        ticks='outside',\n",
    "        tickcolor='rgb(102, 102, 102)',\n",
    "        )\n",
    "\n",
    "fig.update_yaxes(range=[.05,.25], dtick = .1, row = 2, col = 1,  linecolor='rgb(102, 102, 102)',\n",
    "        title_text=\"r'$\\pi^{+}$\",\n",
    "        tickfont_color='rgb(102, 102, 102)',\n",
    "        showticklabels=True,\n",
    "        ticks='outside',\n",
    "        tickcolor='rgb(102, 102, 102)')\n",
    "fig.update_yaxes(range=[.05,.3], dtick = .1, row = 2, col = 2,  linecolor='rgb(102, 102, 102)',\n",
    "        tickfont_color='rgb(102, 102, 102)',\n",
    "        showticklabels=True,\n",
    "        ticks='outside',\n",
    "        tickcolor='rgb(102, 102, 102)')\n",
    "\n",
    "fig.update_yaxes(range=[.05,.3], dtick = .1, row = 2, col = 3,  linecolor='rgb(102, 102, 102)',\n",
    "        tickfont_color='rgb(102, 102, 102)',\n",
    "        showticklabels=True,\n",
    "        ticks='outside',\n",
    "        tickcolor='rgb(102, 102, 102)',\n",
    "        )\n",
    "\n",
    "fig.update_yaxes(row = 3, col = 1, type = 'log')\n",
    "fig.update_yaxes(row = 3, col = 2, type = 'log')\n",
    "fig.update_yaxes( row = 3, col = 3, type = 'log')\n",
    "\n",
    "fig.update_yaxes(range=[2.,6.5],  row = 3, col = 1,  linecolor='rgb(102, 102, 102)',\n",
    "        title_text=\"r'$\\pi^{-}/\\pi^{+}$\",\n",
    "        tickfont_color='rgb(102, 102, 102)',\n",
    "        showticklabels=True,\n",
    "        ticks='outside',\n",
    "        tickcolor='rgb(102, 102, 102)')\n",
    "fig.update_yaxes(range=[1.5,4.5], dtick = 1, row = 3, col = 2,  linecolor='rgb(102, 102, 102)',\n",
    "        tickfont_color='rgb(102, 102, 102)',\n",
    "        showticklabels=True,\n",
    "        ticks='outside',\n",
    "        tickcolor='rgb(102, 102, 102)')\n",
    "\n",
    "fig.update_yaxes(range=[.5,3.5], dtick = 1, row = 3, col = 3,  linecolor='rgb(102, 102, 102)',\n",
    "        tickfont_color='rgb(102, 102, 102)',\n",
    "        showticklabels=True,\n",
    "        ticks='outside',\n",
    "        tickcolor='rgb(102, 102, 102)',\n",
    "        )\n",
    "\n",
    "\n",
    "fig.update_xaxes(row = 1, col = 1,  linecolor='rgb(102, 102, 102)',\n",
    "        showticklabels=False,)\n",
    "\n",
    "fig.update_xaxes(row = 1, col = 2,  linecolor='rgb(102, 102, 102)',\n",
    "        showticklabels=False,)\n",
    "\n",
    "fig.update_xaxes(row = 1, col = 3,  linecolor='rgb(102, 102, 102)',\n",
    "        showticklabels=False,)\n",
    "\n",
    "\n",
    "fig.update_xaxes(row = 2, col = 1,  linecolor='rgb(102, 102, 102)',\n",
    "        showticklabels=False,)\n",
    "\n",
    "fig.update_xaxes(row = 2, col = 2,  linecolor='rgb(102, 102, 102)',\n",
    "        showticklabels=False,)\n",
    "\n",
    "fig.update_xaxes(row = 2, col = 3,  linecolor='rgb(102, 102, 102)',\n",
    "        showticklabels=False,)\n",
    "\n",
    "\n",
    "fig.update_xaxes(row = 3, col = 1,  linecolor='rgb(102, 102, 102)',\n",
    "        title_text= \"132Sn + 124Sn\",\n",
    "        tickfont_color='rgb(102, 102, 102)',\n",
    "        showticklabels=True,\n",
    "        ticks='outside',\n",
    "        tickcolor='rgb(102, 102, 102)')\n",
    "fig.update_xaxes(row = 3, col = 2,  linecolor='rgb(102, 102, 102)',\n",
    "        title_text=\"124Sn + 112Sn\",\n",
    "        tickfont_color='rgb(102, 102, 102)',\n",
    "        showticklabels=True,\n",
    "        ticks='outside',\n",
    "        tickcolor='rgb(102, 102, 102)')\n",
    "\n",
    "fig.update_xaxes(row = 3, col = 3,  linecolor='rgb(102, 102, 102)',\n",
    "        title_text=\"108Sn + 112Sn\",\n",
    "        tickfont_color='rgb(102, 102, 102)',\n",
    "        showticklabels=True,\n",
    "        ticks='outside',\n",
    "        tickcolor='rgb(102, 102, 102)',\n",
    "        )\n",
    "#fig.update_layout(title= \"r'$\\pi^{-}$\", row = 1, col = 2, )\n",
    "\n",
    "fig.update_traces(mode='markers', marker=dict(line_width=1, symbol='circle', size=16))\n",
    "fig.update_xaxes(showgrid=True, gridwidth=1, gridcolor='lightgray')\n",
    "\n",
    "#fig.update_xaxes(range=[.05,.25], dtick = .1, row = 1, col = 2)\n",
    "\n",
    "fig.update_layout(\n",
    "    autosize=True,\n",
    "    title=\"\",\n",
    "    margin=dict(l=50, r=80, b=50, t=80),\n",
    "    font=dict(\n",
    "       # family=\"Courier New, monospace\",\n",
    "       size=16\n",
    "    #    color=\"#7f7f7f\"\n",
    "    ),\n",
    "    legend=dict(\n",
    "        font_size=20,\n",
    "        yanchor='middle',\n",
    "        xanchor='right',\n",
    "    ),\n",
    "    width=1000,\n",
    "    height=800,\n",
    "    paper_bgcolor='white',\n",
    "    plot_bgcolor='white',\n",
    "    hovermode='closest',\n",
    ")\n",
    "\n",
    "fig.write_image(\"pionpaper_horz_lin.pdf\")\n",
    "\n",
    "fig.show()"
   ]
  },
  {
   "cell_type": "code",
   "execution_count": null,
   "metadata": {},
   "outputs": [],
   "source": []
  },
  {
   "cell_type": "code",
   "execution_count": null,
   "metadata": {},
   "outputs": [],
   "source": []
  },
  {
   "cell_type": "code",
   "execution_count": null,
   "metadata": {},
   "outputs": [],
   "source": []
  }
 ],
 "metadata": {
  "kernelspec": {
   "display_name": "Python 3",
   "language": "python",
   "name": "python3"
  },
  "language_info": {
   "codemirror_mode": {
    "name": "ipython",
    "version": 3
   },
   "file_extension": ".py",
   "mimetype": "text/x-python",
   "name": "python",
   "nbconvert_exporter": "python",
   "pygments_lexer": "ipython3",
   "version": "3.6.2"
  }
 },
 "nbformat": 4,
 "nbformat_minor": 4
}
