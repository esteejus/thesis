{
 "cells": [
  {
   "cell_type": "code",
   "execution_count": 62,
   "metadata": {},
   "outputs": [],
   "source": [
    "import plotly.graph_objects as go\n",
    "from plotly.subplots import make_subplots\n",
    "import pandas as pd\n",
    "import numpy as np\n",
    "from plotly.offline import iplot, init_notebook_mode\n",
    "import matplotlib.pyplot as plt"
   ]
  },
  {
   "cell_type": "code",
   "execution_count": 63,
   "metadata": {},
   "outputs": [],
   "source": [
    "#codes with all L values\n",
    "sn132_theory = pd.read_csv('Pion_Multiplicity_Theory - 132.csv', sep=',')\n",
    "sn108_theory = pd.read_csv('Pion_Multiplicity_Theory - 108.csv', sep=',')\n",
    "sn124_theory = pd.read_csv('Pion_Multiplicity_Theory - 124.csv', sep=',')\n",
    "\n",
    "#codes with only min max L values\n",
    "#sn132_theory = pd.read_csv('Pion_Multiplicity_Theory - Copy of 132.csv', sep=',')\n",
    "#sn108_theory = pd.read_csv('Pion_Multiplicity_Theory - Copy of 108.csv', sep=',')\n",
    "#sn124_theory = pd.read_csv('Pion_Multiplicity_Theory - Copy of 124.csv', sep=',')\n",
    "\n",
    "sn132_theory['ratio'] = sn132_theory['pim']/sn132_theory['pip']\n",
    "sn124_theory['ratio'] = sn124_theory['pim']/sn124_theory['pip']\n",
    "sn108_theory['ratio'] = sn108_theory['pim']/sn108_theory['pip']"
   ]
  },
  {
   "cell_type": "code",
   "execution_count": 64,
   "metadata": {},
   "outputs": [],
   "source": [
    "\n",
    "sn132_theory_min = sn132_theory.reset_index()\n",
    "sn132_theory_min = sn132_theory_min.loc[sn132_theory.groupby('name')['L'].idxmin()]\n",
    "\n",
    "sn132_theory_max = sn132_theory.reset_index()\n",
    "sn132_theory_max = sn132_theory_max.loc[sn132_theory.groupby('name')['L'].idxmax()]\n",
    "\n",
    "\n",
    "sn124_theory_min = sn124_theory.reset_index()\n",
    "sn124_theory_min = sn124_theory_min.loc[sn124_theory.groupby('name')['L'].idxmin()]\n",
    "\n",
    "sn124_theory_max = sn124_theory.reset_index()\n",
    "sn124_theory_max = sn124_theory_max.loc[sn124_theory.groupby('name')['L'].idxmax()]\n",
    "\n",
    "sn108_theory_min = sn108_theory.reset_index()\n",
    "sn108_theory_min = sn108_theory_min.loc[sn108_theory.groupby('name')['L'].idxmin()]\n",
    "\n",
    "sn108_theory_max = sn108_theory.reset_index()\n",
    "sn108_theory_max = sn108_theory_max.loc[sn108_theory.groupby('name')['L'].idxmax()]"
   ]
  },
  {
   "cell_type": "code",
   "execution_count": null,
   "metadata": {},
   "outputs": [],
   "source": []
  },
  {
   "cell_type": "code",
   "execution_count": 85,
   "metadata": {},
   "outputs": [
    {
     "data": {
      "application/vnd.plotly.v1+json": {
       "config": {
        "plotlyServerURL": "https://plot.ly"
       },
       "data": [
        {
         "marker": {
          "color": "lightblue",
          "line": {
           "color": "rgba(156, 165, 196, 1.0)"
          }
         },
         "name": "Soft",
         "type": "scatter",
         "x": [
          0.509,
          0.33899999999999997,
          0.541845,
          0.46810799999999997,
          0.779,
          0.479,
          0.697894
         ],
         "xaxis": "x",
         "y": [
          "#chiBUU",
          "AMD+JAM",
          "IQMD-BNU",
          "SMASH",
          "TuQMD",
          "UrQMD",
          "pBUU"
         ],
         "yaxis": "y"
        },
        {
         "marker": {
          "color": "lightblue",
          "line": {
           "color": "rgba(156, 165, 196, 1.0)"
          }
         },
         "name": "Soft",
         "showlegend": false,
         "type": "scatter",
         "x": [
          0,
          0,
          0,
          0,
          0.579516,
          0.3513,
          0.521315
         ],
         "xaxis": "x2",
         "y": [
          "#chiBUU",
          "AMD+JAM",
          "IQMD-BNU",
          "SMASH",
          "TuQMD",
          "UrQMD",
          "pBUU"
         ],
         "yaxis": "y2"
        },
        {
         "marker": {
          "color": "lightblue",
          "line": {
           "color": "rgba(156, 165, 196, 1.0)"
          }
         },
         "name": "Soft",
         "showlegend": false,
         "type": "scatter",
         "x": [
          0.26899999999999996,
          0.2,
          0.3187,
          0.287452,
          0.442,
          0.292,
          0.40074699999999996
         ],
         "xaxis": "x3",
         "y": [
          "#chiBUU",
          "AMD+JAM",
          "IQMD-BNU",
          "SMASH",
          "TuQMD",
          "UrQMD",
          "pBUU"
         ],
         "yaxis": "y3"
        },
        {
         "marker": {
          "color": "rgba(156, 165, 196, 0.95)",
          "line": {
           "color": "rgba(156, 165, 196, 1.0)"
          }
         },
         "name": "Stiff",
         "type": "scatter",
         "x": [
          0.483,
          0.311,
          0.45182,
          0.479238,
          0.8390000000000001,
          0.449,
          0.648582
         ],
         "xaxis": "x",
         "y": [
          "#chiBUU",
          "AMD+JAM",
          "IQMD-BNU",
          "SMASH",
          "TuQMD",
          "UrQMD",
          "pBUU"
         ],
         "yaxis": "y"
        },
        {
         "marker": {
          "color": "rgba(156, 165, 196, 0.95)",
          "line": {
           "color": "rgba(156, 165, 196, 1.0)"
          }
         },
         "name": "Stiff",
         "showlegend": false,
         "type": "scatter",
         "x": [
          0,
          0,
          0,
          0,
          0.626352,
          0.34521,
          0.497541
         ],
         "xaxis": "x2",
         "y": [
          "#chiBUU",
          "AMD+JAM",
          "IQMD-BNU",
          "SMASH",
          "TuQMD",
          "UrQMD",
          "pBUU"
         ],
         "yaxis": "y2"
        },
        {
         "marker": {
          "color": "rgba(156, 165, 196, 0.95)",
          "line": {
           "color": "rgba(156, 165, 196, 1.0)"
          }
         },
         "name": "Stiff",
         "showlegend": false,
         "type": "scatter",
         "x": [
          0.271,
          0.192,
          0.2779,
          0.291527,
          0.474,
          0.27399999999999997,
          0.392341
         ],
         "xaxis": "x3",
         "y": [
          "#chiBUU",
          "AMD+JAM",
          "IQMD-BNU",
          "SMASH",
          "TuQMD",
          "UrQMD",
          "pBUU"
         ],
         "yaxis": "y3"
        },
        {
         "marker": {
          "color": "lightblue",
          "line": {
           "color": "rgba(217, 217, 217, 1.0)"
          }
         },
         "name": "Soft",
         "showlegend": false,
         "type": "scatter",
         "x": [
          0.109,
          0.0978,
          0.147585,
          0.167683,
          0.145,
          0.129,
          0.180926
         ],
         "xaxis": "x4",
         "y": [
          "#chiBUU",
          "AMD+JAM",
          "IQMD-BNU",
          "SMASH",
          "TuQMD",
          "UrQMD",
          "pBUU"
         ],
         "yaxis": "y4"
        },
        {
         "marker": {
          "color": "lightblue",
          "line": {
           "color": "rgba(217, 217, 217, 1.0)"
          }
         },
         "name": "Soft",
         "showlegend": false,
         "type": "scatter",
         "x": [
          0,
          0,
          0,
          0,
          0.16228499999999998,
          0.13985,
          0.196993
         ],
         "xaxis": "x5",
         "y": [
          "#chiBUU",
          "AMD+JAM",
          "IQMD-BNU",
          "SMASH",
          "TuQMD",
          "UrQMD",
          "pBUU"
         ],
         "yaxis": "y5"
        },
        {
         "marker": {
          "color": "lightblue",
          "line": {
           "color": "rgba(217, 217, 217, 1.0)"
          }
         },
         "name": "Soft",
         "showlegend": false,
         "type": "scatter",
         "x": [
          0.134,
          0.11599999999999999,
          0.174835,
          0.190153,
          0.17600000000000002,
          0.14400000000000002,
          0.21334699999999998
         ],
         "xaxis": "x6",
         "y": [
          "#chiBUU",
          "AMD+JAM",
          "IQMD-BNU",
          "SMASH",
          "TuQMD",
          "UrQMD",
          "pBUU"
         ],
         "yaxis": "y6"
        },
        {
         "marker": {
          "color": "lightblue",
          "line": {
           "color": "rgba(156, 165, 196, 1.0)"
          }
         },
         "name": "Soft",
         "showlegend": false,
         "type": "scatter",
         "x": [
          4.669724770642202,
          3.466257668711656,
          3.6714096961073284,
          2.791624672745597,
          5.372413793103449,
          3.7131782945736433,
          3.8573449918751312
         ],
         "xaxis": "x7",
         "y": [
          "#chiBUU",
          "AMD+JAM",
          "IQMD-BNU",
          "SMASH",
          "TuQMD",
          "UrQMD",
          "pBUU"
         ],
         "yaxis": "y7"
        },
        {
         "marker": {
          "color": "lightblue",
          "line": {
           "color": "rgba(156, 165, 196, 1.0)"
          }
         },
         "name": "Soft",
         "showlegend": false,
         "type": "scatter",
         "x": [
          null,
          null,
          null,
          null,
          3.570976984933913,
          2.5119771183410795,
          2.646363068738483
         ],
         "xaxis": "x8",
         "y": [
          "#chiBUU",
          "AMD+JAM",
          "IQMD-BNU",
          "SMASH",
          "TuQMD",
          "UrQMD",
          "pBUU"
         ],
         "yaxis": "y8"
        },
        {
         "marker": {
          "color": "lightblue",
          "line": {
           "color": "rgba(156, 165, 196, 1.0)"
          }
         },
         "name": "Soft",
         "showlegend": false,
         "type": "scatter",
         "x": [
          2.007462686567164,
          1.7241379310344829,
          1.822861555180599,
          1.5116879565402597,
          2.5113636363636362,
          2.0277777777777772,
          1.8783812287025363
         ],
         "xaxis": "x9",
         "y": [
          "#chiBUU",
          "AMD+JAM",
          "IQMD-BNU",
          "SMASH",
          "TuQMD",
          "UrQMD",
          "pBUU"
         ],
         "yaxis": "y9"
        },
        {
         "marker": {
          "color": "rgba(204, 204, 204, 0.95)",
          "line": {
           "color": "rgba(217, 217, 217, 1.0)"
          }
         },
         "name": "Stiff",
         "showlegend": false,
         "type": "scatter",
         "x": [
          4.128205128205129,
          3.1541582150101424,
          2.9508539333180943,
          2.932123540784611,
          5.786206896551725,
          3.3759398496240602,
          3.5131407895307016
         ],
         "xaxis": "x7",
         "y": [
          "#chiBUU",
          "AMD+JAM",
          "IQMD-BNU",
          "SMASH",
          "TuQMD",
          "UrQMD",
          "pBUU"
         ],
         "yaxis": "y7"
        },
        {
         "marker": {
          "color": "rgba(204, 204, 204, 0.95)",
          "line": {
           "color": "rgba(217, 217, 217, 1.0)"
          }
         },
         "name": "Stiff",
         "showlegend": false,
         "type": "scatter",
         "x": [
          null,
          null,
          null,
          null,
          3.824022857980146,
          2.4763988522238165,
          2.485033588891941
         ],
         "xaxis": "x8",
         "y": [
          "#chiBUU",
          "AMD+JAM",
          "IQMD-BNU",
          "SMASH",
          "TuQMD",
          "UrQMD",
          "pBUU"
         ],
         "yaxis": "y8"
        },
        {
         "marker": {
          "color": "rgba(204, 204, 204, 0.95)",
          "line": {
           "color": "rgba(217, 217, 217, 1.0)"
          }
         },
         "name": "Stiff",
         "showlegend": false,
         "type": "scatter",
         "x": [
          1.9357142857142857,
          1.6551724137931036,
          1.6654181523986453,
          1.5497522752402824,
          2.61878453038674,
          1.8639455782312924,
          1.8304097114011924
         ],
         "xaxis": "x9",
         "y": [
          "#chiBUU",
          "AMD+JAM",
          "IQMD-BNU",
          "SMASH",
          "TuQMD",
          "UrQMD",
          "pBUU"
         ],
         "yaxis": "y9"
        }
       ],
       "layout": {
        "annotations": [
         {
          "font": {
           "size": 16
          },
          "showarrow": false,
          "text": "r'$\\pi^{-}$",
          "x": 0.5,
          "xanchor": "center",
          "xref": "paper",
          "y": 1,
          "yanchor": "bottom",
          "yref": "paper"
         },
         {
          "font": {
           "size": 16
          },
          "showarrow": false,
          "text": "r'$\\pi^{+}$",
          "x": 0.5,
          "xanchor": "center",
          "xref": "paper",
          "y": 0.6333333333333333,
          "yanchor": "bottom",
          "yref": "paper"
         },
         {
          "font": {
           "size": 16
          },
          "showarrow": false,
          "text": "r'$\\pi^{-}/\\pi^{+}$",
          "x": 0.5,
          "xanchor": "center",
          "xref": "paper",
          "y": 0.26666666666666666,
          "yanchor": "bottom",
          "yref": "paper"
         }
        ],
        "template": {
         "data": {
          "bar": [
           {
            "error_x": {
             "color": "#2a3f5f"
            },
            "error_y": {
             "color": "#2a3f5f"
            },
            "marker": {
             "line": {
              "color": "#E5ECF6",
              "width": 0.5
             }
            },
            "type": "bar"
           }
          ],
          "barpolar": [
           {
            "marker": {
             "line": {
              "color": "#E5ECF6",
              "width": 0.5
             }
            },
            "type": "barpolar"
           }
          ],
          "carpet": [
           {
            "aaxis": {
             "endlinecolor": "#2a3f5f",
             "gridcolor": "white",
             "linecolor": "white",
             "minorgridcolor": "white",
             "startlinecolor": "#2a3f5f"
            },
            "baxis": {
             "endlinecolor": "#2a3f5f",
             "gridcolor": "white",
             "linecolor": "white",
             "minorgridcolor": "white",
             "startlinecolor": "#2a3f5f"
            },
            "type": "carpet"
           }
          ],
          "choropleth": [
           {
            "colorbar": {
             "outlinewidth": 0,
             "ticks": ""
            },
            "type": "choropleth"
           }
          ],
          "contour": [
           {
            "colorbar": {
             "outlinewidth": 0,
             "ticks": ""
            },
            "colorscale": [
             [
              0,
              "#0d0887"
             ],
             [
              0.1111111111111111,
              "#46039f"
             ],
             [
              0.2222222222222222,
              "#7201a8"
             ],
             [
              0.3333333333333333,
              "#9c179e"
             ],
             [
              0.4444444444444444,
              "#bd3786"
             ],
             [
              0.5555555555555556,
              "#d8576b"
             ],
             [
              0.6666666666666666,
              "#ed7953"
             ],
             [
              0.7777777777777778,
              "#fb9f3a"
             ],
             [
              0.8888888888888888,
              "#fdca26"
             ],
             [
              1,
              "#f0f921"
             ]
            ],
            "type": "contour"
           }
          ],
          "contourcarpet": [
           {
            "colorbar": {
             "outlinewidth": 0,
             "ticks": ""
            },
            "type": "contourcarpet"
           }
          ],
          "heatmap": [
           {
            "colorbar": {
             "outlinewidth": 0,
             "ticks": ""
            },
            "colorscale": [
             [
              0,
              "#0d0887"
             ],
             [
              0.1111111111111111,
              "#46039f"
             ],
             [
              0.2222222222222222,
              "#7201a8"
             ],
             [
              0.3333333333333333,
              "#9c179e"
             ],
             [
              0.4444444444444444,
              "#bd3786"
             ],
             [
              0.5555555555555556,
              "#d8576b"
             ],
             [
              0.6666666666666666,
              "#ed7953"
             ],
             [
              0.7777777777777778,
              "#fb9f3a"
             ],
             [
              0.8888888888888888,
              "#fdca26"
             ],
             [
              1,
              "#f0f921"
             ]
            ],
            "type": "heatmap"
           }
          ],
          "heatmapgl": [
           {
            "colorbar": {
             "outlinewidth": 0,
             "ticks": ""
            },
            "colorscale": [
             [
              0,
              "#0d0887"
             ],
             [
              0.1111111111111111,
              "#46039f"
             ],
             [
              0.2222222222222222,
              "#7201a8"
             ],
             [
              0.3333333333333333,
              "#9c179e"
             ],
             [
              0.4444444444444444,
              "#bd3786"
             ],
             [
              0.5555555555555556,
              "#d8576b"
             ],
             [
              0.6666666666666666,
              "#ed7953"
             ],
             [
              0.7777777777777778,
              "#fb9f3a"
             ],
             [
              0.8888888888888888,
              "#fdca26"
             ],
             [
              1,
              "#f0f921"
             ]
            ],
            "type": "heatmapgl"
           }
          ],
          "histogram": [
           {
            "marker": {
             "colorbar": {
              "outlinewidth": 0,
              "ticks": ""
             }
            },
            "type": "histogram"
           }
          ],
          "histogram2d": [
           {
            "colorbar": {
             "outlinewidth": 0,
             "ticks": ""
            },
            "colorscale": [
             [
              0,
              "#0d0887"
             ],
             [
              0.1111111111111111,
              "#46039f"
             ],
             [
              0.2222222222222222,
              "#7201a8"
             ],
             [
              0.3333333333333333,
              "#9c179e"
             ],
             [
              0.4444444444444444,
              "#bd3786"
             ],
             [
              0.5555555555555556,
              "#d8576b"
             ],
             [
              0.6666666666666666,
              "#ed7953"
             ],
             [
              0.7777777777777778,
              "#fb9f3a"
             ],
             [
              0.8888888888888888,
              "#fdca26"
             ],
             [
              1,
              "#f0f921"
             ]
            ],
            "type": "histogram2d"
           }
          ],
          "histogram2dcontour": [
           {
            "colorbar": {
             "outlinewidth": 0,
             "ticks": ""
            },
            "colorscale": [
             [
              0,
              "#0d0887"
             ],
             [
              0.1111111111111111,
              "#46039f"
             ],
             [
              0.2222222222222222,
              "#7201a8"
             ],
             [
              0.3333333333333333,
              "#9c179e"
             ],
             [
              0.4444444444444444,
              "#bd3786"
             ],
             [
              0.5555555555555556,
              "#d8576b"
             ],
             [
              0.6666666666666666,
              "#ed7953"
             ],
             [
              0.7777777777777778,
              "#fb9f3a"
             ],
             [
              0.8888888888888888,
              "#fdca26"
             ],
             [
              1,
              "#f0f921"
             ]
            ],
            "type": "histogram2dcontour"
           }
          ],
          "mesh3d": [
           {
            "colorbar": {
             "outlinewidth": 0,
             "ticks": ""
            },
            "type": "mesh3d"
           }
          ],
          "parcoords": [
           {
            "line": {
             "colorbar": {
              "outlinewidth": 0,
              "ticks": ""
             }
            },
            "type": "parcoords"
           }
          ],
          "pie": [
           {
            "automargin": true,
            "type": "pie"
           }
          ],
          "scatter": [
           {
            "marker": {
             "colorbar": {
              "outlinewidth": 0,
              "ticks": ""
             }
            },
            "type": "scatter"
           }
          ],
          "scatter3d": [
           {
            "line": {
             "colorbar": {
              "outlinewidth": 0,
              "ticks": ""
             }
            },
            "marker": {
             "colorbar": {
              "outlinewidth": 0,
              "ticks": ""
             }
            },
            "type": "scatter3d"
           }
          ],
          "scattercarpet": [
           {
            "marker": {
             "colorbar": {
              "outlinewidth": 0,
              "ticks": ""
             }
            },
            "type": "scattercarpet"
           }
          ],
          "scattergeo": [
           {
            "marker": {
             "colorbar": {
              "outlinewidth": 0,
              "ticks": ""
             }
            },
            "type": "scattergeo"
           }
          ],
          "scattergl": [
           {
            "marker": {
             "colorbar": {
              "outlinewidth": 0,
              "ticks": ""
             }
            },
            "type": "scattergl"
           }
          ],
          "scattermapbox": [
           {
            "marker": {
             "colorbar": {
              "outlinewidth": 0,
              "ticks": ""
             }
            },
            "type": "scattermapbox"
           }
          ],
          "scatterpolar": [
           {
            "marker": {
             "colorbar": {
              "outlinewidth": 0,
              "ticks": ""
             }
            },
            "type": "scatterpolar"
           }
          ],
          "scatterpolargl": [
           {
            "marker": {
             "colorbar": {
              "outlinewidth": 0,
              "ticks": ""
             }
            },
            "type": "scatterpolargl"
           }
          ],
          "scatterternary": [
           {
            "marker": {
             "colorbar": {
              "outlinewidth": 0,
              "ticks": ""
             }
            },
            "type": "scatterternary"
           }
          ],
          "surface": [
           {
            "colorbar": {
             "outlinewidth": 0,
             "ticks": ""
            },
            "colorscale": [
             [
              0,
              "#0d0887"
             ],
             [
              0.1111111111111111,
              "#46039f"
             ],
             [
              0.2222222222222222,
              "#7201a8"
             ],
             [
              0.3333333333333333,
              "#9c179e"
             ],
             [
              0.4444444444444444,
              "#bd3786"
             ],
             [
              0.5555555555555556,
              "#d8576b"
             ],
             [
              0.6666666666666666,
              "#ed7953"
             ],
             [
              0.7777777777777778,
              "#fb9f3a"
             ],
             [
              0.8888888888888888,
              "#fdca26"
             ],
             [
              1,
              "#f0f921"
             ]
            ],
            "type": "surface"
           }
          ],
          "table": [
           {
            "cells": {
             "fill": {
              "color": "#EBF0F8"
             },
             "line": {
              "color": "white"
             }
            },
            "header": {
             "fill": {
              "color": "#C8D4E3"
             },
             "line": {
              "color": "white"
             }
            },
            "type": "table"
           }
          ]
         },
         "layout": {
          "annotationdefaults": {
           "arrowcolor": "#2a3f5f",
           "arrowhead": 0,
           "arrowwidth": 1
          },
          "coloraxis": {
           "colorbar": {
            "outlinewidth": 0,
            "ticks": ""
           }
          },
          "colorscale": {
           "diverging": [
            [
             0,
             "#8e0152"
            ],
            [
             0.1,
             "#c51b7d"
            ],
            [
             0.2,
             "#de77ae"
            ],
            [
             0.3,
             "#f1b6da"
            ],
            [
             0.4,
             "#fde0ef"
            ],
            [
             0.5,
             "#f7f7f7"
            ],
            [
             0.6,
             "#e6f5d0"
            ],
            [
             0.7,
             "#b8e186"
            ],
            [
             0.8,
             "#7fbc41"
            ],
            [
             0.9,
             "#4d9221"
            ],
            [
             1,
             "#276419"
            ]
           ],
           "sequential": [
            [
             0,
             "#0d0887"
            ],
            [
             0.1111111111111111,
             "#46039f"
            ],
            [
             0.2222222222222222,
             "#7201a8"
            ],
            [
             0.3333333333333333,
             "#9c179e"
            ],
            [
             0.4444444444444444,
             "#bd3786"
            ],
            [
             0.5555555555555556,
             "#d8576b"
            ],
            [
             0.6666666666666666,
             "#ed7953"
            ],
            [
             0.7777777777777778,
             "#fb9f3a"
            ],
            [
             0.8888888888888888,
             "#fdca26"
            ],
            [
             1,
             "#f0f921"
            ]
           ],
           "sequentialminus": [
            [
             0,
             "#0d0887"
            ],
            [
             0.1111111111111111,
             "#46039f"
            ],
            [
             0.2222222222222222,
             "#7201a8"
            ],
            [
             0.3333333333333333,
             "#9c179e"
            ],
            [
             0.4444444444444444,
             "#bd3786"
            ],
            [
             0.5555555555555556,
             "#d8576b"
            ],
            [
             0.6666666666666666,
             "#ed7953"
            ],
            [
             0.7777777777777778,
             "#fb9f3a"
            ],
            [
             0.8888888888888888,
             "#fdca26"
            ],
            [
             1,
             "#f0f921"
            ]
           ]
          },
          "colorway": [
           "#636efa",
           "#EF553B",
           "#00cc96",
           "#ab63fa",
           "#FFA15A",
           "#19d3f3",
           "#FF6692",
           "#B6E880",
           "#FF97FF",
           "#FECB52"
          ],
          "font": {
           "color": "#2a3f5f"
          },
          "geo": {
           "bgcolor": "white",
           "lakecolor": "white",
           "landcolor": "#E5ECF6",
           "showlakes": true,
           "showland": true,
           "subunitcolor": "white"
          },
          "hoverlabel": {
           "align": "left"
          },
          "hovermode": "closest",
          "mapbox": {
           "style": "light"
          },
          "paper_bgcolor": "white",
          "plot_bgcolor": "#E5ECF6",
          "polar": {
           "angularaxis": {
            "gridcolor": "white",
            "linecolor": "white",
            "ticks": ""
           },
           "bgcolor": "#E5ECF6",
           "radialaxis": {
            "gridcolor": "white",
            "linecolor": "white",
            "ticks": ""
           }
          },
          "scene": {
           "xaxis": {
            "backgroundcolor": "#E5ECF6",
            "gridcolor": "white",
            "gridwidth": 2,
            "linecolor": "white",
            "showbackground": true,
            "ticks": "",
            "zerolinecolor": "white"
           },
           "yaxis": {
            "backgroundcolor": "#E5ECF6",
            "gridcolor": "white",
            "gridwidth": 2,
            "linecolor": "white",
            "showbackground": true,
            "ticks": "",
            "zerolinecolor": "white"
           },
           "zaxis": {
            "backgroundcolor": "#E5ECF6",
            "gridcolor": "white",
            "gridwidth": 2,
            "linecolor": "white",
            "showbackground": true,
            "ticks": "",
            "zerolinecolor": "white"
           }
          },
          "shapedefaults": {
           "line": {
            "color": "#2a3f5f"
           }
          },
          "ternary": {
           "aaxis": {
            "gridcolor": "white",
            "linecolor": "white",
            "ticks": ""
           },
           "baxis": {
            "gridcolor": "white",
            "linecolor": "white",
            "ticks": ""
           },
           "bgcolor": "#E5ECF6",
           "caxis": {
            "gridcolor": "white",
            "linecolor": "white",
            "ticks": ""
           }
          },
          "title": {
           "x": 0.05
          },
          "xaxis": {
           "automargin": true,
           "gridcolor": "white",
           "linecolor": "white",
           "ticks": "",
           "title": {
            "standoff": 15
           },
           "zerolinecolor": "white",
           "zerolinewidth": 2
          },
          "yaxis": {
           "automargin": true,
           "gridcolor": "white",
           "linecolor": "white",
           "ticks": "",
           "title": {
            "standoff": 15
           },
           "zerolinecolor": "white",
           "zerolinewidth": 2
          }
         }
        },
        "xaxis": {
         "anchor": "y",
         "domain": [
          0,
          0.3066666666666667
         ]
        },
        "xaxis2": {
         "anchor": "y2",
         "domain": [
          0.3466666666666667,
          0.6533333333333333
         ]
        },
        "xaxis3": {
         "anchor": "y3",
         "domain": [
          0.6933333333333334,
          1
         ]
        },
        "xaxis4": {
         "anchor": "y4",
         "domain": [
          0,
          0.3066666666666667
         ]
        },
        "xaxis5": {
         "anchor": "y5",
         "domain": [
          0.3466666666666667,
          0.6533333333333333
         ]
        },
        "xaxis6": {
         "anchor": "y6",
         "domain": [
          0.6933333333333334,
          1
         ]
        },
        "xaxis7": {
         "anchor": "y7",
         "domain": [
          0,
          0.3066666666666667
         ]
        },
        "xaxis8": {
         "anchor": "y8",
         "domain": [
          0.3466666666666667,
          0.6533333333333333
         ]
        },
        "xaxis9": {
         "anchor": "y9",
         "domain": [
          0.6933333333333334,
          1
         ]
        },
        "yaxis": {
         "anchor": "x",
         "domain": [
          0.7333333333333334,
          1
         ]
        },
        "yaxis2": {
         "anchor": "x2",
         "domain": [
          0.7333333333333334,
          1
         ],
         "matches": "y",
         "showticklabels": false
        },
        "yaxis3": {
         "anchor": "x3",
         "domain": [
          0.7333333333333334,
          1
         ],
         "matches": "y",
         "showticklabels": false
        },
        "yaxis4": {
         "anchor": "x4",
         "domain": [
          0.3666666666666667,
          0.6333333333333333
         ]
        },
        "yaxis5": {
         "anchor": "x5",
         "domain": [
          0.3666666666666667,
          0.6333333333333333
         ],
         "matches": "y4",
         "showticklabels": false
        },
        "yaxis6": {
         "anchor": "x6",
         "domain": [
          0.3666666666666667,
          0.6333333333333333
         ],
         "matches": "y4",
         "showticklabels": false
        },
        "yaxis7": {
         "anchor": "x7",
         "domain": [
          0,
          0.26666666666666666
         ]
        },
        "yaxis8": {
         "anchor": "x8",
         "domain": [
          0,
          0.26666666666666666
         ],
         "matches": "y7",
         "showticklabels": false
        },
        "yaxis9": {
         "anchor": "x9",
         "domain": [
          0,
          0.26666666666666666
         ],
         "matches": "y7",
         "showticklabels": false
        }
       }
      },
      "text/html": [
       "<div>\n",
       "        \n",
       "        \n",
       "            <div id=\"8514b4f3-f91a-42e6-bee4-586cafa8beb9\" class=\"plotly-graph-div\" style=\"height:525px; width:100%;\"></div>\n",
       "            <script type=\"text/javascript\">\n",
       "                require([\"plotly\"], function(Plotly) {\n",
       "                    window.PLOTLYENV=window.PLOTLYENV || {};\n",
       "                    \n",
       "                if (document.getElementById(\"8514b4f3-f91a-42e6-bee4-586cafa8beb9\")) {\n",
       "                    Plotly.newPlot(\n",
       "                        '8514b4f3-f91a-42e6-bee4-586cafa8beb9',\n",
       "                        [{\"marker\": {\"color\": \"lightblue\", \"line\": {\"color\": \"rgba(156, 165, 196, 1.0)\"}}, \"name\": \"Soft\", \"type\": \"scatter\", \"x\": [0.509, 0.33899999999999997, 0.541845, 0.46810799999999997, 0.779, 0.479, 0.697894], \"xaxis\": \"x\", \"y\": [\"#chiBUU\", \"AMD+JAM\", \"IQMD-BNU\", \"SMASH\", \"TuQMD\", \"UrQMD\", \"pBUU\"], \"yaxis\": \"y\"}, {\"marker\": {\"color\": \"lightblue\", \"line\": {\"color\": \"rgba(156, 165, 196, 1.0)\"}}, \"name\": \"Soft\", \"showlegend\": false, \"type\": \"scatter\", \"x\": [0.0, 0.0, 0.0, 0.0, 0.579516, 0.3513, 0.521315], \"xaxis\": \"x2\", \"y\": [\"#chiBUU\", \"AMD+JAM\", \"IQMD-BNU\", \"SMASH\", \"TuQMD\", \"UrQMD\", \"pBUU\"], \"yaxis\": \"y2\"}, {\"marker\": {\"color\": \"lightblue\", \"line\": {\"color\": \"rgba(156, 165, 196, 1.0)\"}}, \"name\": \"Soft\", \"showlegend\": false, \"type\": \"scatter\", \"x\": [0.26899999999999996, 0.2, 0.3187, 0.287452, 0.442, 0.292, 0.40074699999999996], \"xaxis\": \"x3\", \"y\": [\"#chiBUU\", \"AMD+JAM\", \"IQMD-BNU\", \"SMASH\", \"TuQMD\", \"UrQMD\", \"pBUU\"], \"yaxis\": \"y3\"}, {\"marker\": {\"color\": \"rgba(156, 165, 196, 0.95)\", \"line\": {\"color\": \"rgba(156, 165, 196, 1.0)\"}}, \"name\": \"Stiff\", \"type\": \"scatter\", \"x\": [0.483, 0.311, 0.45182, 0.479238, 0.8390000000000001, 0.449, 0.648582], \"xaxis\": \"x\", \"y\": [\"#chiBUU\", \"AMD+JAM\", \"IQMD-BNU\", \"SMASH\", \"TuQMD\", \"UrQMD\", \"pBUU\"], \"yaxis\": \"y\"}, {\"marker\": {\"color\": \"rgba(156, 165, 196, 0.95)\", \"line\": {\"color\": \"rgba(156, 165, 196, 1.0)\"}}, \"name\": \"Stiff\", \"showlegend\": false, \"type\": \"scatter\", \"x\": [0.0, 0.0, 0.0, 0.0, 0.626352, 0.34521, 0.497541], \"xaxis\": \"x2\", \"y\": [\"#chiBUU\", \"AMD+JAM\", \"IQMD-BNU\", \"SMASH\", \"TuQMD\", \"UrQMD\", \"pBUU\"], \"yaxis\": \"y2\"}, {\"marker\": {\"color\": \"rgba(156, 165, 196, 0.95)\", \"line\": {\"color\": \"rgba(156, 165, 196, 1.0)\"}}, \"name\": \"Stiff\", \"showlegend\": false, \"type\": \"scatter\", \"x\": [0.271, 0.192, 0.2779, 0.291527, 0.474, 0.27399999999999997, 0.392341], \"xaxis\": \"x3\", \"y\": [\"#chiBUU\", \"AMD+JAM\", \"IQMD-BNU\", \"SMASH\", \"TuQMD\", \"UrQMD\", \"pBUU\"], \"yaxis\": \"y3\"}, {\"marker\": {\"color\": \"lightblue\", \"line\": {\"color\": \"rgba(217, 217, 217, 1.0)\"}}, \"name\": \"Soft\", \"showlegend\": false, \"type\": \"scatter\", \"x\": [0.109, 0.0978, 0.147585, 0.167683, 0.145, 0.129, 0.180926], \"xaxis\": \"x4\", \"y\": [\"#chiBUU\", \"AMD+JAM\", \"IQMD-BNU\", \"SMASH\", \"TuQMD\", \"UrQMD\", \"pBUU\"], \"yaxis\": \"y4\"}, {\"marker\": {\"color\": \"lightblue\", \"line\": {\"color\": \"rgba(217, 217, 217, 1.0)\"}}, \"name\": \"Soft\", \"showlegend\": false, \"type\": \"scatter\", \"x\": [0.0, 0.0, 0.0, 0.0, 0.16228499999999998, 0.13985, 0.196993], \"xaxis\": \"x5\", \"y\": [\"#chiBUU\", \"AMD+JAM\", \"IQMD-BNU\", \"SMASH\", \"TuQMD\", \"UrQMD\", \"pBUU\"], \"yaxis\": \"y5\"}, {\"marker\": {\"color\": \"lightblue\", \"line\": {\"color\": \"rgba(217, 217, 217, 1.0)\"}}, \"name\": \"Soft\", \"showlegend\": false, \"type\": \"scatter\", \"x\": [0.134, 0.11599999999999999, 0.174835, 0.190153, 0.17600000000000002, 0.14400000000000002, 0.21334699999999998], \"xaxis\": \"x6\", \"y\": [\"#chiBUU\", \"AMD+JAM\", \"IQMD-BNU\", \"SMASH\", \"TuQMD\", \"UrQMD\", \"pBUU\"], \"yaxis\": \"y6\"}, {\"marker\": {\"color\": \"lightblue\", \"line\": {\"color\": \"rgba(156, 165, 196, 1.0)\"}}, \"name\": \"Soft\", \"showlegend\": false, \"type\": \"scatter\", \"x\": [4.669724770642202, 3.466257668711656, 3.6714096961073284, 2.791624672745597, 5.372413793103449, 3.7131782945736433, 3.8573449918751312], \"xaxis\": \"x7\", \"y\": [\"#chiBUU\", \"AMD+JAM\", \"IQMD-BNU\", \"SMASH\", \"TuQMD\", \"UrQMD\", \"pBUU\"], \"yaxis\": \"y7\"}, {\"marker\": {\"color\": \"lightblue\", \"line\": {\"color\": \"rgba(156, 165, 196, 1.0)\"}}, \"name\": \"Soft\", \"showlegend\": false, \"type\": \"scatter\", \"x\": [null, null, null, null, 3.570976984933913, 2.5119771183410795, 2.646363068738483], \"xaxis\": \"x8\", \"y\": [\"#chiBUU\", \"AMD+JAM\", \"IQMD-BNU\", \"SMASH\", \"TuQMD\", \"UrQMD\", \"pBUU\"], \"yaxis\": \"y8\"}, {\"marker\": {\"color\": \"lightblue\", \"line\": {\"color\": \"rgba(156, 165, 196, 1.0)\"}}, \"name\": \"Soft\", \"showlegend\": false, \"type\": \"scatter\", \"x\": [2.007462686567164, 1.7241379310344829, 1.822861555180599, 1.5116879565402597, 2.5113636363636362, 2.0277777777777772, 1.8783812287025363], \"xaxis\": \"x9\", \"y\": [\"#chiBUU\", \"AMD+JAM\", \"IQMD-BNU\", \"SMASH\", \"TuQMD\", \"UrQMD\", \"pBUU\"], \"yaxis\": \"y9\"}, {\"marker\": {\"color\": \"rgba(204, 204, 204, 0.95)\", \"line\": {\"color\": \"rgba(217, 217, 217, 1.0)\"}}, \"name\": \"Stiff\", \"showlegend\": false, \"type\": \"scatter\", \"x\": [4.128205128205129, 3.1541582150101424, 2.9508539333180943, 2.932123540784611, 5.786206896551725, 3.3759398496240602, 3.5131407895307016], \"xaxis\": \"x7\", \"y\": [\"#chiBUU\", \"AMD+JAM\", \"IQMD-BNU\", \"SMASH\", \"TuQMD\", \"UrQMD\", \"pBUU\"], \"yaxis\": \"y7\"}, {\"marker\": {\"color\": \"rgba(204, 204, 204, 0.95)\", \"line\": {\"color\": \"rgba(217, 217, 217, 1.0)\"}}, \"name\": \"Stiff\", \"showlegend\": false, \"type\": \"scatter\", \"x\": [null, null, null, null, 3.824022857980146, 2.4763988522238165, 2.485033588891941], \"xaxis\": \"x8\", \"y\": [\"#chiBUU\", \"AMD+JAM\", \"IQMD-BNU\", \"SMASH\", \"TuQMD\", \"UrQMD\", \"pBUU\"], \"yaxis\": \"y8\"}, {\"marker\": {\"color\": \"rgba(204, 204, 204, 0.95)\", \"line\": {\"color\": \"rgba(217, 217, 217, 1.0)\"}}, \"name\": \"Stiff\", \"showlegend\": false, \"type\": \"scatter\", \"x\": [1.9357142857142857, 1.6551724137931036, 1.6654181523986453, 1.5497522752402824, 2.61878453038674, 1.8639455782312924, 1.8304097114011924], \"xaxis\": \"x9\", \"y\": [\"#chiBUU\", \"AMD+JAM\", \"IQMD-BNU\", \"SMASH\", \"TuQMD\", \"UrQMD\", \"pBUU\"], \"yaxis\": \"y9\"}],\n",
       "                        {\"annotations\": [{\"font\": {\"size\": 16}, \"showarrow\": false, \"text\": \"r'$\\\\pi^{-}$\", \"x\": 0.5, \"xanchor\": \"center\", \"xref\": \"paper\", \"y\": 1.0, \"yanchor\": \"bottom\", \"yref\": \"paper\"}, {\"font\": {\"size\": 16}, \"showarrow\": false, \"text\": \"r'$\\\\pi^{+}$\", \"x\": 0.5, \"xanchor\": \"center\", \"xref\": \"paper\", \"y\": 0.6333333333333333, \"yanchor\": \"bottom\", \"yref\": \"paper\"}, {\"font\": {\"size\": 16}, \"showarrow\": false, \"text\": \"r'$\\\\pi^{-}/\\\\pi^{+}$\", \"x\": 0.5, \"xanchor\": \"center\", \"xref\": \"paper\", \"y\": 0.26666666666666666, \"yanchor\": \"bottom\", \"yref\": \"paper\"}], \"template\": {\"data\": {\"bar\": [{\"error_x\": {\"color\": \"#2a3f5f\"}, \"error_y\": {\"color\": \"#2a3f5f\"}, \"marker\": {\"line\": {\"color\": \"#E5ECF6\", \"width\": 0.5}}, \"type\": \"bar\"}], \"barpolar\": [{\"marker\": {\"line\": {\"color\": \"#E5ECF6\", \"width\": 0.5}}, \"type\": \"barpolar\"}], \"carpet\": [{\"aaxis\": {\"endlinecolor\": \"#2a3f5f\", \"gridcolor\": \"white\", \"linecolor\": \"white\", \"minorgridcolor\": \"white\", \"startlinecolor\": \"#2a3f5f\"}, \"baxis\": {\"endlinecolor\": \"#2a3f5f\", \"gridcolor\": \"white\", \"linecolor\": \"white\", \"minorgridcolor\": \"white\", \"startlinecolor\": \"#2a3f5f\"}, \"type\": \"carpet\"}], \"choropleth\": [{\"colorbar\": {\"outlinewidth\": 0, \"ticks\": \"\"}, \"type\": \"choropleth\"}], \"contour\": [{\"colorbar\": {\"outlinewidth\": 0, \"ticks\": \"\"}, \"colorscale\": [[0.0, \"#0d0887\"], [0.1111111111111111, \"#46039f\"], [0.2222222222222222, \"#7201a8\"], [0.3333333333333333, \"#9c179e\"], [0.4444444444444444, \"#bd3786\"], [0.5555555555555556, \"#d8576b\"], [0.6666666666666666, \"#ed7953\"], [0.7777777777777778, \"#fb9f3a\"], [0.8888888888888888, \"#fdca26\"], [1.0, \"#f0f921\"]], \"type\": \"contour\"}], \"contourcarpet\": [{\"colorbar\": {\"outlinewidth\": 0, \"ticks\": \"\"}, \"type\": \"contourcarpet\"}], \"heatmap\": [{\"colorbar\": {\"outlinewidth\": 0, \"ticks\": \"\"}, \"colorscale\": [[0.0, \"#0d0887\"], [0.1111111111111111, \"#46039f\"], [0.2222222222222222, \"#7201a8\"], [0.3333333333333333, \"#9c179e\"], [0.4444444444444444, \"#bd3786\"], [0.5555555555555556, \"#d8576b\"], [0.6666666666666666, \"#ed7953\"], [0.7777777777777778, \"#fb9f3a\"], [0.8888888888888888, \"#fdca26\"], [1.0, \"#f0f921\"]], \"type\": \"heatmap\"}], \"heatmapgl\": [{\"colorbar\": {\"outlinewidth\": 0, \"ticks\": \"\"}, \"colorscale\": [[0.0, \"#0d0887\"], [0.1111111111111111, \"#46039f\"], [0.2222222222222222, \"#7201a8\"], [0.3333333333333333, \"#9c179e\"], [0.4444444444444444, \"#bd3786\"], [0.5555555555555556, \"#d8576b\"], [0.6666666666666666, \"#ed7953\"], [0.7777777777777778, \"#fb9f3a\"], [0.8888888888888888, \"#fdca26\"], [1.0, \"#f0f921\"]], \"type\": \"heatmapgl\"}], \"histogram\": [{\"marker\": {\"colorbar\": {\"outlinewidth\": 0, \"ticks\": \"\"}}, \"type\": \"histogram\"}], \"histogram2d\": [{\"colorbar\": {\"outlinewidth\": 0, \"ticks\": \"\"}, \"colorscale\": [[0.0, \"#0d0887\"], [0.1111111111111111, \"#46039f\"], [0.2222222222222222, \"#7201a8\"], [0.3333333333333333, \"#9c179e\"], [0.4444444444444444, \"#bd3786\"], [0.5555555555555556, \"#d8576b\"], [0.6666666666666666, \"#ed7953\"], [0.7777777777777778, \"#fb9f3a\"], [0.8888888888888888, \"#fdca26\"], [1.0, \"#f0f921\"]], \"type\": \"histogram2d\"}], \"histogram2dcontour\": [{\"colorbar\": {\"outlinewidth\": 0, \"ticks\": \"\"}, \"colorscale\": [[0.0, \"#0d0887\"], [0.1111111111111111, \"#46039f\"], [0.2222222222222222, \"#7201a8\"], [0.3333333333333333, \"#9c179e\"], [0.4444444444444444, \"#bd3786\"], [0.5555555555555556, \"#d8576b\"], [0.6666666666666666, \"#ed7953\"], [0.7777777777777778, \"#fb9f3a\"], [0.8888888888888888, \"#fdca26\"], [1.0, \"#f0f921\"]], \"type\": \"histogram2dcontour\"}], \"mesh3d\": [{\"colorbar\": {\"outlinewidth\": 0, \"ticks\": \"\"}, \"type\": \"mesh3d\"}], \"parcoords\": [{\"line\": {\"colorbar\": {\"outlinewidth\": 0, \"ticks\": \"\"}}, \"type\": \"parcoords\"}], \"pie\": [{\"automargin\": true, \"type\": \"pie\"}], \"scatter\": [{\"marker\": {\"colorbar\": {\"outlinewidth\": 0, \"ticks\": \"\"}}, \"type\": \"scatter\"}], \"scatter3d\": [{\"line\": {\"colorbar\": {\"outlinewidth\": 0, \"ticks\": \"\"}}, \"marker\": {\"colorbar\": {\"outlinewidth\": 0, \"ticks\": \"\"}}, \"type\": \"scatter3d\"}], \"scattercarpet\": [{\"marker\": {\"colorbar\": {\"outlinewidth\": 0, \"ticks\": \"\"}}, \"type\": \"scattercarpet\"}], \"scattergeo\": [{\"marker\": {\"colorbar\": {\"outlinewidth\": 0, \"ticks\": \"\"}}, \"type\": \"scattergeo\"}], \"scattergl\": [{\"marker\": {\"colorbar\": {\"outlinewidth\": 0, \"ticks\": \"\"}}, \"type\": \"scattergl\"}], \"scattermapbox\": [{\"marker\": {\"colorbar\": {\"outlinewidth\": 0, \"ticks\": \"\"}}, \"type\": \"scattermapbox\"}], \"scatterpolar\": [{\"marker\": {\"colorbar\": {\"outlinewidth\": 0, \"ticks\": \"\"}}, \"type\": \"scatterpolar\"}], \"scatterpolargl\": [{\"marker\": {\"colorbar\": {\"outlinewidth\": 0, \"ticks\": \"\"}}, \"type\": \"scatterpolargl\"}], \"scatterternary\": [{\"marker\": {\"colorbar\": {\"outlinewidth\": 0, \"ticks\": \"\"}}, \"type\": \"scatterternary\"}], \"surface\": [{\"colorbar\": {\"outlinewidth\": 0, \"ticks\": \"\"}, \"colorscale\": [[0.0, \"#0d0887\"], [0.1111111111111111, \"#46039f\"], [0.2222222222222222, \"#7201a8\"], [0.3333333333333333, \"#9c179e\"], [0.4444444444444444, \"#bd3786\"], [0.5555555555555556, \"#d8576b\"], [0.6666666666666666, \"#ed7953\"], [0.7777777777777778, \"#fb9f3a\"], [0.8888888888888888, \"#fdca26\"], [1.0, \"#f0f921\"]], \"type\": \"surface\"}], \"table\": [{\"cells\": {\"fill\": {\"color\": \"#EBF0F8\"}, \"line\": {\"color\": \"white\"}}, \"header\": {\"fill\": {\"color\": \"#C8D4E3\"}, \"line\": {\"color\": \"white\"}}, \"type\": \"table\"}]}, \"layout\": {\"annotationdefaults\": {\"arrowcolor\": \"#2a3f5f\", \"arrowhead\": 0, \"arrowwidth\": 1}, \"coloraxis\": {\"colorbar\": {\"outlinewidth\": 0, \"ticks\": \"\"}}, \"colorscale\": {\"diverging\": [[0, \"#8e0152\"], [0.1, \"#c51b7d\"], [0.2, \"#de77ae\"], [0.3, \"#f1b6da\"], [0.4, \"#fde0ef\"], [0.5, \"#f7f7f7\"], [0.6, \"#e6f5d0\"], [0.7, \"#b8e186\"], [0.8, \"#7fbc41\"], [0.9, \"#4d9221\"], [1, \"#276419\"]], \"sequential\": [[0.0, \"#0d0887\"], [0.1111111111111111, \"#46039f\"], [0.2222222222222222, \"#7201a8\"], [0.3333333333333333, \"#9c179e\"], [0.4444444444444444, \"#bd3786\"], [0.5555555555555556, \"#d8576b\"], [0.6666666666666666, \"#ed7953\"], [0.7777777777777778, \"#fb9f3a\"], [0.8888888888888888, \"#fdca26\"], [1.0, \"#f0f921\"]], \"sequentialminus\": [[0.0, \"#0d0887\"], [0.1111111111111111, \"#46039f\"], [0.2222222222222222, \"#7201a8\"], [0.3333333333333333, \"#9c179e\"], [0.4444444444444444, \"#bd3786\"], [0.5555555555555556, \"#d8576b\"], [0.6666666666666666, \"#ed7953\"], [0.7777777777777778, \"#fb9f3a\"], [0.8888888888888888, \"#fdca26\"], [1.0, \"#f0f921\"]]}, \"colorway\": [\"#636efa\", \"#EF553B\", \"#00cc96\", \"#ab63fa\", \"#FFA15A\", \"#19d3f3\", \"#FF6692\", \"#B6E880\", \"#FF97FF\", \"#FECB52\"], \"font\": {\"color\": \"#2a3f5f\"}, \"geo\": {\"bgcolor\": \"white\", \"lakecolor\": \"white\", \"landcolor\": \"#E5ECF6\", \"showlakes\": true, \"showland\": true, \"subunitcolor\": \"white\"}, \"hoverlabel\": {\"align\": \"left\"}, \"hovermode\": \"closest\", \"mapbox\": {\"style\": \"light\"}, \"paper_bgcolor\": \"white\", \"plot_bgcolor\": \"#E5ECF6\", \"polar\": {\"angularaxis\": {\"gridcolor\": \"white\", \"linecolor\": \"white\", \"ticks\": \"\"}, \"bgcolor\": \"#E5ECF6\", \"radialaxis\": {\"gridcolor\": \"white\", \"linecolor\": \"white\", \"ticks\": \"\"}}, \"scene\": {\"xaxis\": {\"backgroundcolor\": \"#E5ECF6\", \"gridcolor\": \"white\", \"gridwidth\": 2, \"linecolor\": \"white\", \"showbackground\": true, \"ticks\": \"\", \"zerolinecolor\": \"white\"}, \"yaxis\": {\"backgroundcolor\": \"#E5ECF6\", \"gridcolor\": \"white\", \"gridwidth\": 2, \"linecolor\": \"white\", \"showbackground\": true, \"ticks\": \"\", \"zerolinecolor\": \"white\"}, \"zaxis\": {\"backgroundcolor\": \"#E5ECF6\", \"gridcolor\": \"white\", \"gridwidth\": 2, \"linecolor\": \"white\", \"showbackground\": true, \"ticks\": \"\", \"zerolinecolor\": \"white\"}}, \"shapedefaults\": {\"line\": {\"color\": \"#2a3f5f\"}}, \"ternary\": {\"aaxis\": {\"gridcolor\": \"white\", \"linecolor\": \"white\", \"ticks\": \"\"}, \"baxis\": {\"gridcolor\": \"white\", \"linecolor\": \"white\", \"ticks\": \"\"}, \"bgcolor\": \"#E5ECF6\", \"caxis\": {\"gridcolor\": \"white\", \"linecolor\": \"white\", \"ticks\": \"\"}}, \"title\": {\"x\": 0.05}, \"xaxis\": {\"automargin\": true, \"gridcolor\": \"white\", \"linecolor\": \"white\", \"ticks\": \"\", \"title\": {\"standoff\": 15}, \"zerolinecolor\": \"white\", \"zerolinewidth\": 2}, \"yaxis\": {\"automargin\": true, \"gridcolor\": \"white\", \"linecolor\": \"white\", \"ticks\": \"\", \"title\": {\"standoff\": 15}, \"zerolinecolor\": \"white\", \"zerolinewidth\": 2}}}, \"xaxis\": {\"anchor\": \"y\", \"domain\": [0.0, 0.3066666666666667]}, \"xaxis2\": {\"anchor\": \"y2\", \"domain\": [0.3466666666666667, 0.6533333333333333]}, \"xaxis3\": {\"anchor\": \"y3\", \"domain\": [0.6933333333333334, 1.0]}, \"xaxis4\": {\"anchor\": \"y4\", \"domain\": [0.0, 0.3066666666666667]}, \"xaxis5\": {\"anchor\": \"y5\", \"domain\": [0.3466666666666667, 0.6533333333333333]}, \"xaxis6\": {\"anchor\": \"y6\", \"domain\": [0.6933333333333334, 1.0]}, \"xaxis7\": {\"anchor\": \"y7\", \"domain\": [0.0, 0.3066666666666667]}, \"xaxis8\": {\"anchor\": \"y8\", \"domain\": [0.3466666666666667, 0.6533333333333333]}, \"xaxis9\": {\"anchor\": \"y9\", \"domain\": [0.6933333333333334, 1.0]}, \"yaxis\": {\"anchor\": \"x\", \"domain\": [0.7333333333333334, 1.0]}, \"yaxis2\": {\"anchor\": \"x2\", \"domain\": [0.7333333333333334, 1.0], \"matches\": \"y\", \"showticklabels\": false}, \"yaxis3\": {\"anchor\": \"x3\", \"domain\": [0.7333333333333334, 1.0], \"matches\": \"y\", \"showticklabels\": false}, \"yaxis4\": {\"anchor\": \"x4\", \"domain\": [0.3666666666666667, 0.6333333333333333]}, \"yaxis5\": {\"anchor\": \"x5\", \"domain\": [0.3666666666666667, 0.6333333333333333], \"matches\": \"y4\", \"showticklabels\": false}, \"yaxis6\": {\"anchor\": \"x6\", \"domain\": [0.3666666666666667, 0.6333333333333333], \"matches\": \"y4\", \"showticklabels\": false}, \"yaxis7\": {\"anchor\": \"x7\", \"domain\": [0.0, 0.26666666666666666]}, \"yaxis8\": {\"anchor\": \"x8\", \"domain\": [0.0, 0.26666666666666666], \"matches\": \"y7\", \"showticklabels\": false}, \"yaxis9\": {\"anchor\": \"x9\", \"domain\": [0.0, 0.26666666666666666], \"matches\": \"y7\", \"showticklabels\": false}},\n",
       "                        {\"responsive\": true}\n",
       "                    ).then(function(){\n",
       "                            \n",
       "var gd = document.getElementById('8514b4f3-f91a-42e6-bee4-586cafa8beb9');\n",
       "var x = new MutationObserver(function (mutations, observer) {{\n",
       "        var display = window.getComputedStyle(gd).display;\n",
       "        if (!display || display === 'none') {{\n",
       "            console.log([gd, 'removed!']);\n",
       "            Plotly.purge(gd);\n",
       "            observer.disconnect();\n",
       "        }}\n",
       "}});\n",
       "\n",
       "// Listen for the removal of the full notebook cells\n",
       "var notebookContainer = gd.closest('#notebook-container');\n",
       "if (notebookContainer) {{\n",
       "    x.observe(notebookContainer, {childList: true});\n",
       "}}\n",
       "\n",
       "// Listen for the clearing of the current output cell\n",
       "var outputEl = gd.closest('.output');\n",
       "if (outputEl) {{\n",
       "    x.observe(outputEl, {childList: true});\n",
       "}}\n",
       "\n",
       "                        })\n",
       "                };\n",
       "                });\n",
       "            </script>\n",
       "        </div>"
      ]
     },
     "metadata": {},
     "output_type": "display_data"
    }
   ],
   "source": [
    "#fig = go.Figure()\n",
    "fig = make_subplots(rows=3, cols=3,\n",
    "                    subplot_titles=(\"\", \"r'$\\pi^{-}$\" , \"\",\n",
    "                                    \"\", \"r'$\\pi^{+}$\", \"\",\n",
    "                                     \"\", \"r'$\\pi^{-}/\\pi^{+}$\", \"\"),\n",
    "                    shared_yaxes=True, vertical_spacing = 0.1, horizontal_spacing = 0.04)\n",
    "\n",
    "#plot the soft pi-\n",
    "fig.add_trace(go.Scatter(\n",
    "        y = sn132_theory_min.name,\n",
    "        x = sn132_theory_min.pim,\n",
    "        name = 'Soft',\n",
    "        marker=dict(\n",
    "        #color='rgba(156, 165, 196, 0.95)',\n",
    "        color='lightblue',\n",
    "        line_color='rgba(156, 165, 196, 1.0)',\n",
    "        )),row = 1, col = 1\n",
    ")\n",
    "\n",
    "fig.add_trace(go.Scatter(\n",
    "        y = sn124_theory_min.name,\n",
    "        x = sn124_theory_min.pim,\n",
    "        name = 'Soft',\n",
    "        showlegend=False,\n",
    "        marker=dict(\n",
    "        color='lightblue',\n",
    "        #color='rgba(156, 165, 196, 0.95)',\n",
    "        line_color='rgba(156, 165, 196, 1.0)',\n",
    "        )), row = 1, col = 2\n",
    ")\n",
    "\n",
    "fig.add_trace(go.Scatter(\n",
    "        y = sn108_theory_min.name,\n",
    "        x = sn108_theory_min.pim,\n",
    "        name = 'Soft',\n",
    "        showlegend=False,\n",
    "        marker=dict(\n",
    "       # color='rgba(156, 165, 196, 0.95)',\n",
    "        color='lightblue',\n",
    "        line_color='rgba(156, 165, 196, 1.0)',\n",
    "        )), row = 1, col = 3\n",
    ")\n",
    "\n",
    "#plot the stiff pi-\n",
    "fig.add_trace(go.Scatter(\n",
    "        y = sn132_theory_max.name,\n",
    "        x = sn132_theory_max.pim,\n",
    "        name = 'Stiff',\n",
    "        marker=dict(\n",
    "        color='rgba(156, 165, 196, 0.95)',\n",
    "        line_color='rgba(156, 165, 196, 1.0)',\n",
    "        )),row = 1, col = 1\n",
    ")\n",
    "\n",
    "fig.add_trace(go.Scatter(\n",
    "        y = sn124_theory_max.name,\n",
    "        x = sn124_theory_max.pim,\n",
    "        name = 'Stiff',\n",
    "        showlegend=False,\n",
    "        marker=dict(\n",
    "        color='rgba(156, 165, 196, 0.95)',\n",
    "        line_color='rgba(156, 165, 196, 1.0)',\n",
    "        )), row = 1, col = 2\n",
    ")\n",
    "\n",
    "fig.add_trace(go.Scatter(\n",
    "        y = sn108_theory_max.name,\n",
    "        x = sn108_theory_max.pim,\n",
    "        name = 'Stiff',\n",
    "        showlegend=False,\n",
    "        marker=dict(\n",
    "        color='rgba(156, 165, 196, 0.95)',\n",
    "        line_color='rgba(156, 165, 196, 1.0)',\n",
    "        )), row = 1, col = 3\n",
    ")\n",
    "\n",
    "\n",
    "#plot the soft pi+\n",
    "fig.add_trace(go.Scatter(\n",
    "        y = sn132_theory_min.name,\n",
    "        x = sn132_theory_min.pip,\n",
    "        name = 'Soft',\n",
    "        showlegend=False,\n",
    "        marker=dict(\n",
    "        color='lightblue',\n",
    "        line_color='rgba(217, 217, 217, 1.0)'\n",
    "        )),row = 2, col = 1\n",
    ")\n",
    "\n",
    "fig.add_trace(go.Scatter(\n",
    "        y = sn124_theory_min.name,\n",
    "        x = sn124_theory_min.pip,\n",
    "        showlegend=False,\n",
    "        name = 'Soft',\n",
    "        marker=dict(\n",
    "        color='lightblue',\n",
    "        line_color='rgba(217, 217, 217, 1.0)'\n",
    "        )), row = 2, col = 2\n",
    ")\n",
    "\n",
    "fig.add_trace(go.Scatter(\n",
    "        y = sn108_theory_min.name,\n",
    "        x = sn108_theory_min.pip,\n",
    "        showlegend=False,\n",
    "        name = 'Soft',\n",
    "        marker=dict(\n",
    "        color='lightblue',\n",
    "        line_color='rgba(217, 217, 217, 1.0)'\n",
    "        )), row = 2, col = 3\n",
    ")\n",
    "\n",
    "\n",
    "#plot the stiff pi+\n",
    "fig.add_trace(go.Scatter(\n",
    "        y = sn132_theory_max.name,\n",
    "        x = sn132_theory_max.pip,\n",
    "        name = 'Stiff',\n",
    "        showlegend=False,\n",
    "        marker=dict(\n",
    "        color='lightblue',\n",
    "        line_color='rgba(217, 217, 217, 1.0)'\n",
    "        )),row = 2, col = 1\n",
    ")\n",
    "\n",
    "fig.add_trace(go.Scatter(\n",
    "        y = sn124_theory_max.name,\n",
    "        x = sn124_theory_max.pip,\n",
    "        showlegend=False,\n",
    "        name = 'Stiff',\n",
    "        marker=dict(\n",
    "        color='lightblue',\n",
    "        line_color='rgba(217, 217, 217, 1.0)'\n",
    "        )), row = 2, col = 2\n",
    ")\n",
    "\n",
    "fig.add_trace(go.Scatter(\n",
    "        y = sn108_theory_max.name,\n",
    "        x = sn108_theory_max.pip,\n",
    "        showlegend=False,\n",
    "        name = 'Stiff',\n",
    "        marker=dict(\n",
    "        color='lightblue',\n",
    "        line_color='rgba(217, 217, 217, 1.0)'\n",
    "        )), row = 2, col = 3\n",
    ")\n",
    "\n",
    "#plot the soft pi-/pi+\n",
    "fig.add_trace(go.Scatter(\n",
    "        y = sn132_theory_min.name,\n",
    "        x = sn132_theory_min.ratio,\n",
    "        name = 'Soft',\n",
    "        showlegend=False,\n",
    "        marker=dict(\n",
    "        color='lightblue',\n",
    "        line_color='rgba(156, 165, 196, 1.0)',\n",
    "        )),row = 3, col = 1\n",
    ")\n",
    "\n",
    "fig.add_trace(go.Scatter(\n",
    "        y = sn124_theory_min.name,\n",
    "        x = sn124_theory_min.ratio,\n",
    "        name = 'Soft',\n",
    "        showlegend=False,\n",
    "        marker=dict(\n",
    "        color='lightblue',\n",
    "        line_color='rgba(156, 165, 196, 1.0)',\n",
    "        )), row = 3, col = 2\n",
    ")\n",
    "\n",
    "fig.add_trace(go.Scatter(\n",
    "        y = sn108_theory_min.name,\n",
    "        x = sn108_theory_min.ratio,\n",
    "        name = 'Soft',\n",
    "        showlegend=False,\n",
    "        marker=dict(\n",
    "        color='lightblue',\n",
    "        line_color='rgba(156, 165, 196, 1.0)',\n",
    "        )), row = 3, col = 3\n",
    ")\n",
    "\n",
    "\n",
    "#plot the stiff pi-/pi+\n",
    "fig.add_trace(go.Scatter(\n",
    "        y = sn132_theory_max.name,\n",
    "        x = sn132_theory_max.ratio,\n",
    "        name = 'Stiff',\n",
    "        showlegend=False,\n",
    "        marker=dict(\n",
    "        color='rgba(204, 204, 204, 0.95)',\n",
    "        line_color='rgba(217, 217, 217, 1.0)'\n",
    "        )),row = 3, col = 1\n",
    ")\n",
    "\n",
    "fig.add_trace(go.Scatter(\n",
    "        y = sn124_theory_max.name,\n",
    "        x = sn124_theory_max.ratio,\n",
    "        showlegend=False,\n",
    "        name = 'Stiff',\n",
    "        marker=dict(\n",
    "        color='rgba(204, 204, 204, 0.95)',\n",
    "        line_color='rgba(217, 217, 217, 1.0)'\n",
    "        )), row = 3, col = 2\n",
    ")\n",
    "\n",
    "fig.add_trace(go.Scatter(\n",
    "        y = sn108_theory_max.name,\n",
    "        x = sn108_theory_max.ratio,\n",
    "        showlegend=False,\n",
    "        name = 'Stiff',\n",
    "        marker=dict(\n",
    "        color='rgba(204, 204, 204, 0.95)',\n",
    "        line_color='rgba(217, 217, 217, 1.0)'\n",
    "        )), row = 3, col = 3\n",
    ")\n"
   ]
  },
  {
   "cell_type": "code",
   "execution_count": null,
   "metadata": {},
   "outputs": [],
   "source": [
    "\n"
   ]
  },
  {
   "cell_type": "code",
   "execution_count": 86,
   "metadata": {},
   "outputs": [
    {
     "data": {
      "application/vnd.plotly.v1+json": {
       "config": {
        "plotlyServerURL": "https://plot.ly"
       },
       "data": [
        {
         "marker": {
          "color": "lightblue",
          "line": {
           "color": "rgba(156, 165, 196, 1.0)"
          }
         },
         "name": "Soft",
         "type": "scatter",
         "x": [
          0.509,
          0.33899999999999997,
          0.541845,
          0.46810799999999997,
          0.779,
          0.479,
          0.697894
         ],
         "xaxis": "x",
         "y": [
          "#chiBUU",
          "AMD+JAM",
          "IQMD-BNU",
          "SMASH",
          "TuQMD",
          "UrQMD",
          "pBUU"
         ],
         "yaxis": "y"
        },
        {
         "marker": {
          "color": "lightblue",
          "line": {
           "color": "rgba(156, 165, 196, 1.0)"
          }
         },
         "name": "Soft",
         "showlegend": false,
         "type": "scatter",
         "x": [
          0,
          0,
          0,
          0,
          0.579516,
          0.3513,
          0.521315
         ],
         "xaxis": "x2",
         "y": [
          "#chiBUU",
          "AMD+JAM",
          "IQMD-BNU",
          "SMASH",
          "TuQMD",
          "UrQMD",
          "pBUU"
         ],
         "yaxis": "y2"
        },
        {
         "marker": {
          "color": "lightblue",
          "line": {
           "color": "rgba(156, 165, 196, 1.0)"
          }
         },
         "name": "Soft",
         "showlegend": false,
         "type": "scatter",
         "x": [
          0.26899999999999996,
          0.2,
          0.3187,
          0.287452,
          0.442,
          0.292,
          0.40074699999999996
         ],
         "xaxis": "x3",
         "y": [
          "#chiBUU",
          "AMD+JAM",
          "IQMD-BNU",
          "SMASH",
          "TuQMD",
          "UrQMD",
          "pBUU"
         ],
         "yaxis": "y3"
        },
        {
         "marker": {
          "color": "rgba(156, 165, 196, 0.95)",
          "line": {
           "color": "rgba(156, 165, 196, 1.0)"
          }
         },
         "name": "Stiff",
         "type": "scatter",
         "x": [
          0.483,
          0.311,
          0.45182,
          0.479238,
          0.8390000000000001,
          0.449,
          0.648582
         ],
         "xaxis": "x",
         "y": [
          "#chiBUU",
          "AMD+JAM",
          "IQMD-BNU",
          "SMASH",
          "TuQMD",
          "UrQMD",
          "pBUU"
         ],
         "yaxis": "y"
        },
        {
         "marker": {
          "color": "rgba(156, 165, 196, 0.95)",
          "line": {
           "color": "rgba(156, 165, 196, 1.0)"
          }
         },
         "name": "Stiff",
         "showlegend": false,
         "type": "scatter",
         "x": [
          0,
          0,
          0,
          0,
          0.626352,
          0.34521,
          0.497541
         ],
         "xaxis": "x2",
         "y": [
          "#chiBUU",
          "AMD+JAM",
          "IQMD-BNU",
          "SMASH",
          "TuQMD",
          "UrQMD",
          "pBUU"
         ],
         "yaxis": "y2"
        },
        {
         "marker": {
          "color": "rgba(156, 165, 196, 0.95)",
          "line": {
           "color": "rgba(156, 165, 196, 1.0)"
          }
         },
         "name": "Stiff",
         "showlegend": false,
         "type": "scatter",
         "x": [
          0.271,
          0.192,
          0.2779,
          0.291527,
          0.474,
          0.27399999999999997,
          0.392341
         ],
         "xaxis": "x3",
         "y": [
          "#chiBUU",
          "AMD+JAM",
          "IQMD-BNU",
          "SMASH",
          "TuQMD",
          "UrQMD",
          "pBUU"
         ],
         "yaxis": "y3"
        },
        {
         "marker": {
          "color": "lightblue",
          "line": {
           "color": "rgba(217, 217, 217, 1.0)"
          }
         },
         "name": "Soft",
         "showlegend": false,
         "type": "scatter",
         "x": [
          0.109,
          0.0978,
          0.147585,
          0.167683,
          0.145,
          0.129,
          0.180926
         ],
         "xaxis": "x4",
         "y": [
          "#chiBUU",
          "AMD+JAM",
          "IQMD-BNU",
          "SMASH",
          "TuQMD",
          "UrQMD",
          "pBUU"
         ],
         "yaxis": "y4"
        },
        {
         "marker": {
          "color": "lightblue",
          "line": {
           "color": "rgba(217, 217, 217, 1.0)"
          }
         },
         "name": "Soft",
         "showlegend": false,
         "type": "scatter",
         "x": [
          0,
          0,
          0,
          0,
          0.16228499999999998,
          0.13985,
          0.196993
         ],
         "xaxis": "x5",
         "y": [
          "#chiBUU",
          "AMD+JAM",
          "IQMD-BNU",
          "SMASH",
          "TuQMD",
          "UrQMD",
          "pBUU"
         ],
         "yaxis": "y5"
        },
        {
         "marker": {
          "color": "lightblue",
          "line": {
           "color": "rgba(217, 217, 217, 1.0)"
          }
         },
         "name": "Soft",
         "showlegend": false,
         "type": "scatter",
         "x": [
          0.134,
          0.11599999999999999,
          0.174835,
          0.190153,
          0.17600000000000002,
          0.14400000000000002,
          0.21334699999999998
         ],
         "xaxis": "x6",
         "y": [
          "#chiBUU",
          "AMD+JAM",
          "IQMD-BNU",
          "SMASH",
          "TuQMD",
          "UrQMD",
          "pBUU"
         ],
         "yaxis": "y6"
        },
        {
         "marker": {
          "color": "lightblue",
          "line": {
           "color": "rgba(156, 165, 196, 1.0)"
          }
         },
         "name": "Soft",
         "showlegend": false,
         "type": "scatter",
         "x": [
          4.669724770642202,
          3.466257668711656,
          3.6714096961073284,
          2.791624672745597,
          5.372413793103449,
          3.7131782945736433,
          3.8573449918751312
         ],
         "xaxis": "x7",
         "y": [
          "#chiBUU",
          "AMD+JAM",
          "IQMD-BNU",
          "SMASH",
          "TuQMD",
          "UrQMD",
          "pBUU"
         ],
         "yaxis": "y7"
        },
        {
         "marker": {
          "color": "lightblue",
          "line": {
           "color": "rgba(156, 165, 196, 1.0)"
          }
         },
         "name": "Soft",
         "showlegend": false,
         "type": "scatter",
         "x": [
          null,
          null,
          null,
          null,
          3.570976984933913,
          2.5119771183410795,
          2.646363068738483
         ],
         "xaxis": "x8",
         "y": [
          "#chiBUU",
          "AMD+JAM",
          "IQMD-BNU",
          "SMASH",
          "TuQMD",
          "UrQMD",
          "pBUU"
         ],
         "yaxis": "y8"
        },
        {
         "marker": {
          "color": "lightblue",
          "line": {
           "color": "rgba(156, 165, 196, 1.0)"
          }
         },
         "name": "Soft",
         "showlegend": false,
         "type": "scatter",
         "x": [
          2.007462686567164,
          1.7241379310344829,
          1.822861555180599,
          1.5116879565402597,
          2.5113636363636362,
          2.0277777777777772,
          1.8783812287025363
         ],
         "xaxis": "x9",
         "y": [
          "#chiBUU",
          "AMD+JAM",
          "IQMD-BNU",
          "SMASH",
          "TuQMD",
          "UrQMD",
          "pBUU"
         ],
         "yaxis": "y9"
        },
        {
         "marker": {
          "color": "rgba(204, 204, 204, 0.95)",
          "line": {
           "color": "rgba(217, 217, 217, 1.0)"
          }
         },
         "name": "Stiff",
         "showlegend": false,
         "type": "scatter",
         "x": [
          4.128205128205129,
          3.1541582150101424,
          2.9508539333180943,
          2.932123540784611,
          5.786206896551725,
          3.3759398496240602,
          3.5131407895307016
         ],
         "xaxis": "x7",
         "y": [
          "#chiBUU",
          "AMD+JAM",
          "IQMD-BNU",
          "SMASH",
          "TuQMD",
          "UrQMD",
          "pBUU"
         ],
         "yaxis": "y7"
        },
        {
         "marker": {
          "color": "rgba(204, 204, 204, 0.95)",
          "line": {
           "color": "rgba(217, 217, 217, 1.0)"
          }
         },
         "name": "Stiff",
         "showlegend": false,
         "type": "scatter",
         "x": [
          null,
          null,
          null,
          null,
          3.824022857980146,
          2.4763988522238165,
          2.485033588891941
         ],
         "xaxis": "x8",
         "y": [
          "#chiBUU",
          "AMD+JAM",
          "IQMD-BNU",
          "SMASH",
          "TuQMD",
          "UrQMD",
          "pBUU"
         ],
         "yaxis": "y8"
        },
        {
         "marker": {
          "color": "rgba(204, 204, 204, 0.95)",
          "line": {
           "color": "rgba(217, 217, 217, 1.0)"
          }
         },
         "name": "Stiff",
         "showlegend": false,
         "type": "scatter",
         "x": [
          1.9357142857142857,
          1.6551724137931036,
          1.6654181523986453,
          1.5497522752402824,
          2.61878453038674,
          1.8639455782312924,
          1.8304097114011924
         ],
         "xaxis": "x9",
         "y": [
          "#chiBUU",
          "AMD+JAM",
          "IQMD-BNU",
          "SMASH",
          "TuQMD",
          "UrQMD",
          "pBUU"
         ],
         "yaxis": "y9"
        }
       ],
       "layout": {
        "annotations": [
         {
          "font": {
           "size": 16
          },
          "showarrow": false,
          "text": "r'$\\pi^{-}$",
          "x": 0.5,
          "xanchor": "center",
          "xref": "paper",
          "y": 1,
          "yanchor": "bottom",
          "yref": "paper"
         },
         {
          "font": {
           "size": 16
          },
          "showarrow": false,
          "text": "r'$\\pi^{+}$",
          "x": 0.5,
          "xanchor": "center",
          "xref": "paper",
          "y": 0.6333333333333333,
          "yanchor": "bottom",
          "yref": "paper"
         },
         {
          "font": {
           "size": 16
          },
          "showarrow": false,
          "text": "r'$\\pi^{-}/\\pi^{+}$",
          "x": 0.5,
          "xanchor": "center",
          "xref": "paper",
          "y": 0.26666666666666666,
          "yanchor": "bottom",
          "yref": "paper"
         }
        ],
        "shapes": [
         {
          "fillcolor": "blue",
          "opacity": 0.3,
          "type": "rect",
          "x0": 0.6928,
          "x1": 0.7412,
          "xref": "x",
          "y0": -1,
          "y1": 6.5,
          "yref": "y"
         },
         {
          "fillcolor": "blue",
          "opacity": 0.3,
          "type": "rect",
          "x0": 0.4917,
          "x1": 0.5523,
          "xref": "x2",
          "y0": -1,
          "y1": 6.5,
          "yref": "y2"
         },
         {
          "fillcolor": "blue",
          "opacity": 0.3,
          "type": "rect",
          "x0": 0.38480000000000003,
          "x1": 0.4132,
          "xref": "x3",
          "y0": -1,
          "y1": 6.5,
          "yref": "y3"
         },
         {
          "fillcolor": "blue",
          "opacity": 0.3,
          "type": "rect",
          "x0": 0.14246999999999999,
          "x1": 0.15353,
          "xref": "x4",
          "y0": -1,
          "y1": 6.5,
          "yref": "y4"
         },
         {
          "fillcolor": "blue",
          "opacity": 0.3,
          "type": "rect",
          "x0": 0.1572,
          "x1": 0.18280000000000002,
          "xref": "x5",
          "y0": -1,
          "y1": 6.5,
          "yref": "y5"
         },
         {
          "fillcolor": "blue",
          "opacity": 0.3,
          "type": "rect",
          "x0": 0.19140000000000001,
          "x1": 0.2086,
          "xref": "x6",
          "y0": -1,
          "y1": 6.5,
          "yref": "y6"
         },
         {
          "fillcolor": "blue",
          "opacity": 0.3,
          "type": "rect",
          "x0": 4.724594594594595,
          "x1": 4.964594594594595,
          "xref": "x7",
          "y0": -1,
          "y1": 6.5,
          "yref": "y7"
         },
         {
          "fillcolor": "blue",
          "opacity": 0.3,
          "type": "rect",
          "x0": 2.830588235294117,
          "x1": 3.3105882352941176,
          "xref": "x8",
          "y0": -1,
          "y1": 6.5,
          "yref": "y8"
         },
         {
          "fillcolor": "blue",
          "opacity": 0.3,
          "type": "rect",
          "x0": 1.9455,
          "x1": 2.0445,
          "xref": "x9",
          "y0": -1,
          "y1": 6.5,
          "yref": "y9"
         },
         {
          "line": {
           "width": 3
          },
          "type": "line",
          "x0": 0.717,
          "x1": 0.717,
          "xref": "x",
          "y0": -1,
          "y1": 6.5,
          "yref": "y"
         },
         {
          "line": {
           "width": 3
          },
          "type": "line",
          "x0": 0.522,
          "x1": 0.522,
          "xref": "x2",
          "y0": -1,
          "y1": 6.5,
          "yref": "y2"
         },
         {
          "line": {
           "width": 3
          },
          "type": "line",
          "x0": 0.399,
          "x1": 0.399,
          "xref": "x3",
          "y0": -1,
          "y1": 6.5,
          "yref": "y3"
         },
         {
          "line": {
           "width": 3
          },
          "type": "line",
          "x0": 0.148,
          "x1": 0.148,
          "xref": "x4",
          "y0": -1,
          "y1": 6.5,
          "yref": "y4"
         },
         {
          "line": {
           "width": 3
          },
          "type": "line",
          "x0": 0.17,
          "x1": 0.17,
          "xref": "x5",
          "y0": -1,
          "y1": 6.5,
          "yref": "y5"
         },
         {
          "line": {
           "width": 3
          },
          "type": "line",
          "x0": 0.2,
          "x1": 0.2,
          "xref": "x6",
          "y0": -1,
          "y1": 6.5,
          "yref": "y6"
         },
         {
          "line": {
           "width": 3
          },
          "type": "line",
          "x0": 4.844594594594595,
          "x1": 4.844594594594595,
          "xref": "x7",
          "y0": -1,
          "y1": 6.5,
          "yref": "y7"
         },
         {
          "line": {
           "width": 3
          },
          "type": "line",
          "x0": 3.0705882352941174,
          "x1": 3.0705882352941174,
          "xref": "x8",
          "y0": -1,
          "y1": 6.5,
          "yref": "y8"
         },
         {
          "line": {
           "width": 3
          },
          "type": "line",
          "x0": 1.995,
          "x1": 1.995,
          "xref": "x9",
          "y0": -1,
          "y1": 6.5,
          "yref": "y9"
         }
        ],
        "template": {
         "data": {
          "bar": [
           {
            "error_x": {
             "color": "#2a3f5f"
            },
            "error_y": {
             "color": "#2a3f5f"
            },
            "marker": {
             "line": {
              "color": "#E5ECF6",
              "width": 0.5
             }
            },
            "type": "bar"
           }
          ],
          "barpolar": [
           {
            "marker": {
             "line": {
              "color": "#E5ECF6",
              "width": 0.5
             }
            },
            "type": "barpolar"
           }
          ],
          "carpet": [
           {
            "aaxis": {
             "endlinecolor": "#2a3f5f",
             "gridcolor": "white",
             "linecolor": "white",
             "minorgridcolor": "white",
             "startlinecolor": "#2a3f5f"
            },
            "baxis": {
             "endlinecolor": "#2a3f5f",
             "gridcolor": "white",
             "linecolor": "white",
             "minorgridcolor": "white",
             "startlinecolor": "#2a3f5f"
            },
            "type": "carpet"
           }
          ],
          "choropleth": [
           {
            "colorbar": {
             "outlinewidth": 0,
             "ticks": ""
            },
            "type": "choropleth"
           }
          ],
          "contour": [
           {
            "colorbar": {
             "outlinewidth": 0,
             "ticks": ""
            },
            "colorscale": [
             [
              0,
              "#0d0887"
             ],
             [
              0.1111111111111111,
              "#46039f"
             ],
             [
              0.2222222222222222,
              "#7201a8"
             ],
             [
              0.3333333333333333,
              "#9c179e"
             ],
             [
              0.4444444444444444,
              "#bd3786"
             ],
             [
              0.5555555555555556,
              "#d8576b"
             ],
             [
              0.6666666666666666,
              "#ed7953"
             ],
             [
              0.7777777777777778,
              "#fb9f3a"
             ],
             [
              0.8888888888888888,
              "#fdca26"
             ],
             [
              1,
              "#f0f921"
             ]
            ],
            "type": "contour"
           }
          ],
          "contourcarpet": [
           {
            "colorbar": {
             "outlinewidth": 0,
             "ticks": ""
            },
            "type": "contourcarpet"
           }
          ],
          "heatmap": [
           {
            "colorbar": {
             "outlinewidth": 0,
             "ticks": ""
            },
            "colorscale": [
             [
              0,
              "#0d0887"
             ],
             [
              0.1111111111111111,
              "#46039f"
             ],
             [
              0.2222222222222222,
              "#7201a8"
             ],
             [
              0.3333333333333333,
              "#9c179e"
             ],
             [
              0.4444444444444444,
              "#bd3786"
             ],
             [
              0.5555555555555556,
              "#d8576b"
             ],
             [
              0.6666666666666666,
              "#ed7953"
             ],
             [
              0.7777777777777778,
              "#fb9f3a"
             ],
             [
              0.8888888888888888,
              "#fdca26"
             ],
             [
              1,
              "#f0f921"
             ]
            ],
            "type": "heatmap"
           }
          ],
          "heatmapgl": [
           {
            "colorbar": {
             "outlinewidth": 0,
             "ticks": ""
            },
            "colorscale": [
             [
              0,
              "#0d0887"
             ],
             [
              0.1111111111111111,
              "#46039f"
             ],
             [
              0.2222222222222222,
              "#7201a8"
             ],
             [
              0.3333333333333333,
              "#9c179e"
             ],
             [
              0.4444444444444444,
              "#bd3786"
             ],
             [
              0.5555555555555556,
              "#d8576b"
             ],
             [
              0.6666666666666666,
              "#ed7953"
             ],
             [
              0.7777777777777778,
              "#fb9f3a"
             ],
             [
              0.8888888888888888,
              "#fdca26"
             ],
             [
              1,
              "#f0f921"
             ]
            ],
            "type": "heatmapgl"
           }
          ],
          "histogram": [
           {
            "marker": {
             "colorbar": {
              "outlinewidth": 0,
              "ticks": ""
             }
            },
            "type": "histogram"
           }
          ],
          "histogram2d": [
           {
            "colorbar": {
             "outlinewidth": 0,
             "ticks": ""
            },
            "colorscale": [
             [
              0,
              "#0d0887"
             ],
             [
              0.1111111111111111,
              "#46039f"
             ],
             [
              0.2222222222222222,
              "#7201a8"
             ],
             [
              0.3333333333333333,
              "#9c179e"
             ],
             [
              0.4444444444444444,
              "#bd3786"
             ],
             [
              0.5555555555555556,
              "#d8576b"
             ],
             [
              0.6666666666666666,
              "#ed7953"
             ],
             [
              0.7777777777777778,
              "#fb9f3a"
             ],
             [
              0.8888888888888888,
              "#fdca26"
             ],
             [
              1,
              "#f0f921"
             ]
            ],
            "type": "histogram2d"
           }
          ],
          "histogram2dcontour": [
           {
            "colorbar": {
             "outlinewidth": 0,
             "ticks": ""
            },
            "colorscale": [
             [
              0,
              "#0d0887"
             ],
             [
              0.1111111111111111,
              "#46039f"
             ],
             [
              0.2222222222222222,
              "#7201a8"
             ],
             [
              0.3333333333333333,
              "#9c179e"
             ],
             [
              0.4444444444444444,
              "#bd3786"
             ],
             [
              0.5555555555555556,
              "#d8576b"
             ],
             [
              0.6666666666666666,
              "#ed7953"
             ],
             [
              0.7777777777777778,
              "#fb9f3a"
             ],
             [
              0.8888888888888888,
              "#fdca26"
             ],
             [
              1,
              "#f0f921"
             ]
            ],
            "type": "histogram2dcontour"
           }
          ],
          "mesh3d": [
           {
            "colorbar": {
             "outlinewidth": 0,
             "ticks": ""
            },
            "type": "mesh3d"
           }
          ],
          "parcoords": [
           {
            "line": {
             "colorbar": {
              "outlinewidth": 0,
              "ticks": ""
             }
            },
            "type": "parcoords"
           }
          ],
          "pie": [
           {
            "automargin": true,
            "type": "pie"
           }
          ],
          "scatter": [
           {
            "marker": {
             "colorbar": {
              "outlinewidth": 0,
              "ticks": ""
             }
            },
            "type": "scatter"
           }
          ],
          "scatter3d": [
           {
            "line": {
             "colorbar": {
              "outlinewidth": 0,
              "ticks": ""
             }
            },
            "marker": {
             "colorbar": {
              "outlinewidth": 0,
              "ticks": ""
             }
            },
            "type": "scatter3d"
           }
          ],
          "scattercarpet": [
           {
            "marker": {
             "colorbar": {
              "outlinewidth": 0,
              "ticks": ""
             }
            },
            "type": "scattercarpet"
           }
          ],
          "scattergeo": [
           {
            "marker": {
             "colorbar": {
              "outlinewidth": 0,
              "ticks": ""
             }
            },
            "type": "scattergeo"
           }
          ],
          "scattergl": [
           {
            "marker": {
             "colorbar": {
              "outlinewidth": 0,
              "ticks": ""
             }
            },
            "type": "scattergl"
           }
          ],
          "scattermapbox": [
           {
            "marker": {
             "colorbar": {
              "outlinewidth": 0,
              "ticks": ""
             }
            },
            "type": "scattermapbox"
           }
          ],
          "scatterpolar": [
           {
            "marker": {
             "colorbar": {
              "outlinewidth": 0,
              "ticks": ""
             }
            },
            "type": "scatterpolar"
           }
          ],
          "scatterpolargl": [
           {
            "marker": {
             "colorbar": {
              "outlinewidth": 0,
              "ticks": ""
             }
            },
            "type": "scatterpolargl"
           }
          ],
          "scatterternary": [
           {
            "marker": {
             "colorbar": {
              "outlinewidth": 0,
              "ticks": ""
             }
            },
            "type": "scatterternary"
           }
          ],
          "surface": [
           {
            "colorbar": {
             "outlinewidth": 0,
             "ticks": ""
            },
            "colorscale": [
             [
              0,
              "#0d0887"
             ],
             [
              0.1111111111111111,
              "#46039f"
             ],
             [
              0.2222222222222222,
              "#7201a8"
             ],
             [
              0.3333333333333333,
              "#9c179e"
             ],
             [
              0.4444444444444444,
              "#bd3786"
             ],
             [
              0.5555555555555556,
              "#d8576b"
             ],
             [
              0.6666666666666666,
              "#ed7953"
             ],
             [
              0.7777777777777778,
              "#fb9f3a"
             ],
             [
              0.8888888888888888,
              "#fdca26"
             ],
             [
              1,
              "#f0f921"
             ]
            ],
            "type": "surface"
           }
          ],
          "table": [
           {
            "cells": {
             "fill": {
              "color": "#EBF0F8"
             },
             "line": {
              "color": "white"
             }
            },
            "header": {
             "fill": {
              "color": "#C8D4E3"
             },
             "line": {
              "color": "white"
             }
            },
            "type": "table"
           }
          ]
         },
         "layout": {
          "annotationdefaults": {
           "arrowcolor": "#2a3f5f",
           "arrowhead": 0,
           "arrowwidth": 1
          },
          "coloraxis": {
           "colorbar": {
            "outlinewidth": 0,
            "ticks": ""
           }
          },
          "colorscale": {
           "diverging": [
            [
             0,
             "#8e0152"
            ],
            [
             0.1,
             "#c51b7d"
            ],
            [
             0.2,
             "#de77ae"
            ],
            [
             0.3,
             "#f1b6da"
            ],
            [
             0.4,
             "#fde0ef"
            ],
            [
             0.5,
             "#f7f7f7"
            ],
            [
             0.6,
             "#e6f5d0"
            ],
            [
             0.7,
             "#b8e186"
            ],
            [
             0.8,
             "#7fbc41"
            ],
            [
             0.9,
             "#4d9221"
            ],
            [
             1,
             "#276419"
            ]
           ],
           "sequential": [
            [
             0,
             "#0d0887"
            ],
            [
             0.1111111111111111,
             "#46039f"
            ],
            [
             0.2222222222222222,
             "#7201a8"
            ],
            [
             0.3333333333333333,
             "#9c179e"
            ],
            [
             0.4444444444444444,
             "#bd3786"
            ],
            [
             0.5555555555555556,
             "#d8576b"
            ],
            [
             0.6666666666666666,
             "#ed7953"
            ],
            [
             0.7777777777777778,
             "#fb9f3a"
            ],
            [
             0.8888888888888888,
             "#fdca26"
            ],
            [
             1,
             "#f0f921"
            ]
           ],
           "sequentialminus": [
            [
             0,
             "#0d0887"
            ],
            [
             0.1111111111111111,
             "#46039f"
            ],
            [
             0.2222222222222222,
             "#7201a8"
            ],
            [
             0.3333333333333333,
             "#9c179e"
            ],
            [
             0.4444444444444444,
             "#bd3786"
            ],
            [
             0.5555555555555556,
             "#d8576b"
            ],
            [
             0.6666666666666666,
             "#ed7953"
            ],
            [
             0.7777777777777778,
             "#fb9f3a"
            ],
            [
             0.8888888888888888,
             "#fdca26"
            ],
            [
             1,
             "#f0f921"
            ]
           ]
          },
          "colorway": [
           "#636efa",
           "#EF553B",
           "#00cc96",
           "#ab63fa",
           "#FFA15A",
           "#19d3f3",
           "#FF6692",
           "#B6E880",
           "#FF97FF",
           "#FECB52"
          ],
          "font": {
           "color": "#2a3f5f"
          },
          "geo": {
           "bgcolor": "white",
           "lakecolor": "white",
           "landcolor": "#E5ECF6",
           "showlakes": true,
           "showland": true,
           "subunitcolor": "white"
          },
          "hoverlabel": {
           "align": "left"
          },
          "hovermode": "closest",
          "mapbox": {
           "style": "light"
          },
          "paper_bgcolor": "white",
          "plot_bgcolor": "#E5ECF6",
          "polar": {
           "angularaxis": {
            "gridcolor": "white",
            "linecolor": "white",
            "ticks": ""
           },
           "bgcolor": "#E5ECF6",
           "radialaxis": {
            "gridcolor": "white",
            "linecolor": "white",
            "ticks": ""
           }
          },
          "scene": {
           "xaxis": {
            "backgroundcolor": "#E5ECF6",
            "gridcolor": "white",
            "gridwidth": 2,
            "linecolor": "white",
            "showbackground": true,
            "ticks": "",
            "zerolinecolor": "white"
           },
           "yaxis": {
            "backgroundcolor": "#E5ECF6",
            "gridcolor": "white",
            "gridwidth": 2,
            "linecolor": "white",
            "showbackground": true,
            "ticks": "",
            "zerolinecolor": "white"
           },
           "zaxis": {
            "backgroundcolor": "#E5ECF6",
            "gridcolor": "white",
            "gridwidth": 2,
            "linecolor": "white",
            "showbackground": true,
            "ticks": "",
            "zerolinecolor": "white"
           }
          },
          "shapedefaults": {
           "line": {
            "color": "#2a3f5f"
           }
          },
          "ternary": {
           "aaxis": {
            "gridcolor": "white",
            "linecolor": "white",
            "ticks": ""
           },
           "baxis": {
            "gridcolor": "white",
            "linecolor": "white",
            "ticks": ""
           },
           "bgcolor": "#E5ECF6",
           "caxis": {
            "gridcolor": "white",
            "linecolor": "white",
            "ticks": ""
           }
          },
          "title": {
           "x": 0.05
          },
          "xaxis": {
           "automargin": true,
           "gridcolor": "white",
           "linecolor": "white",
           "ticks": "",
           "title": {
            "standoff": 15
           },
           "zerolinecolor": "white",
           "zerolinewidth": 2
          },
          "yaxis": {
           "automargin": true,
           "gridcolor": "white",
           "linecolor": "white",
           "ticks": "",
           "title": {
            "standoff": 15
           },
           "zerolinecolor": "white",
           "zerolinewidth": 2
          }
         }
        },
        "xaxis": {
         "anchor": "y",
         "domain": [
          0,
          0.3066666666666667
         ]
        },
        "xaxis2": {
         "anchor": "y2",
         "domain": [
          0.3466666666666667,
          0.6533333333333333
         ]
        },
        "xaxis3": {
         "anchor": "y3",
         "domain": [
          0.6933333333333334,
          1
         ]
        },
        "xaxis4": {
         "anchor": "y4",
         "domain": [
          0,
          0.3066666666666667
         ]
        },
        "xaxis5": {
         "anchor": "y5",
         "domain": [
          0.3466666666666667,
          0.6533333333333333
         ]
        },
        "xaxis6": {
         "anchor": "y6",
         "domain": [
          0.6933333333333334,
          1
         ]
        },
        "xaxis7": {
         "anchor": "y7",
         "domain": [
          0,
          0.3066666666666667
         ]
        },
        "xaxis8": {
         "anchor": "y8",
         "domain": [
          0.3466666666666667,
          0.6533333333333333
         ]
        },
        "xaxis9": {
         "anchor": "y9",
         "domain": [
          0.6933333333333334,
          1
         ]
        },
        "yaxis": {
         "anchor": "x",
         "domain": [
          0.7333333333333334,
          1
         ]
        },
        "yaxis2": {
         "anchor": "x2",
         "domain": [
          0.7333333333333334,
          1
         ],
         "matches": "y",
         "showticklabels": false
        },
        "yaxis3": {
         "anchor": "x3",
         "domain": [
          0.7333333333333334,
          1
         ],
         "matches": "y",
         "showticklabels": false
        },
        "yaxis4": {
         "anchor": "x4",
         "domain": [
          0.3666666666666667,
          0.6333333333333333
         ]
        },
        "yaxis5": {
         "anchor": "x5",
         "domain": [
          0.3666666666666667,
          0.6333333333333333
         ],
         "matches": "y4",
         "showticklabels": false
        },
        "yaxis6": {
         "anchor": "x6",
         "domain": [
          0.3666666666666667,
          0.6333333333333333
         ],
         "matches": "y4",
         "showticklabels": false
        },
        "yaxis7": {
         "anchor": "x7",
         "domain": [
          0,
          0.26666666666666666
         ]
        },
        "yaxis8": {
         "anchor": "x8",
         "domain": [
          0,
          0.26666666666666666
         ],
         "matches": "y7",
         "showticklabels": false
        },
        "yaxis9": {
         "anchor": "x9",
         "domain": [
          0,
          0.26666666666666666
         ],
         "matches": "y7",
         "showticklabels": false
        }
       }
      },
      "text/html": [
       "<div>\n",
       "        \n",
       "        \n",
       "            <div id=\"be3531a1-6c80-4dab-939d-0dfeab693a15\" class=\"plotly-graph-div\" style=\"height:525px; width:100%;\"></div>\n",
       "            <script type=\"text/javascript\">\n",
       "                require([\"plotly\"], function(Plotly) {\n",
       "                    window.PLOTLYENV=window.PLOTLYENV || {};\n",
       "                    \n",
       "                if (document.getElementById(\"be3531a1-6c80-4dab-939d-0dfeab693a15\")) {\n",
       "                    Plotly.newPlot(\n",
       "                        'be3531a1-6c80-4dab-939d-0dfeab693a15',\n",
       "                        [{\"marker\": {\"color\": \"lightblue\", \"line\": {\"color\": \"rgba(156, 165, 196, 1.0)\"}}, \"name\": \"Soft\", \"type\": \"scatter\", \"x\": [0.509, 0.33899999999999997, 0.541845, 0.46810799999999997, 0.779, 0.479, 0.697894], \"xaxis\": \"x\", \"y\": [\"#chiBUU\", \"AMD+JAM\", \"IQMD-BNU\", \"SMASH\", \"TuQMD\", \"UrQMD\", \"pBUU\"], \"yaxis\": \"y\"}, {\"marker\": {\"color\": \"lightblue\", \"line\": {\"color\": \"rgba(156, 165, 196, 1.0)\"}}, \"name\": \"Soft\", \"showlegend\": false, \"type\": \"scatter\", \"x\": [0.0, 0.0, 0.0, 0.0, 0.579516, 0.3513, 0.521315], \"xaxis\": \"x2\", \"y\": [\"#chiBUU\", \"AMD+JAM\", \"IQMD-BNU\", \"SMASH\", \"TuQMD\", \"UrQMD\", \"pBUU\"], \"yaxis\": \"y2\"}, {\"marker\": {\"color\": \"lightblue\", \"line\": {\"color\": \"rgba(156, 165, 196, 1.0)\"}}, \"name\": \"Soft\", \"showlegend\": false, \"type\": \"scatter\", \"x\": [0.26899999999999996, 0.2, 0.3187, 0.287452, 0.442, 0.292, 0.40074699999999996], \"xaxis\": \"x3\", \"y\": [\"#chiBUU\", \"AMD+JAM\", \"IQMD-BNU\", \"SMASH\", \"TuQMD\", \"UrQMD\", \"pBUU\"], \"yaxis\": \"y3\"}, {\"marker\": {\"color\": \"rgba(156, 165, 196, 0.95)\", \"line\": {\"color\": \"rgba(156, 165, 196, 1.0)\"}}, \"name\": \"Stiff\", \"type\": \"scatter\", \"x\": [0.483, 0.311, 0.45182, 0.479238, 0.8390000000000001, 0.449, 0.648582], \"xaxis\": \"x\", \"y\": [\"#chiBUU\", \"AMD+JAM\", \"IQMD-BNU\", \"SMASH\", \"TuQMD\", \"UrQMD\", \"pBUU\"], \"yaxis\": \"y\"}, {\"marker\": {\"color\": \"rgba(156, 165, 196, 0.95)\", \"line\": {\"color\": \"rgba(156, 165, 196, 1.0)\"}}, \"name\": \"Stiff\", \"showlegend\": false, \"type\": \"scatter\", \"x\": [0.0, 0.0, 0.0, 0.0, 0.626352, 0.34521, 0.497541], \"xaxis\": \"x2\", \"y\": [\"#chiBUU\", \"AMD+JAM\", \"IQMD-BNU\", \"SMASH\", \"TuQMD\", \"UrQMD\", \"pBUU\"], \"yaxis\": \"y2\"}, {\"marker\": {\"color\": \"rgba(156, 165, 196, 0.95)\", \"line\": {\"color\": \"rgba(156, 165, 196, 1.0)\"}}, \"name\": \"Stiff\", \"showlegend\": false, \"type\": \"scatter\", \"x\": [0.271, 0.192, 0.2779, 0.291527, 0.474, 0.27399999999999997, 0.392341], \"xaxis\": \"x3\", \"y\": [\"#chiBUU\", \"AMD+JAM\", \"IQMD-BNU\", \"SMASH\", \"TuQMD\", \"UrQMD\", \"pBUU\"], \"yaxis\": \"y3\"}, {\"marker\": {\"color\": \"lightblue\", \"line\": {\"color\": \"rgba(217, 217, 217, 1.0)\"}}, \"name\": \"Soft\", \"showlegend\": false, \"type\": \"scatter\", \"x\": [0.109, 0.0978, 0.147585, 0.167683, 0.145, 0.129, 0.180926], \"xaxis\": \"x4\", \"y\": [\"#chiBUU\", \"AMD+JAM\", \"IQMD-BNU\", \"SMASH\", \"TuQMD\", \"UrQMD\", \"pBUU\"], \"yaxis\": \"y4\"}, {\"marker\": {\"color\": \"lightblue\", \"line\": {\"color\": \"rgba(217, 217, 217, 1.0)\"}}, \"name\": \"Soft\", \"showlegend\": false, \"type\": \"scatter\", \"x\": [0.0, 0.0, 0.0, 0.0, 0.16228499999999998, 0.13985, 0.196993], \"xaxis\": \"x5\", \"y\": [\"#chiBUU\", \"AMD+JAM\", \"IQMD-BNU\", \"SMASH\", \"TuQMD\", \"UrQMD\", \"pBUU\"], \"yaxis\": \"y5\"}, {\"marker\": {\"color\": \"lightblue\", \"line\": {\"color\": \"rgba(217, 217, 217, 1.0)\"}}, \"name\": \"Soft\", \"showlegend\": false, \"type\": \"scatter\", \"x\": [0.134, 0.11599999999999999, 0.174835, 0.190153, 0.17600000000000002, 0.14400000000000002, 0.21334699999999998], \"xaxis\": \"x6\", \"y\": [\"#chiBUU\", \"AMD+JAM\", \"IQMD-BNU\", \"SMASH\", \"TuQMD\", \"UrQMD\", \"pBUU\"], \"yaxis\": \"y6\"}, {\"marker\": {\"color\": \"lightblue\", \"line\": {\"color\": \"rgba(156, 165, 196, 1.0)\"}}, \"name\": \"Soft\", \"showlegend\": false, \"type\": \"scatter\", \"x\": [4.669724770642202, 3.466257668711656, 3.6714096961073284, 2.791624672745597, 5.372413793103449, 3.7131782945736433, 3.8573449918751312], \"xaxis\": \"x7\", \"y\": [\"#chiBUU\", \"AMD+JAM\", \"IQMD-BNU\", \"SMASH\", \"TuQMD\", \"UrQMD\", \"pBUU\"], \"yaxis\": \"y7\"}, {\"marker\": {\"color\": \"lightblue\", \"line\": {\"color\": \"rgba(156, 165, 196, 1.0)\"}}, \"name\": \"Soft\", \"showlegend\": false, \"type\": \"scatter\", \"x\": [null, null, null, null, 3.570976984933913, 2.5119771183410795, 2.646363068738483], \"xaxis\": \"x8\", \"y\": [\"#chiBUU\", \"AMD+JAM\", \"IQMD-BNU\", \"SMASH\", \"TuQMD\", \"UrQMD\", \"pBUU\"], \"yaxis\": \"y8\"}, {\"marker\": {\"color\": \"lightblue\", \"line\": {\"color\": \"rgba(156, 165, 196, 1.0)\"}}, \"name\": \"Soft\", \"showlegend\": false, \"type\": \"scatter\", \"x\": [2.007462686567164, 1.7241379310344829, 1.822861555180599, 1.5116879565402597, 2.5113636363636362, 2.0277777777777772, 1.8783812287025363], \"xaxis\": \"x9\", \"y\": [\"#chiBUU\", \"AMD+JAM\", \"IQMD-BNU\", \"SMASH\", \"TuQMD\", \"UrQMD\", \"pBUU\"], \"yaxis\": \"y9\"}, {\"marker\": {\"color\": \"rgba(204, 204, 204, 0.95)\", \"line\": {\"color\": \"rgba(217, 217, 217, 1.0)\"}}, \"name\": \"Stiff\", \"showlegend\": false, \"type\": \"scatter\", \"x\": [4.128205128205129, 3.1541582150101424, 2.9508539333180943, 2.932123540784611, 5.786206896551725, 3.3759398496240602, 3.5131407895307016], \"xaxis\": \"x7\", \"y\": [\"#chiBUU\", \"AMD+JAM\", \"IQMD-BNU\", \"SMASH\", \"TuQMD\", \"UrQMD\", \"pBUU\"], \"yaxis\": \"y7\"}, {\"marker\": {\"color\": \"rgba(204, 204, 204, 0.95)\", \"line\": {\"color\": \"rgba(217, 217, 217, 1.0)\"}}, \"name\": \"Stiff\", \"showlegend\": false, \"type\": \"scatter\", \"x\": [null, null, null, null, 3.824022857980146, 2.4763988522238165, 2.485033588891941], \"xaxis\": \"x8\", \"y\": [\"#chiBUU\", \"AMD+JAM\", \"IQMD-BNU\", \"SMASH\", \"TuQMD\", \"UrQMD\", \"pBUU\"], \"yaxis\": \"y8\"}, {\"marker\": {\"color\": \"rgba(204, 204, 204, 0.95)\", \"line\": {\"color\": \"rgba(217, 217, 217, 1.0)\"}}, \"name\": \"Stiff\", \"showlegend\": false, \"type\": \"scatter\", \"x\": [1.9357142857142857, 1.6551724137931036, 1.6654181523986453, 1.5497522752402824, 2.61878453038674, 1.8639455782312924, 1.8304097114011924], \"xaxis\": \"x9\", \"y\": [\"#chiBUU\", \"AMD+JAM\", \"IQMD-BNU\", \"SMASH\", \"TuQMD\", \"UrQMD\", \"pBUU\"], \"yaxis\": \"y9\"}],\n",
       "                        {\"annotations\": [{\"font\": {\"size\": 16}, \"showarrow\": false, \"text\": \"r'$\\\\pi^{-}$\", \"x\": 0.5, \"xanchor\": \"center\", \"xref\": \"paper\", \"y\": 1.0, \"yanchor\": \"bottom\", \"yref\": \"paper\"}, {\"font\": {\"size\": 16}, \"showarrow\": false, \"text\": \"r'$\\\\pi^{+}$\", \"x\": 0.5, \"xanchor\": \"center\", \"xref\": \"paper\", \"y\": 0.6333333333333333, \"yanchor\": \"bottom\", \"yref\": \"paper\"}, {\"font\": {\"size\": 16}, \"showarrow\": false, \"text\": \"r'$\\\\pi^{-}/\\\\pi^{+}$\", \"x\": 0.5, \"xanchor\": \"center\", \"xref\": \"paper\", \"y\": 0.26666666666666666, \"yanchor\": \"bottom\", \"yref\": \"paper\"}], \"shapes\": [{\"fillcolor\": \"blue\", \"opacity\": 0.3, \"type\": \"rect\", \"x0\": 0.6928, \"x1\": 0.7412, \"xref\": \"x\", \"y0\": -1, \"y1\": 6.5, \"yref\": \"y\"}, {\"fillcolor\": \"blue\", \"opacity\": 0.3, \"type\": \"rect\", \"x0\": 0.4917, \"x1\": 0.5523, \"xref\": \"x2\", \"y0\": -1, \"y1\": 6.5, \"yref\": \"y2\"}, {\"fillcolor\": \"blue\", \"opacity\": 0.3, \"type\": \"rect\", \"x0\": 0.38480000000000003, \"x1\": 0.4132, \"xref\": \"x3\", \"y0\": -1, \"y1\": 6.5, \"yref\": \"y3\"}, {\"fillcolor\": \"blue\", \"opacity\": 0.3, \"type\": \"rect\", \"x0\": 0.14246999999999999, \"x1\": 0.15353, \"xref\": \"x4\", \"y0\": -1, \"y1\": 6.5, \"yref\": \"y4\"}, {\"fillcolor\": \"blue\", \"opacity\": 0.3, \"type\": \"rect\", \"x0\": 0.1572, \"x1\": 0.18280000000000002, \"xref\": \"x5\", \"y0\": -1, \"y1\": 6.5, \"yref\": \"y5\"}, {\"fillcolor\": \"blue\", \"opacity\": 0.3, \"type\": \"rect\", \"x0\": 0.19140000000000001, \"x1\": 0.2086, \"xref\": \"x6\", \"y0\": -1, \"y1\": 6.5, \"yref\": \"y6\"}, {\"fillcolor\": \"blue\", \"opacity\": 0.3, \"type\": \"rect\", \"x0\": 4.724594594594595, \"x1\": 4.964594594594595, \"xref\": \"x7\", \"y0\": -1, \"y1\": 6.5, \"yref\": \"y7\"}, {\"fillcolor\": \"blue\", \"opacity\": 0.3, \"type\": \"rect\", \"x0\": 2.830588235294117, \"x1\": 3.3105882352941176, \"xref\": \"x8\", \"y0\": -1, \"y1\": 6.5, \"yref\": \"y8\"}, {\"fillcolor\": \"blue\", \"opacity\": 0.3, \"type\": \"rect\", \"x0\": 1.9455, \"x1\": 2.0445, \"xref\": \"x9\", \"y0\": -1, \"y1\": 6.5, \"yref\": \"y9\"}, {\"line\": {\"width\": 3}, \"type\": \"line\", \"x0\": 0.717, \"x1\": 0.717, \"xref\": \"x\", \"y0\": -1, \"y1\": 6.5, \"yref\": \"y\"}, {\"line\": {\"width\": 3}, \"type\": \"line\", \"x0\": 0.522, \"x1\": 0.522, \"xref\": \"x2\", \"y0\": -1, \"y1\": 6.5, \"yref\": \"y2\"}, {\"line\": {\"width\": 3}, \"type\": \"line\", \"x0\": 0.399, \"x1\": 0.399, \"xref\": \"x3\", \"y0\": -1, \"y1\": 6.5, \"yref\": \"y3\"}, {\"line\": {\"width\": 3}, \"type\": \"line\", \"x0\": 0.148, \"x1\": 0.148, \"xref\": \"x4\", \"y0\": -1, \"y1\": 6.5, \"yref\": \"y4\"}, {\"line\": {\"width\": 3}, \"type\": \"line\", \"x0\": 0.17, \"x1\": 0.17, \"xref\": \"x5\", \"y0\": -1, \"y1\": 6.5, \"yref\": \"y5\"}, {\"line\": {\"width\": 3}, \"type\": \"line\", \"x0\": 0.2, \"x1\": 0.2, \"xref\": \"x6\", \"y0\": -1, \"y1\": 6.5, \"yref\": \"y6\"}, {\"line\": {\"width\": 3}, \"type\": \"line\", \"x0\": 4.844594594594595, \"x1\": 4.844594594594595, \"xref\": \"x7\", \"y0\": -1, \"y1\": 6.5, \"yref\": \"y7\"}, {\"line\": {\"width\": 3}, \"type\": \"line\", \"x0\": 3.0705882352941174, \"x1\": 3.0705882352941174, \"xref\": \"x8\", \"y0\": -1, \"y1\": 6.5, \"yref\": \"y8\"}, {\"line\": {\"width\": 3}, \"type\": \"line\", \"x0\": 1.995, \"x1\": 1.995, \"xref\": \"x9\", \"y0\": -1, \"y1\": 6.5, \"yref\": \"y9\"}], \"template\": {\"data\": {\"bar\": [{\"error_x\": {\"color\": \"#2a3f5f\"}, \"error_y\": {\"color\": \"#2a3f5f\"}, \"marker\": {\"line\": {\"color\": \"#E5ECF6\", \"width\": 0.5}}, \"type\": \"bar\"}], \"barpolar\": [{\"marker\": {\"line\": {\"color\": \"#E5ECF6\", \"width\": 0.5}}, \"type\": \"barpolar\"}], \"carpet\": [{\"aaxis\": {\"endlinecolor\": \"#2a3f5f\", \"gridcolor\": \"white\", \"linecolor\": \"white\", \"minorgridcolor\": \"white\", \"startlinecolor\": \"#2a3f5f\"}, \"baxis\": {\"endlinecolor\": \"#2a3f5f\", \"gridcolor\": \"white\", \"linecolor\": \"white\", \"minorgridcolor\": \"white\", \"startlinecolor\": \"#2a3f5f\"}, \"type\": \"carpet\"}], \"choropleth\": [{\"colorbar\": {\"outlinewidth\": 0, \"ticks\": \"\"}, \"type\": \"choropleth\"}], \"contour\": [{\"colorbar\": {\"outlinewidth\": 0, \"ticks\": \"\"}, \"colorscale\": [[0.0, \"#0d0887\"], [0.1111111111111111, \"#46039f\"], [0.2222222222222222, \"#7201a8\"], [0.3333333333333333, \"#9c179e\"], [0.4444444444444444, \"#bd3786\"], [0.5555555555555556, \"#d8576b\"], [0.6666666666666666, \"#ed7953\"], [0.7777777777777778, \"#fb9f3a\"], [0.8888888888888888, \"#fdca26\"], [1.0, \"#f0f921\"]], \"type\": \"contour\"}], \"contourcarpet\": [{\"colorbar\": {\"outlinewidth\": 0, \"ticks\": \"\"}, \"type\": \"contourcarpet\"}], \"heatmap\": [{\"colorbar\": {\"outlinewidth\": 0, \"ticks\": \"\"}, \"colorscale\": [[0.0, \"#0d0887\"], [0.1111111111111111, \"#46039f\"], [0.2222222222222222, \"#7201a8\"], [0.3333333333333333, \"#9c179e\"], [0.4444444444444444, \"#bd3786\"], [0.5555555555555556, \"#d8576b\"], [0.6666666666666666, \"#ed7953\"], [0.7777777777777778, \"#fb9f3a\"], [0.8888888888888888, \"#fdca26\"], [1.0, \"#f0f921\"]], \"type\": \"heatmap\"}], \"heatmapgl\": [{\"colorbar\": {\"outlinewidth\": 0, \"ticks\": \"\"}, \"colorscale\": [[0.0, \"#0d0887\"], [0.1111111111111111, \"#46039f\"], [0.2222222222222222, \"#7201a8\"], [0.3333333333333333, \"#9c179e\"], [0.4444444444444444, \"#bd3786\"], [0.5555555555555556, \"#d8576b\"], [0.6666666666666666, \"#ed7953\"], [0.7777777777777778, \"#fb9f3a\"], [0.8888888888888888, \"#fdca26\"], [1.0, \"#f0f921\"]], \"type\": \"heatmapgl\"}], \"histogram\": [{\"marker\": {\"colorbar\": {\"outlinewidth\": 0, \"ticks\": \"\"}}, \"type\": \"histogram\"}], \"histogram2d\": [{\"colorbar\": {\"outlinewidth\": 0, \"ticks\": \"\"}, \"colorscale\": [[0.0, \"#0d0887\"], [0.1111111111111111, \"#46039f\"], [0.2222222222222222, \"#7201a8\"], [0.3333333333333333, \"#9c179e\"], [0.4444444444444444, \"#bd3786\"], [0.5555555555555556, \"#d8576b\"], [0.6666666666666666, \"#ed7953\"], [0.7777777777777778, \"#fb9f3a\"], [0.8888888888888888, \"#fdca26\"], [1.0, \"#f0f921\"]], \"type\": \"histogram2d\"}], \"histogram2dcontour\": [{\"colorbar\": {\"outlinewidth\": 0, \"ticks\": \"\"}, \"colorscale\": [[0.0, \"#0d0887\"], [0.1111111111111111, \"#46039f\"], [0.2222222222222222, \"#7201a8\"], [0.3333333333333333, \"#9c179e\"], [0.4444444444444444, \"#bd3786\"], [0.5555555555555556, \"#d8576b\"], [0.6666666666666666, \"#ed7953\"], [0.7777777777777778, \"#fb9f3a\"], [0.8888888888888888, \"#fdca26\"], [1.0, \"#f0f921\"]], \"type\": \"histogram2dcontour\"}], \"mesh3d\": [{\"colorbar\": {\"outlinewidth\": 0, \"ticks\": \"\"}, \"type\": \"mesh3d\"}], \"parcoords\": [{\"line\": {\"colorbar\": {\"outlinewidth\": 0, \"ticks\": \"\"}}, \"type\": \"parcoords\"}], \"pie\": [{\"automargin\": true, \"type\": \"pie\"}], \"scatter\": [{\"marker\": {\"colorbar\": {\"outlinewidth\": 0, \"ticks\": \"\"}}, \"type\": \"scatter\"}], \"scatter3d\": [{\"line\": {\"colorbar\": {\"outlinewidth\": 0, \"ticks\": \"\"}}, \"marker\": {\"colorbar\": {\"outlinewidth\": 0, \"ticks\": \"\"}}, \"type\": \"scatter3d\"}], \"scattercarpet\": [{\"marker\": {\"colorbar\": {\"outlinewidth\": 0, \"ticks\": \"\"}}, \"type\": \"scattercarpet\"}], \"scattergeo\": [{\"marker\": {\"colorbar\": {\"outlinewidth\": 0, \"ticks\": \"\"}}, \"type\": \"scattergeo\"}], \"scattergl\": [{\"marker\": {\"colorbar\": {\"outlinewidth\": 0, \"ticks\": \"\"}}, \"type\": \"scattergl\"}], \"scattermapbox\": [{\"marker\": {\"colorbar\": {\"outlinewidth\": 0, \"ticks\": \"\"}}, \"type\": \"scattermapbox\"}], \"scatterpolar\": [{\"marker\": {\"colorbar\": {\"outlinewidth\": 0, \"ticks\": \"\"}}, \"type\": \"scatterpolar\"}], \"scatterpolargl\": [{\"marker\": {\"colorbar\": {\"outlinewidth\": 0, \"ticks\": \"\"}}, \"type\": \"scatterpolargl\"}], \"scatterternary\": [{\"marker\": {\"colorbar\": {\"outlinewidth\": 0, \"ticks\": \"\"}}, \"type\": \"scatterternary\"}], \"surface\": [{\"colorbar\": {\"outlinewidth\": 0, \"ticks\": \"\"}, \"colorscale\": [[0.0, \"#0d0887\"], [0.1111111111111111, \"#46039f\"], [0.2222222222222222, \"#7201a8\"], [0.3333333333333333, \"#9c179e\"], [0.4444444444444444, \"#bd3786\"], [0.5555555555555556, \"#d8576b\"], [0.6666666666666666, \"#ed7953\"], [0.7777777777777778, \"#fb9f3a\"], [0.8888888888888888, \"#fdca26\"], [1.0, \"#f0f921\"]], \"type\": \"surface\"}], \"table\": [{\"cells\": {\"fill\": {\"color\": \"#EBF0F8\"}, \"line\": {\"color\": \"white\"}}, \"header\": {\"fill\": {\"color\": \"#C8D4E3\"}, \"line\": {\"color\": \"white\"}}, \"type\": \"table\"}]}, \"layout\": {\"annotationdefaults\": {\"arrowcolor\": \"#2a3f5f\", \"arrowhead\": 0, \"arrowwidth\": 1}, \"coloraxis\": {\"colorbar\": {\"outlinewidth\": 0, \"ticks\": \"\"}}, \"colorscale\": {\"diverging\": [[0, \"#8e0152\"], [0.1, \"#c51b7d\"], [0.2, \"#de77ae\"], [0.3, \"#f1b6da\"], [0.4, \"#fde0ef\"], [0.5, \"#f7f7f7\"], [0.6, \"#e6f5d0\"], [0.7, \"#b8e186\"], [0.8, \"#7fbc41\"], [0.9, \"#4d9221\"], [1, \"#276419\"]], \"sequential\": [[0.0, \"#0d0887\"], [0.1111111111111111, \"#46039f\"], [0.2222222222222222, \"#7201a8\"], [0.3333333333333333, \"#9c179e\"], [0.4444444444444444, \"#bd3786\"], [0.5555555555555556, \"#d8576b\"], [0.6666666666666666, \"#ed7953\"], [0.7777777777777778, \"#fb9f3a\"], [0.8888888888888888, \"#fdca26\"], [1.0, \"#f0f921\"]], \"sequentialminus\": [[0.0, \"#0d0887\"], [0.1111111111111111, \"#46039f\"], [0.2222222222222222, \"#7201a8\"], [0.3333333333333333, \"#9c179e\"], [0.4444444444444444, \"#bd3786\"], [0.5555555555555556, \"#d8576b\"], [0.6666666666666666, \"#ed7953\"], [0.7777777777777778, \"#fb9f3a\"], [0.8888888888888888, \"#fdca26\"], [1.0, \"#f0f921\"]]}, \"colorway\": [\"#636efa\", \"#EF553B\", \"#00cc96\", \"#ab63fa\", \"#FFA15A\", \"#19d3f3\", \"#FF6692\", \"#B6E880\", \"#FF97FF\", \"#FECB52\"], \"font\": {\"color\": \"#2a3f5f\"}, \"geo\": {\"bgcolor\": \"white\", \"lakecolor\": \"white\", \"landcolor\": \"#E5ECF6\", \"showlakes\": true, \"showland\": true, \"subunitcolor\": \"white\"}, \"hoverlabel\": {\"align\": \"left\"}, \"hovermode\": \"closest\", \"mapbox\": {\"style\": \"light\"}, \"paper_bgcolor\": \"white\", \"plot_bgcolor\": \"#E5ECF6\", \"polar\": {\"angularaxis\": {\"gridcolor\": \"white\", \"linecolor\": \"white\", \"ticks\": \"\"}, \"bgcolor\": \"#E5ECF6\", \"radialaxis\": {\"gridcolor\": \"white\", \"linecolor\": \"white\", \"ticks\": \"\"}}, \"scene\": {\"xaxis\": {\"backgroundcolor\": \"#E5ECF6\", \"gridcolor\": \"white\", \"gridwidth\": 2, \"linecolor\": \"white\", \"showbackground\": true, \"ticks\": \"\", \"zerolinecolor\": \"white\"}, \"yaxis\": {\"backgroundcolor\": \"#E5ECF6\", \"gridcolor\": \"white\", \"gridwidth\": 2, \"linecolor\": \"white\", \"showbackground\": true, \"ticks\": \"\", \"zerolinecolor\": \"white\"}, \"zaxis\": {\"backgroundcolor\": \"#E5ECF6\", \"gridcolor\": \"white\", \"gridwidth\": 2, \"linecolor\": \"white\", \"showbackground\": true, \"ticks\": \"\", \"zerolinecolor\": \"white\"}}, \"shapedefaults\": {\"line\": {\"color\": \"#2a3f5f\"}}, \"ternary\": {\"aaxis\": {\"gridcolor\": \"white\", \"linecolor\": \"white\", \"ticks\": \"\"}, \"baxis\": {\"gridcolor\": \"white\", \"linecolor\": \"white\", \"ticks\": \"\"}, \"bgcolor\": \"#E5ECF6\", \"caxis\": {\"gridcolor\": \"white\", \"linecolor\": \"white\", \"ticks\": \"\"}}, \"title\": {\"x\": 0.05}, \"xaxis\": {\"automargin\": true, \"gridcolor\": \"white\", \"linecolor\": \"white\", \"ticks\": \"\", \"title\": {\"standoff\": 15}, \"zerolinecolor\": \"white\", \"zerolinewidth\": 2}, \"yaxis\": {\"automargin\": true, \"gridcolor\": \"white\", \"linecolor\": \"white\", \"ticks\": \"\", \"title\": {\"standoff\": 15}, \"zerolinecolor\": \"white\", \"zerolinewidth\": 2}}}, \"xaxis\": {\"anchor\": \"y\", \"domain\": [0.0, 0.3066666666666667]}, \"xaxis2\": {\"anchor\": \"y2\", \"domain\": [0.3466666666666667, 0.6533333333333333]}, \"xaxis3\": {\"anchor\": \"y3\", \"domain\": [0.6933333333333334, 1.0]}, \"xaxis4\": {\"anchor\": \"y4\", \"domain\": [0.0, 0.3066666666666667]}, \"xaxis5\": {\"anchor\": \"y5\", \"domain\": [0.3466666666666667, 0.6533333333333333]}, \"xaxis6\": {\"anchor\": \"y6\", \"domain\": [0.6933333333333334, 1.0]}, \"xaxis7\": {\"anchor\": \"y7\", \"domain\": [0.0, 0.3066666666666667]}, \"xaxis8\": {\"anchor\": \"y8\", \"domain\": [0.3466666666666667, 0.6533333333333333]}, \"xaxis9\": {\"anchor\": \"y9\", \"domain\": [0.6933333333333334, 1.0]}, \"yaxis\": {\"anchor\": \"x\", \"domain\": [0.7333333333333334, 1.0]}, \"yaxis2\": {\"anchor\": \"x2\", \"domain\": [0.7333333333333334, 1.0], \"matches\": \"y\", \"showticklabels\": false}, \"yaxis3\": {\"anchor\": \"x3\", \"domain\": [0.7333333333333334, 1.0], \"matches\": \"y\", \"showticklabels\": false}, \"yaxis4\": {\"anchor\": \"x4\", \"domain\": [0.3666666666666667, 0.6333333333333333]}, \"yaxis5\": {\"anchor\": \"x5\", \"domain\": [0.3666666666666667, 0.6333333333333333], \"matches\": \"y4\", \"showticklabels\": false}, \"yaxis6\": {\"anchor\": \"x6\", \"domain\": [0.3666666666666667, 0.6333333333333333], \"matches\": \"y4\", \"showticklabels\": false}, \"yaxis7\": {\"anchor\": \"x7\", \"domain\": [0.0, 0.26666666666666666]}, \"yaxis8\": {\"anchor\": \"x8\", \"domain\": [0.0, 0.26666666666666666], \"matches\": \"y7\", \"showticklabels\": false}, \"yaxis9\": {\"anchor\": \"x9\", \"domain\": [0.0, 0.26666666666666666], \"matches\": \"y7\", \"showticklabels\": false}},\n",
       "                        {\"responsive\": true}\n",
       "                    ).then(function(){\n",
       "                            \n",
       "var gd = document.getElementById('be3531a1-6c80-4dab-939d-0dfeab693a15');\n",
       "var x = new MutationObserver(function (mutations, observer) {{\n",
       "        var display = window.getComputedStyle(gd).display;\n",
       "        if (!display || display === 'none') {{\n",
       "            console.log([gd, 'removed!']);\n",
       "            Plotly.purge(gd);\n",
       "            observer.disconnect();\n",
       "        }}\n",
       "}});\n",
       "\n",
       "// Listen for the removal of the full notebook cells\n",
       "var notebookContainer = gd.closest('#notebook-container');\n",
       "if (notebookContainer) {{\n",
       "    x.observe(notebookContainer, {childList: true});\n",
       "}}\n",
       "\n",
       "// Listen for the clearing of the current output cell\n",
       "var outputEl = gd.closest('.output');\n",
       "if (outputEl) {{\n",
       "    x.observe(outputEl, {childList: true});\n",
       "}}\n",
       "\n",
       "                        })\n",
       "                };\n",
       "                });\n",
       "            </script>\n",
       "        </div>"
      ]
     },
     "metadata": {},
     "output_type": "display_data"
    }
   ],
   "source": [
    "\n",
    "\n",
    "# Add mean line for data measurment\n",
    "\n",
    "pim_132 = .717\n",
    "pip_132 = .148\n",
    "ratio_132 = pim_132/pip_132\n",
    "\n",
    "pim_124 = .522\n",
    "pip_124 = .17\n",
    "ratio_124 = pim_124/pip_124\n",
    "\n",
    "pim_108 = .399\n",
    "pip_108 = .2\n",
    "ratio_108 = pim_108/pip_108\n",
    "\n",
    "#error bars\n",
    "pim_err_132 = .0242\n",
    "pip_err_132 = .00553\n",
    "ratio_err_132 = .12\n",
    "\n",
    "pim_err_124 = .0303\n",
    "pip_err_124 = .0128\n",
    "ratio_err_124 = .24\n",
    "\n",
    "pim_err_108 = .0142\n",
    "pip_err_108 = .0086\n",
    "ratio_err_108 = .0495\n",
    "\n",
    "y0 = -1\n",
    "y1 = 6.5\n",
    "\n",
    "\n",
    "#rectangle represents error bar\n",
    "fig.add_shape(type=\"rect\", fillcolor='blue', opacity=.3, xref=\"x1\", yref=\"y1\",\n",
    "            x0=pim_132-pim_err_132, y0=y0, x1=pim_132+pim_err_132, y1=y1)\n",
    "\n",
    "fig.add_shape(type=\"rect\", fillcolor='blue', opacity=.3, xref=\"x2\", yref='y2',\n",
    "             x0=pim_124-pim_err_124, y0=y0, x1=pim_124+pim_err_124, y1=y1)\n",
    "\n",
    "fig.add_shape(type=\"rect\", fillcolor='blue', opacity=.3, xref=\"x3\", yref=\"y3\",\n",
    "             x0=pim_108-pim_err_108, y0=y0, x1=pim_108+pim_err_108, y1=y1)\n",
    "        \n",
    "fig.add_shape(type=\"rect\", fillcolor='blue', opacity=.3, xref=\"x4\", yref=\"y4\",\n",
    "            x0=pip_132-pip_err_132, y0=y0, x1=pip_132+pip_err_132, y1=y1)\n",
    "\n",
    "fig.add_shape(type=\"rect\", fillcolor='blue', opacity=.3, xref=\"x5\", yref='y5',\n",
    "             x0=pip_124-pip_err_124, y0=y0, x1=pip_124+pip_err_124, y1=y1)\n",
    "\n",
    "fig.add_shape(type=\"rect\", fillcolor='blue', opacity=.3, xref=\"x6\", yref=\"y6\",\n",
    "             x0=pip_108-pip_err_108, y0=y0, x1=pip_108+pip_err_108, y1=y1)\n",
    "\n",
    "fig.add_shape(type=\"rect\", fillcolor='blue', opacity=.3, xref=\"x7\", yref=\"y7\",\n",
    "            x0=ratio_132-ratio_err_132, y0=y0, x1=ratio_132+ratio_err_132, y1=y1)\n",
    "\n",
    "fig.add_shape(type=\"rect\", fillcolor='blue', opacity=.3, xref=\"x8\", yref='y8',\n",
    "             x0=ratio_124-ratio_err_124, y0=y0, x1=ratio_124+ratio_err_124, y1=y1)\n",
    "\n",
    "fig.add_shape(type=\"rect\", fillcolor='blue', opacity=.3, xref=\"x9\", yref=\"y9\",\n",
    "             x0=ratio_108-ratio_err_108, y0=y0, x1=ratio_108+ratio_err_108, y1=y1)\n",
    "\n",
    "        \n",
    "        #lines represent mean value of measurment\n",
    "fig.add_shape(type=\"line\", xref=\"x1\", yref=\"y1\",\n",
    "            x0=pim_132, y0=y0, x1=pim_132, y1=y1, line_width=3)\n",
    "\n",
    "fig.add_shape(type=\"line\", xref=\"x2\", yref='y2',\n",
    "             x0=pim_124, y0=y0, x1=pim_124, y1=y1, line_width=3)\n",
    "\n",
    "fig.add_shape(type=\"line\", xref=\"x3\", yref=\"y3\",\n",
    "             x0=pim_108, y0=y0, x1=pim_108, y1=y1, line_width=3)\n",
    "\n",
    "fig.add_shape(type=\"line\", xref=\"x4\", yref=\"y4\",\n",
    "            x0=pip_132, y0=y0, x1=pip_132, y1=y1, line_width=3)\n",
    "    \n",
    "fig.add_shape(type=\"line\", xref=\"x5\", yref='y5',\n",
    "             x0=pip_124, y0=y0, x1=pip_124, y1=y1, line_width=3)\n",
    "\n",
    "fig.add_shape(type=\"line\", xref=\"x6\", yref=\"y6\",\n",
    "             x0=pip_108, y0=y0, x1=pip_108, y1=y1, line_width=3)\n",
    "        \n",
    "fig.add_shape(type=\"line\", xref=\"x7\", yref=\"y7\",\n",
    "            x0=ratio_132, y0=y0, x1=ratio_132, y1=y1, line_width=3)\n",
    "\n",
    "fig.add_shape(type=\"line\", xref=\"x8\", yref='y8',\n",
    "             x0=ratio_124, y0=y0, x1=ratio_124, y1=y1, line_width=3)\n",
    "\n",
    "fig.add_shape(type=\"line\", xref=\"x9\", yref=\"y9\",\n",
    "             x0=ratio_108, y0=y0, x1=ratio_108, y1=y1, line_width=3)"
   ]
  },
  {
   "cell_type": "code",
   "execution_count": 87,
   "metadata": {},
   "outputs": [
    {
     "data": {
      "application/vnd.plotly.v1+json": {
       "config": {
        "plotlyServerURL": "https://plot.ly"
       },
       "data": [
        {
         "marker": {
          "color": "lightblue",
          "line": {
           "color": "rgba(156, 165, 196, 1.0)",
           "width": 1
          },
          "size": 16,
          "symbol": "circle"
         },
         "mode": "markers",
         "name": "Soft",
         "type": "scatter",
         "x": [
          0.509,
          0.33899999999999997,
          0.541845,
          0.46810799999999997,
          0.779,
          0.479,
          0.697894
         ],
         "xaxis": "x",
         "y": [
          "#chiBUU",
          "AMD+JAM",
          "IQMD-BNU",
          "SMASH",
          "TuQMD",
          "UrQMD",
          "pBUU"
         ],
         "yaxis": "y"
        },
        {
         "marker": {
          "color": "lightblue",
          "line": {
           "color": "rgba(156, 165, 196, 1.0)",
           "width": 1
          },
          "size": 16,
          "symbol": "circle"
         },
         "mode": "markers",
         "name": "Soft",
         "showlegend": false,
         "type": "scatter",
         "x": [
          0,
          0,
          0,
          0,
          0.579516,
          0.3513,
          0.521315
         ],
         "xaxis": "x2",
         "y": [
          "#chiBUU",
          "AMD+JAM",
          "IQMD-BNU",
          "SMASH",
          "TuQMD",
          "UrQMD",
          "pBUU"
         ],
         "yaxis": "y2"
        },
        {
         "marker": {
          "color": "lightblue",
          "line": {
           "color": "rgba(156, 165, 196, 1.0)",
           "width": 1
          },
          "size": 16,
          "symbol": "circle"
         },
         "mode": "markers",
         "name": "Soft",
         "showlegend": false,
         "type": "scatter",
         "x": [
          0.26899999999999996,
          0.2,
          0.3187,
          0.287452,
          0.442,
          0.292,
          0.40074699999999996
         ],
         "xaxis": "x3",
         "y": [
          "#chiBUU",
          "AMD+JAM",
          "IQMD-BNU",
          "SMASH",
          "TuQMD",
          "UrQMD",
          "pBUU"
         ],
         "yaxis": "y3"
        },
        {
         "marker": {
          "color": "rgba(156, 165, 196, 0.95)",
          "line": {
           "color": "rgba(156, 165, 196, 1.0)",
           "width": 1
          },
          "size": 16,
          "symbol": "circle"
         },
         "mode": "markers",
         "name": "Stiff",
         "type": "scatter",
         "x": [
          0.483,
          0.311,
          0.45182,
          0.479238,
          0.8390000000000001,
          0.449,
          0.648582
         ],
         "xaxis": "x",
         "y": [
          "#chiBUU",
          "AMD+JAM",
          "IQMD-BNU",
          "SMASH",
          "TuQMD",
          "UrQMD",
          "pBUU"
         ],
         "yaxis": "y"
        },
        {
         "marker": {
          "color": "rgba(156, 165, 196, 0.95)",
          "line": {
           "color": "rgba(156, 165, 196, 1.0)",
           "width": 1
          },
          "size": 16,
          "symbol": "circle"
         },
         "mode": "markers",
         "name": "Stiff",
         "showlegend": false,
         "type": "scatter",
         "x": [
          0,
          0,
          0,
          0,
          0.626352,
          0.34521,
          0.497541
         ],
         "xaxis": "x2",
         "y": [
          "#chiBUU",
          "AMD+JAM",
          "IQMD-BNU",
          "SMASH",
          "TuQMD",
          "UrQMD",
          "pBUU"
         ],
         "yaxis": "y2"
        },
        {
         "marker": {
          "color": "rgba(156, 165, 196, 0.95)",
          "line": {
           "color": "rgba(156, 165, 196, 1.0)",
           "width": 1
          },
          "size": 16,
          "symbol": "circle"
         },
         "mode": "markers",
         "name": "Stiff",
         "showlegend": false,
         "type": "scatter",
         "x": [
          0.271,
          0.192,
          0.2779,
          0.291527,
          0.474,
          0.27399999999999997,
          0.392341
         ],
         "xaxis": "x3",
         "y": [
          "#chiBUU",
          "AMD+JAM",
          "IQMD-BNU",
          "SMASH",
          "TuQMD",
          "UrQMD",
          "pBUU"
         ],
         "yaxis": "y3"
        },
        {
         "marker": {
          "color": "lightblue",
          "line": {
           "color": "rgba(217, 217, 217, 1.0)",
           "width": 1
          },
          "size": 16,
          "symbol": "circle"
         },
         "mode": "markers",
         "name": "Soft",
         "showlegend": false,
         "type": "scatter",
         "x": [
          0.109,
          0.0978,
          0.147585,
          0.167683,
          0.145,
          0.129,
          0.180926
         ],
         "xaxis": "x4",
         "y": [
          "#chiBUU",
          "AMD+JAM",
          "IQMD-BNU",
          "SMASH",
          "TuQMD",
          "UrQMD",
          "pBUU"
         ],
         "yaxis": "y4"
        },
        {
         "marker": {
          "color": "lightblue",
          "line": {
           "color": "rgba(217, 217, 217, 1.0)",
           "width": 1
          },
          "size": 16,
          "symbol": "circle"
         },
         "mode": "markers",
         "name": "Soft",
         "showlegend": false,
         "type": "scatter",
         "x": [
          0,
          0,
          0,
          0,
          0.16228499999999998,
          0.13985,
          0.196993
         ],
         "xaxis": "x5",
         "y": [
          "#chiBUU",
          "AMD+JAM",
          "IQMD-BNU",
          "SMASH",
          "TuQMD",
          "UrQMD",
          "pBUU"
         ],
         "yaxis": "y5"
        },
        {
         "marker": {
          "color": "lightblue",
          "line": {
           "color": "rgba(217, 217, 217, 1.0)",
           "width": 1
          },
          "size": 16,
          "symbol": "circle"
         },
         "mode": "markers",
         "name": "Soft",
         "showlegend": false,
         "type": "scatter",
         "x": [
          0.134,
          0.11599999999999999,
          0.174835,
          0.190153,
          0.17600000000000002,
          0.14400000000000002,
          0.21334699999999998
         ],
         "xaxis": "x6",
         "y": [
          "#chiBUU",
          "AMD+JAM",
          "IQMD-BNU",
          "SMASH",
          "TuQMD",
          "UrQMD",
          "pBUU"
         ],
         "yaxis": "y6"
        },
        {
         "marker": {
          "color": "lightblue",
          "line": {
           "color": "rgba(156, 165, 196, 1.0)",
           "width": 1
          },
          "size": 16,
          "symbol": "circle"
         },
         "mode": "markers",
         "name": "Soft",
         "showlegend": false,
         "type": "scatter",
         "x": [
          4.669724770642202,
          3.466257668711656,
          3.6714096961073284,
          2.791624672745597,
          5.372413793103449,
          3.7131782945736433,
          3.8573449918751312
         ],
         "xaxis": "x7",
         "y": [
          "#chiBUU",
          "AMD+JAM",
          "IQMD-BNU",
          "SMASH",
          "TuQMD",
          "UrQMD",
          "pBUU"
         ],
         "yaxis": "y7"
        },
        {
         "marker": {
          "color": "lightblue",
          "line": {
           "color": "rgba(156, 165, 196, 1.0)",
           "width": 1
          },
          "size": 16,
          "symbol": "circle"
         },
         "mode": "markers",
         "name": "Soft",
         "showlegend": false,
         "type": "scatter",
         "x": [
          null,
          null,
          null,
          null,
          3.570976984933913,
          2.5119771183410795,
          2.646363068738483
         ],
         "xaxis": "x8",
         "y": [
          "#chiBUU",
          "AMD+JAM",
          "IQMD-BNU",
          "SMASH",
          "TuQMD",
          "UrQMD",
          "pBUU"
         ],
         "yaxis": "y8"
        },
        {
         "marker": {
          "color": "lightblue",
          "line": {
           "color": "rgba(156, 165, 196, 1.0)",
           "width": 1
          },
          "size": 16,
          "symbol": "circle"
         },
         "mode": "markers",
         "name": "Soft",
         "showlegend": false,
         "type": "scatter",
         "x": [
          2.007462686567164,
          1.7241379310344829,
          1.822861555180599,
          1.5116879565402597,
          2.5113636363636362,
          2.0277777777777772,
          1.8783812287025363
         ],
         "xaxis": "x9",
         "y": [
          "#chiBUU",
          "AMD+JAM",
          "IQMD-BNU",
          "SMASH",
          "TuQMD",
          "UrQMD",
          "pBUU"
         ],
         "yaxis": "y9"
        },
        {
         "marker": {
          "color": "rgba(204, 204, 204, 0.95)",
          "line": {
           "color": "rgba(217, 217, 217, 1.0)",
           "width": 1
          },
          "size": 16,
          "symbol": "circle"
         },
         "mode": "markers",
         "name": "Stiff",
         "showlegend": false,
         "type": "scatter",
         "x": [
          4.128205128205129,
          3.1541582150101424,
          2.9508539333180943,
          2.932123540784611,
          5.786206896551725,
          3.3759398496240602,
          3.5131407895307016
         ],
         "xaxis": "x7",
         "y": [
          "#chiBUU",
          "AMD+JAM",
          "IQMD-BNU",
          "SMASH",
          "TuQMD",
          "UrQMD",
          "pBUU"
         ],
         "yaxis": "y7"
        },
        {
         "marker": {
          "color": "rgba(204, 204, 204, 0.95)",
          "line": {
           "color": "rgba(217, 217, 217, 1.0)",
           "width": 1
          },
          "size": 16,
          "symbol": "circle"
         },
         "mode": "markers",
         "name": "Stiff",
         "showlegend": false,
         "type": "scatter",
         "x": [
          null,
          null,
          null,
          null,
          3.824022857980146,
          2.4763988522238165,
          2.485033588891941
         ],
         "xaxis": "x8",
         "y": [
          "#chiBUU",
          "AMD+JAM",
          "IQMD-BNU",
          "SMASH",
          "TuQMD",
          "UrQMD",
          "pBUU"
         ],
         "yaxis": "y8"
        },
        {
         "marker": {
          "color": "rgba(204, 204, 204, 0.95)",
          "line": {
           "color": "rgba(217, 217, 217, 1.0)",
           "width": 1
          },
          "size": 16,
          "symbol": "circle"
         },
         "mode": "markers",
         "name": "Stiff",
         "showlegend": false,
         "type": "scatter",
         "x": [
          1.9357142857142857,
          1.6551724137931036,
          1.6654181523986453,
          1.5497522752402824,
          2.61878453038674,
          1.8639455782312924,
          1.8304097114011924
         ],
         "xaxis": "x9",
         "y": [
          "#chiBUU",
          "AMD+JAM",
          "IQMD-BNU",
          "SMASH",
          "TuQMD",
          "UrQMD",
          "pBUU"
         ],
         "yaxis": "y9"
        }
       ],
       "layout": {
        "annotations": [
         {
          "font": {
           "size": 16
          },
          "showarrow": false,
          "text": "r'$\\pi^{-}$",
          "x": 0.5,
          "xanchor": "center",
          "xref": "paper",
          "y": 1,
          "yanchor": "bottom",
          "yref": "paper"
         },
         {
          "font": {
           "size": 16
          },
          "showarrow": false,
          "text": "r'$\\pi^{+}$",
          "x": 0.5,
          "xanchor": "center",
          "xref": "paper",
          "y": 0.6333333333333333,
          "yanchor": "bottom",
          "yref": "paper"
         },
         {
          "font": {
           "size": 16
          },
          "showarrow": false,
          "text": "r'$\\pi^{-}/\\pi^{+}$",
          "x": 0.5,
          "xanchor": "center",
          "xref": "paper",
          "y": 0.26666666666666666,
          "yanchor": "bottom",
          "yref": "paper"
         }
        ],
        "autosize": true,
        "font": {
         "size": 16
        },
        "height": 800,
        "hovermode": "closest",
        "legend": {
         "font": {
          "size": 20
         },
         "xanchor": "right",
         "yanchor": "middle"
        },
        "margin": {
         "b": 50,
         "l": 50,
         "r": 80,
         "t": 80
        },
        "paper_bgcolor": "white",
        "plot_bgcolor": "white",
        "shapes": [
         {
          "fillcolor": "blue",
          "opacity": 0.3,
          "type": "rect",
          "x0": 0.6928,
          "x1": 0.7412,
          "xref": "x",
          "y0": -1,
          "y1": 6.5,
          "yref": "y"
         },
         {
          "fillcolor": "blue",
          "opacity": 0.3,
          "type": "rect",
          "x0": 0.4917,
          "x1": 0.5523,
          "xref": "x2",
          "y0": -1,
          "y1": 6.5,
          "yref": "y2"
         },
         {
          "fillcolor": "blue",
          "opacity": 0.3,
          "type": "rect",
          "x0": 0.38480000000000003,
          "x1": 0.4132,
          "xref": "x3",
          "y0": -1,
          "y1": 6.5,
          "yref": "y3"
         },
         {
          "fillcolor": "blue",
          "opacity": 0.3,
          "type": "rect",
          "x0": 0.14246999999999999,
          "x1": 0.15353,
          "xref": "x4",
          "y0": -1,
          "y1": 6.5,
          "yref": "y4"
         },
         {
          "fillcolor": "blue",
          "opacity": 0.3,
          "type": "rect",
          "x0": 0.1572,
          "x1": 0.18280000000000002,
          "xref": "x5",
          "y0": -1,
          "y1": 6.5,
          "yref": "y5"
         },
         {
          "fillcolor": "blue",
          "opacity": 0.3,
          "type": "rect",
          "x0": 0.19140000000000001,
          "x1": 0.2086,
          "xref": "x6",
          "y0": -1,
          "y1": 6.5,
          "yref": "y6"
         },
         {
          "fillcolor": "blue",
          "opacity": 0.3,
          "type": "rect",
          "x0": 4.724594594594595,
          "x1": 4.964594594594595,
          "xref": "x7",
          "y0": -1,
          "y1": 6.5,
          "yref": "y7"
         },
         {
          "fillcolor": "blue",
          "opacity": 0.3,
          "type": "rect",
          "x0": 2.830588235294117,
          "x1": 3.3105882352941176,
          "xref": "x8",
          "y0": -1,
          "y1": 6.5,
          "yref": "y8"
         },
         {
          "fillcolor": "blue",
          "opacity": 0.3,
          "type": "rect",
          "x0": 1.9455,
          "x1": 2.0445,
          "xref": "x9",
          "y0": -1,
          "y1": 6.5,
          "yref": "y9"
         },
         {
          "line": {
           "width": 3
          },
          "type": "line",
          "x0": 0.717,
          "x1": 0.717,
          "xref": "x",
          "y0": -1,
          "y1": 6.5,
          "yref": "y"
         },
         {
          "line": {
           "width": 3
          },
          "type": "line",
          "x0": 0.522,
          "x1": 0.522,
          "xref": "x2",
          "y0": -1,
          "y1": 6.5,
          "yref": "y2"
         },
         {
          "line": {
           "width": 3
          },
          "type": "line",
          "x0": 0.399,
          "x1": 0.399,
          "xref": "x3",
          "y0": -1,
          "y1": 6.5,
          "yref": "y3"
         },
         {
          "line": {
           "width": 3
          },
          "type": "line",
          "x0": 0.148,
          "x1": 0.148,
          "xref": "x4",
          "y0": -1,
          "y1": 6.5,
          "yref": "y4"
         },
         {
          "line": {
           "width": 3
          },
          "type": "line",
          "x0": 0.17,
          "x1": 0.17,
          "xref": "x5",
          "y0": -1,
          "y1": 6.5,
          "yref": "y5"
         },
         {
          "line": {
           "width": 3
          },
          "type": "line",
          "x0": 0.2,
          "x1": 0.2,
          "xref": "x6",
          "y0": -1,
          "y1": 6.5,
          "yref": "y6"
         },
         {
          "line": {
           "width": 3
          },
          "type": "line",
          "x0": 4.844594594594595,
          "x1": 4.844594594594595,
          "xref": "x7",
          "y0": -1,
          "y1": 6.5,
          "yref": "y7"
         },
         {
          "line": {
           "width": 3
          },
          "type": "line",
          "x0": 3.0705882352941174,
          "x1": 3.0705882352941174,
          "xref": "x8",
          "y0": -1,
          "y1": 6.5,
          "yref": "y8"
         },
         {
          "line": {
           "width": 3
          },
          "type": "line",
          "x0": 1.995,
          "x1": 1.995,
          "xref": "x9",
          "y0": -1,
          "y1": 6.5,
          "yref": "y9"
         }
        ],
        "template": {
         "data": {
          "bar": [
           {
            "error_x": {
             "color": "#2a3f5f"
            },
            "error_y": {
             "color": "#2a3f5f"
            },
            "marker": {
             "line": {
              "color": "#E5ECF6",
              "width": 0.5
             }
            },
            "type": "bar"
           }
          ],
          "barpolar": [
           {
            "marker": {
             "line": {
              "color": "#E5ECF6",
              "width": 0.5
             }
            },
            "type": "barpolar"
           }
          ],
          "carpet": [
           {
            "aaxis": {
             "endlinecolor": "#2a3f5f",
             "gridcolor": "white",
             "linecolor": "white",
             "minorgridcolor": "white",
             "startlinecolor": "#2a3f5f"
            },
            "baxis": {
             "endlinecolor": "#2a3f5f",
             "gridcolor": "white",
             "linecolor": "white",
             "minorgridcolor": "white",
             "startlinecolor": "#2a3f5f"
            },
            "type": "carpet"
           }
          ],
          "choropleth": [
           {
            "colorbar": {
             "outlinewidth": 0,
             "ticks": ""
            },
            "type": "choropleth"
           }
          ],
          "contour": [
           {
            "colorbar": {
             "outlinewidth": 0,
             "ticks": ""
            },
            "colorscale": [
             [
              0,
              "#0d0887"
             ],
             [
              0.1111111111111111,
              "#46039f"
             ],
             [
              0.2222222222222222,
              "#7201a8"
             ],
             [
              0.3333333333333333,
              "#9c179e"
             ],
             [
              0.4444444444444444,
              "#bd3786"
             ],
             [
              0.5555555555555556,
              "#d8576b"
             ],
             [
              0.6666666666666666,
              "#ed7953"
             ],
             [
              0.7777777777777778,
              "#fb9f3a"
             ],
             [
              0.8888888888888888,
              "#fdca26"
             ],
             [
              1,
              "#f0f921"
             ]
            ],
            "type": "contour"
           }
          ],
          "contourcarpet": [
           {
            "colorbar": {
             "outlinewidth": 0,
             "ticks": ""
            },
            "type": "contourcarpet"
           }
          ],
          "heatmap": [
           {
            "colorbar": {
             "outlinewidth": 0,
             "ticks": ""
            },
            "colorscale": [
             [
              0,
              "#0d0887"
             ],
             [
              0.1111111111111111,
              "#46039f"
             ],
             [
              0.2222222222222222,
              "#7201a8"
             ],
             [
              0.3333333333333333,
              "#9c179e"
             ],
             [
              0.4444444444444444,
              "#bd3786"
             ],
             [
              0.5555555555555556,
              "#d8576b"
             ],
             [
              0.6666666666666666,
              "#ed7953"
             ],
             [
              0.7777777777777778,
              "#fb9f3a"
             ],
             [
              0.8888888888888888,
              "#fdca26"
             ],
             [
              1,
              "#f0f921"
             ]
            ],
            "type": "heatmap"
           }
          ],
          "heatmapgl": [
           {
            "colorbar": {
             "outlinewidth": 0,
             "ticks": ""
            },
            "colorscale": [
             [
              0,
              "#0d0887"
             ],
             [
              0.1111111111111111,
              "#46039f"
             ],
             [
              0.2222222222222222,
              "#7201a8"
             ],
             [
              0.3333333333333333,
              "#9c179e"
             ],
             [
              0.4444444444444444,
              "#bd3786"
             ],
             [
              0.5555555555555556,
              "#d8576b"
             ],
             [
              0.6666666666666666,
              "#ed7953"
             ],
             [
              0.7777777777777778,
              "#fb9f3a"
             ],
             [
              0.8888888888888888,
              "#fdca26"
             ],
             [
              1,
              "#f0f921"
             ]
            ],
            "type": "heatmapgl"
           }
          ],
          "histogram": [
           {
            "marker": {
             "colorbar": {
              "outlinewidth": 0,
              "ticks": ""
             }
            },
            "type": "histogram"
           }
          ],
          "histogram2d": [
           {
            "colorbar": {
             "outlinewidth": 0,
             "ticks": ""
            },
            "colorscale": [
             [
              0,
              "#0d0887"
             ],
             [
              0.1111111111111111,
              "#46039f"
             ],
             [
              0.2222222222222222,
              "#7201a8"
             ],
             [
              0.3333333333333333,
              "#9c179e"
             ],
             [
              0.4444444444444444,
              "#bd3786"
             ],
             [
              0.5555555555555556,
              "#d8576b"
             ],
             [
              0.6666666666666666,
              "#ed7953"
             ],
             [
              0.7777777777777778,
              "#fb9f3a"
             ],
             [
              0.8888888888888888,
              "#fdca26"
             ],
             [
              1,
              "#f0f921"
             ]
            ],
            "type": "histogram2d"
           }
          ],
          "histogram2dcontour": [
           {
            "colorbar": {
             "outlinewidth": 0,
             "ticks": ""
            },
            "colorscale": [
             [
              0,
              "#0d0887"
             ],
             [
              0.1111111111111111,
              "#46039f"
             ],
             [
              0.2222222222222222,
              "#7201a8"
             ],
             [
              0.3333333333333333,
              "#9c179e"
             ],
             [
              0.4444444444444444,
              "#bd3786"
             ],
             [
              0.5555555555555556,
              "#d8576b"
             ],
             [
              0.6666666666666666,
              "#ed7953"
             ],
             [
              0.7777777777777778,
              "#fb9f3a"
             ],
             [
              0.8888888888888888,
              "#fdca26"
             ],
             [
              1,
              "#f0f921"
             ]
            ],
            "type": "histogram2dcontour"
           }
          ],
          "mesh3d": [
           {
            "colorbar": {
             "outlinewidth": 0,
             "ticks": ""
            },
            "type": "mesh3d"
           }
          ],
          "parcoords": [
           {
            "line": {
             "colorbar": {
              "outlinewidth": 0,
              "ticks": ""
             }
            },
            "type": "parcoords"
           }
          ],
          "pie": [
           {
            "automargin": true,
            "type": "pie"
           }
          ],
          "scatter": [
           {
            "marker": {
             "colorbar": {
              "outlinewidth": 0,
              "ticks": ""
             }
            },
            "type": "scatter"
           }
          ],
          "scatter3d": [
           {
            "line": {
             "colorbar": {
              "outlinewidth": 0,
              "ticks": ""
             }
            },
            "marker": {
             "colorbar": {
              "outlinewidth": 0,
              "ticks": ""
             }
            },
            "type": "scatter3d"
           }
          ],
          "scattercarpet": [
           {
            "marker": {
             "colorbar": {
              "outlinewidth": 0,
              "ticks": ""
             }
            },
            "type": "scattercarpet"
           }
          ],
          "scattergeo": [
           {
            "marker": {
             "colorbar": {
              "outlinewidth": 0,
              "ticks": ""
             }
            },
            "type": "scattergeo"
           }
          ],
          "scattergl": [
           {
            "marker": {
             "colorbar": {
              "outlinewidth": 0,
              "ticks": ""
             }
            },
            "type": "scattergl"
           }
          ],
          "scattermapbox": [
           {
            "marker": {
             "colorbar": {
              "outlinewidth": 0,
              "ticks": ""
             }
            },
            "type": "scattermapbox"
           }
          ],
          "scatterpolar": [
           {
            "marker": {
             "colorbar": {
              "outlinewidth": 0,
              "ticks": ""
             }
            },
            "type": "scatterpolar"
           }
          ],
          "scatterpolargl": [
           {
            "marker": {
             "colorbar": {
              "outlinewidth": 0,
              "ticks": ""
             }
            },
            "type": "scatterpolargl"
           }
          ],
          "scatterternary": [
           {
            "marker": {
             "colorbar": {
              "outlinewidth": 0,
              "ticks": ""
             }
            },
            "type": "scatterternary"
           }
          ],
          "surface": [
           {
            "colorbar": {
             "outlinewidth": 0,
             "ticks": ""
            },
            "colorscale": [
             [
              0,
              "#0d0887"
             ],
             [
              0.1111111111111111,
              "#46039f"
             ],
             [
              0.2222222222222222,
              "#7201a8"
             ],
             [
              0.3333333333333333,
              "#9c179e"
             ],
             [
              0.4444444444444444,
              "#bd3786"
             ],
             [
              0.5555555555555556,
              "#d8576b"
             ],
             [
              0.6666666666666666,
              "#ed7953"
             ],
             [
              0.7777777777777778,
              "#fb9f3a"
             ],
             [
              0.8888888888888888,
              "#fdca26"
             ],
             [
              1,
              "#f0f921"
             ]
            ],
            "type": "surface"
           }
          ],
          "table": [
           {
            "cells": {
             "fill": {
              "color": "#EBF0F8"
             },
             "line": {
              "color": "white"
             }
            },
            "header": {
             "fill": {
              "color": "#C8D4E3"
             },
             "line": {
              "color": "white"
             }
            },
            "type": "table"
           }
          ]
         },
         "layout": {
          "annotationdefaults": {
           "arrowcolor": "#2a3f5f",
           "arrowhead": 0,
           "arrowwidth": 1
          },
          "coloraxis": {
           "colorbar": {
            "outlinewidth": 0,
            "ticks": ""
           }
          },
          "colorscale": {
           "diverging": [
            [
             0,
             "#8e0152"
            ],
            [
             0.1,
             "#c51b7d"
            ],
            [
             0.2,
             "#de77ae"
            ],
            [
             0.3,
             "#f1b6da"
            ],
            [
             0.4,
             "#fde0ef"
            ],
            [
             0.5,
             "#f7f7f7"
            ],
            [
             0.6,
             "#e6f5d0"
            ],
            [
             0.7,
             "#b8e186"
            ],
            [
             0.8,
             "#7fbc41"
            ],
            [
             0.9,
             "#4d9221"
            ],
            [
             1,
             "#276419"
            ]
           ],
           "sequential": [
            [
             0,
             "#0d0887"
            ],
            [
             0.1111111111111111,
             "#46039f"
            ],
            [
             0.2222222222222222,
             "#7201a8"
            ],
            [
             0.3333333333333333,
             "#9c179e"
            ],
            [
             0.4444444444444444,
             "#bd3786"
            ],
            [
             0.5555555555555556,
             "#d8576b"
            ],
            [
             0.6666666666666666,
             "#ed7953"
            ],
            [
             0.7777777777777778,
             "#fb9f3a"
            ],
            [
             0.8888888888888888,
             "#fdca26"
            ],
            [
             1,
             "#f0f921"
            ]
           ],
           "sequentialminus": [
            [
             0,
             "#0d0887"
            ],
            [
             0.1111111111111111,
             "#46039f"
            ],
            [
             0.2222222222222222,
             "#7201a8"
            ],
            [
             0.3333333333333333,
             "#9c179e"
            ],
            [
             0.4444444444444444,
             "#bd3786"
            ],
            [
             0.5555555555555556,
             "#d8576b"
            ],
            [
             0.6666666666666666,
             "#ed7953"
            ],
            [
             0.7777777777777778,
             "#fb9f3a"
            ],
            [
             0.8888888888888888,
             "#fdca26"
            ],
            [
             1,
             "#f0f921"
            ]
           ]
          },
          "colorway": [
           "#636efa",
           "#EF553B",
           "#00cc96",
           "#ab63fa",
           "#FFA15A",
           "#19d3f3",
           "#FF6692",
           "#B6E880",
           "#FF97FF",
           "#FECB52"
          ],
          "font": {
           "color": "#2a3f5f"
          },
          "geo": {
           "bgcolor": "white",
           "lakecolor": "white",
           "landcolor": "#E5ECF6",
           "showlakes": true,
           "showland": true,
           "subunitcolor": "white"
          },
          "hoverlabel": {
           "align": "left"
          },
          "hovermode": "closest",
          "mapbox": {
           "style": "light"
          },
          "paper_bgcolor": "white",
          "plot_bgcolor": "#E5ECF6",
          "polar": {
           "angularaxis": {
            "gridcolor": "white",
            "linecolor": "white",
            "ticks": ""
           },
           "bgcolor": "#E5ECF6",
           "radialaxis": {
            "gridcolor": "white",
            "linecolor": "white",
            "ticks": ""
           }
          },
          "scene": {
           "xaxis": {
            "backgroundcolor": "#E5ECF6",
            "gridcolor": "white",
            "gridwidth": 2,
            "linecolor": "white",
            "showbackground": true,
            "ticks": "",
            "zerolinecolor": "white"
           },
           "yaxis": {
            "backgroundcolor": "#E5ECF6",
            "gridcolor": "white",
            "gridwidth": 2,
            "linecolor": "white",
            "showbackground": true,
            "ticks": "",
            "zerolinecolor": "white"
           },
           "zaxis": {
            "backgroundcolor": "#E5ECF6",
            "gridcolor": "white",
            "gridwidth": 2,
            "linecolor": "white",
            "showbackground": true,
            "ticks": "",
            "zerolinecolor": "white"
           }
          },
          "shapedefaults": {
           "line": {
            "color": "#2a3f5f"
           }
          },
          "ternary": {
           "aaxis": {
            "gridcolor": "white",
            "linecolor": "white",
            "ticks": ""
           },
           "baxis": {
            "gridcolor": "white",
            "linecolor": "white",
            "ticks": ""
           },
           "bgcolor": "#E5ECF6",
           "caxis": {
            "gridcolor": "white",
            "linecolor": "white",
            "ticks": ""
           }
          },
          "title": {
           "x": 0.05
          },
          "xaxis": {
           "automargin": true,
           "gridcolor": "white",
           "linecolor": "white",
           "ticks": "",
           "title": {
            "standoff": 15
           },
           "zerolinecolor": "white",
           "zerolinewidth": 2
          },
          "yaxis": {
           "automargin": true,
           "gridcolor": "white",
           "linecolor": "white",
           "ticks": "",
           "title": {
            "standoff": 15
           },
           "zerolinecolor": "white",
           "zerolinewidth": 2
          }
         }
        },
        "title": {
         "text": ""
        },
        "width": 1000,
        "xaxis": {
         "anchor": "y",
         "domain": [
          0,
          0.3066666666666667
         ],
         "dtick": 0.2,
         "linecolor": "rgb(102, 102, 102)",
         "range": [
          0.2,
          1
         ],
         "showticklabels": true,
         "tickcolor": "rgb(102, 102, 102)",
         "tickfont": {
          "color": "rgb(102, 102, 102)"
         },
         "ticks": "outside"
        },
        "xaxis2": {
         "anchor": "y2",
         "domain": [
          0.3466666666666667,
          0.6533333333333333
         ],
         "dtick": 0.2,
         "linecolor": "rgb(102, 102, 102)",
         "range": [
          0.2,
          0.8
         ],
         "showticklabels": true,
         "tickcolor": "rgb(102, 102, 102)",
         "tickfont": {
          "color": "rgb(102, 102, 102)"
         },
         "ticks": "outside"
        },
        "xaxis3": {
         "anchor": "y3",
         "domain": [
          0.6933333333333334,
          1
         ],
         "dtick": 0.2,
         "linecolor": "rgb(102, 102, 102)",
         "range": [
          0.1,
          0.55
         ],
         "showticklabels": true,
         "tickcolor": "rgb(102, 102, 102)",
         "tickfont": {
          "color": "rgb(102, 102, 102)"
         },
         "ticks": "outside"
        },
        "xaxis4": {
         "anchor": "y4",
         "domain": [
          0,
          0.3066666666666667
         ],
         "dtick": 0.1,
         "linecolor": "rgb(102, 102, 102)",
         "range": [
          0.05,
          0.25
         ],
         "showticklabels": true,
         "tickcolor": "rgb(102, 102, 102)",
         "tickfont": {
          "color": "rgb(102, 102, 102)"
         },
         "ticks": "outside"
        },
        "xaxis5": {
         "anchor": "y5",
         "domain": [
          0.3466666666666667,
          0.6533333333333333
         ],
         "dtick": 0.1,
         "linecolor": "rgb(102, 102, 102)",
         "range": [
          0.05,
          0.3
         ],
         "showticklabels": true,
         "tickcolor": "rgb(102, 102, 102)",
         "tickfont": {
          "color": "rgb(102, 102, 102)"
         },
         "ticks": "outside"
        },
        "xaxis6": {
         "anchor": "y6",
         "domain": [
          0.6933333333333334,
          1
         ],
         "dtick": 0.1,
         "linecolor": "rgb(102, 102, 102)",
         "range": [
          0.05,
          0.3
         ],
         "showticklabels": true,
         "tickcolor": "rgb(102, 102, 102)",
         "tickfont": {
          "color": "rgb(102, 102, 102)"
         },
         "ticks": "outside"
        },
        "xaxis7": {
         "anchor": "y7",
         "domain": [
          0,
          0.3066666666666667
         ],
         "dtick": 1,
         "linecolor": "rgb(102, 102, 102)",
         "range": [
          2,
          6.5
         ],
         "showticklabels": true,
         "tickcolor": "rgb(102, 102, 102)",
         "tickfont": {
          "color": "rgb(102, 102, 102)"
         },
         "ticks": "outside",
         "title": {
          "text": "132Sn + 124Sn"
         }
        },
        "xaxis8": {
         "anchor": "y8",
         "domain": [
          0.3466666666666667,
          0.6533333333333333
         ],
         "dtick": 1,
         "linecolor": "rgb(102, 102, 102)",
         "range": [
          1.5,
          4.5
         ],
         "showticklabels": true,
         "tickcolor": "rgb(102, 102, 102)",
         "tickfont": {
          "color": "rgb(102, 102, 102)"
         },
         "ticks": "outside",
         "title": {
          "text": "124Sn + 112Sn"
         }
        },
        "xaxis9": {
         "anchor": "y9",
         "domain": [
          0.6933333333333334,
          1
         ],
         "dtick": 1,
         "linecolor": "rgb(102, 102, 102)",
         "range": [
          0.5,
          3.5
         ],
         "showticklabels": true,
         "tickcolor": "rgb(102, 102, 102)",
         "tickfont": {
          "color": "rgb(102, 102, 102)"
         },
         "ticks": "outside",
         "title": {
          "text": "108Sn + 112Sn"
         }
        },
        "yaxis": {
         "anchor": "x",
         "domain": [
          0.7333333333333334,
          1
         ],
         "gridcolor": "lightgray",
         "gridwidth": 1,
         "showgrid": true
        },
        "yaxis2": {
         "anchor": "x2",
         "domain": [
          0.7333333333333334,
          1
         ],
         "gridcolor": "lightgray",
         "gridwidth": 1,
         "matches": "y",
         "showgrid": true,
         "showticklabels": false
        },
        "yaxis3": {
         "anchor": "x3",
         "domain": [
          0.7333333333333334,
          1
         ],
         "gridcolor": "lightgray",
         "gridwidth": 1,
         "matches": "y",
         "showgrid": true,
         "showticklabels": false
        },
        "yaxis4": {
         "anchor": "x4",
         "domain": [
          0.3666666666666667,
          0.6333333333333333
         ],
         "gridcolor": "lightgray",
         "gridwidth": 1,
         "showgrid": true
        },
        "yaxis5": {
         "anchor": "x5",
         "domain": [
          0.3666666666666667,
          0.6333333333333333
         ],
         "gridcolor": "lightgray",
         "gridwidth": 1,
         "matches": "y4",
         "showgrid": true,
         "showticklabels": false
        },
        "yaxis6": {
         "anchor": "x6",
         "domain": [
          0.3666666666666667,
          0.6333333333333333
         ],
         "gridcolor": "lightgray",
         "gridwidth": 1,
         "matches": "y4",
         "showgrid": true,
         "showticklabels": false
        },
        "yaxis7": {
         "anchor": "x7",
         "domain": [
          0,
          0.26666666666666666
         ],
         "gridcolor": "lightgray",
         "gridwidth": 1,
         "showgrid": true
        },
        "yaxis8": {
         "anchor": "x8",
         "domain": [
          0,
          0.26666666666666666
         ],
         "gridcolor": "lightgray",
         "gridwidth": 1,
         "matches": "y7",
         "showgrid": true,
         "showticklabels": false
        },
        "yaxis9": {
         "anchor": "x9",
         "domain": [
          0,
          0.26666666666666666
         ],
         "gridcolor": "lightgray",
         "gridwidth": 1,
         "matches": "y7",
         "showgrid": true,
         "showticklabels": false
        }
       }
      },
      "text/html": [
       "<div>\n",
       "        \n",
       "        \n",
       "            <div id=\"6727a688-866d-4e4f-bb32-047bec99318d\" class=\"plotly-graph-div\" style=\"height:800px; width:1000px;\"></div>\n",
       "            <script type=\"text/javascript\">\n",
       "                require([\"plotly\"], function(Plotly) {\n",
       "                    window.PLOTLYENV=window.PLOTLYENV || {};\n",
       "                    \n",
       "                if (document.getElementById(\"6727a688-866d-4e4f-bb32-047bec99318d\")) {\n",
       "                    Plotly.newPlot(\n",
       "                        '6727a688-866d-4e4f-bb32-047bec99318d',\n",
       "                        [{\"marker\": {\"color\": \"lightblue\", \"line\": {\"color\": \"rgba(156, 165, 196, 1.0)\", \"width\": 1}, \"size\": 16, \"symbol\": \"circle\"}, \"mode\": \"markers\", \"name\": \"Soft\", \"type\": \"scatter\", \"x\": [0.509, 0.33899999999999997, 0.541845, 0.46810799999999997, 0.779, 0.479, 0.697894], \"xaxis\": \"x\", \"y\": [\"#chiBUU\", \"AMD+JAM\", \"IQMD-BNU\", \"SMASH\", \"TuQMD\", \"UrQMD\", \"pBUU\"], \"yaxis\": \"y\"}, {\"marker\": {\"color\": \"lightblue\", \"line\": {\"color\": \"rgba(156, 165, 196, 1.0)\", \"width\": 1}, \"size\": 16, \"symbol\": \"circle\"}, \"mode\": \"markers\", \"name\": \"Soft\", \"showlegend\": false, \"type\": \"scatter\", \"x\": [0.0, 0.0, 0.0, 0.0, 0.579516, 0.3513, 0.521315], \"xaxis\": \"x2\", \"y\": [\"#chiBUU\", \"AMD+JAM\", \"IQMD-BNU\", \"SMASH\", \"TuQMD\", \"UrQMD\", \"pBUU\"], \"yaxis\": \"y2\"}, {\"marker\": {\"color\": \"lightblue\", \"line\": {\"color\": \"rgba(156, 165, 196, 1.0)\", \"width\": 1}, \"size\": 16, \"symbol\": \"circle\"}, \"mode\": \"markers\", \"name\": \"Soft\", \"showlegend\": false, \"type\": \"scatter\", \"x\": [0.26899999999999996, 0.2, 0.3187, 0.287452, 0.442, 0.292, 0.40074699999999996], \"xaxis\": \"x3\", \"y\": [\"#chiBUU\", \"AMD+JAM\", \"IQMD-BNU\", \"SMASH\", \"TuQMD\", \"UrQMD\", \"pBUU\"], \"yaxis\": \"y3\"}, {\"marker\": {\"color\": \"rgba(156, 165, 196, 0.95)\", \"line\": {\"color\": \"rgba(156, 165, 196, 1.0)\", \"width\": 1}, \"size\": 16, \"symbol\": \"circle\"}, \"mode\": \"markers\", \"name\": \"Stiff\", \"type\": \"scatter\", \"x\": [0.483, 0.311, 0.45182, 0.479238, 0.8390000000000001, 0.449, 0.648582], \"xaxis\": \"x\", \"y\": [\"#chiBUU\", \"AMD+JAM\", \"IQMD-BNU\", \"SMASH\", \"TuQMD\", \"UrQMD\", \"pBUU\"], \"yaxis\": \"y\"}, {\"marker\": {\"color\": \"rgba(156, 165, 196, 0.95)\", \"line\": {\"color\": \"rgba(156, 165, 196, 1.0)\", \"width\": 1}, \"size\": 16, \"symbol\": \"circle\"}, \"mode\": \"markers\", \"name\": \"Stiff\", \"showlegend\": false, \"type\": \"scatter\", \"x\": [0.0, 0.0, 0.0, 0.0, 0.626352, 0.34521, 0.497541], \"xaxis\": \"x2\", \"y\": [\"#chiBUU\", \"AMD+JAM\", \"IQMD-BNU\", \"SMASH\", \"TuQMD\", \"UrQMD\", \"pBUU\"], \"yaxis\": \"y2\"}, {\"marker\": {\"color\": \"rgba(156, 165, 196, 0.95)\", \"line\": {\"color\": \"rgba(156, 165, 196, 1.0)\", \"width\": 1}, \"size\": 16, \"symbol\": \"circle\"}, \"mode\": \"markers\", \"name\": \"Stiff\", \"showlegend\": false, \"type\": \"scatter\", \"x\": [0.271, 0.192, 0.2779, 0.291527, 0.474, 0.27399999999999997, 0.392341], \"xaxis\": \"x3\", \"y\": [\"#chiBUU\", \"AMD+JAM\", \"IQMD-BNU\", \"SMASH\", \"TuQMD\", \"UrQMD\", \"pBUU\"], \"yaxis\": \"y3\"}, {\"marker\": {\"color\": \"lightblue\", \"line\": {\"color\": \"rgba(217, 217, 217, 1.0)\", \"width\": 1}, \"size\": 16, \"symbol\": \"circle\"}, \"mode\": \"markers\", \"name\": \"Soft\", \"showlegend\": false, \"type\": \"scatter\", \"x\": [0.109, 0.0978, 0.147585, 0.167683, 0.145, 0.129, 0.180926], \"xaxis\": \"x4\", \"y\": [\"#chiBUU\", \"AMD+JAM\", \"IQMD-BNU\", \"SMASH\", \"TuQMD\", \"UrQMD\", \"pBUU\"], \"yaxis\": \"y4\"}, {\"marker\": {\"color\": \"lightblue\", \"line\": {\"color\": \"rgba(217, 217, 217, 1.0)\", \"width\": 1}, \"size\": 16, \"symbol\": \"circle\"}, \"mode\": \"markers\", \"name\": \"Soft\", \"showlegend\": false, \"type\": \"scatter\", \"x\": [0.0, 0.0, 0.0, 0.0, 0.16228499999999998, 0.13985, 0.196993], \"xaxis\": \"x5\", \"y\": [\"#chiBUU\", \"AMD+JAM\", \"IQMD-BNU\", \"SMASH\", \"TuQMD\", \"UrQMD\", \"pBUU\"], \"yaxis\": \"y5\"}, {\"marker\": {\"color\": \"lightblue\", \"line\": {\"color\": \"rgba(217, 217, 217, 1.0)\", \"width\": 1}, \"size\": 16, \"symbol\": \"circle\"}, \"mode\": \"markers\", \"name\": \"Soft\", \"showlegend\": false, \"type\": \"scatter\", \"x\": [0.134, 0.11599999999999999, 0.174835, 0.190153, 0.17600000000000002, 0.14400000000000002, 0.21334699999999998], \"xaxis\": \"x6\", \"y\": [\"#chiBUU\", \"AMD+JAM\", \"IQMD-BNU\", \"SMASH\", \"TuQMD\", \"UrQMD\", \"pBUU\"], \"yaxis\": \"y6\"}, {\"marker\": {\"color\": \"lightblue\", \"line\": {\"color\": \"rgba(156, 165, 196, 1.0)\", \"width\": 1}, \"size\": 16, \"symbol\": \"circle\"}, \"mode\": \"markers\", \"name\": \"Soft\", \"showlegend\": false, \"type\": \"scatter\", \"x\": [4.669724770642202, 3.466257668711656, 3.6714096961073284, 2.791624672745597, 5.372413793103449, 3.7131782945736433, 3.8573449918751312], \"xaxis\": \"x7\", \"y\": [\"#chiBUU\", \"AMD+JAM\", \"IQMD-BNU\", \"SMASH\", \"TuQMD\", \"UrQMD\", \"pBUU\"], \"yaxis\": \"y7\"}, {\"marker\": {\"color\": \"lightblue\", \"line\": {\"color\": \"rgba(156, 165, 196, 1.0)\", \"width\": 1}, \"size\": 16, \"symbol\": \"circle\"}, \"mode\": \"markers\", \"name\": \"Soft\", \"showlegend\": false, \"type\": \"scatter\", \"x\": [null, null, null, null, 3.570976984933913, 2.5119771183410795, 2.646363068738483], \"xaxis\": \"x8\", \"y\": [\"#chiBUU\", \"AMD+JAM\", \"IQMD-BNU\", \"SMASH\", \"TuQMD\", \"UrQMD\", \"pBUU\"], \"yaxis\": \"y8\"}, {\"marker\": {\"color\": \"lightblue\", \"line\": {\"color\": \"rgba(156, 165, 196, 1.0)\", \"width\": 1}, \"size\": 16, \"symbol\": \"circle\"}, \"mode\": \"markers\", \"name\": \"Soft\", \"showlegend\": false, \"type\": \"scatter\", \"x\": [2.007462686567164, 1.7241379310344829, 1.822861555180599, 1.5116879565402597, 2.5113636363636362, 2.0277777777777772, 1.8783812287025363], \"xaxis\": \"x9\", \"y\": [\"#chiBUU\", \"AMD+JAM\", \"IQMD-BNU\", \"SMASH\", \"TuQMD\", \"UrQMD\", \"pBUU\"], \"yaxis\": \"y9\"}, {\"marker\": {\"color\": \"rgba(204, 204, 204, 0.95)\", \"line\": {\"color\": \"rgba(217, 217, 217, 1.0)\", \"width\": 1}, \"size\": 16, \"symbol\": \"circle\"}, \"mode\": \"markers\", \"name\": \"Stiff\", \"showlegend\": false, \"type\": \"scatter\", \"x\": [4.128205128205129, 3.1541582150101424, 2.9508539333180943, 2.932123540784611, 5.786206896551725, 3.3759398496240602, 3.5131407895307016], \"xaxis\": \"x7\", \"y\": [\"#chiBUU\", \"AMD+JAM\", \"IQMD-BNU\", \"SMASH\", \"TuQMD\", \"UrQMD\", \"pBUU\"], \"yaxis\": \"y7\"}, {\"marker\": {\"color\": \"rgba(204, 204, 204, 0.95)\", \"line\": {\"color\": \"rgba(217, 217, 217, 1.0)\", \"width\": 1}, \"size\": 16, \"symbol\": \"circle\"}, \"mode\": \"markers\", \"name\": \"Stiff\", \"showlegend\": false, \"type\": \"scatter\", \"x\": [null, null, null, null, 3.824022857980146, 2.4763988522238165, 2.485033588891941], \"xaxis\": \"x8\", \"y\": [\"#chiBUU\", \"AMD+JAM\", \"IQMD-BNU\", \"SMASH\", \"TuQMD\", \"UrQMD\", \"pBUU\"], \"yaxis\": \"y8\"}, {\"marker\": {\"color\": \"rgba(204, 204, 204, 0.95)\", \"line\": {\"color\": \"rgba(217, 217, 217, 1.0)\", \"width\": 1}, \"size\": 16, \"symbol\": \"circle\"}, \"mode\": \"markers\", \"name\": \"Stiff\", \"showlegend\": false, \"type\": \"scatter\", \"x\": [1.9357142857142857, 1.6551724137931036, 1.6654181523986453, 1.5497522752402824, 2.61878453038674, 1.8639455782312924, 1.8304097114011924], \"xaxis\": \"x9\", \"y\": [\"#chiBUU\", \"AMD+JAM\", \"IQMD-BNU\", \"SMASH\", \"TuQMD\", \"UrQMD\", \"pBUU\"], \"yaxis\": \"y9\"}],\n",
       "                        {\"annotations\": [{\"font\": {\"size\": 16}, \"showarrow\": false, \"text\": \"r'$\\\\pi^{-}$\", \"x\": 0.5, \"xanchor\": \"center\", \"xref\": \"paper\", \"y\": 1.0, \"yanchor\": \"bottom\", \"yref\": \"paper\"}, {\"font\": {\"size\": 16}, \"showarrow\": false, \"text\": \"r'$\\\\pi^{+}$\", \"x\": 0.5, \"xanchor\": \"center\", \"xref\": \"paper\", \"y\": 0.6333333333333333, \"yanchor\": \"bottom\", \"yref\": \"paper\"}, {\"font\": {\"size\": 16}, \"showarrow\": false, \"text\": \"r'$\\\\pi^{-}/\\\\pi^{+}$\", \"x\": 0.5, \"xanchor\": \"center\", \"xref\": \"paper\", \"y\": 0.26666666666666666, \"yanchor\": \"bottom\", \"yref\": \"paper\"}], \"autosize\": true, \"font\": {\"size\": 16}, \"height\": 800, \"hovermode\": \"closest\", \"legend\": {\"font\": {\"size\": 20}, \"xanchor\": \"right\", \"yanchor\": \"middle\"}, \"margin\": {\"b\": 50, \"l\": 50, \"r\": 80, \"t\": 80}, \"paper_bgcolor\": \"white\", \"plot_bgcolor\": \"white\", \"shapes\": [{\"fillcolor\": \"blue\", \"opacity\": 0.3, \"type\": \"rect\", \"x0\": 0.6928, \"x1\": 0.7412, \"xref\": \"x\", \"y0\": -1, \"y1\": 6.5, \"yref\": \"y\"}, {\"fillcolor\": \"blue\", \"opacity\": 0.3, \"type\": \"rect\", \"x0\": 0.4917, \"x1\": 0.5523, \"xref\": \"x2\", \"y0\": -1, \"y1\": 6.5, \"yref\": \"y2\"}, {\"fillcolor\": \"blue\", \"opacity\": 0.3, \"type\": \"rect\", \"x0\": 0.38480000000000003, \"x1\": 0.4132, \"xref\": \"x3\", \"y0\": -1, \"y1\": 6.5, \"yref\": \"y3\"}, {\"fillcolor\": \"blue\", \"opacity\": 0.3, \"type\": \"rect\", \"x0\": 0.14246999999999999, \"x1\": 0.15353, \"xref\": \"x4\", \"y0\": -1, \"y1\": 6.5, \"yref\": \"y4\"}, {\"fillcolor\": \"blue\", \"opacity\": 0.3, \"type\": \"rect\", \"x0\": 0.1572, \"x1\": 0.18280000000000002, \"xref\": \"x5\", \"y0\": -1, \"y1\": 6.5, \"yref\": \"y5\"}, {\"fillcolor\": \"blue\", \"opacity\": 0.3, \"type\": \"rect\", \"x0\": 0.19140000000000001, \"x1\": 0.2086, \"xref\": \"x6\", \"y0\": -1, \"y1\": 6.5, \"yref\": \"y6\"}, {\"fillcolor\": \"blue\", \"opacity\": 0.3, \"type\": \"rect\", \"x0\": 4.724594594594595, \"x1\": 4.964594594594595, \"xref\": \"x7\", \"y0\": -1, \"y1\": 6.5, \"yref\": \"y7\"}, {\"fillcolor\": \"blue\", \"opacity\": 0.3, \"type\": \"rect\", \"x0\": 2.830588235294117, \"x1\": 3.3105882352941176, \"xref\": \"x8\", \"y0\": -1, \"y1\": 6.5, \"yref\": \"y8\"}, {\"fillcolor\": \"blue\", \"opacity\": 0.3, \"type\": \"rect\", \"x0\": 1.9455, \"x1\": 2.0445, \"xref\": \"x9\", \"y0\": -1, \"y1\": 6.5, \"yref\": \"y9\"}, {\"line\": {\"width\": 3}, \"type\": \"line\", \"x0\": 0.717, \"x1\": 0.717, \"xref\": \"x\", \"y0\": -1, \"y1\": 6.5, \"yref\": \"y\"}, {\"line\": {\"width\": 3}, \"type\": \"line\", \"x0\": 0.522, \"x1\": 0.522, \"xref\": \"x2\", \"y0\": -1, \"y1\": 6.5, \"yref\": \"y2\"}, {\"line\": {\"width\": 3}, \"type\": \"line\", \"x0\": 0.399, \"x1\": 0.399, \"xref\": \"x3\", \"y0\": -1, \"y1\": 6.5, \"yref\": \"y3\"}, {\"line\": {\"width\": 3}, \"type\": \"line\", \"x0\": 0.148, \"x1\": 0.148, \"xref\": \"x4\", \"y0\": -1, \"y1\": 6.5, \"yref\": \"y4\"}, {\"line\": {\"width\": 3}, \"type\": \"line\", \"x0\": 0.17, \"x1\": 0.17, \"xref\": \"x5\", \"y0\": -1, \"y1\": 6.5, \"yref\": \"y5\"}, {\"line\": {\"width\": 3}, \"type\": \"line\", \"x0\": 0.2, \"x1\": 0.2, \"xref\": \"x6\", \"y0\": -1, \"y1\": 6.5, \"yref\": \"y6\"}, {\"line\": {\"width\": 3}, \"type\": \"line\", \"x0\": 4.844594594594595, \"x1\": 4.844594594594595, \"xref\": \"x7\", \"y0\": -1, \"y1\": 6.5, \"yref\": \"y7\"}, {\"line\": {\"width\": 3}, \"type\": \"line\", \"x0\": 3.0705882352941174, \"x1\": 3.0705882352941174, \"xref\": \"x8\", \"y0\": -1, \"y1\": 6.5, \"yref\": \"y8\"}, {\"line\": {\"width\": 3}, \"type\": \"line\", \"x0\": 1.995, \"x1\": 1.995, \"xref\": \"x9\", \"y0\": -1, \"y1\": 6.5, \"yref\": \"y9\"}], \"template\": {\"data\": {\"bar\": [{\"error_x\": {\"color\": \"#2a3f5f\"}, \"error_y\": {\"color\": \"#2a3f5f\"}, \"marker\": {\"line\": {\"color\": \"#E5ECF6\", \"width\": 0.5}}, \"type\": \"bar\"}], \"barpolar\": [{\"marker\": {\"line\": {\"color\": \"#E5ECF6\", \"width\": 0.5}}, \"type\": \"barpolar\"}], \"carpet\": [{\"aaxis\": {\"endlinecolor\": \"#2a3f5f\", \"gridcolor\": \"white\", \"linecolor\": \"white\", \"minorgridcolor\": \"white\", \"startlinecolor\": \"#2a3f5f\"}, \"baxis\": {\"endlinecolor\": \"#2a3f5f\", \"gridcolor\": \"white\", \"linecolor\": \"white\", \"minorgridcolor\": \"white\", \"startlinecolor\": \"#2a3f5f\"}, \"type\": \"carpet\"}], \"choropleth\": [{\"colorbar\": {\"outlinewidth\": 0, \"ticks\": \"\"}, \"type\": \"choropleth\"}], \"contour\": [{\"colorbar\": {\"outlinewidth\": 0, \"ticks\": \"\"}, \"colorscale\": [[0.0, \"#0d0887\"], [0.1111111111111111, \"#46039f\"], [0.2222222222222222, \"#7201a8\"], [0.3333333333333333, \"#9c179e\"], [0.4444444444444444, \"#bd3786\"], [0.5555555555555556, \"#d8576b\"], [0.6666666666666666, \"#ed7953\"], [0.7777777777777778, \"#fb9f3a\"], [0.8888888888888888, \"#fdca26\"], [1.0, \"#f0f921\"]], \"type\": \"contour\"}], \"contourcarpet\": [{\"colorbar\": {\"outlinewidth\": 0, \"ticks\": \"\"}, \"type\": \"contourcarpet\"}], \"heatmap\": [{\"colorbar\": {\"outlinewidth\": 0, \"ticks\": \"\"}, \"colorscale\": [[0.0, \"#0d0887\"], [0.1111111111111111, \"#46039f\"], [0.2222222222222222, \"#7201a8\"], [0.3333333333333333, \"#9c179e\"], [0.4444444444444444, \"#bd3786\"], [0.5555555555555556, \"#d8576b\"], [0.6666666666666666, \"#ed7953\"], [0.7777777777777778, \"#fb9f3a\"], [0.8888888888888888, \"#fdca26\"], [1.0, \"#f0f921\"]], \"type\": \"heatmap\"}], \"heatmapgl\": [{\"colorbar\": {\"outlinewidth\": 0, \"ticks\": \"\"}, \"colorscale\": [[0.0, \"#0d0887\"], [0.1111111111111111, \"#46039f\"], [0.2222222222222222, \"#7201a8\"], [0.3333333333333333, \"#9c179e\"], [0.4444444444444444, \"#bd3786\"], [0.5555555555555556, \"#d8576b\"], [0.6666666666666666, \"#ed7953\"], [0.7777777777777778, \"#fb9f3a\"], [0.8888888888888888, \"#fdca26\"], [1.0, \"#f0f921\"]], \"type\": \"heatmapgl\"}], \"histogram\": [{\"marker\": {\"colorbar\": {\"outlinewidth\": 0, \"ticks\": \"\"}}, \"type\": \"histogram\"}], \"histogram2d\": [{\"colorbar\": {\"outlinewidth\": 0, \"ticks\": \"\"}, \"colorscale\": [[0.0, \"#0d0887\"], [0.1111111111111111, \"#46039f\"], [0.2222222222222222, \"#7201a8\"], [0.3333333333333333, \"#9c179e\"], [0.4444444444444444, \"#bd3786\"], [0.5555555555555556, \"#d8576b\"], [0.6666666666666666, \"#ed7953\"], [0.7777777777777778, \"#fb9f3a\"], [0.8888888888888888, \"#fdca26\"], [1.0, \"#f0f921\"]], \"type\": \"histogram2d\"}], \"histogram2dcontour\": [{\"colorbar\": {\"outlinewidth\": 0, \"ticks\": \"\"}, \"colorscale\": [[0.0, \"#0d0887\"], [0.1111111111111111, \"#46039f\"], [0.2222222222222222, \"#7201a8\"], [0.3333333333333333, \"#9c179e\"], [0.4444444444444444, \"#bd3786\"], [0.5555555555555556, \"#d8576b\"], [0.6666666666666666, \"#ed7953\"], [0.7777777777777778, \"#fb9f3a\"], [0.8888888888888888, \"#fdca26\"], [1.0, \"#f0f921\"]], \"type\": \"histogram2dcontour\"}], \"mesh3d\": [{\"colorbar\": {\"outlinewidth\": 0, \"ticks\": \"\"}, \"type\": \"mesh3d\"}], \"parcoords\": [{\"line\": {\"colorbar\": {\"outlinewidth\": 0, \"ticks\": \"\"}}, \"type\": \"parcoords\"}], \"pie\": [{\"automargin\": true, \"type\": \"pie\"}], \"scatter\": [{\"marker\": {\"colorbar\": {\"outlinewidth\": 0, \"ticks\": \"\"}}, \"type\": \"scatter\"}], \"scatter3d\": [{\"line\": {\"colorbar\": {\"outlinewidth\": 0, \"ticks\": \"\"}}, \"marker\": {\"colorbar\": {\"outlinewidth\": 0, \"ticks\": \"\"}}, \"type\": \"scatter3d\"}], \"scattercarpet\": [{\"marker\": {\"colorbar\": {\"outlinewidth\": 0, \"ticks\": \"\"}}, \"type\": \"scattercarpet\"}], \"scattergeo\": [{\"marker\": {\"colorbar\": {\"outlinewidth\": 0, \"ticks\": \"\"}}, \"type\": \"scattergeo\"}], \"scattergl\": [{\"marker\": {\"colorbar\": {\"outlinewidth\": 0, \"ticks\": \"\"}}, \"type\": \"scattergl\"}], \"scattermapbox\": [{\"marker\": {\"colorbar\": {\"outlinewidth\": 0, \"ticks\": \"\"}}, \"type\": \"scattermapbox\"}], \"scatterpolar\": [{\"marker\": {\"colorbar\": {\"outlinewidth\": 0, \"ticks\": \"\"}}, \"type\": \"scatterpolar\"}], \"scatterpolargl\": [{\"marker\": {\"colorbar\": {\"outlinewidth\": 0, \"ticks\": \"\"}}, \"type\": \"scatterpolargl\"}], \"scatterternary\": [{\"marker\": {\"colorbar\": {\"outlinewidth\": 0, \"ticks\": \"\"}}, \"type\": \"scatterternary\"}], \"surface\": [{\"colorbar\": {\"outlinewidth\": 0, \"ticks\": \"\"}, \"colorscale\": [[0.0, \"#0d0887\"], [0.1111111111111111, \"#46039f\"], [0.2222222222222222, \"#7201a8\"], [0.3333333333333333, \"#9c179e\"], [0.4444444444444444, \"#bd3786\"], [0.5555555555555556, \"#d8576b\"], [0.6666666666666666, \"#ed7953\"], [0.7777777777777778, \"#fb9f3a\"], [0.8888888888888888, \"#fdca26\"], [1.0, \"#f0f921\"]], \"type\": \"surface\"}], \"table\": [{\"cells\": {\"fill\": {\"color\": \"#EBF0F8\"}, \"line\": {\"color\": \"white\"}}, \"header\": {\"fill\": {\"color\": \"#C8D4E3\"}, \"line\": {\"color\": \"white\"}}, \"type\": \"table\"}]}, \"layout\": {\"annotationdefaults\": {\"arrowcolor\": \"#2a3f5f\", \"arrowhead\": 0, \"arrowwidth\": 1}, \"coloraxis\": {\"colorbar\": {\"outlinewidth\": 0, \"ticks\": \"\"}}, \"colorscale\": {\"diverging\": [[0, \"#8e0152\"], [0.1, \"#c51b7d\"], [0.2, \"#de77ae\"], [0.3, \"#f1b6da\"], [0.4, \"#fde0ef\"], [0.5, \"#f7f7f7\"], [0.6, \"#e6f5d0\"], [0.7, \"#b8e186\"], [0.8, \"#7fbc41\"], [0.9, \"#4d9221\"], [1, \"#276419\"]], \"sequential\": [[0.0, \"#0d0887\"], [0.1111111111111111, \"#46039f\"], [0.2222222222222222, \"#7201a8\"], [0.3333333333333333, \"#9c179e\"], [0.4444444444444444, \"#bd3786\"], [0.5555555555555556, \"#d8576b\"], [0.6666666666666666, \"#ed7953\"], [0.7777777777777778, \"#fb9f3a\"], [0.8888888888888888, \"#fdca26\"], [1.0, \"#f0f921\"]], \"sequentialminus\": [[0.0, \"#0d0887\"], [0.1111111111111111, \"#46039f\"], [0.2222222222222222, \"#7201a8\"], [0.3333333333333333, \"#9c179e\"], [0.4444444444444444, \"#bd3786\"], [0.5555555555555556, \"#d8576b\"], [0.6666666666666666, \"#ed7953\"], [0.7777777777777778, \"#fb9f3a\"], [0.8888888888888888, \"#fdca26\"], [1.0, \"#f0f921\"]]}, \"colorway\": [\"#636efa\", \"#EF553B\", \"#00cc96\", \"#ab63fa\", \"#FFA15A\", \"#19d3f3\", \"#FF6692\", \"#B6E880\", \"#FF97FF\", \"#FECB52\"], \"font\": {\"color\": \"#2a3f5f\"}, \"geo\": {\"bgcolor\": \"white\", \"lakecolor\": \"white\", \"landcolor\": \"#E5ECF6\", \"showlakes\": true, \"showland\": true, \"subunitcolor\": \"white\"}, \"hoverlabel\": {\"align\": \"left\"}, \"hovermode\": \"closest\", \"mapbox\": {\"style\": \"light\"}, \"paper_bgcolor\": \"white\", \"plot_bgcolor\": \"#E5ECF6\", \"polar\": {\"angularaxis\": {\"gridcolor\": \"white\", \"linecolor\": \"white\", \"ticks\": \"\"}, \"bgcolor\": \"#E5ECF6\", \"radialaxis\": {\"gridcolor\": \"white\", \"linecolor\": \"white\", \"ticks\": \"\"}}, \"scene\": {\"xaxis\": {\"backgroundcolor\": \"#E5ECF6\", \"gridcolor\": \"white\", \"gridwidth\": 2, \"linecolor\": \"white\", \"showbackground\": true, \"ticks\": \"\", \"zerolinecolor\": \"white\"}, \"yaxis\": {\"backgroundcolor\": \"#E5ECF6\", \"gridcolor\": \"white\", \"gridwidth\": 2, \"linecolor\": \"white\", \"showbackground\": true, \"ticks\": \"\", \"zerolinecolor\": \"white\"}, \"zaxis\": {\"backgroundcolor\": \"#E5ECF6\", \"gridcolor\": \"white\", \"gridwidth\": 2, \"linecolor\": \"white\", \"showbackground\": true, \"ticks\": \"\", \"zerolinecolor\": \"white\"}}, \"shapedefaults\": {\"line\": {\"color\": \"#2a3f5f\"}}, \"ternary\": {\"aaxis\": {\"gridcolor\": \"white\", \"linecolor\": \"white\", \"ticks\": \"\"}, \"baxis\": {\"gridcolor\": \"white\", \"linecolor\": \"white\", \"ticks\": \"\"}, \"bgcolor\": \"#E5ECF6\", \"caxis\": {\"gridcolor\": \"white\", \"linecolor\": \"white\", \"ticks\": \"\"}}, \"title\": {\"x\": 0.05}, \"xaxis\": {\"automargin\": true, \"gridcolor\": \"white\", \"linecolor\": \"white\", \"ticks\": \"\", \"title\": {\"standoff\": 15}, \"zerolinecolor\": \"white\", \"zerolinewidth\": 2}, \"yaxis\": {\"automargin\": true, \"gridcolor\": \"white\", \"linecolor\": \"white\", \"ticks\": \"\", \"title\": {\"standoff\": 15}, \"zerolinecolor\": \"white\", \"zerolinewidth\": 2}}}, \"title\": {\"text\": \"\"}, \"width\": 1000, \"xaxis\": {\"anchor\": \"y\", \"domain\": [0.0, 0.3066666666666667], \"dtick\": 0.2, \"linecolor\": \"rgb(102, 102, 102)\", \"range\": [0.2, 1], \"showticklabels\": true, \"tickcolor\": \"rgb(102, 102, 102)\", \"tickfont\": {\"color\": \"rgb(102, 102, 102)\"}, \"ticks\": \"outside\"}, \"xaxis2\": {\"anchor\": \"y2\", \"domain\": [0.3466666666666667, 0.6533333333333333], \"dtick\": 0.2, \"linecolor\": \"rgb(102, 102, 102)\", \"range\": [0.2, 0.8], \"showticklabels\": true, \"tickcolor\": \"rgb(102, 102, 102)\", \"tickfont\": {\"color\": \"rgb(102, 102, 102)\"}, \"ticks\": \"outside\"}, \"xaxis3\": {\"anchor\": \"y3\", \"domain\": [0.6933333333333334, 1.0], \"dtick\": 0.2, \"linecolor\": \"rgb(102, 102, 102)\", \"range\": [0.1, 0.55], \"showticklabels\": true, \"tickcolor\": \"rgb(102, 102, 102)\", \"tickfont\": {\"color\": \"rgb(102, 102, 102)\"}, \"ticks\": \"outside\"}, \"xaxis4\": {\"anchor\": \"y4\", \"domain\": [0.0, 0.3066666666666667], \"dtick\": 0.1, \"linecolor\": \"rgb(102, 102, 102)\", \"range\": [0.05, 0.25], \"showticklabels\": true, \"tickcolor\": \"rgb(102, 102, 102)\", \"tickfont\": {\"color\": \"rgb(102, 102, 102)\"}, \"ticks\": \"outside\"}, \"xaxis5\": {\"anchor\": \"y5\", \"domain\": [0.3466666666666667, 0.6533333333333333], \"dtick\": 0.1, \"linecolor\": \"rgb(102, 102, 102)\", \"range\": [0.05, 0.3], \"showticklabels\": true, \"tickcolor\": \"rgb(102, 102, 102)\", \"tickfont\": {\"color\": \"rgb(102, 102, 102)\"}, \"ticks\": \"outside\"}, \"xaxis6\": {\"anchor\": \"y6\", \"domain\": [0.6933333333333334, 1.0], \"dtick\": 0.1, \"linecolor\": \"rgb(102, 102, 102)\", \"range\": [0.05, 0.3], \"showticklabels\": true, \"tickcolor\": \"rgb(102, 102, 102)\", \"tickfont\": {\"color\": \"rgb(102, 102, 102)\"}, \"ticks\": \"outside\"}, \"xaxis7\": {\"anchor\": \"y7\", \"domain\": [0.0, 0.3066666666666667], \"dtick\": 1, \"linecolor\": \"rgb(102, 102, 102)\", \"range\": [2.0, 6.5], \"showticklabels\": true, \"tickcolor\": \"rgb(102, 102, 102)\", \"tickfont\": {\"color\": \"rgb(102, 102, 102)\"}, \"ticks\": \"outside\", \"title\": {\"text\": \"132Sn + 124Sn\"}}, \"xaxis8\": {\"anchor\": \"y8\", \"domain\": [0.3466666666666667, 0.6533333333333333], \"dtick\": 1, \"linecolor\": \"rgb(102, 102, 102)\", \"range\": [1.5, 4.5], \"showticklabels\": true, \"tickcolor\": \"rgb(102, 102, 102)\", \"tickfont\": {\"color\": \"rgb(102, 102, 102)\"}, \"ticks\": \"outside\", \"title\": {\"text\": \"124Sn + 112Sn\"}}, \"xaxis9\": {\"anchor\": \"y9\", \"domain\": [0.6933333333333334, 1.0], \"dtick\": 1, \"linecolor\": \"rgb(102, 102, 102)\", \"range\": [0.5, 3.5], \"showticklabels\": true, \"tickcolor\": \"rgb(102, 102, 102)\", \"tickfont\": {\"color\": \"rgb(102, 102, 102)\"}, \"ticks\": \"outside\", \"title\": {\"text\": \"108Sn + 112Sn\"}}, \"yaxis\": {\"anchor\": \"x\", \"domain\": [0.7333333333333334, 1.0], \"gridcolor\": \"lightgray\", \"gridwidth\": 1, \"showgrid\": true}, \"yaxis2\": {\"anchor\": \"x2\", \"domain\": [0.7333333333333334, 1.0], \"gridcolor\": \"lightgray\", \"gridwidth\": 1, \"matches\": \"y\", \"showgrid\": true, \"showticklabels\": false}, \"yaxis3\": {\"anchor\": \"x3\", \"domain\": [0.7333333333333334, 1.0], \"gridcolor\": \"lightgray\", \"gridwidth\": 1, \"matches\": \"y\", \"showgrid\": true, \"showticklabels\": false}, \"yaxis4\": {\"anchor\": \"x4\", \"domain\": [0.3666666666666667, 0.6333333333333333], \"gridcolor\": \"lightgray\", \"gridwidth\": 1, \"showgrid\": true}, \"yaxis5\": {\"anchor\": \"x5\", \"domain\": [0.3666666666666667, 0.6333333333333333], \"gridcolor\": \"lightgray\", \"gridwidth\": 1, \"matches\": \"y4\", \"showgrid\": true, \"showticklabels\": false}, \"yaxis6\": {\"anchor\": \"x6\", \"domain\": [0.3666666666666667, 0.6333333333333333], \"gridcolor\": \"lightgray\", \"gridwidth\": 1, \"matches\": \"y4\", \"showgrid\": true, \"showticklabels\": false}, \"yaxis7\": {\"anchor\": \"x7\", \"domain\": [0.0, 0.26666666666666666], \"gridcolor\": \"lightgray\", \"gridwidth\": 1, \"showgrid\": true}, \"yaxis8\": {\"anchor\": \"x8\", \"domain\": [0.0, 0.26666666666666666], \"gridcolor\": \"lightgray\", \"gridwidth\": 1, \"matches\": \"y7\", \"showgrid\": true, \"showticklabels\": false}, \"yaxis9\": {\"anchor\": \"x9\", \"domain\": [0.0, 0.26666666666666666], \"gridcolor\": \"lightgray\", \"gridwidth\": 1, \"matches\": \"y7\", \"showgrid\": true, \"showticklabels\": false}},\n",
       "                        {\"responsive\": true}\n",
       "                    ).then(function(){\n",
       "                            \n",
       "var gd = document.getElementById('6727a688-866d-4e4f-bb32-047bec99318d');\n",
       "var x = new MutationObserver(function (mutations, observer) {{\n",
       "        var display = window.getComputedStyle(gd).display;\n",
       "        if (!display || display === 'none') {{\n",
       "            console.log([gd, 'removed!']);\n",
       "            Plotly.purge(gd);\n",
       "            observer.disconnect();\n",
       "        }}\n",
       "}});\n",
       "\n",
       "// Listen for the removal of the full notebook cells\n",
       "var notebookContainer = gd.closest('#notebook-container');\n",
       "if (notebookContainer) {{\n",
       "    x.observe(notebookContainer, {childList: true});\n",
       "}}\n",
       "\n",
       "// Listen for the clearing of the current output cell\n",
       "var outputEl = gd.closest('.output');\n",
       "if (outputEl) {{\n",
       "    x.observe(outputEl, {childList: true});\n",
       "}}\n",
       "\n",
       "                        })\n",
       "                };\n",
       "                });\n",
       "            </script>\n",
       "        </div>"
      ]
     },
     "metadata": {},
     "output_type": "display_data"
    }
   ],
   "source": [
    "fig.update_xaxes(range=[.2,1], dtick = .2, row = 1, col = 1,  linecolor='rgb(102, 102, 102)',\n",
    "        tickfont_color='rgb(102, 102, 102)',\n",
    "        showticklabels=True,\n",
    "        ticks='outside',\n",
    "        tickcolor='rgb(102, 102, 102)')\n",
    "fig.update_xaxes(range=[.2,.8], dtick = .2, row = 1, col = 2,  linecolor='rgb(102, 102, 102)',\n",
    "        tickfont_color='rgb(102, 102, 102)',\n",
    "        showticklabels=True,\n",
    "        ticks='outside',\n",
    "        tickcolor='rgb(102, 102, 102)')\n",
    "\n",
    "fig.update_xaxes(range=[.1,.55], dtick = .2, row = 1, col = 3,  linecolor='rgb(102, 102, 102)',\n",
    "        tickfont_color='rgb(102, 102, 102)',\n",
    "        showticklabels=True,\n",
    "        ticks='outside',\n",
    "        tickcolor='rgb(102, 102, 102)',\n",
    "        )\n",
    "\n",
    "fig.update_xaxes(range=[.05,.25], dtick = .1, row = 2, col = 1,  linecolor='rgb(102, 102, 102)',\n",
    "        tickfont_color='rgb(102, 102, 102)',\n",
    "        showticklabels=True,\n",
    "        ticks='outside',\n",
    "        tickcolor='rgb(102, 102, 102)')\n",
    "fig.update_xaxes(range=[.05,.3], dtick = .1, row = 2, col = 2,  linecolor='rgb(102, 102, 102)',\n",
    "        tickfont_color='rgb(102, 102, 102)',\n",
    "        showticklabels=True,\n",
    "        ticks='outside',\n",
    "        tickcolor='rgb(102, 102, 102)')\n",
    "\n",
    "fig.update_xaxes(range=[.05,.3], dtick = .1, row = 2, col = 3,  linecolor='rgb(102, 102, 102)',\n",
    "        tickfont_color='rgb(102, 102, 102)',\n",
    "        showticklabels=True,\n",
    "        ticks='outside',\n",
    "        tickcolor='rgb(102, 102, 102)',\n",
    "        )\n",
    "\n",
    "\n",
    "\n",
    "fig.update_xaxes(range=[2.,6.5], dtick = 1, row = 3, col = 1,  linecolor='rgb(102, 102, 102)',\n",
    "        title_text= \"132Sn + 124Sn\",\n",
    "        tickfont_color='rgb(102, 102, 102)',\n",
    "        showticklabels=True,\n",
    "        ticks='outside',\n",
    "        tickcolor='rgb(102, 102, 102)')\n",
    "fig.update_xaxes(range=[1.5,4.5], dtick = 1, row = 3, col = 2,  linecolor='rgb(102, 102, 102)',\n",
    "        title_text=\"124Sn + 112Sn\",\n",
    "        tickfont_color='rgb(102, 102, 102)',\n",
    "        showticklabels=True,\n",
    "        ticks='outside',\n",
    "        tickcolor='rgb(102, 102, 102)')\n",
    "\n",
    "fig.update_xaxes(range=[.5,3.5], dtick = 1, row = 3, col = 3,  linecolor='rgb(102, 102, 102)',\n",
    "        title_text=\"108Sn + 112Sn\",\n",
    "        tickfont_color='rgb(102, 102, 102)',\n",
    "        showticklabels=True,\n",
    "        ticks='outside',\n",
    "        tickcolor='rgb(102, 102, 102)',\n",
    "        )\n",
    "\n",
    "\n",
    "fig.update_traces(mode='markers', marker=dict(line_width=1, symbol='circle', size=16))\n",
    "fig.update_yaxes(showgrid=True, gridwidth=1, gridcolor='lightgray')\n",
    "\n",
    "#fig.update_xaxes(range=[.05,.25], dtick = .1, row = 1, col = 2)\n",
    "\n",
    "fig.update_layout(\n",
    "    autosize=True,\n",
    "    title=\"\",\n",
    "    margin=dict(l=50, r=80, b=50, t=80),\n",
    "    font=dict(\n",
    "       # family=\"Courier New, monospace\",\n",
    "       size=16\n",
    "    #    color=\"#7f7f7f\"\n",
    "    ),\n",
    "    legend=dict(\n",
    "        font_size=20,\n",
    "        yanchor='middle',\n",
    "        xanchor='right',\n",
    "    ),\n",
    "    width=1000,\n",
    "    height=800,\n",
    "    paper_bgcolor='white',\n",
    "    plot_bgcolor='white',\n",
    "    hovermode='closest',\n",
    ")\n",
    "\n",
    "fig.write_image(\"pionpaper.pdf\")\n",
    "\n",
    "fig.show()"
   ]
  },
  {
   "cell_type": "code",
   "execution_count": null,
   "metadata": {},
   "outputs": [],
   "source": []
  },
  {
   "cell_type": "code",
   "execution_count": null,
   "metadata": {},
   "outputs": [],
   "source": []
  },
  {
   "cell_type": "code",
   "execution_count": null,
   "metadata": {},
   "outputs": [],
   "source": []
  },
  {
   "cell_type": "code",
   "execution_count": null,
   "metadata": {},
   "outputs": [],
   "source": []
  },
  {
   "cell_type": "code",
   "execution_count": null,
   "metadata": {},
   "outputs": [],
   "source": []
  },
  {
   "cell_type": "code",
   "execution_count": null,
   "metadata": {},
   "outputs": [],
   "source": []
  },
  {
   "cell_type": "code",
   "execution_count": null,
   "metadata": {},
   "outputs": [],
   "source": []
  }
 ],
 "metadata": {
  "kernelspec": {
   "display_name": "Python 3",
   "language": "python",
   "name": "python3"
  },
  "language_info": {
   "codemirror_mode": {
    "name": "ipython",
    "version": 3
   },
   "file_extension": ".py",
   "mimetype": "text/x-python",
   "name": "python",
   "nbconvert_exporter": "python",
   "pygments_lexer": "ipython3",
   "version": "3.6.2"
  }
 },
 "nbformat": 4,
 "nbformat_minor": 4
}
